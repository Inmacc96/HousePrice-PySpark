{
  "nbformat": 4,
  "nbformat_minor": 0,
  "metadata": {
    "colab": {
      "name": "HousePrice-CaballeroCarrero.ipynb",
      "provenance": [],
      "collapsed_sections": [],
      "include_colab_link": true
    },
    "kernelspec": {
      "name": "python3",
      "display_name": "Python 3"
    },
    "accelerator": "GPU"
  },
  "cells": [
    {
      "cell_type": "markdown",
      "metadata": {
        "id": "view-in-github",
        "colab_type": "text"
      },
      "source": [
        "<a href=\"https://colab.research.google.com/github/Inmacc96/HousePrice-PySpark/blob/main/HousePrice_CaballeroCarrero.ipynb\" target=\"_parent\"><img src=\"https://colab.research.google.com/assets/colab-badge.svg\" alt=\"Open In Colab\"/></a>"
      ]
    },
    {
      "cell_type": "markdown",
      "metadata": {
        "id": "cTgzKEWLinWU"
      },
      "source": [
        "## Resumen"
      ]
    },
    {
      "cell_type": "markdown",
      "metadata": {
        "id": "ftDkwY0jiwRa"
      },
      "source": [
        "El objetivo de este trabajo es predecir el precio de la vivienda (**SalePrice**) a partir de 80 características de ésta. Para ello, comenzaremos con un preprocesado y exploración de los datos, en el que imputaremos los datos perdidos y convertiremos todas las variables categóricas a numéricas y a onehot. Esto lo hacemos con el fin de trabajar con las numéricas en modelos basados en árboles y las onehots en el resto. A pesar de esto, se realizará también los modelos basados en árboles con las variables onehots para compararlo con las numéricas.\n",
        "\n",
        "Seguiremos con un breve estudio sobre la variable respuesta llegando a la conclusión de que es más adecuado trabajar con la transformación logarítmica de ésta.\n",
        "\n",
        "Continuaremos realizando un análisis de componentes principales con el fin de reducir la dimensionalidad y de intentar arreglar el problema de multicolinealidad que se presenta entre las variables. En este proceso seleccionaremos el número de componentes principales siguiendo un criterio sobre la variabilidad explicada de las componentes.\n",
        "\n",
        "A continuación, realizaremos un proceso de selección de componentes con el fin de quedarnos con aquellas que guarden relación con la variable respuesta **logSalePrice**. En este proceso utilizaremos la importancia de variables que nos da el modelo de **Random Forest**.\n",
        "\n",
        "Por último, predeciremos el logaritmo  de la variable respuesta a partir de las componentes principales con las que nos hayamos quedado en la selección anterior. Los modelos que se usarán son los siguientes:\n",
        "* Modelo lineal múltiple,\n",
        "* Árbol de decisión,\n",
        "* Random Forest,\n",
        "* Gradient Boosting.\n",
        "\n",
        "En este proceso se realizará un ajuste de hiperparámetros antes de entrenar cada uno de los modelos. Se utilizará el **rmse** como métrica de evaluación de los modelos.\n"
      ]
    },
    {
      "cell_type": "markdown",
      "metadata": {
        "id": "EtwXfNJY0w5g"
      },
      "source": [
        "## Inicialización"
      ]
    },
    {
      "cell_type": "markdown",
      "metadata": {
        "id": "GzqyK_oK03zD"
      },
      "source": [
        "Instalación de Spark y Java"
      ]
    },
    {
      "cell_type": "code",
      "metadata": {
        "id": "gQaf_Qps0pW8"
      },
      "source": [
        "!apt-get install openjdk-8-jdk-headless -qq > /dev/null\n",
        "!wget -q https://ftp.cixug.es/apache/spark/spark-2.4.5/spark-2.4.5-bin-hadoop2.7.tgz\n",
        "!tar xf spark-2.4.5-bin-hadoop2.7.tgz\n",
        "!pip install -q findspark"
      ],
      "execution_count": null,
      "outputs": []
    },
    {
      "cell_type": "markdown",
      "metadata": {
        "id": "eAHefQmr0-X_"
      },
      "source": [
        "Configuración variables de entorno\n"
      ]
    },
    {
      "cell_type": "code",
      "metadata": {
        "id": "fVLlzrMJ1Bvi"
      },
      "source": [
        "import os\n",
        "os.environ[\"JAVA_HOME\"] = \"/usr/lib/jvm/java-8-openjdk-amd64\"\n",
        "os.environ[\"SPARK_HOME\"] = \"/content/spark-2.4.5-bin-hadoop2.7\""
      ],
      "execution_count": null,
      "outputs": []
    },
    {
      "cell_type": "markdown",
      "metadata": {
        "id": "G21iXCF51Hve"
      },
      "source": [
        "Abrimos conexión con Google Drive. "
      ]
    },
    {
      "cell_type": "code",
      "metadata": {
        "id": "Z-1LNx0I1Ima",
        "colab": {
          "base_uri": "https://localhost:8080/",
          "height": 54
        },
        "outputId": "0c544fe0-7aa7-4e9f-a397-410023a47afc"
      },
      "source": [
        "from google.colab import drive\n",
        "drive.mount('/content/drive')"
      ],
      "execution_count": null,
      "outputs": [
        {
          "output_type": "stream",
          "text": [
            "Drive already mounted at /content/drive; to attempt to forcibly remount, call drive.mount(\"/content/drive\", force_remount=True).\n"
          ],
          "name": "stdout"
        }
      ]
    },
    {
      "cell_type": "markdown",
      "metadata": {
        "id": "OxFxODMC1R3o"
      },
      "source": [
        "Vamos a crear una variable con la ruta a nuestro directorio de trabajo."
      ]
    },
    {
      "cell_type": "code",
      "metadata": {
        "id": "woGiJ3jP1TxO"
      },
      "source": [
        "input_path = '/content/drive/My Drive/APBD/trabajo_final_APBD_2020/data/{}'\n",
        "output_path= '/content/drive/My Drive/APBD/trabajo_final_APBD_2020/output/{}'"
      ],
      "execution_count": null,
      "outputs": []
    },
    {
      "cell_type": "markdown",
      "metadata": {
        "id": "XnYq6HjZetKh"
      },
      "source": [
        "Conectamos el motor de ejecución de Spark con el entorno de Python que estamos usando."
      ]
    },
    {
      "cell_type": "code",
      "metadata": {
        "id": "Ahpnd0fSet_u"
      },
      "source": [
        "import findspark\n",
        "findspark.init()"
      ],
      "execution_count": null,
      "outputs": []
    },
    {
      "cell_type": "markdown",
      "metadata": {
        "id": "3fzxNKd7ewlZ"
      },
      "source": [
        "Finalmente, inicializamos la conexión con el motor de ejecución de Spark."
      ]
    },
    {
      "cell_type": "code",
      "metadata": {
        "id": "y9IkgC9xezA1",
        "colab": {
          "base_uri": "https://localhost:8080/",
          "height": 216
        },
        "outputId": "4fa636ad-75ef-40b2-b4c4-1580e688b95a"
      },
      "source": [
        "from pyspark.sql import SparkSession\n",
        "spark = SparkSession.builder.master(\"local[*]\").appName(\"nb06\") \\\n",
        "    .getOrCreate()\n",
        "spark"
      ],
      "execution_count": null,
      "outputs": [
        {
          "output_type": "execute_result",
          "data": {
            "text/html": [
              "\n",
              "            <div>\n",
              "                <p><b>SparkSession - in-memory</b></p>\n",
              "                \n",
              "        <div>\n",
              "            <p><b>SparkContext</b></p>\n",
              "\n",
              "            <p><a href=\"http://ced9793bc0c0:4040\">Spark UI</a></p>\n",
              "\n",
              "            <dl>\n",
              "              <dt>Version</dt>\n",
              "                <dd><code>v2.4.5</code></dd>\n",
              "              <dt>Master</dt>\n",
              "                <dd><code>local[*]</code></dd>\n",
              "              <dt>AppName</dt>\n",
              "                <dd><code>nb06</code></dd>\n",
              "            </dl>\n",
              "        </div>\n",
              "        \n",
              "            </div>\n",
              "        "
            ],
            "text/plain": [
              "<pyspark.sql.session.SparkSession at 0x7f74dded3f60>"
            ]
          },
          "metadata": {
            "tags": []
          },
          "execution_count": 9
        }
      ]
    },
    {
      "cell_type": "code",
      "metadata": {
        "id": "0GZUgKPCe5ah",
        "colab": {
          "base_uri": "https://localhost:8080/",
          "height": 34
        },
        "outputId": "c63b1b7d-e521-44d0-987f-48537ecda6a2"
      },
      "source": [
        "spark.sparkContext.defaultParallelism"
      ],
      "execution_count": null,
      "outputs": [
        {
          "output_type": "execute_result",
          "data": {
            "text/plain": [
              "2"
            ]
          },
          "metadata": {
            "tags": []
          },
          "execution_count": 10
        }
      ]
    },
    {
      "cell_type": "markdown",
      "metadata": {
        "id": "gSMKWk0TsGOu"
      },
      "source": [
        "## Librerías utilizadas en el estudio\n"
      ]
    },
    {
      "cell_type": "code",
      "metadata": {
        "id": "9G1qdXtmsFaR",
        "colab": {
          "base_uri": "https://localhost:8080/",
          "height": 71
        },
        "outputId": "92f19489-8420-4169-cbfa-2a4fc0e4357b"
      },
      "source": [
        "import pyspark.sql.functions as F\n",
        "from pyspark.sql.types import IntegerType,StringType\n",
        "from pyspark.sql import DataFrameStatFunctions as statFunc,Row\n",
        "from pyspark.sql.functions import when\n",
        "from pyspark.ml.linalg import DenseVector\n",
        "from pyspark.ml.feature import StringIndexer, VectorAssembler\n",
        "from pyspark.ml import Pipeline\n",
        "from pyspark.ml.feature import StandardScaler, MaxAbsScaler, OneHotEncoderEstimator\n",
        "from pyspark.ml.regression import RandomForestRegressor, LinearRegression, DecisionTreeRegressor, GBTRegressor\n",
        "from pyspark.ml.tuning import CrossValidator, ParamGridBuilder\n",
        "from pyspark.ml.evaluation import RegressionEvaluator\n",
        "from pyspark.sql.functions import log\n",
        "from  pyspark.ml.feature import PCA\n",
        "from pyspark.ml.stat import Correlation\n",
        "import pandas as pd\n",
        "import matplotlib.pyplot as plt\n",
        "from scipy.stats import norm\n",
        "from scipy import stats\n",
        "import seaborn as sns\n",
        "from time import time\n",
        "\n",
        "# Usaremos siempre la misma semilla.\n",
        "global_seed = 99"
      ],
      "execution_count": null,
      "outputs": [
        {
          "output_type": "stream",
          "text": [
            "/usr/local/lib/python3.6/dist-packages/statsmodels/tools/_testing.py:19: FutureWarning: pandas.util.testing is deprecated. Use the functions in the public API at pandas.testing instead.\n",
            "  import pandas.util.testing as tm\n"
          ],
          "name": "stderr"
        }
      ]
    },
    {
      "cell_type": "markdown",
      "metadata": {
        "id": "QQv7YNDme_Me"
      },
      "source": [
        "## Lectura de los datos\n",
        "Vamos a comenzar leyendo los datos con los que vamos a trabajar durante este trabajo.\n"
      ]
    },
    {
      "cell_type": "code",
      "metadata": {
        "id": "Hf8YamJwfLvD",
        "colab": {
          "base_uri": "https://localhost:8080/",
          "height": 479
        },
        "outputId": "32694f74-d755-43d1-f6b5-146bd19988f2"
      },
      "source": [
        "path_train = input_path.format(\"train.csv\")\n",
        "data_train = spark.read.csv(path_train,header=True, nullValue='NA', inferSchema=True, sep=\",\")\n",
        "data_train.show()"
      ],
      "execution_count": null,
      "outputs": [
        {
          "output_type": "stream",
          "text": [
            "+---+----------+--------+-----------+-------+------+-----+--------+-----------+---------+---------+---------+------------+----------+----------+--------+----------+-----------+-----------+---------+------------+---------+--------+-----------+-----------+----------+----------+---------+---------+----------+--------+--------+------------+------------+----------+------------+----------+---------+-----------+-------+---------+----------+----------+--------+--------+------------+---------+------------+------------+--------+--------+------------+------------+-----------+------------+----------+----------+-----------+----------+-----------+------------+----------+----------+----------+----------+----------+----------+-----------+-------------+---------+-----------+--------+------+-----+-----------+-------+------+------+--------+-------------+---------+\n",
            "| Id|MSSubClass|MSZoning|LotFrontage|LotArea|Street|Alley|LotShape|LandContour|Utilities|LotConfig|LandSlope|Neighborhood|Condition1|Condition2|BldgType|HouseStyle|OverallQual|OverallCond|YearBuilt|YearRemodAdd|RoofStyle|RoofMatl|Exterior1st|Exterior2nd|MasVnrType|MasVnrArea|ExterQual|ExterCond|Foundation|BsmtQual|BsmtCond|BsmtExposure|BsmtFinType1|BsmtFinSF1|BsmtFinType2|BsmtFinSF2|BsmtUnfSF|TotalBsmtSF|Heating|HeatingQC|CentralAir|Electrical|1stFlrSF|2ndFlrSF|LowQualFinSF|GrLivArea|BsmtFullBath|BsmtHalfBath|FullBath|HalfBath|BedroomAbvGr|KitchenAbvGr|KitchenQual|TotRmsAbvGrd|Functional|Fireplaces|FireplaceQu|GarageType|GarageYrBlt|GarageFinish|GarageCars|GarageArea|GarageQual|GarageCond|PavedDrive|WoodDeckSF|OpenPorchSF|EnclosedPorch|3SsnPorch|ScreenPorch|PoolArea|PoolQC|Fence|MiscFeature|MiscVal|MoSold|YrSold|SaleType|SaleCondition|SalePrice|\n",
            "+---+----------+--------+-----------+-------+------+-----+--------+-----------+---------+---------+---------+------------+----------+----------+--------+----------+-----------+-----------+---------+------------+---------+--------+-----------+-----------+----------+----------+---------+---------+----------+--------+--------+------------+------------+----------+------------+----------+---------+-----------+-------+---------+----------+----------+--------+--------+------------+---------+------------+------------+--------+--------+------------+------------+-----------+------------+----------+----------+-----------+----------+-----------+------------+----------+----------+----------+----------+----------+----------+-----------+-------------+---------+-----------+--------+------+-----+-----------+-------+------+------+--------+-------------+---------+\n",
            "|  1|        60|      RL|         65|   8450|  Pave| null|     Reg|        Lvl|   AllPub|   Inside|      Gtl|     CollgCr|      Norm|      Norm|    1Fam|    2Story|          7|          5|     2003|        2003|    Gable| CompShg|    VinylSd|    VinylSd|   BrkFace|       196|       Gd|       TA|     PConc|      Gd|      TA|          No|         GLQ|       706|         Unf|         0|      150|        856|   GasA|       Ex|         Y|     SBrkr|     856|     854|           0|     1710|           1|           0|       2|       1|           3|           1|         Gd|           8|       Typ|         0|       null|    Attchd|       2003|         RFn|         2|       548|        TA|        TA|         Y|         0|         61|            0|        0|          0|       0|  null| null|       null|      0|     2|  2008|      WD|       Normal|   208500|\n",
            "|  2|        20|      RL|         80|   9600|  Pave| null|     Reg|        Lvl|   AllPub|      FR2|      Gtl|     Veenker|     Feedr|      Norm|    1Fam|    1Story|          6|          8|     1976|        1976|    Gable| CompShg|    MetalSd|    MetalSd|      None|         0|       TA|       TA|    CBlock|      Gd|      TA|          Gd|         ALQ|       978|         Unf|         0|      284|       1262|   GasA|       Ex|         Y|     SBrkr|    1262|       0|           0|     1262|           0|           1|       2|       0|           3|           1|         TA|           6|       Typ|         1|         TA|    Attchd|       1976|         RFn|         2|       460|        TA|        TA|         Y|       298|          0|            0|        0|          0|       0|  null| null|       null|      0|     5|  2007|      WD|       Normal|   181500|\n",
            "|  3|        60|      RL|         68|  11250|  Pave| null|     IR1|        Lvl|   AllPub|   Inside|      Gtl|     CollgCr|      Norm|      Norm|    1Fam|    2Story|          7|          5|     2001|        2002|    Gable| CompShg|    VinylSd|    VinylSd|   BrkFace|       162|       Gd|       TA|     PConc|      Gd|      TA|          Mn|         GLQ|       486|         Unf|         0|      434|        920|   GasA|       Ex|         Y|     SBrkr|     920|     866|           0|     1786|           1|           0|       2|       1|           3|           1|         Gd|           6|       Typ|         1|         TA|    Attchd|       2001|         RFn|         2|       608|        TA|        TA|         Y|         0|         42|            0|        0|          0|       0|  null| null|       null|      0|     9|  2008|      WD|       Normal|   223500|\n",
            "|  4|        70|      RL|         60|   9550|  Pave| null|     IR1|        Lvl|   AllPub|   Corner|      Gtl|     Crawfor|      Norm|      Norm|    1Fam|    2Story|          7|          5|     1915|        1970|    Gable| CompShg|    Wd Sdng|    Wd Shng|      None|         0|       TA|       TA|    BrkTil|      TA|      Gd|          No|         ALQ|       216|         Unf|         0|      540|        756|   GasA|       Gd|         Y|     SBrkr|     961|     756|           0|     1717|           1|           0|       1|       0|           3|           1|         Gd|           7|       Typ|         1|         Gd|    Detchd|       1998|         Unf|         3|       642|        TA|        TA|         Y|         0|         35|          272|        0|          0|       0|  null| null|       null|      0|     2|  2006|      WD|      Abnorml|   140000|\n",
            "|  5|        60|      RL|         84|  14260|  Pave| null|     IR1|        Lvl|   AllPub|      FR2|      Gtl|     NoRidge|      Norm|      Norm|    1Fam|    2Story|          8|          5|     2000|        2000|    Gable| CompShg|    VinylSd|    VinylSd|   BrkFace|       350|       Gd|       TA|     PConc|      Gd|      TA|          Av|         GLQ|       655|         Unf|         0|      490|       1145|   GasA|       Ex|         Y|     SBrkr|    1145|    1053|           0|     2198|           1|           0|       2|       1|           4|           1|         Gd|           9|       Typ|         1|         TA|    Attchd|       2000|         RFn|         3|       836|        TA|        TA|         Y|       192|         84|            0|        0|          0|       0|  null| null|       null|      0|    12|  2008|      WD|       Normal|   250000|\n",
            "|  6|        50|      RL|         85|  14115|  Pave| null|     IR1|        Lvl|   AllPub|   Inside|      Gtl|     Mitchel|      Norm|      Norm|    1Fam|    1.5Fin|          5|          5|     1993|        1995|    Gable| CompShg|    VinylSd|    VinylSd|      None|         0|       TA|       TA|      Wood|      Gd|      TA|          No|         GLQ|       732|         Unf|         0|       64|        796|   GasA|       Ex|         Y|     SBrkr|     796|     566|           0|     1362|           1|           0|       1|       1|           1|           1|         TA|           5|       Typ|         0|       null|    Attchd|       1993|         Unf|         2|       480|        TA|        TA|         Y|        40|         30|            0|      320|          0|       0|  null|MnPrv|       Shed|    700|    10|  2009|      WD|       Normal|   143000|\n",
            "|  7|        20|      RL|         75|  10084|  Pave| null|     Reg|        Lvl|   AllPub|   Inside|      Gtl|     Somerst|      Norm|      Norm|    1Fam|    1Story|          8|          5|     2004|        2005|    Gable| CompShg|    VinylSd|    VinylSd|     Stone|       186|       Gd|       TA|     PConc|      Ex|      TA|          Av|         GLQ|      1369|         Unf|         0|      317|       1686|   GasA|       Ex|         Y|     SBrkr|    1694|       0|           0|     1694|           1|           0|       2|       0|           3|           1|         Gd|           7|       Typ|         1|         Gd|    Attchd|       2004|         RFn|         2|       636|        TA|        TA|         Y|       255|         57|            0|        0|          0|       0|  null| null|       null|      0|     8|  2007|      WD|       Normal|   307000|\n",
            "|  8|        60|      RL|       null|  10382|  Pave| null|     IR1|        Lvl|   AllPub|   Corner|      Gtl|      NWAmes|      PosN|      Norm|    1Fam|    2Story|          7|          6|     1973|        1973|    Gable| CompShg|    HdBoard|    HdBoard|     Stone|       240|       TA|       TA|    CBlock|      Gd|      TA|          Mn|         ALQ|       859|         BLQ|        32|      216|       1107|   GasA|       Ex|         Y|     SBrkr|    1107|     983|           0|     2090|           1|           0|       2|       1|           3|           1|         TA|           7|       Typ|         2|         TA|    Attchd|       1973|         RFn|         2|       484|        TA|        TA|         Y|       235|        204|          228|        0|          0|       0|  null| null|       Shed|    350|    11|  2009|      WD|       Normal|   200000|\n",
            "|  9|        50|      RM|         51|   6120|  Pave| null|     Reg|        Lvl|   AllPub|   Inside|      Gtl|     OldTown|    Artery|      Norm|    1Fam|    1.5Fin|          7|          5|     1931|        1950|    Gable| CompShg|    BrkFace|    Wd Shng|      None|         0|       TA|       TA|    BrkTil|      TA|      TA|          No|         Unf|         0|         Unf|         0|      952|        952|   GasA|       Gd|         Y|     FuseF|    1022|     752|           0|     1774|           0|           0|       2|       0|           2|           2|         TA|           8|      Min1|         2|         TA|    Detchd|       1931|         Unf|         2|       468|        Fa|        TA|         Y|        90|          0|          205|        0|          0|       0|  null| null|       null|      0|     4|  2008|      WD|      Abnorml|   129900|\n",
            "| 10|       190|      RL|         50|   7420|  Pave| null|     Reg|        Lvl|   AllPub|   Corner|      Gtl|     BrkSide|    Artery|    Artery|  2fmCon|    1.5Unf|          5|          6|     1939|        1950|    Gable| CompShg|    MetalSd|    MetalSd|      None|         0|       TA|       TA|    BrkTil|      TA|      TA|          No|         GLQ|       851|         Unf|         0|      140|        991|   GasA|       Ex|         Y|     SBrkr|    1077|       0|           0|     1077|           1|           0|       1|       0|           2|           2|         TA|           5|       Typ|         2|         TA|    Attchd|       1939|         RFn|         1|       205|        Gd|        TA|         Y|         0|          4|            0|        0|          0|       0|  null| null|       null|      0|     1|  2008|      WD|       Normal|   118000|\n",
            "| 11|        20|      RL|         70|  11200|  Pave| null|     Reg|        Lvl|   AllPub|   Inside|      Gtl|      Sawyer|      Norm|      Norm|    1Fam|    1Story|          5|          5|     1965|        1965|      Hip| CompShg|    HdBoard|    HdBoard|      None|         0|       TA|       TA|    CBlock|      TA|      TA|          No|         Rec|       906|         Unf|         0|      134|       1040|   GasA|       Ex|         Y|     SBrkr|    1040|       0|           0|     1040|           1|           0|       1|       0|           3|           1|         TA|           5|       Typ|         0|       null|    Detchd|       1965|         Unf|         1|       384|        TA|        TA|         Y|         0|          0|            0|        0|          0|       0|  null| null|       null|      0|     2|  2008|      WD|       Normal|   129500|\n",
            "| 12|        60|      RL|         85|  11924|  Pave| null|     IR1|        Lvl|   AllPub|   Inside|      Gtl|     NridgHt|      Norm|      Norm|    1Fam|    2Story|          9|          5|     2005|        2006|      Hip| CompShg|    WdShing|    Wd Shng|     Stone|       286|       Ex|       TA|     PConc|      Ex|      TA|          No|         GLQ|       998|         Unf|         0|      177|       1175|   GasA|       Ex|         Y|     SBrkr|    1182|    1142|           0|     2324|           1|           0|       3|       0|           4|           1|         Ex|          11|       Typ|         2|         Gd|   BuiltIn|       2005|         Fin|         3|       736|        TA|        TA|         Y|       147|         21|            0|        0|          0|       0|  null| null|       null|      0|     7|  2006|     New|      Partial|   345000|\n",
            "| 13|        20|      RL|       null|  12968|  Pave| null|     IR2|        Lvl|   AllPub|   Inside|      Gtl|      Sawyer|      Norm|      Norm|    1Fam|    1Story|          5|          6|     1962|        1962|      Hip| CompShg|    HdBoard|    Plywood|      None|         0|       TA|       TA|    CBlock|      TA|      TA|          No|         ALQ|       737|         Unf|         0|      175|        912|   GasA|       TA|         Y|     SBrkr|     912|       0|           0|      912|           1|           0|       1|       0|           2|           1|         TA|           4|       Typ|         0|       null|    Detchd|       1962|         Unf|         1|       352|        TA|        TA|         Y|       140|          0|            0|        0|        176|       0|  null| null|       null|      0|     9|  2008|      WD|       Normal|   144000|\n",
            "| 14|        20|      RL|         91|  10652|  Pave| null|     IR1|        Lvl|   AllPub|   Inside|      Gtl|     CollgCr|      Norm|      Norm|    1Fam|    1Story|          7|          5|     2006|        2007|    Gable| CompShg|    VinylSd|    VinylSd|     Stone|       306|       Gd|       TA|     PConc|      Gd|      TA|          Av|         Unf|         0|         Unf|         0|     1494|       1494|   GasA|       Ex|         Y|     SBrkr|    1494|       0|           0|     1494|           0|           0|       2|       0|           3|           1|         Gd|           7|       Typ|         1|         Gd|    Attchd|       2006|         RFn|         3|       840|        TA|        TA|         Y|       160|         33|            0|        0|          0|       0|  null| null|       null|      0|     8|  2007|     New|      Partial|   279500|\n",
            "| 15|        20|      RL|       null|  10920|  Pave| null|     IR1|        Lvl|   AllPub|   Corner|      Gtl|       NAmes|      Norm|      Norm|    1Fam|    1Story|          6|          5|     1960|        1960|      Hip| CompShg|    MetalSd|    MetalSd|   BrkFace|       212|       TA|       TA|    CBlock|      TA|      TA|          No|         BLQ|       733|         Unf|         0|      520|       1253|   GasA|       TA|         Y|     SBrkr|    1253|       0|           0|     1253|           1|           0|       1|       1|           2|           1|         TA|           5|       Typ|         1|         Fa|    Attchd|       1960|         RFn|         1|       352|        TA|        TA|         Y|         0|        213|          176|        0|          0|       0|  null| GdWo|       null|      0|     5|  2008|      WD|       Normal|   157000|\n",
            "| 16|        45|      RM|         51|   6120|  Pave| null|     Reg|        Lvl|   AllPub|   Corner|      Gtl|     BrkSide|      Norm|      Norm|    1Fam|    1.5Unf|          7|          8|     1929|        2001|    Gable| CompShg|    Wd Sdng|    Wd Sdng|      None|         0|       TA|       TA|    BrkTil|      TA|      TA|          No|         Unf|         0|         Unf|         0|      832|        832|   GasA|       Ex|         Y|     FuseA|     854|       0|           0|      854|           0|           0|       1|       0|           2|           1|         TA|           5|       Typ|         0|       null|    Detchd|       1991|         Unf|         2|       576|        TA|        TA|         Y|        48|        112|            0|        0|          0|       0|  null|GdPrv|       null|      0|     7|  2007|      WD|       Normal|   132000|\n",
            "| 17|        20|      RL|       null|  11241|  Pave| null|     IR1|        Lvl|   AllPub|  CulDSac|      Gtl|       NAmes|      Norm|      Norm|    1Fam|    1Story|          6|          7|     1970|        1970|    Gable| CompShg|    Wd Sdng|    Wd Sdng|   BrkFace|       180|       TA|       TA|    CBlock|      TA|      TA|          No|         ALQ|       578|         Unf|         0|      426|       1004|   GasA|       Ex|         Y|     SBrkr|    1004|       0|           0|     1004|           1|           0|       1|       0|           2|           1|         TA|           5|       Typ|         1|         TA|    Attchd|       1970|         Fin|         2|       480|        TA|        TA|         Y|         0|          0|            0|        0|          0|       0|  null| null|       Shed|    700|     3|  2010|      WD|       Normal|   149000|\n",
            "| 18|        90|      RL|         72|  10791|  Pave| null|     Reg|        Lvl|   AllPub|   Inside|      Gtl|      Sawyer|      Norm|      Norm|  Duplex|    1Story|          4|          5|     1967|        1967|    Gable| CompShg|    MetalSd|    MetalSd|      None|         0|       TA|       TA|      Slab|    null|    null|        null|        null|         0|        null|         0|        0|          0|   GasA|       TA|         Y|     SBrkr|    1296|       0|           0|     1296|           0|           0|       2|       0|           2|           2|         TA|           6|       Typ|         0|       null|   CarPort|       1967|         Unf|         2|       516|        TA|        TA|         Y|         0|          0|            0|        0|          0|       0|  null| null|       Shed|    500|    10|  2006|      WD|       Normal|    90000|\n",
            "| 19|        20|      RL|         66|  13695|  Pave| null|     Reg|        Lvl|   AllPub|   Inside|      Gtl|     SawyerW|      RRAe|      Norm|    1Fam|    1Story|          5|          5|     2004|        2004|    Gable| CompShg|    VinylSd|    VinylSd|      None|         0|       TA|       TA|     PConc|      TA|      TA|          No|         GLQ|       646|         Unf|         0|      468|       1114|   GasA|       Ex|         Y|     SBrkr|    1114|       0|           0|     1114|           1|           0|       1|       1|           3|           1|         Gd|           6|       Typ|         0|       null|    Detchd|       2004|         Unf|         2|       576|        TA|        TA|         Y|         0|        102|            0|        0|          0|       0|  null| null|       null|      0|     6|  2008|      WD|       Normal|   159000|\n",
            "| 20|        20|      RL|         70|   7560|  Pave| null|     Reg|        Lvl|   AllPub|   Inside|      Gtl|       NAmes|      Norm|      Norm|    1Fam|    1Story|          5|          6|     1958|        1965|      Hip| CompShg|    BrkFace|    Plywood|      None|         0|       TA|       TA|    CBlock|      TA|      TA|          No|         LwQ|       504|         Unf|         0|      525|       1029|   GasA|       TA|         Y|     SBrkr|    1339|       0|           0|     1339|           0|           0|       1|       0|           3|           1|         TA|           6|      Min1|         0|       null|    Attchd|       1958|         Unf|         1|       294|        TA|        TA|         Y|         0|          0|            0|        0|          0|       0|  null|MnPrv|       null|      0|     5|  2009|     COD|      Abnorml|   139000|\n",
            "+---+----------+--------+-----------+-------+------+-----+--------+-----------+---------+---------+---------+------------+----------+----------+--------+----------+-----------+-----------+---------+------------+---------+--------+-----------+-----------+----------+----------+---------+---------+----------+--------+--------+------------+------------+----------+------------+----------+---------+-----------+-------+---------+----------+----------+--------+--------+------------+---------+------------+------------+--------+--------+------------+------------+-----------+------------+----------+----------+-----------+----------+-----------+------------+----------+----------+----------+----------+----------+----------+-----------+-------------+---------+-----------+--------+------+-----+-----------+-------+------+------+--------+-------------+---------+\n",
            "only showing top 20 rows\n",
            "\n"
          ],
          "name": "stdout"
        }
      ]
    },
    {
      "cell_type": "code",
      "metadata": {
        "id": "2ockkMJshwDt",
        "colab": {
          "base_uri": "https://localhost:8080/",
          "height": 1000
        },
        "outputId": "dbe8240d-483e-4bb9-e229-7d3f98810465"
      },
      "source": [
        "data_train.printSchema()"
      ],
      "execution_count": null,
      "outputs": [
        {
          "output_type": "stream",
          "text": [
            "root\n",
            " |-- Id: integer (nullable = true)\n",
            " |-- MSSubClass: integer (nullable = true)\n",
            " |-- MSZoning: string (nullable = true)\n",
            " |-- LotFrontage: integer (nullable = true)\n",
            " |-- LotArea: integer (nullable = true)\n",
            " |-- Street: string (nullable = true)\n",
            " |-- Alley: string (nullable = true)\n",
            " |-- LotShape: string (nullable = true)\n",
            " |-- LandContour: string (nullable = true)\n",
            " |-- Utilities: string (nullable = true)\n",
            " |-- LotConfig: string (nullable = true)\n",
            " |-- LandSlope: string (nullable = true)\n",
            " |-- Neighborhood: string (nullable = true)\n",
            " |-- Condition1: string (nullable = true)\n",
            " |-- Condition2: string (nullable = true)\n",
            " |-- BldgType: string (nullable = true)\n",
            " |-- HouseStyle: string (nullable = true)\n",
            " |-- OverallQual: integer (nullable = true)\n",
            " |-- OverallCond: integer (nullable = true)\n",
            " |-- YearBuilt: integer (nullable = true)\n",
            " |-- YearRemodAdd: integer (nullable = true)\n",
            " |-- RoofStyle: string (nullable = true)\n",
            " |-- RoofMatl: string (nullable = true)\n",
            " |-- Exterior1st: string (nullable = true)\n",
            " |-- Exterior2nd: string (nullable = true)\n",
            " |-- MasVnrType: string (nullable = true)\n",
            " |-- MasVnrArea: integer (nullable = true)\n",
            " |-- ExterQual: string (nullable = true)\n",
            " |-- ExterCond: string (nullable = true)\n",
            " |-- Foundation: string (nullable = true)\n",
            " |-- BsmtQual: string (nullable = true)\n",
            " |-- BsmtCond: string (nullable = true)\n",
            " |-- BsmtExposure: string (nullable = true)\n",
            " |-- BsmtFinType1: string (nullable = true)\n",
            " |-- BsmtFinSF1: integer (nullable = true)\n",
            " |-- BsmtFinType2: string (nullable = true)\n",
            " |-- BsmtFinSF2: integer (nullable = true)\n",
            " |-- BsmtUnfSF: integer (nullable = true)\n",
            " |-- TotalBsmtSF: integer (nullable = true)\n",
            " |-- Heating: string (nullable = true)\n",
            " |-- HeatingQC: string (nullable = true)\n",
            " |-- CentralAir: string (nullable = true)\n",
            " |-- Electrical: string (nullable = true)\n",
            " |-- 1stFlrSF: integer (nullable = true)\n",
            " |-- 2ndFlrSF: integer (nullable = true)\n",
            " |-- LowQualFinSF: integer (nullable = true)\n",
            " |-- GrLivArea: integer (nullable = true)\n",
            " |-- BsmtFullBath: integer (nullable = true)\n",
            " |-- BsmtHalfBath: integer (nullable = true)\n",
            " |-- FullBath: integer (nullable = true)\n",
            " |-- HalfBath: integer (nullable = true)\n",
            " |-- BedroomAbvGr: integer (nullable = true)\n",
            " |-- KitchenAbvGr: integer (nullable = true)\n",
            " |-- KitchenQual: string (nullable = true)\n",
            " |-- TotRmsAbvGrd: integer (nullable = true)\n",
            " |-- Functional: string (nullable = true)\n",
            " |-- Fireplaces: integer (nullable = true)\n",
            " |-- FireplaceQu: string (nullable = true)\n",
            " |-- GarageType: string (nullable = true)\n",
            " |-- GarageYrBlt: integer (nullable = true)\n",
            " |-- GarageFinish: string (nullable = true)\n",
            " |-- GarageCars: integer (nullable = true)\n",
            " |-- GarageArea: integer (nullable = true)\n",
            " |-- GarageQual: string (nullable = true)\n",
            " |-- GarageCond: string (nullable = true)\n",
            " |-- PavedDrive: string (nullable = true)\n",
            " |-- WoodDeckSF: integer (nullable = true)\n",
            " |-- OpenPorchSF: integer (nullable = true)\n",
            " |-- EnclosedPorch: integer (nullable = true)\n",
            " |-- 3SsnPorch: integer (nullable = true)\n",
            " |-- ScreenPorch: integer (nullable = true)\n",
            " |-- PoolArea: integer (nullable = true)\n",
            " |-- PoolQC: string (nullable = true)\n",
            " |-- Fence: string (nullable = true)\n",
            " |-- MiscFeature: string (nullable = true)\n",
            " |-- MiscVal: integer (nullable = true)\n",
            " |-- MoSold: integer (nullable = true)\n",
            " |-- YrSold: integer (nullable = true)\n",
            " |-- SaleType: string (nullable = true)\n",
            " |-- SaleCondition: string (nullable = true)\n",
            " |-- SalePrice: integer (nullable = true)\n",
            "\n"
          ],
          "name": "stdout"
        }
      ]
    },
    {
      "cell_type": "code",
      "metadata": {
        "id": "T6eMEK9cofP-",
        "colab": {
          "base_uri": "https://localhost:8080/",
          "height": 34
        },
        "outputId": "578e2881-4fc0-46b4-c354-ba9e113a908e"
      },
      "source": [
        "n_filas_train = data_train.count()\n",
        "n_col_train = len(data_train.columns)\n",
        "print('El conjunto train tiene {} observaciones y {} variables.'.format(n_filas_train,n_col_train))"
      ],
      "execution_count": null,
      "outputs": [
        {
          "output_type": "stream",
          "text": [
            "El conjunto train tiene 1460 observaciones y 81 variables.\n"
          ],
          "name": "stdout"
        }
      ]
    },
    {
      "cell_type": "code",
      "metadata": {
        "id": "tHbKAkRwhPda",
        "colab": {
          "base_uri": "https://localhost:8080/",
          "height": 479
        },
        "outputId": "343a64fa-db51-482e-d7ac-45e3baf07617"
      },
      "source": [
        "path_test = input_path.format(\"test.csv\")\n",
        "data_test = spark.read.csv(path_test,header=True,nullValue='NA', inferSchema=True, sep=\",\")\n",
        "data_test.show()"
      ],
      "execution_count": null,
      "outputs": [
        {
          "output_type": "stream",
          "text": [
            "+----+----------+--------+-----------+-------+------+-----+--------+-----------+---------+---------+---------+------------+----------+----------+--------+----------+-----------+-----------+---------+------------+---------+--------+-----------+-----------+----------+----------+---------+---------+----------+--------+--------+------------+------------+----------+------------+----------+---------+-----------+-------+---------+----------+----------+--------+--------+------------+---------+------------+------------+--------+--------+------------+------------+-----------+------------+----------+----------+-----------+----------+-----------+------------+----------+----------+----------+----------+----------+----------+-----------+-------------+---------+-----------+--------+------+-----+-----------+-------+------+------+--------+-------------+\n",
            "|  Id|MSSubClass|MSZoning|LotFrontage|LotArea|Street|Alley|LotShape|LandContour|Utilities|LotConfig|LandSlope|Neighborhood|Condition1|Condition2|BldgType|HouseStyle|OverallQual|OverallCond|YearBuilt|YearRemodAdd|RoofStyle|RoofMatl|Exterior1st|Exterior2nd|MasVnrType|MasVnrArea|ExterQual|ExterCond|Foundation|BsmtQual|BsmtCond|BsmtExposure|BsmtFinType1|BsmtFinSF1|BsmtFinType2|BsmtFinSF2|BsmtUnfSF|TotalBsmtSF|Heating|HeatingQC|CentralAir|Electrical|1stFlrSF|2ndFlrSF|LowQualFinSF|GrLivArea|BsmtFullBath|BsmtHalfBath|FullBath|HalfBath|BedroomAbvGr|KitchenAbvGr|KitchenQual|TotRmsAbvGrd|Functional|Fireplaces|FireplaceQu|GarageType|GarageYrBlt|GarageFinish|GarageCars|GarageArea|GarageQual|GarageCond|PavedDrive|WoodDeckSF|OpenPorchSF|EnclosedPorch|3SsnPorch|ScreenPorch|PoolArea|PoolQC|Fence|MiscFeature|MiscVal|MoSold|YrSold|SaleType|SaleCondition|\n",
            "+----+----------+--------+-----------+-------+------+-----+--------+-----------+---------+---------+---------+------------+----------+----------+--------+----------+-----------+-----------+---------+------------+---------+--------+-----------+-----------+----------+----------+---------+---------+----------+--------+--------+------------+------------+----------+------------+----------+---------+-----------+-------+---------+----------+----------+--------+--------+------------+---------+------------+------------+--------+--------+------------+------------+-----------+------------+----------+----------+-----------+----------+-----------+------------+----------+----------+----------+----------+----------+----------+-----------+-------------+---------+-----------+--------+------+-----+-----------+-------+------+------+--------+-------------+\n",
            "|1461|        20|      RH|         80|  11622|  Pave| null|     Reg|        Lvl|   AllPub|   Inside|      Gtl|       NAmes|     Feedr|      Norm|    1Fam|    1Story|          5|          6|     1961|        1961|    Gable| CompShg|    VinylSd|    VinylSd|      None|         0|       TA|       TA|    CBlock|      TA|      TA|          No|         Rec|       468|         LwQ|       144|      270|        882|   GasA|       TA|         Y|     SBrkr|     896|       0|           0|      896|           0|           0|       1|       0|           2|           1|         TA|           5|       Typ|         0|       null|    Attchd|       1961|         Unf|         1|       730|        TA|        TA|         Y|       140|          0|            0|        0|        120|       0|  null|MnPrv|       null|      0|     6|  2010|      WD|       Normal|\n",
            "|1462|        20|      RL|         81|  14267|  Pave| null|     IR1|        Lvl|   AllPub|   Corner|      Gtl|       NAmes|      Norm|      Norm|    1Fam|    1Story|          6|          6|     1958|        1958|      Hip| CompShg|    Wd Sdng|    Wd Sdng|   BrkFace|       108|       TA|       TA|    CBlock|      TA|      TA|          No|         ALQ|       923|         Unf|         0|      406|       1329|   GasA|       TA|         Y|     SBrkr|    1329|       0|           0|     1329|           0|           0|       1|       1|           3|           1|         Gd|           6|       Typ|         0|       null|    Attchd|       1958|         Unf|         1|       312|        TA|        TA|         Y|       393|         36|            0|        0|          0|       0|  null| null|       Gar2|  12500|     6|  2010|      WD|       Normal|\n",
            "|1463|        60|      RL|         74|  13830|  Pave| null|     IR1|        Lvl|   AllPub|   Inside|      Gtl|     Gilbert|      Norm|      Norm|    1Fam|    2Story|          5|          5|     1997|        1998|    Gable| CompShg|    VinylSd|    VinylSd|      None|         0|       TA|       TA|     PConc|      Gd|      TA|          No|         GLQ|       791|         Unf|         0|      137|        928|   GasA|       Gd|         Y|     SBrkr|     928|     701|           0|     1629|           0|           0|       2|       1|           3|           1|         TA|           6|       Typ|         1|         TA|    Attchd|       1997|         Fin|         2|       482|        TA|        TA|         Y|       212|         34|            0|        0|          0|       0|  null|MnPrv|       null|      0|     3|  2010|      WD|       Normal|\n",
            "|1464|        60|      RL|         78|   9978|  Pave| null|     IR1|        Lvl|   AllPub|   Inside|      Gtl|     Gilbert|      Norm|      Norm|    1Fam|    2Story|          6|          6|     1998|        1998|    Gable| CompShg|    VinylSd|    VinylSd|   BrkFace|        20|       TA|       TA|     PConc|      TA|      TA|          No|         GLQ|       602|         Unf|         0|      324|        926|   GasA|       Ex|         Y|     SBrkr|     926|     678|           0|     1604|           0|           0|       2|       1|           3|           1|         Gd|           7|       Typ|         1|         Gd|    Attchd|       1998|         Fin|         2|       470|        TA|        TA|         Y|       360|         36|            0|        0|          0|       0|  null| null|       null|      0|     6|  2010|      WD|       Normal|\n",
            "|1465|       120|      RL|         43|   5005|  Pave| null|     IR1|        HLS|   AllPub|   Inside|      Gtl|     StoneBr|      Norm|      Norm|  TwnhsE|    1Story|          8|          5|     1992|        1992|    Gable| CompShg|    HdBoard|    HdBoard|      None|         0|       Gd|       TA|     PConc|      Gd|      TA|          No|         ALQ|       263|         Unf|         0|     1017|       1280|   GasA|       Ex|         Y|     SBrkr|    1280|       0|           0|     1280|           0|           0|       2|       0|           2|           1|         Gd|           5|       Typ|         0|       null|    Attchd|       1992|         RFn|         2|       506|        TA|        TA|         Y|         0|         82|            0|        0|        144|       0|  null| null|       null|      0|     1|  2010|      WD|       Normal|\n",
            "|1466|        60|      RL|         75|  10000|  Pave| null|     IR1|        Lvl|   AllPub|   Corner|      Gtl|     Gilbert|      Norm|      Norm|    1Fam|    2Story|          6|          5|     1993|        1994|    Gable| CompShg|    HdBoard|    HdBoard|      None|         0|       TA|       TA|     PConc|      Gd|      TA|          No|         Unf|         0|         Unf|         0|      763|        763|   GasA|       Gd|         Y|     SBrkr|     763|     892|           0|     1655|           0|           0|       2|       1|           3|           1|         TA|           7|       Typ|         1|         TA|    Attchd|       1993|         Fin|         2|       440|        TA|        TA|         Y|       157|         84|            0|        0|          0|       0|  null| null|       null|      0|     4|  2010|      WD|       Normal|\n",
            "|1467|        20|      RL|       null|   7980|  Pave| null|     IR1|        Lvl|   AllPub|   Inside|      Gtl|     Gilbert|      Norm|      Norm|    1Fam|    1Story|          6|          7|     1992|        2007|    Gable| CompShg|    HdBoard|    HdBoard|      None|         0|       TA|       Gd|     PConc|      Gd|      TA|          No|         ALQ|       935|         Unf|         0|      233|       1168|   GasA|       Ex|         Y|     SBrkr|    1187|       0|           0|     1187|           1|           0|       2|       0|           3|           1|         TA|           6|       Typ|         0|       null|    Attchd|       1992|         Fin|         2|       420|        TA|        TA|         Y|       483|         21|            0|        0|          0|       0|  null|GdPrv|       Shed|    500|     3|  2010|      WD|       Normal|\n",
            "|1468|        60|      RL|         63|   8402|  Pave| null|     IR1|        Lvl|   AllPub|   Inside|      Gtl|     Gilbert|      Norm|      Norm|    1Fam|    2Story|          6|          5|     1998|        1998|    Gable| CompShg|    VinylSd|    VinylSd|      None|         0|       TA|       TA|     PConc|      Gd|      TA|          No|         Unf|         0|         Unf|         0|      789|        789|   GasA|       Gd|         Y|     SBrkr|     789|     676|           0|     1465|           0|           0|       2|       1|           3|           1|         TA|           7|       Typ|         1|         Gd|    Attchd|       1998|         Fin|         2|       393|        TA|        TA|         Y|         0|         75|            0|        0|          0|       0|  null| null|       null|      0|     5|  2010|      WD|       Normal|\n",
            "|1469|        20|      RL|         85|  10176|  Pave| null|     Reg|        Lvl|   AllPub|   Inside|      Gtl|     Gilbert|      Norm|      Norm|    1Fam|    1Story|          7|          5|     1990|        1990|    Gable| CompShg|    HdBoard|    HdBoard|      None|         0|       TA|       TA|     PConc|      Gd|      TA|          Gd|         GLQ|       637|         Unf|         0|      663|       1300|   GasA|       Gd|         Y|     SBrkr|    1341|       0|           0|     1341|           1|           0|       1|       1|           2|           1|         Gd|           5|       Typ|         1|         Po|    Attchd|       1990|         Unf|         2|       506|        TA|        TA|         Y|       192|          0|            0|        0|          0|       0|  null| null|       null|      0|     2|  2010|      WD|       Normal|\n",
            "|1470|        20|      RL|         70|   8400|  Pave| null|     Reg|        Lvl|   AllPub|   Corner|      Gtl|       NAmes|      Norm|      Norm|    1Fam|    1Story|          4|          5|     1970|        1970|    Gable| CompShg|    Plywood|    Plywood|      None|         0|       TA|       TA|    CBlock|      TA|      TA|          No|         ALQ|       804|         Rec|        78|        0|        882|   GasA|       TA|         Y|     SBrkr|     882|       0|           0|      882|           1|           0|       1|       0|           2|           1|         TA|           4|       Typ|         0|       null|    Attchd|       1970|         Fin|         2|       525|        TA|        TA|         Y|       240|          0|            0|        0|          0|       0|  null|MnPrv|       null|      0|     4|  2010|      WD|       Normal|\n",
            "|1471|       120|      RH|         26|   5858|  Pave| null|     IR1|        Lvl|   AllPub|      FR2|      Gtl|       NAmes|      Norm|      Norm|  TwnhsE|    1Story|          7|          5|     1999|        1999|    Gable| CompShg|    MetalSd|    MetalSd|      None|         0|       Gd|       TA|     PConc|      Gd|      TA|          No|         GLQ|      1051|         BLQ|         0|      354|       1405|   GasA|       Ex|         Y|     SBrkr|    1337|       0|           0|     1337|           1|           0|       2|       0|           2|           1|         Gd|           5|       Typ|         1|         Fa|    Attchd|       1999|         Fin|         2|       511|        TA|        TA|         Y|       203|         68|            0|        0|          0|       0|  null| null|       null|      0|     6|  2010|      WD|       Normal|\n",
            "|1472|       160|      RM|         21|   1680|  Pave| null|     Reg|        Lvl|   AllPub|   Inside|      Gtl|      BrDale|      Norm|      Norm|   Twnhs|    2Story|          6|          5|     1971|        1971|    Gable| CompShg|    HdBoard|    HdBoard|   BrkFace|       504|       TA|       TA|    CBlock|      TA|      TA|          No|         Rec|       156|         Unf|         0|      327|        483|   GasA|       TA|         Y|     SBrkr|     483|     504|           0|      987|           0|           0|       1|       1|           2|           1|         TA|           5|       Typ|         0|       null|    Detchd|       1971|         Unf|         1|       264|        TA|        TA|         Y|       275|          0|            0|        0|          0|       0|  null| null|       null|      0|     2|  2010|     COD|       Normal|\n",
            "|1473|       160|      RM|         21|   1680|  Pave| null|     Reg|        Lvl|   AllPub|   Inside|      Gtl|      BrDale|      Norm|      Norm|   Twnhs|    2Story|          5|          5|     1971|        1971|    Gable| CompShg|    HdBoard|    HdBoard|   BrkFace|       492|       TA|       TA|    CBlock|      TA|      TA|          No|         Rec|       300|         Unf|         0|      225|        525|   GasA|       TA|         Y|     SBrkr|     525|     567|           0|     1092|           0|           0|       1|       1|           3|           1|         TA|           6|       Typ|         0|       null|    Detchd|       1997|         Unf|         1|       320|        TA|        TA|         Y|         0|          0|            0|        0|          0|       0|  null| null|       null|      0|     3|  2010|      WD|       Normal|\n",
            "|1474|       160|      RL|         24|   2280|  Pave| null|     Reg|        Lvl|   AllPub|      FR2|      Gtl|     NPkVill|      Norm|      Norm|   Twnhs|    2Story|          6|          6|     1975|        1975|    Gable| CompShg|    Plywood|    Brk Cmn|      None|         0|       TA|       TA|    CBlock|      TA|      TA|          No|         ALQ|       514|         Unf|         0|      341|        855|   GasA|       TA|         Y|     SBrkr|     855|     601|           0|     1456|           0|           0|       2|       1|           3|           1|         Gd|           6|       Typ|         1|         TA|    Attchd|       1975|         Unf|         2|       440|        TA|        TA|         Y|       173|          0|            0|        0|          0|       0|  null| null|       null|      0|     6|  2010|      WD|       Normal|\n",
            "|1475|       120|      RL|         24|   2280|  Pave| null|     Reg|        Lvl|   AllPub|      FR2|      Gtl|     NPkVill|      Norm|      Norm|   Twnhs|    1Story|          7|          6|     1975|        1975|    Gable| CompShg|    Plywood|    Brk Cmn|      None|         0|       TA|       TA|    CBlock|      Gd|      TA|          No|         Unf|         0|         Unf|         0|      836|        836|   GasA|       Ex|         Y|     SBrkr|     836|       0|           0|      836|           0|           0|       1|       0|           2|           1|         TA|           4|       Typ|         0|       null|    Attchd|       1975|         Unf|         1|       308|        TA|        TA|         Y|         0|         30|            0|        0|          0|       0|  null| null|       null|      0|     6|  2010|      WD|       Normal|\n",
            "|1476|        60|      RL|        102|  12858|  Pave| null|     IR1|        Lvl|   AllPub|   Inside|      Gtl|     NridgHt|      Norm|      Norm|    1Fam|    2Story|          9|          5|     2009|        2010|    Gable| CompShg|    VinylSd|    VinylSd|     Stone|       162|       Ex|       TA|     PConc|      Ex|      TA|          No|         Unf|         0|         Unf|         0|     1590|       1590|   GasA|       Ex|         Y|     SBrkr|    1627|     707|           0|     2334|           0|           0|       2|       1|           3|           1|         Ex|          10|       Typ|         1|         Gd|    Attchd|       2009|         Fin|         3|       751|        TA|        TA|         Y|       144|        133|            0|        0|          0|       0|  null| null|       null|      0|     1|  2010|     New|      Partial|\n",
            "|1477|        20|      RL|         94|  12883|  Pave| null|     IR1|        Lvl|   AllPub|   Corner|      Gtl|     NridgHt|      Norm|      Norm|    1Fam|    1Story|          8|          5|     2009|        2010|    Gable| CompShg|    VinylSd|    VinylSd|     Stone|       256|       Gd|       TA|     PConc|      Gd|      TA|          No|         Unf|         0|         Unf|         0|     1544|       1544|   GasA|       Ex|         Y|     SBrkr|    1544|       0|           0|     1544|           0|           0|       2|       0|           3|           1|         Gd|           7|       Typ|         0|       null|    Attchd|       2009|         RFn|         3|       868|        TA|        TA|         Y|         0|         35|            0|        0|          0|       0|  null| null|       null|      0|     6|  2010|     New|      Partial|\n",
            "|1478|        20|      RL|         90|  11520|  Pave| null|     Reg|        Lvl|   AllPub|   Inside|      Gtl|     NridgHt|      PosN|      Norm|    1Fam|    1Story|          9|          5|     2005|        2005|      Hip| CompShg|    VinylSd|    VinylSd|   BrkFace|       615|       Gd|       TA|     PConc|      Ex|      TA|          No|         GLQ|       110|         Unf|         0|     1588|       1698|   GasA|       Ex|         Y|     SBrkr|    1698|       0|           0|     1698|           0|           0|       2|       0|           3|           1|         Ex|           7|       Typ|         1|         Gd|    Attchd|       2005|         Fin|         3|       730|        TA|        TA|         Y|       192|         74|            0|        0|          0|       0|  null| null|       null|      0|     6|  2010|      WD|       Normal|\n",
            "|1479|        20|      RL|         79|  14122|  Pave| null|     IR1|        Lvl|   AllPub|   Inside|      Gtl|     NridgHt|      Norm|      Norm|    1Fam|    1Story|          8|          5|     2005|        2006|      Hip| CompShg|    CemntBd|    CmentBd|   BrkFace|       240|       Gd|       TA|     PConc|      Ex|      TA|          No|         GLQ|        28|         Unf|         0|     1794|       1822|   GasA|       Ex|         Y|     SBrkr|    1822|       0|           0|     1822|           0|           0|       2|       0|           3|           1|         Ex|           8|       Typ|         1|         Gd|    Attchd|       2005|         RFn|         3|       678|        TA|        TA|         Y|         0|        119|            0|        0|          0|       0|  null| null|       null|      0|     2|  2010|      WD|       Normal|\n",
            "|1480|        20|      RL|        110|  14300|  Pave| null|     Reg|        HLS|   AllPub|   Inside|      Mod|     NridgHt|      Norm|      Norm|    1Fam|    1Story|          9|          5|     2003|        2004|      Hip| CompShg|    VinylSd|    VinylSd|   BrkFace|      1095|       Ex|       TA|     PConc|      Ex|      TA|          Gd|         GLQ|      1373|         Unf|         0|     1473|       2846|   GasA|       Ex|         Y|     SBrkr|    2696|       0|           0|     2696|           1|           0|       2|       1|           3|           1|         Ex|          10|       Typ|         2|         Gd|    Attchd|       2003|         Fin|         3|       958|        TA|        TA|         Y|       220|        150|            0|        0|          0|       0|  null| null|       null|      0|     6|  2010|      WD|       Normal|\n",
            "+----+----------+--------+-----------+-------+------+-----+--------+-----------+---------+---------+---------+------------+----------+----------+--------+----------+-----------+-----------+---------+------------+---------+--------+-----------+-----------+----------+----------+---------+---------+----------+--------+--------+------------+------------+----------+------------+----------+---------+-----------+-------+---------+----------+----------+--------+--------+------------+---------+------------+------------+--------+--------+------------+------------+-----------+------------+----------+----------+-----------+----------+-----------+------------+----------+----------+----------+----------+----------+----------+-----------+-------------+---------+-----------+--------+------+-----+-----------+-------+------+------+--------+-------------+\n",
            "only showing top 20 rows\n",
            "\n"
          ],
          "name": "stdout"
        }
      ]
    },
    {
      "cell_type": "code",
      "metadata": {
        "id": "wh4UGgxFh3XW",
        "colab": {
          "base_uri": "https://localhost:8080/",
          "height": 1000
        },
        "outputId": "9ec5f297-fcd8-4b14-8808-8a6e230f010f"
      },
      "source": [
        "data_test.printSchema()"
      ],
      "execution_count": null,
      "outputs": [
        {
          "output_type": "stream",
          "text": [
            "root\n",
            " |-- Id: integer (nullable = true)\n",
            " |-- MSSubClass: integer (nullable = true)\n",
            " |-- MSZoning: string (nullable = true)\n",
            " |-- LotFrontage: integer (nullable = true)\n",
            " |-- LotArea: integer (nullable = true)\n",
            " |-- Street: string (nullable = true)\n",
            " |-- Alley: string (nullable = true)\n",
            " |-- LotShape: string (nullable = true)\n",
            " |-- LandContour: string (nullable = true)\n",
            " |-- Utilities: string (nullable = true)\n",
            " |-- LotConfig: string (nullable = true)\n",
            " |-- LandSlope: string (nullable = true)\n",
            " |-- Neighborhood: string (nullable = true)\n",
            " |-- Condition1: string (nullable = true)\n",
            " |-- Condition2: string (nullable = true)\n",
            " |-- BldgType: string (nullable = true)\n",
            " |-- HouseStyle: string (nullable = true)\n",
            " |-- OverallQual: integer (nullable = true)\n",
            " |-- OverallCond: integer (nullable = true)\n",
            " |-- YearBuilt: integer (nullable = true)\n",
            " |-- YearRemodAdd: integer (nullable = true)\n",
            " |-- RoofStyle: string (nullable = true)\n",
            " |-- RoofMatl: string (nullable = true)\n",
            " |-- Exterior1st: string (nullable = true)\n",
            " |-- Exterior2nd: string (nullable = true)\n",
            " |-- MasVnrType: string (nullable = true)\n",
            " |-- MasVnrArea: integer (nullable = true)\n",
            " |-- ExterQual: string (nullable = true)\n",
            " |-- ExterCond: string (nullable = true)\n",
            " |-- Foundation: string (nullable = true)\n",
            " |-- BsmtQual: string (nullable = true)\n",
            " |-- BsmtCond: string (nullable = true)\n",
            " |-- BsmtExposure: string (nullable = true)\n",
            " |-- BsmtFinType1: string (nullable = true)\n",
            " |-- BsmtFinSF1: integer (nullable = true)\n",
            " |-- BsmtFinType2: string (nullable = true)\n",
            " |-- BsmtFinSF2: integer (nullable = true)\n",
            " |-- BsmtUnfSF: integer (nullable = true)\n",
            " |-- TotalBsmtSF: integer (nullable = true)\n",
            " |-- Heating: string (nullable = true)\n",
            " |-- HeatingQC: string (nullable = true)\n",
            " |-- CentralAir: string (nullable = true)\n",
            " |-- Electrical: string (nullable = true)\n",
            " |-- 1stFlrSF: integer (nullable = true)\n",
            " |-- 2ndFlrSF: integer (nullable = true)\n",
            " |-- LowQualFinSF: integer (nullable = true)\n",
            " |-- GrLivArea: integer (nullable = true)\n",
            " |-- BsmtFullBath: integer (nullable = true)\n",
            " |-- BsmtHalfBath: integer (nullable = true)\n",
            " |-- FullBath: integer (nullable = true)\n",
            " |-- HalfBath: integer (nullable = true)\n",
            " |-- BedroomAbvGr: integer (nullable = true)\n",
            " |-- KitchenAbvGr: integer (nullable = true)\n",
            " |-- KitchenQual: string (nullable = true)\n",
            " |-- TotRmsAbvGrd: integer (nullable = true)\n",
            " |-- Functional: string (nullable = true)\n",
            " |-- Fireplaces: integer (nullable = true)\n",
            " |-- FireplaceQu: string (nullable = true)\n",
            " |-- GarageType: string (nullable = true)\n",
            " |-- GarageYrBlt: integer (nullable = true)\n",
            " |-- GarageFinish: string (nullable = true)\n",
            " |-- GarageCars: integer (nullable = true)\n",
            " |-- GarageArea: integer (nullable = true)\n",
            " |-- GarageQual: string (nullable = true)\n",
            " |-- GarageCond: string (nullable = true)\n",
            " |-- PavedDrive: string (nullable = true)\n",
            " |-- WoodDeckSF: integer (nullable = true)\n",
            " |-- OpenPorchSF: integer (nullable = true)\n",
            " |-- EnclosedPorch: integer (nullable = true)\n",
            " |-- 3SsnPorch: integer (nullable = true)\n",
            " |-- ScreenPorch: integer (nullable = true)\n",
            " |-- PoolArea: integer (nullable = true)\n",
            " |-- PoolQC: string (nullable = true)\n",
            " |-- Fence: string (nullable = true)\n",
            " |-- MiscFeature: string (nullable = true)\n",
            " |-- MiscVal: integer (nullable = true)\n",
            " |-- MoSold: integer (nullable = true)\n",
            " |-- YrSold: integer (nullable = true)\n",
            " |-- SaleType: string (nullable = true)\n",
            " |-- SaleCondition: string (nullable = true)\n",
            "\n"
          ],
          "name": "stdout"
        }
      ]
    },
    {
      "cell_type": "code",
      "metadata": {
        "id": "vceCm2PsnoLV",
        "colab": {
          "base_uri": "https://localhost:8080/",
          "height": 34
        },
        "outputId": "b9999f8f-6fae-4d87-eeb3-885a33c1d4ec"
      },
      "source": [
        "n_filas_test = data_test.count()\n",
        "n_col_test = len(data_test.columns)\n",
        "print('El conjunto test tiene {} observaciones y {} variables.'.format(n_filas_test,n_col_test))"
      ],
      "execution_count": null,
      "outputs": [
        {
          "output_type": "stream",
          "text": [
            "El conjunto test tiene 1459 observaciones y 80 variables.\n"
          ],
          "name": "stdout"
        }
      ]
    },
    {
      "cell_type": "markdown",
      "metadata": {
        "id": "ZttnKApGo0gX"
      },
      "source": [
        "Nótese que el conjunto **test** tiene una variable menos, que es la variable respuesta **SalePrice**.\n",
        "\n",
        "\n"
      ]
    },
    {
      "cell_type": "markdown",
      "metadata": {
        "id": "cE494TJ82B_M"
      },
      "source": [
        "## Preprocesado y exploración de los datos"
      ]
    },
    {
      "cell_type": "markdown",
      "metadata": {
        "id": "erVCiSSWQ8PX"
      },
      "source": [
        "### Imputación valores missing"
      ]
    },
    {
      "cell_type": "markdown",
      "metadata": {
        "id": "4T_ojqQpoh5C"
      },
      "source": [
        "En primer lugar, vamos a unir los datos **train** y **test**. Para poder unirlos adecuadamente:\n",
        "\n",
        "*   Deben tener el mismo número de columnas.\n",
        "*   Deben tener el mismo orden de columnas.\n",
        "*   El tipo de cada variable debe ser el mismo en cada conjunto."
      ]
    },
    {
      "cell_type": "markdown",
      "metadata": {
        "id": "o0MQ6IRCsnJ-"
      },
      "source": [
        "* Como vimos antes, al **data_test** le falta la variable respuesta **SalePrice**. Vamos a añadirla. "
      ]
    },
    {
      "cell_type": "code",
      "metadata": {
        "id": "ccVdXGw_hsIj",
        "colab": {
          "base_uri": "https://localhost:8080/",
          "height": 224
        },
        "outputId": "78d3f926-5043-41de-fc65-134d94e1da2c"
      },
      "source": [
        "data_test = data_test.withColumn('SalePrice',F.lit(None).cast(IntegerType()))\n",
        "data_test.show(5)"
      ],
      "execution_count": null,
      "outputs": [
        {
          "output_type": "stream",
          "text": [
            "+----+----------+--------+-----------+-------+------+-----+--------+-----------+---------+---------+---------+------------+----------+----------+--------+----------+-----------+-----------+---------+------------+---------+--------+-----------+-----------+----------+----------+---------+---------+----------+--------+--------+------------+------------+----------+------------+----------+---------+-----------+-------+---------+----------+----------+--------+--------+------------+---------+------------+------------+--------+--------+------------+------------+-----------+------------+----------+----------+-----------+----------+-----------+------------+----------+----------+----------+----------+----------+----------+-----------+-------------+---------+-----------+--------+------+-----+-----------+-------+------+------+--------+-------------+---------+\n",
            "|  Id|MSSubClass|MSZoning|LotFrontage|LotArea|Street|Alley|LotShape|LandContour|Utilities|LotConfig|LandSlope|Neighborhood|Condition1|Condition2|BldgType|HouseStyle|OverallQual|OverallCond|YearBuilt|YearRemodAdd|RoofStyle|RoofMatl|Exterior1st|Exterior2nd|MasVnrType|MasVnrArea|ExterQual|ExterCond|Foundation|BsmtQual|BsmtCond|BsmtExposure|BsmtFinType1|BsmtFinSF1|BsmtFinType2|BsmtFinSF2|BsmtUnfSF|TotalBsmtSF|Heating|HeatingQC|CentralAir|Electrical|1stFlrSF|2ndFlrSF|LowQualFinSF|GrLivArea|BsmtFullBath|BsmtHalfBath|FullBath|HalfBath|BedroomAbvGr|KitchenAbvGr|KitchenQual|TotRmsAbvGrd|Functional|Fireplaces|FireplaceQu|GarageType|GarageYrBlt|GarageFinish|GarageCars|GarageArea|GarageQual|GarageCond|PavedDrive|WoodDeckSF|OpenPorchSF|EnclosedPorch|3SsnPorch|ScreenPorch|PoolArea|PoolQC|Fence|MiscFeature|MiscVal|MoSold|YrSold|SaleType|SaleCondition|SalePrice|\n",
            "+----+----------+--------+-----------+-------+------+-----+--------+-----------+---------+---------+---------+------------+----------+----------+--------+----------+-----------+-----------+---------+------------+---------+--------+-----------+-----------+----------+----------+---------+---------+----------+--------+--------+------------+------------+----------+------------+----------+---------+-----------+-------+---------+----------+----------+--------+--------+------------+---------+------------+------------+--------+--------+------------+------------+-----------+------------+----------+----------+-----------+----------+-----------+------------+----------+----------+----------+----------+----------+----------+-----------+-------------+---------+-----------+--------+------+-----+-----------+-------+------+------+--------+-------------+---------+\n",
            "|1461|        20|      RH|         80|  11622|  Pave| null|     Reg|        Lvl|   AllPub|   Inside|      Gtl|       NAmes|     Feedr|      Norm|    1Fam|    1Story|          5|          6|     1961|        1961|    Gable| CompShg|    VinylSd|    VinylSd|      None|         0|       TA|       TA|    CBlock|      TA|      TA|          No|         Rec|       468|         LwQ|       144|      270|        882|   GasA|       TA|         Y|     SBrkr|     896|       0|           0|      896|           0|           0|       1|       0|           2|           1|         TA|           5|       Typ|         0|       null|    Attchd|       1961|         Unf|         1|       730|        TA|        TA|         Y|       140|          0|            0|        0|        120|       0|  null|MnPrv|       null|      0|     6|  2010|      WD|       Normal|     null|\n",
            "|1462|        20|      RL|         81|  14267|  Pave| null|     IR1|        Lvl|   AllPub|   Corner|      Gtl|       NAmes|      Norm|      Norm|    1Fam|    1Story|          6|          6|     1958|        1958|      Hip| CompShg|    Wd Sdng|    Wd Sdng|   BrkFace|       108|       TA|       TA|    CBlock|      TA|      TA|          No|         ALQ|       923|         Unf|         0|      406|       1329|   GasA|       TA|         Y|     SBrkr|    1329|       0|           0|     1329|           0|           0|       1|       1|           3|           1|         Gd|           6|       Typ|         0|       null|    Attchd|       1958|         Unf|         1|       312|        TA|        TA|         Y|       393|         36|            0|        0|          0|       0|  null| null|       Gar2|  12500|     6|  2010|      WD|       Normal|     null|\n",
            "|1463|        60|      RL|         74|  13830|  Pave| null|     IR1|        Lvl|   AllPub|   Inside|      Gtl|     Gilbert|      Norm|      Norm|    1Fam|    2Story|          5|          5|     1997|        1998|    Gable| CompShg|    VinylSd|    VinylSd|      None|         0|       TA|       TA|     PConc|      Gd|      TA|          No|         GLQ|       791|         Unf|         0|      137|        928|   GasA|       Gd|         Y|     SBrkr|     928|     701|           0|     1629|           0|           0|       2|       1|           3|           1|         TA|           6|       Typ|         1|         TA|    Attchd|       1997|         Fin|         2|       482|        TA|        TA|         Y|       212|         34|            0|        0|          0|       0|  null|MnPrv|       null|      0|     3|  2010|      WD|       Normal|     null|\n",
            "|1464|        60|      RL|         78|   9978|  Pave| null|     IR1|        Lvl|   AllPub|   Inside|      Gtl|     Gilbert|      Norm|      Norm|    1Fam|    2Story|          6|          6|     1998|        1998|    Gable| CompShg|    VinylSd|    VinylSd|   BrkFace|        20|       TA|       TA|     PConc|      TA|      TA|          No|         GLQ|       602|         Unf|         0|      324|        926|   GasA|       Ex|         Y|     SBrkr|     926|     678|           0|     1604|           0|           0|       2|       1|           3|           1|         Gd|           7|       Typ|         1|         Gd|    Attchd|       1998|         Fin|         2|       470|        TA|        TA|         Y|       360|         36|            0|        0|          0|       0|  null| null|       null|      0|     6|  2010|      WD|       Normal|     null|\n",
            "|1465|       120|      RL|         43|   5005|  Pave| null|     IR1|        HLS|   AllPub|   Inside|      Gtl|     StoneBr|      Norm|      Norm|  TwnhsE|    1Story|          8|          5|     1992|        1992|    Gable| CompShg|    HdBoard|    HdBoard|      None|         0|       Gd|       TA|     PConc|      Gd|      TA|          No|         ALQ|       263|         Unf|         0|     1017|       1280|   GasA|       Ex|         Y|     SBrkr|    1280|       0|           0|     1280|           0|           0|       2|       0|           2|           1|         Gd|           5|       Typ|         0|       null|    Attchd|       1992|         RFn|         2|       506|        TA|        TA|         Y|         0|         82|            0|        0|        144|       0|  null| null|       null|      0|     1|  2010|      WD|       Normal|     null|\n",
            "+----+----------+--------+-----------+-------+------+-----+--------+-----------+---------+---------+---------+------------+----------+----------+--------+----------+-----------+-----------+---------+------------+---------+--------+-----------+-----------+----------+----------+---------+---------+----------+--------+--------+------------+------------+----------+------------+----------+---------+-----------+-------+---------+----------+----------+--------+--------+------------+---------+------------+------------+--------+--------+------------+------------+-----------+------------+----------+----------+-----------+----------+-----------+------------+----------+----------+----------+----------+----------+----------+-----------+-------------+---------+-----------+--------+------+-----+-----------+-------+------+------+--------+-------------+---------+\n",
            "only showing top 5 rows\n",
            "\n"
          ],
          "name": "stdout"
        }
      ]
    },
    {
      "cell_type": "markdown",
      "metadata": {
        "id": "YtCWURImsM4k"
      },
      "source": [
        "* Comprobamos que ambos conjuntos de datos tienen el mismo orden de columnas."
      ]
    },
    {
      "cell_type": "code",
      "metadata": {
        "id": "sTnuaHOMsXkg",
        "colab": {
          "base_uri": "https://localhost:8080/",
          "height": 71
        },
        "outputId": "ee38a9e1-6cf2-4a2b-fdb4-9dd82410f905"
      },
      "source": [
        "print(data_train.columns)\n",
        "print(data_test.columns)"
      ],
      "execution_count": null,
      "outputs": [
        {
          "output_type": "stream",
          "text": [
            "['Id', 'MSSubClass', 'MSZoning', 'LotFrontage', 'LotArea', 'Street', 'Alley', 'LotShape', 'LandContour', 'Utilities', 'LotConfig', 'LandSlope', 'Neighborhood', 'Condition1', 'Condition2', 'BldgType', 'HouseStyle', 'OverallQual', 'OverallCond', 'YearBuilt', 'YearRemodAdd', 'RoofStyle', 'RoofMatl', 'Exterior1st', 'Exterior2nd', 'MasVnrType', 'MasVnrArea', 'ExterQual', 'ExterCond', 'Foundation', 'BsmtQual', 'BsmtCond', 'BsmtExposure', 'BsmtFinType1', 'BsmtFinSF1', 'BsmtFinType2', 'BsmtFinSF2', 'BsmtUnfSF', 'TotalBsmtSF', 'Heating', 'HeatingQC', 'CentralAir', 'Electrical', '1stFlrSF', '2ndFlrSF', 'LowQualFinSF', 'GrLivArea', 'BsmtFullBath', 'BsmtHalfBath', 'FullBath', 'HalfBath', 'BedroomAbvGr', 'KitchenAbvGr', 'KitchenQual', 'TotRmsAbvGrd', 'Functional', 'Fireplaces', 'FireplaceQu', 'GarageType', 'GarageYrBlt', 'GarageFinish', 'GarageCars', 'GarageArea', 'GarageQual', 'GarageCond', 'PavedDrive', 'WoodDeckSF', 'OpenPorchSF', 'EnclosedPorch', '3SsnPorch', 'ScreenPorch', 'PoolArea', 'PoolQC', 'Fence', 'MiscFeature', 'MiscVal', 'MoSold', 'YrSold', 'SaleType', 'SaleCondition', 'SalePrice']\n",
            "['Id', 'MSSubClass', 'MSZoning', 'LotFrontage', 'LotArea', 'Street', 'Alley', 'LotShape', 'LandContour', 'Utilities', 'LotConfig', 'LandSlope', 'Neighborhood', 'Condition1', 'Condition2', 'BldgType', 'HouseStyle', 'OverallQual', 'OverallCond', 'YearBuilt', 'YearRemodAdd', 'RoofStyle', 'RoofMatl', 'Exterior1st', 'Exterior2nd', 'MasVnrType', 'MasVnrArea', 'ExterQual', 'ExterCond', 'Foundation', 'BsmtQual', 'BsmtCond', 'BsmtExposure', 'BsmtFinType1', 'BsmtFinSF1', 'BsmtFinType2', 'BsmtFinSF2', 'BsmtUnfSF', 'TotalBsmtSF', 'Heating', 'HeatingQC', 'CentralAir', 'Electrical', '1stFlrSF', '2ndFlrSF', 'LowQualFinSF', 'GrLivArea', 'BsmtFullBath', 'BsmtHalfBath', 'FullBath', 'HalfBath', 'BedroomAbvGr', 'KitchenAbvGr', 'KitchenQual', 'TotRmsAbvGrd', 'Functional', 'Fireplaces', 'FireplaceQu', 'GarageType', 'GarageYrBlt', 'GarageFinish', 'GarageCars', 'GarageArea', 'GarageQual', 'GarageCond', 'PavedDrive', 'WoodDeckSF', 'OpenPorchSF', 'EnclosedPorch', '3SsnPorch', 'ScreenPorch', 'PoolArea', 'PoolQC', 'Fence', 'MiscFeature', 'MiscVal', 'MoSold', 'YrSold', 'SaleType', 'SaleCondition', 'SalePrice']\n"
          ],
          "name": "stdout"
        }
      ]
    },
    {
      "cell_type": "markdown",
      "metadata": {
        "id": "ERzVYsl3tEbe"
      },
      "source": [
        "* Por último, comprobamos que todas las variables en ambos conjuntos de datos tienen el mismo tipo.\n",
        "\n",
        "\n"
      ]
    },
    {
      "cell_type": "code",
      "metadata": {
        "id": "ftgKzGjMtDpr",
        "colab": {
          "base_uri": "https://localhost:8080/",
          "height": 1000
        },
        "outputId": "c7fd7acf-08fb-42e0-95a9-3d5b5f52e83e"
      },
      "source": [
        "data_train.printSchema()"
      ],
      "execution_count": null,
      "outputs": [
        {
          "output_type": "stream",
          "text": [
            "root\n",
            " |-- Id: integer (nullable = true)\n",
            " |-- MSSubClass: integer (nullable = true)\n",
            " |-- MSZoning: string (nullable = true)\n",
            " |-- LotFrontage: integer (nullable = true)\n",
            " |-- LotArea: integer (nullable = true)\n",
            " |-- Street: string (nullable = true)\n",
            " |-- Alley: string (nullable = true)\n",
            " |-- LotShape: string (nullable = true)\n",
            " |-- LandContour: string (nullable = true)\n",
            " |-- Utilities: string (nullable = true)\n",
            " |-- LotConfig: string (nullable = true)\n",
            " |-- LandSlope: string (nullable = true)\n",
            " |-- Neighborhood: string (nullable = true)\n",
            " |-- Condition1: string (nullable = true)\n",
            " |-- Condition2: string (nullable = true)\n",
            " |-- BldgType: string (nullable = true)\n",
            " |-- HouseStyle: string (nullable = true)\n",
            " |-- OverallQual: integer (nullable = true)\n",
            " |-- OverallCond: integer (nullable = true)\n",
            " |-- YearBuilt: integer (nullable = true)\n",
            " |-- YearRemodAdd: integer (nullable = true)\n",
            " |-- RoofStyle: string (nullable = true)\n",
            " |-- RoofMatl: string (nullable = true)\n",
            " |-- Exterior1st: string (nullable = true)\n",
            " |-- Exterior2nd: string (nullable = true)\n",
            " |-- MasVnrType: string (nullable = true)\n",
            " |-- MasVnrArea: integer (nullable = true)\n",
            " |-- ExterQual: string (nullable = true)\n",
            " |-- ExterCond: string (nullable = true)\n",
            " |-- Foundation: string (nullable = true)\n",
            " |-- BsmtQual: string (nullable = true)\n",
            " |-- BsmtCond: string (nullable = true)\n",
            " |-- BsmtExposure: string (nullable = true)\n",
            " |-- BsmtFinType1: string (nullable = true)\n",
            " |-- BsmtFinSF1: integer (nullable = true)\n",
            " |-- BsmtFinType2: string (nullable = true)\n",
            " |-- BsmtFinSF2: integer (nullable = true)\n",
            " |-- BsmtUnfSF: integer (nullable = true)\n",
            " |-- TotalBsmtSF: integer (nullable = true)\n",
            " |-- Heating: string (nullable = true)\n",
            " |-- HeatingQC: string (nullable = true)\n",
            " |-- CentralAir: string (nullable = true)\n",
            " |-- Electrical: string (nullable = true)\n",
            " |-- 1stFlrSF: integer (nullable = true)\n",
            " |-- 2ndFlrSF: integer (nullable = true)\n",
            " |-- LowQualFinSF: integer (nullable = true)\n",
            " |-- GrLivArea: integer (nullable = true)\n",
            " |-- BsmtFullBath: integer (nullable = true)\n",
            " |-- BsmtHalfBath: integer (nullable = true)\n",
            " |-- FullBath: integer (nullable = true)\n",
            " |-- HalfBath: integer (nullable = true)\n",
            " |-- BedroomAbvGr: integer (nullable = true)\n",
            " |-- KitchenAbvGr: integer (nullable = true)\n",
            " |-- KitchenQual: string (nullable = true)\n",
            " |-- TotRmsAbvGrd: integer (nullable = true)\n",
            " |-- Functional: string (nullable = true)\n",
            " |-- Fireplaces: integer (nullable = true)\n",
            " |-- FireplaceQu: string (nullable = true)\n",
            " |-- GarageType: string (nullable = true)\n",
            " |-- GarageYrBlt: integer (nullable = true)\n",
            " |-- GarageFinish: string (nullable = true)\n",
            " |-- GarageCars: integer (nullable = true)\n",
            " |-- GarageArea: integer (nullable = true)\n",
            " |-- GarageQual: string (nullable = true)\n",
            " |-- GarageCond: string (nullable = true)\n",
            " |-- PavedDrive: string (nullable = true)\n",
            " |-- WoodDeckSF: integer (nullable = true)\n",
            " |-- OpenPorchSF: integer (nullable = true)\n",
            " |-- EnclosedPorch: integer (nullable = true)\n",
            " |-- 3SsnPorch: integer (nullable = true)\n",
            " |-- ScreenPorch: integer (nullable = true)\n",
            " |-- PoolArea: integer (nullable = true)\n",
            " |-- PoolQC: string (nullable = true)\n",
            " |-- Fence: string (nullable = true)\n",
            " |-- MiscFeature: string (nullable = true)\n",
            " |-- MiscVal: integer (nullable = true)\n",
            " |-- MoSold: integer (nullable = true)\n",
            " |-- YrSold: integer (nullable = true)\n",
            " |-- SaleType: string (nullable = true)\n",
            " |-- SaleCondition: string (nullable = true)\n",
            " |-- SalePrice: integer (nullable = true)\n",
            "\n"
          ],
          "name": "stdout"
        }
      ]
    },
    {
      "cell_type": "code",
      "metadata": {
        "id": "ap5_cQyHtjE5",
        "colab": {
          "base_uri": "https://localhost:8080/",
          "height": 1000
        },
        "outputId": "970967de-7203-4f5b-a6bc-0b25b284cfaf"
      },
      "source": [
        "data_test.printSchema()"
      ],
      "execution_count": null,
      "outputs": [
        {
          "output_type": "stream",
          "text": [
            "root\n",
            " |-- Id: integer (nullable = true)\n",
            " |-- MSSubClass: integer (nullable = true)\n",
            " |-- MSZoning: string (nullable = true)\n",
            " |-- LotFrontage: integer (nullable = true)\n",
            " |-- LotArea: integer (nullable = true)\n",
            " |-- Street: string (nullable = true)\n",
            " |-- Alley: string (nullable = true)\n",
            " |-- LotShape: string (nullable = true)\n",
            " |-- LandContour: string (nullable = true)\n",
            " |-- Utilities: string (nullable = true)\n",
            " |-- LotConfig: string (nullable = true)\n",
            " |-- LandSlope: string (nullable = true)\n",
            " |-- Neighborhood: string (nullable = true)\n",
            " |-- Condition1: string (nullable = true)\n",
            " |-- Condition2: string (nullable = true)\n",
            " |-- BldgType: string (nullable = true)\n",
            " |-- HouseStyle: string (nullable = true)\n",
            " |-- OverallQual: integer (nullable = true)\n",
            " |-- OverallCond: integer (nullable = true)\n",
            " |-- YearBuilt: integer (nullable = true)\n",
            " |-- YearRemodAdd: integer (nullable = true)\n",
            " |-- RoofStyle: string (nullable = true)\n",
            " |-- RoofMatl: string (nullable = true)\n",
            " |-- Exterior1st: string (nullable = true)\n",
            " |-- Exterior2nd: string (nullable = true)\n",
            " |-- MasVnrType: string (nullable = true)\n",
            " |-- MasVnrArea: integer (nullable = true)\n",
            " |-- ExterQual: string (nullable = true)\n",
            " |-- ExterCond: string (nullable = true)\n",
            " |-- Foundation: string (nullable = true)\n",
            " |-- BsmtQual: string (nullable = true)\n",
            " |-- BsmtCond: string (nullable = true)\n",
            " |-- BsmtExposure: string (nullable = true)\n",
            " |-- BsmtFinType1: string (nullable = true)\n",
            " |-- BsmtFinSF1: integer (nullable = true)\n",
            " |-- BsmtFinType2: string (nullable = true)\n",
            " |-- BsmtFinSF2: integer (nullable = true)\n",
            " |-- BsmtUnfSF: integer (nullable = true)\n",
            " |-- TotalBsmtSF: integer (nullable = true)\n",
            " |-- Heating: string (nullable = true)\n",
            " |-- HeatingQC: string (nullable = true)\n",
            " |-- CentralAir: string (nullable = true)\n",
            " |-- Electrical: string (nullable = true)\n",
            " |-- 1stFlrSF: integer (nullable = true)\n",
            " |-- 2ndFlrSF: integer (nullable = true)\n",
            " |-- LowQualFinSF: integer (nullable = true)\n",
            " |-- GrLivArea: integer (nullable = true)\n",
            " |-- BsmtFullBath: integer (nullable = true)\n",
            " |-- BsmtHalfBath: integer (nullable = true)\n",
            " |-- FullBath: integer (nullable = true)\n",
            " |-- HalfBath: integer (nullable = true)\n",
            " |-- BedroomAbvGr: integer (nullable = true)\n",
            " |-- KitchenAbvGr: integer (nullable = true)\n",
            " |-- KitchenQual: string (nullable = true)\n",
            " |-- TotRmsAbvGrd: integer (nullable = true)\n",
            " |-- Functional: string (nullable = true)\n",
            " |-- Fireplaces: integer (nullable = true)\n",
            " |-- FireplaceQu: string (nullable = true)\n",
            " |-- GarageType: string (nullable = true)\n",
            " |-- GarageYrBlt: integer (nullable = true)\n",
            " |-- GarageFinish: string (nullable = true)\n",
            " |-- GarageCars: integer (nullable = true)\n",
            " |-- GarageArea: integer (nullable = true)\n",
            " |-- GarageQual: string (nullable = true)\n",
            " |-- GarageCond: string (nullable = true)\n",
            " |-- PavedDrive: string (nullable = true)\n",
            " |-- WoodDeckSF: integer (nullable = true)\n",
            " |-- OpenPorchSF: integer (nullable = true)\n",
            " |-- EnclosedPorch: integer (nullable = true)\n",
            " |-- 3SsnPorch: integer (nullable = true)\n",
            " |-- ScreenPorch: integer (nullable = true)\n",
            " |-- PoolArea: integer (nullable = true)\n",
            " |-- PoolQC: string (nullable = true)\n",
            " |-- Fence: string (nullable = true)\n",
            " |-- MiscFeature: string (nullable = true)\n",
            " |-- MiscVal: integer (nullable = true)\n",
            " |-- MoSold: integer (nullable = true)\n",
            " |-- YrSold: integer (nullable = true)\n",
            " |-- SaleType: string (nullable = true)\n",
            " |-- SaleCondition: string (nullable = true)\n",
            " |-- SalePrice: integer (nullable = true)\n",
            "\n"
          ],
          "name": "stdout"
        }
      ]
    },
    {
      "cell_type": "markdown",
      "metadata": {
        "id": "hrp1h5MbtVtL"
      },
      "source": [
        "Pasamos entonces a realizar la **unión** de ambos conjuntos."
      ]
    },
    {
      "cell_type": "code",
      "metadata": {
        "id": "MgTtUHWGsvW4",
        "colab": {
          "base_uri": "https://localhost:8080/",
          "height": 241
        },
        "outputId": "9b1d8c6b-b6b4-4054-b1a4-3b91c6a505b4"
      },
      "source": [
        "data_full = data_train.union(data_test)\n",
        "print(\"Número de filas. data_traint: {} data_test: {} data_full: {}\".format(data_train.count(), data_test.count(), data_full.count()))\n",
        "data_full.show(5)"
      ],
      "execution_count": null,
      "outputs": [
        {
          "output_type": "stream",
          "text": [
            "Número de filas. data_traint: 1460 data_test: 1459 data_full: 2919\n",
            "+---+----------+--------+-----------+-------+------+-----+--------+-----------+---------+---------+---------+------------+----------+----------+--------+----------+-----------+-----------+---------+------------+---------+--------+-----------+-----------+----------+----------+---------+---------+----------+--------+--------+------------+------------+----------+------------+----------+---------+-----------+-------+---------+----------+----------+--------+--------+------------+---------+------------+------------+--------+--------+------------+------------+-----------+------------+----------+----------+-----------+----------+-----------+------------+----------+----------+----------+----------+----------+----------+-----------+-------------+---------+-----------+--------+------+-----+-----------+-------+------+------+--------+-------------+---------+\n",
            "| Id|MSSubClass|MSZoning|LotFrontage|LotArea|Street|Alley|LotShape|LandContour|Utilities|LotConfig|LandSlope|Neighborhood|Condition1|Condition2|BldgType|HouseStyle|OverallQual|OverallCond|YearBuilt|YearRemodAdd|RoofStyle|RoofMatl|Exterior1st|Exterior2nd|MasVnrType|MasVnrArea|ExterQual|ExterCond|Foundation|BsmtQual|BsmtCond|BsmtExposure|BsmtFinType1|BsmtFinSF1|BsmtFinType2|BsmtFinSF2|BsmtUnfSF|TotalBsmtSF|Heating|HeatingQC|CentralAir|Electrical|1stFlrSF|2ndFlrSF|LowQualFinSF|GrLivArea|BsmtFullBath|BsmtHalfBath|FullBath|HalfBath|BedroomAbvGr|KitchenAbvGr|KitchenQual|TotRmsAbvGrd|Functional|Fireplaces|FireplaceQu|GarageType|GarageYrBlt|GarageFinish|GarageCars|GarageArea|GarageQual|GarageCond|PavedDrive|WoodDeckSF|OpenPorchSF|EnclosedPorch|3SsnPorch|ScreenPorch|PoolArea|PoolQC|Fence|MiscFeature|MiscVal|MoSold|YrSold|SaleType|SaleCondition|SalePrice|\n",
            "+---+----------+--------+-----------+-------+------+-----+--------+-----------+---------+---------+---------+------------+----------+----------+--------+----------+-----------+-----------+---------+------------+---------+--------+-----------+-----------+----------+----------+---------+---------+----------+--------+--------+------------+------------+----------+------------+----------+---------+-----------+-------+---------+----------+----------+--------+--------+------------+---------+------------+------------+--------+--------+------------+------------+-----------+------------+----------+----------+-----------+----------+-----------+------------+----------+----------+----------+----------+----------+----------+-----------+-------------+---------+-----------+--------+------+-----+-----------+-------+------+------+--------+-------------+---------+\n",
            "|  1|        60|      RL|         65|   8450|  Pave| null|     Reg|        Lvl|   AllPub|   Inside|      Gtl|     CollgCr|      Norm|      Norm|    1Fam|    2Story|          7|          5|     2003|        2003|    Gable| CompShg|    VinylSd|    VinylSd|   BrkFace|       196|       Gd|       TA|     PConc|      Gd|      TA|          No|         GLQ|       706|         Unf|         0|      150|        856|   GasA|       Ex|         Y|     SBrkr|     856|     854|           0|     1710|           1|           0|       2|       1|           3|           1|         Gd|           8|       Typ|         0|       null|    Attchd|       2003|         RFn|         2|       548|        TA|        TA|         Y|         0|         61|            0|        0|          0|       0|  null| null|       null|      0|     2|  2008|      WD|       Normal|   208500|\n",
            "|  2|        20|      RL|         80|   9600|  Pave| null|     Reg|        Lvl|   AllPub|      FR2|      Gtl|     Veenker|     Feedr|      Norm|    1Fam|    1Story|          6|          8|     1976|        1976|    Gable| CompShg|    MetalSd|    MetalSd|      None|         0|       TA|       TA|    CBlock|      Gd|      TA|          Gd|         ALQ|       978|         Unf|         0|      284|       1262|   GasA|       Ex|         Y|     SBrkr|    1262|       0|           0|     1262|           0|           1|       2|       0|           3|           1|         TA|           6|       Typ|         1|         TA|    Attchd|       1976|         RFn|         2|       460|        TA|        TA|         Y|       298|          0|            0|        0|          0|       0|  null| null|       null|      0|     5|  2007|      WD|       Normal|   181500|\n",
            "|  3|        60|      RL|         68|  11250|  Pave| null|     IR1|        Lvl|   AllPub|   Inside|      Gtl|     CollgCr|      Norm|      Norm|    1Fam|    2Story|          7|          5|     2001|        2002|    Gable| CompShg|    VinylSd|    VinylSd|   BrkFace|       162|       Gd|       TA|     PConc|      Gd|      TA|          Mn|         GLQ|       486|         Unf|         0|      434|        920|   GasA|       Ex|         Y|     SBrkr|     920|     866|           0|     1786|           1|           0|       2|       1|           3|           1|         Gd|           6|       Typ|         1|         TA|    Attchd|       2001|         RFn|         2|       608|        TA|        TA|         Y|         0|         42|            0|        0|          0|       0|  null| null|       null|      0|     9|  2008|      WD|       Normal|   223500|\n",
            "|  4|        70|      RL|         60|   9550|  Pave| null|     IR1|        Lvl|   AllPub|   Corner|      Gtl|     Crawfor|      Norm|      Norm|    1Fam|    2Story|          7|          5|     1915|        1970|    Gable| CompShg|    Wd Sdng|    Wd Shng|      None|         0|       TA|       TA|    BrkTil|      TA|      Gd|          No|         ALQ|       216|         Unf|         0|      540|        756|   GasA|       Gd|         Y|     SBrkr|     961|     756|           0|     1717|           1|           0|       1|       0|           3|           1|         Gd|           7|       Typ|         1|         Gd|    Detchd|       1998|         Unf|         3|       642|        TA|        TA|         Y|         0|         35|          272|        0|          0|       0|  null| null|       null|      0|     2|  2006|      WD|      Abnorml|   140000|\n",
            "|  5|        60|      RL|         84|  14260|  Pave| null|     IR1|        Lvl|   AllPub|      FR2|      Gtl|     NoRidge|      Norm|      Norm|    1Fam|    2Story|          8|          5|     2000|        2000|    Gable| CompShg|    VinylSd|    VinylSd|   BrkFace|       350|       Gd|       TA|     PConc|      Gd|      TA|          Av|         GLQ|       655|         Unf|         0|      490|       1145|   GasA|       Ex|         Y|     SBrkr|    1145|    1053|           0|     2198|           1|           0|       2|       1|           4|           1|         Gd|           9|       Typ|         1|         TA|    Attchd|       2000|         RFn|         3|       836|        TA|        TA|         Y|       192|         84|            0|        0|          0|       0|  null| null|       null|      0|    12|  2008|      WD|       Normal|   250000|\n",
            "+---+----------+--------+-----------+-------+------+-----+--------+-----------+---------+---------+---------+------------+----------+----------+--------+----------+-----------+-----------+---------+------------+---------+--------+-----------+-----------+----------+----------+---------+---------+----------+--------+--------+------------+------------+----------+------------+----------+---------+-----------+-------+---------+----------+----------+--------+--------+------------+---------+------------+------------+--------+--------+------------+------------+-----------+------------+----------+----------+-----------+----------+-----------+------------+----------+----------+----------+----------+----------+----------+-----------+-------------+---------+-----------+--------+------+-----+-----------+-------+------+------+--------+-------------+---------+\n",
            "only showing top 5 rows\n",
            "\n"
          ],
          "name": "stdout"
        }
      ]
    },
    {
      "cell_type": "markdown",
      "metadata": {
        "id": "CkJENbcN_NEt"
      },
      "source": [
        "#### Variables categóricas y numéricas\n",
        "\n",
        "En primer lugar, vamos a ver cuántas variables **categóricas** y cuántas **numéricas** tenemos.\n"
      ]
    },
    {
      "cell_type": "code",
      "metadata": {
        "id": "e1CRBzjd_V3m",
        "colab": {
          "base_uri": "https://localhost:8080/",
          "height": 54
        },
        "outputId": "a83f0313-0506-48ab-9186-0ec093e5e6e6"
      },
      "source": [
        "vars_categoricas=[var.name for var in data_full.schema.fields if var.dataType == StringType()]\n",
        "print(vars_categoricas)"
      ],
      "execution_count": null,
      "outputs": [
        {
          "output_type": "stream",
          "text": [
            "['MSZoning', 'Street', 'Alley', 'LotShape', 'LandContour', 'Utilities', 'LotConfig', 'LandSlope', 'Neighborhood', 'Condition1', 'Condition2', 'BldgType', 'HouseStyle', 'RoofStyle', 'RoofMatl', 'Exterior1st', 'Exterior2nd', 'MasVnrType', 'ExterQual', 'ExterCond', 'Foundation', 'BsmtQual', 'BsmtCond', 'BsmtExposure', 'BsmtFinType1', 'BsmtFinType2', 'Heating', 'HeatingQC', 'CentralAir', 'Electrical', 'KitchenQual', 'Functional', 'FireplaceQu', 'GarageType', 'GarageFinish', 'GarageQual', 'GarageCond', 'PavedDrive', 'PoolQC', 'Fence', 'MiscFeature', 'SaleType', 'SaleCondition']\n"
          ],
          "name": "stdout"
        }
      ]
    },
    {
      "cell_type": "code",
      "metadata": {
        "id": "0zf7xHRn_b5N",
        "colab": {
          "base_uri": "https://localhost:8080/",
          "height": 54
        },
        "outputId": "328a4ea5-fb64-460a-ffa9-1a18bca79cb4"
      },
      "source": [
        "vars_numericas=[var.name for var in data_full.schema.fields if var.dataType != StringType()]\n",
        "print(vars_numericas)"
      ],
      "execution_count": null,
      "outputs": [
        {
          "output_type": "stream",
          "text": [
            "['Id', 'MSSubClass', 'LotFrontage', 'LotArea', 'OverallQual', 'OverallCond', 'YearBuilt', 'YearRemodAdd', 'MasVnrArea', 'BsmtFinSF1', 'BsmtFinSF2', 'BsmtUnfSF', 'TotalBsmtSF', '1stFlrSF', '2ndFlrSF', 'LowQualFinSF', 'GrLivArea', 'BsmtFullBath', 'BsmtHalfBath', 'FullBath', 'HalfBath', 'BedroomAbvGr', 'KitchenAbvGr', 'TotRmsAbvGrd', 'Fireplaces', 'GarageYrBlt', 'GarageCars', 'GarageArea', 'WoodDeckSF', 'OpenPorchSF', 'EnclosedPorch', '3SsnPorch', 'ScreenPorch', 'PoolArea', 'MiscVal', 'MoSold', 'YrSold', 'SalePrice']\n"
          ],
          "name": "stdout"
        }
      ]
    },
    {
      "cell_type": "markdown",
      "metadata": {
        "id": "XDOGu4RD_n5G"
      },
      "source": [
        "Vamos a **eliminar** la variable **Id** de la lista ya que es una variable que no nos va aportar nada en el estudio."
      ]
    },
    {
      "cell_type": "code",
      "metadata": {
        "id": "HAM6saMK_osV",
        "colab": {
          "base_uri": "https://localhost:8080/",
          "height": 54
        },
        "outputId": "a9ff96bd-7bf5-4ca0-f3aa-a190daf78679"
      },
      "source": [
        "vars_numericas = vars_numericas[1:]\n",
        "print(vars_numericas)"
      ],
      "execution_count": null,
      "outputs": [
        {
          "output_type": "stream",
          "text": [
            "['MSSubClass', 'LotFrontage', 'LotArea', 'OverallQual', 'OverallCond', 'YearBuilt', 'YearRemodAdd', 'MasVnrArea', 'BsmtFinSF1', 'BsmtFinSF2', 'BsmtUnfSF', 'TotalBsmtSF', '1stFlrSF', '2ndFlrSF', 'LowQualFinSF', 'GrLivArea', 'BsmtFullBath', 'BsmtHalfBath', 'FullBath', 'HalfBath', 'BedroomAbvGr', 'KitchenAbvGr', 'TotRmsAbvGrd', 'Fireplaces', 'GarageYrBlt', 'GarageCars', 'GarageArea', 'WoodDeckSF', 'OpenPorchSF', 'EnclosedPorch', '3SsnPorch', 'ScreenPorch', 'PoolArea', 'MiscVal', 'MoSold', 'YrSold', 'SalePrice']\n"
          ],
          "name": "stdout"
        }
      ]
    },
    {
      "cell_type": "code",
      "metadata": {
        "id": "1OBV4fcRAE66",
        "colab": {
          "base_uri": "https://localhost:8080/",
          "height": 34
        },
        "outputId": "14d182b7-bc15-4b50-8738-bb4f3e5f4fb4"
      },
      "source": [
        "print('Hay {} variables categóricas y {} variables numéricas.'.format(len(vars_categoricas),len(vars_numericas)))"
      ],
      "execution_count": null,
      "outputs": [
        {
          "output_type": "stream",
          "text": [
            "Hay 43 variables categóricas y 37 variables numéricas.\n"
          ],
          "name": "stdout"
        }
      ]
    },
    {
      "cell_type": "markdown",
      "metadata": {
        "id": "A0kJ6nWHAT71"
      },
      "source": [
        "A continuación, vamos a realizar un **resumen numérico** para las variables **numéricas** y otro para las variables **categóricas**."
      ]
    },
    {
      "cell_type": "code",
      "metadata": {
        "id": "gQdk3WBgATZS",
        "colab": {
          "base_uri": "https://localhost:8080/",
          "height": 207
        },
        "outputId": "dfa02473-2ed3-4ae1-eecc-fd5734c8a690"
      },
      "source": [
        "data_full.select(vars_numericas).describe().show()"
      ],
      "execution_count": null,
      "outputs": [
        {
          "output_type": "stream",
          "text": [
            "+-------+------------------+------------------+-----------------+-----------------+------------------+------------------+------------------+------------------+------------------+-----------------+-----------------+------------------+------------------+-----------------+-----------------+------------------+------------------+-------------------+------------------+------------------+------------------+-------------------+------------------+------------------+------------------+------------------+------------------+------------------+------------------+------------------+------------------+------------------+------------------+-----------------+-----------------+------------------+------------------+\n",
            "|summary|        MSSubClass|       LotFrontage|          LotArea|      OverallQual|       OverallCond|         YearBuilt|      YearRemodAdd|        MasVnrArea|        BsmtFinSF1|       BsmtFinSF2|        BsmtUnfSF|       TotalBsmtSF|          1stFlrSF|         2ndFlrSF|     LowQualFinSF|         GrLivArea|      BsmtFullBath|       BsmtHalfBath|          FullBath|          HalfBath|      BedroomAbvGr|       KitchenAbvGr|      TotRmsAbvGrd|        Fireplaces|       GarageYrBlt|        GarageCars|        GarageArea|        WoodDeckSF|       OpenPorchSF|     EnclosedPorch|         3SsnPorch|       ScreenPorch|          PoolArea|          MiscVal|           MoSold|            YrSold|         SalePrice|\n",
            "+-------+------------------+------------------+-----------------+-----------------+------------------+------------------+------------------+------------------+------------------+-----------------+-----------------+------------------+------------------+-----------------+-----------------+------------------+------------------+-------------------+------------------+------------------+------------------+-------------------+------------------+------------------+------------------+------------------+------------------+------------------+------------------+------------------+------------------+------------------+------------------+-----------------+-----------------+------------------+------------------+\n",
            "|  count|              2919|              2433|             2919|             2919|              2919|              2919|              2919|              2896|              2918|             2918|             2918|              2918|              2919|             2919|             2919|              2919|              2917|               2917|              2919|              2919|              2919|               2919|              2919|              2919|              2760|              2918|              2918|              2919|              2919|              2919|              2919|              2919|              2919|             2919|             2919|              2919|              1460|\n",
            "|   mean|  57.1377183967112| 69.30579531442663|10168.11408016444|6.089071599862967| 5.564576909900651|1971.3127783487496|1984.2644741349777|102.20131215469613| 441.4232350925291|49.58224811514736|560.7721041809458|1051.7775873886224|1159.5817060637205|336.4837273038712|4.694415895854744|1500.7598492634463| 0.429893726431265|0.06136441549537196| 1.568002740664611|0.3802672147995889| 2.860226104830421| 1.0445357999314835| 6.451524494689962|0.5971223021582733|1978.1134057971014|1.7666209732693625| 472.8745716244003| 93.70983213429257|47.486810551558754|23.098321342925658| 2.602261048304214|16.062350119904078|2.2517985611510793|50.82596779719082|6.213086673518328|2007.7927372387803|180921.19589041095|\n",
            "| stddev|42.517627829150314|23.344904706927394|7886.996359105535|1.409947206614697|1.1131307466377236|30.291441534121137| 20.89434423384076|179.33425303776386|455.61082587029176|169.2056110999798|439.5436594234397| 440.7662581159385|392.36207866658907|428.7014555181114|46.39682451650754|506.05104511834026|0.5247356336982463| 0.2456869164493275|0.5529692595874468|0.5028716002357517|0.8226931006716114|0.21446200122348585|1.5693791436437483|0.6461293589562274|25.574284723905112|0.7616243225993496|215.39481499352166|126.52658931047685| 67.57549339168973| 64.24424559263244|25.188169331162975| 56.18436511069397| 35.66394596548709|567.4022105501805|2.714761774157895|1.3149644889049965| 79442.50288288663|\n",
            "|    min|                20|                21|             1300|                1|                 1|              1872|              1950|                 0|                 0|                0|                0|                 0|               334|                0|                0|               334|                 0|                  0|                 0|                 0|                 0|                  0|                 2|                 0|              1895|                 0|                 0|                 0|                 0|                 0|                 0|                 0|                 0|                0|                1|              2006|             34900|\n",
            "|    max|               190|               313|           215245|               10|                 9|              2010|              2010|              1600|              5644|             1526|             2336|              6110|              5095|             2065|             1064|              5642|                 3|                  2|                 4|                 2|                 8|                  3|                15|                 4|              2207|                 5|              1488|              1424|               742|              1012|               508|               576|               800|            17000|               12|              2010|            755000|\n",
            "+-------+------------------+------------------+-----------------+-----------------+------------------+------------------+------------------+------------------+------------------+-----------------+-----------------+------------------+------------------+-----------------+-----------------+------------------+------------------+-------------------+------------------+------------------+------------------+-------------------+------------------+------------------+------------------+------------------+------------------+------------------+------------------+------------------+------------------+------------------+------------------+-----------------+-----------------+------------------+------------------+\n",
            "\n"
          ],
          "name": "stdout"
        }
      ]
    },
    {
      "cell_type": "markdown",
      "metadata": {
        "id": "ifKfVU9BAfv2"
      },
      "source": [
        "Podemos observar que hay algunas variables con valores faltantes como por ejemplo, **LotFrontage** o **MasVnrArea**. Más adelante trataremos de imputar estos valores."
      ]
    },
    {
      "cell_type": "code",
      "metadata": {
        "id": "JgQPl9btAquH",
        "colab": {
          "base_uri": "https://localhost:8080/",
          "height": 207
        },
        "outputId": "d2a45d23-d7f1-42b9-a576-455c3f4bd5bb"
      },
      "source": [
        "data_full.select(vars_categoricas).describe().show()"
      ],
      "execution_count": null,
      "outputs": [
        {
          "output_type": "stream",
          "text": [
            "+-------+--------+------+-----+--------+-----------+---------+---------+---------+------------+----------+----------+--------+----------+---------+--------+-----------+-----------+----------+---------+---------+----------+--------+--------+------------+------------+------------+-------+---------+----------+----------+-----------+----------+-----------+----------+------------+----------+----------+----------+------+-----+-----------+--------+-------------+\n",
            "|summary|MSZoning|Street|Alley|LotShape|LandContour|Utilities|LotConfig|LandSlope|Neighborhood|Condition1|Condition2|BldgType|HouseStyle|RoofStyle|RoofMatl|Exterior1st|Exterior2nd|MasVnrType|ExterQual|ExterCond|Foundation|BsmtQual|BsmtCond|BsmtExposure|BsmtFinType1|BsmtFinType2|Heating|HeatingQC|CentralAir|Electrical|KitchenQual|Functional|FireplaceQu|GarageType|GarageFinish|GarageQual|GarageCond|PavedDrive|PoolQC|Fence|MiscFeature|SaleType|SaleCondition|\n",
            "+-------+--------+------+-----+--------+-----------+---------+---------+---------+------------+----------+----------+--------+----------+---------+--------+-----------+-----------+----------+---------+---------+----------+--------+--------+------------+------------+------------+-------+---------+----------+----------+-----------+----------+-----------+----------+------------+----------+----------+----------+------+-----+-----------+--------+-------------+\n",
            "|  count|    2915|  2919|  198|    2919|       2919|     2917|     2919|     2919|        2919|      2919|      2919|    2919|      2919|     2919|    2919|       2918|       2918|      2895|     2919|     2919|      2919|    2838|    2837|        2837|        2840|        2839|   2919|     2919|      2919|      2918|       2918|      2917|       1499|      2762|        2760|      2760|      2760|      2919|    10|  571|        105|    2918|         2919|\n",
            "|   mean|    null|  null| null|    null|       null|     null|     null|     null|        null|      null|      null|    null|      null|     null|    null|       null|       null|      null|     null|     null|      null|    null|    null|        null|        null|        null|   null|     null|      null|      null|       null|      null|       null|      null|        null|      null|      null|      null|  null| null|       null|    null|         null|\n",
            "| stddev|    null|  null| null|    null|       null|     null|     null|     null|        null|      null|      null|    null|      null|     null|    null|       null|       null|      null|     null|     null|      null|    null|    null|        null|        null|        null|   null|     null|      null|      null|       null|      null|       null|      null|        null|      null|      null|      null|  null| null|       null|    null|         null|\n",
            "|    min| C (all)|  Grvl| Grvl|     IR1|        Bnk|   AllPub|   Corner|      Gtl|     Blmngtn|    Artery|    Artery|    1Fam|    1.5Fin|     Flat| ClyTile|    AsbShng|    AsbShng|    BrkCmn|       Ex|       Ex|    BrkTil|      Ex|      Fa|          Av|         ALQ|         ALQ|  Floor|       Ex|         N|     FuseA|         Ex|      Maj1|         Ex|    2Types|         Fin|        Ex|        Ex|         N|    Ex|GdPrv|       Gar2|     COD|      Abnorml|\n",
            "|    max|      RM|  Pave| Pave|     Reg|        Lvl|   NoSeWa|   Inside|      Sev|     Veenker|      RRNn|      RRNn|  TwnhsE|      SLvl|     Shed| WdShngl|    WdShing|    Wd Shng|     Stone|       TA|       TA|      Wood|      TA|      TA|          No|         Unf|         Unf|   Wall|       TA|         Y|     SBrkr|         TA|       Typ|         TA|    Detchd|         Unf|        TA|        TA|         Y|    Gd| MnWw|       TenC|      WD|      Partial|\n",
            "+-------+--------+------+-----+--------+-----------+---------+---------+---------+------------+----------+----------+--------+----------+---------+--------+-----------+-----------+----------+---------+---------+----------+--------+--------+------------+------------+------------+-------+---------+----------+----------+-----------+----------+-----------+----------+------------+----------+----------+----------+------+-----+-----------+--------+-------------+\n",
            "\n"
          ],
          "name": "stdout"
        }
      ]
    },
    {
      "cell_type": "markdown",
      "metadata": {
        "id": "6FqUOUdJA3kl"
      },
      "source": [
        "Volvemos a observar variables con valores faltantes, algunas de ellas, con bastante como es el caso de **Alley** en el que sólo hay 198 filas rellenas. Esto se debe a que esta variable categórica tiene una clase que se denomina **NA** y por tanto lo cuenta como valor faltante. \n",
        "\n",
        "Las variables que presentan el problema anterior son:\n",
        "\n",
        "* **Alley**\n",
        "* **BsmtQual**\n",
        "* **BsmtCond**\n",
        "* **BsmtExposure**\n",
        "* **BsmtFinType1**\n",
        "* **BsmtFinType2**\n",
        "* **FireplaceQu**\n",
        "* **GarageType**\n",
        "* **GarageFinish**\n",
        "* **GarageQual**\n",
        "* **GarageCond**\n",
        "* **PoolQC**\n",
        "* **Fence**\n",
        "* **MiscFeature**\n",
        "\n"
      ]
    },
    {
      "cell_type": "markdown",
      "metadata": {
        "id": "no16nXvov-1F"
      },
      "source": [
        "A continuación, vamos a obtener una lista con todas estas variables y vamos a imputar ese valor por otro nombre que le vamos a dar a esa categoría."
      ]
    },
    {
      "cell_type": "code",
      "metadata": {
        "id": "r0TJQNGEBJXX"
      },
      "source": [
        "var_categoria_NA = [\"Alley\",\"BsmtQual\",\"BsmtCond\",\"BsmtExposure\",\"BsmtFinType1\",\n",
        "                    \"BsmtFinType2\",\"FireplaceQu\",\"GarageType\",\"GarageFinish\",\n",
        "                    \"GarageQual\",\"GarageCond\",\"PoolQC\",\"Fence\",\"MiscFeature\"]\n",
        "nomb_categoria_NA = [\"NotNA\"]*len(var_categoria_NA)\n",
        "data_full_impt = data_full.fillna(dict(zip(var_categoria_NA,nomb_categoria_NA)))"
      ],
      "execution_count": null,
      "outputs": []
    },
    {
      "cell_type": "markdown",
      "metadata": {
        "id": "O9ankYkCBR1D"
      },
      "source": [
        "Si volvemos a realizar el **resumen numérico** a las variables **categóricas**, podemos observar que muchas de ellas han dejado de tener valores faltantes."
      ]
    },
    {
      "cell_type": "code",
      "metadata": {
        "id": "mXM5RJr9BPyv",
        "colab": {
          "base_uri": "https://localhost:8080/",
          "height": 207
        },
        "outputId": "13f563e8-b2ed-483d-efde-9344adb2798c"
      },
      "source": [
        "data_full_impt.select(vars_categoricas).describe().show()"
      ],
      "execution_count": null,
      "outputs": [
        {
          "output_type": "stream",
          "text": [
            "+-------+--------+------+-----+--------+-----------+---------+---------+---------+------------+----------+----------+--------+----------+---------+--------+-----------+-----------+----------+---------+---------+----------+--------+--------+------------+------------+------------+-------+---------+----------+----------+-----------+----------+-----------+----------+------------+----------+----------+----------+------+-----+-----------+--------+-------------+\n",
            "|summary|MSZoning|Street|Alley|LotShape|LandContour|Utilities|LotConfig|LandSlope|Neighborhood|Condition1|Condition2|BldgType|HouseStyle|RoofStyle|RoofMatl|Exterior1st|Exterior2nd|MasVnrType|ExterQual|ExterCond|Foundation|BsmtQual|BsmtCond|BsmtExposure|BsmtFinType1|BsmtFinType2|Heating|HeatingQC|CentralAir|Electrical|KitchenQual|Functional|FireplaceQu|GarageType|GarageFinish|GarageQual|GarageCond|PavedDrive|PoolQC|Fence|MiscFeature|SaleType|SaleCondition|\n",
            "+-------+--------+------+-----+--------+-----------+---------+---------+---------+------------+----------+----------+--------+----------+---------+--------+-----------+-----------+----------+---------+---------+----------+--------+--------+------------+------------+------------+-------+---------+----------+----------+-----------+----------+-----------+----------+------------+----------+----------+----------+------+-----+-----------+--------+-------------+\n",
            "|  count|    2915|  2919| 2919|    2919|       2919|     2917|     2919|     2919|        2919|      2919|      2919|    2919|      2919|     2919|    2919|       2918|       2918|      2895|     2919|     2919|      2919|    2919|    2919|        2919|        2919|        2919|   2919|     2919|      2919|      2918|       2918|      2917|       2919|      2919|        2919|      2919|      2919|      2919|  2919| 2919|       2919|    2918|         2919|\n",
            "|   mean|    null|  null| null|    null|       null|     null|     null|     null|        null|      null|      null|    null|      null|     null|    null|       null|       null|      null|     null|     null|      null|    null|    null|        null|        null|        null|   null|     null|      null|      null|       null|      null|       null|      null|        null|      null|      null|      null|  null| null|       null|    null|         null|\n",
            "| stddev|    null|  null| null|    null|       null|     null|     null|     null|        null|      null|      null|    null|      null|     null|    null|       null|       null|      null|     null|     null|      null|    null|    null|        null|        null|        null|   null|     null|      null|      null|       null|      null|       null|      null|        null|      null|      null|      null|  null| null|       null|    null|         null|\n",
            "|    min| C (all)|  Grvl| Grvl|     IR1|        Bnk|   AllPub|   Corner|      Gtl|     Blmngtn|    Artery|    Artery|    1Fam|    1.5Fin|     Flat| ClyTile|    AsbShng|    AsbShng|    BrkCmn|       Ex|       Ex|    BrkTil|      Ex|      Fa|          Av|         ALQ|         ALQ|  Floor|       Ex|         N|     FuseA|         Ex|      Maj1|         Ex|    2Types|         Fin|        Ex|        Ex|         N|    Ex|GdPrv|       Gar2|     COD|      Abnorml|\n",
            "|    max|      RM|  Pave| Pave|     Reg|        Lvl|   NoSeWa|   Inside|      Sev|     Veenker|      RRNn|      RRNn|  TwnhsE|      SLvl|     Shed| WdShngl|    WdShing|    Wd Shng|     Stone|       TA|       TA|      Wood|      TA|      TA|       NotNA|         Unf|         Unf|   Wall|       TA|         Y|     SBrkr|         TA|       Typ|         TA|     NotNA|         Unf|        TA|        TA|         Y| NotNA|NotNA|       TenC|      WD|      Partial|\n",
            "+-------+--------+------+-----+--------+-----------+---------+---------+---------+------------+----------+----------+--------+----------+---------+--------+-----------+-----------+----------+---------+---------+----------+--------+--------+------------+------------+------------+-------+---------+----------+----------+-----------+----------+-----------+----------+------------+----------+----------+----------+------+-----+-----------+--------+-------------+\n",
            "\n"
          ],
          "name": "stdout"
        }
      ]
    },
    {
      "cell_type": "markdown",
      "metadata": {
        "id": "U2xQPWMrCkBd"
      },
      "source": [
        "#### Variables con missing"
      ]
    },
    {
      "cell_type": "markdown",
      "metadata": {
        "id": "5U9snpQaSqiA"
      },
      "source": [
        "Vemos ahora cuántos valores faltantes hay para cada variable. De antemano, sabemos que la variable respuesta **SalePrice** va a tener 1459 valores faltantes."
      ]
    },
    {
      "cell_type": "code",
      "metadata": {
        "id": "sPiC8fj2SoCM",
        "colab": {
          "base_uri": "https://localhost:8080/",
          "height": 139
        },
        "outputId": "a5318ff5-dec4-45e6-a3a2-cdad086ae52f"
      },
      "source": [
        "def count_nulls(c): \n",
        "    return F.sum(F.col(c).isNull().cast(IntegerType())).alias(c)\n",
        "\n",
        "# Definimos la operación para cada columna del DF.\n",
        "exprs = [count_nulls(c) for c in data_full_impt.columns]\n",
        "\n",
        "# Aplicamos todas las operaciones.\n",
        "data_full_impt.agg(*exprs).show()"
      ],
      "execution_count": null,
      "outputs": [
        {
          "output_type": "stream",
          "text": [
            "+---+----------+--------+-----------+-------+------+-----+--------+-----------+---------+---------+---------+------------+----------+----------+--------+----------+-----------+-----------+---------+------------+---------+--------+-----------+-----------+----------+----------+---------+---------+----------+--------+--------+------------+------------+----------+------------+----------+---------+-----------+-------+---------+----------+----------+--------+--------+------------+---------+------------+------------+--------+--------+------------+------------+-----------+------------+----------+----------+-----------+----------+-----------+------------+----------+----------+----------+----------+----------+----------+-----------+-------------+---------+-----------+--------+------+-----+-----------+-------+------+------+--------+-------------+---------+\n",
            "| Id|MSSubClass|MSZoning|LotFrontage|LotArea|Street|Alley|LotShape|LandContour|Utilities|LotConfig|LandSlope|Neighborhood|Condition1|Condition2|BldgType|HouseStyle|OverallQual|OverallCond|YearBuilt|YearRemodAdd|RoofStyle|RoofMatl|Exterior1st|Exterior2nd|MasVnrType|MasVnrArea|ExterQual|ExterCond|Foundation|BsmtQual|BsmtCond|BsmtExposure|BsmtFinType1|BsmtFinSF1|BsmtFinType2|BsmtFinSF2|BsmtUnfSF|TotalBsmtSF|Heating|HeatingQC|CentralAir|Electrical|1stFlrSF|2ndFlrSF|LowQualFinSF|GrLivArea|BsmtFullBath|BsmtHalfBath|FullBath|HalfBath|BedroomAbvGr|KitchenAbvGr|KitchenQual|TotRmsAbvGrd|Functional|Fireplaces|FireplaceQu|GarageType|GarageYrBlt|GarageFinish|GarageCars|GarageArea|GarageQual|GarageCond|PavedDrive|WoodDeckSF|OpenPorchSF|EnclosedPorch|3SsnPorch|ScreenPorch|PoolArea|PoolQC|Fence|MiscFeature|MiscVal|MoSold|YrSold|SaleType|SaleCondition|SalePrice|\n",
            "+---+----------+--------+-----------+-------+------+-----+--------+-----------+---------+---------+---------+------------+----------+----------+--------+----------+-----------+-----------+---------+------------+---------+--------+-----------+-----------+----------+----------+---------+---------+----------+--------+--------+------------+------------+----------+------------+----------+---------+-----------+-------+---------+----------+----------+--------+--------+------------+---------+------------+------------+--------+--------+------------+------------+-----------+------------+----------+----------+-----------+----------+-----------+------------+----------+----------+----------+----------+----------+----------+-----------+-------------+---------+-----------+--------+------+-----+-----------+-------+------+------+--------+-------------+---------+\n",
            "|  0|         0|       4|        486|      0|     0|    0|       0|          0|        2|        0|        0|           0|         0|         0|       0|         0|          0|          0|        0|           0|        0|       0|          1|          1|        24|        23|        0|        0|         0|       0|       0|           0|           0|         1|           0|         1|        1|          1|      0|        0|         0|         1|       0|       0|           0|        0|           2|           2|       0|       0|           0|           0|          1|           0|         2|         0|          0|         0|        159|           0|         1|         1|         0|         0|         0|         0|          0|            0|        0|          0|       0|     0|    0|          0|      0|     0|     0|       1|            0|     1459|\n",
            "+---+----------+--------+-----------+-------+------+-----+--------+-----------+---------+---------+---------+------------+----------+----------+--------+----------+-----------+-----------+---------+------------+---------+--------+-----------+-----------+----------+----------+---------+---------+----------+--------+--------+------------+------------+----------+------------+----------+---------+-----------+-------+---------+----------+----------+--------+--------+------------+---------+------------+------------+--------+--------+------------+------------+-----------+------------+----------+----------+-----------+----------+-----------+------------+----------+----------+----------+----------+----------+----------+-----------+-------------+---------+-----------+--------+------+-----+-----------+-------+------+------+--------+-------------+---------+\n",
            "\n"
          ],
          "name": "stdout"
        }
      ]
    },
    {
      "cell_type": "markdown",
      "metadata": {
        "id": "0NIbIufnVU0z"
      },
      "source": [
        "Obtenemos ahora una lista con las variables con missing y el número de missing que tienen."
      ]
    },
    {
      "cell_type": "code",
      "metadata": {
        "id": "i3WstCKYVYYS",
        "colab": {
          "base_uri": "https://localhost:8080/",
          "height": 374
        },
        "outputId": "09b1224d-6b75-4b1f-bf5f-5af2a7fdbbe3"
      },
      "source": [
        "var_con_NA = [(x,data_full_impt.agg(*exprs).select(x).collect()[0][0]) for x in data_full_impt.columns if data_full_impt.agg(*exprs).select(x).collect()[0][0]!=0]\n",
        "var_con_NA"
      ],
      "execution_count": null,
      "outputs": [
        {
          "output_type": "execute_result",
          "data": {
            "text/plain": [
              "[('MSZoning', 4),\n",
              " ('LotFrontage', 486),\n",
              " ('Utilities', 2),\n",
              " ('Exterior1st', 1),\n",
              " ('Exterior2nd', 1),\n",
              " ('MasVnrType', 24),\n",
              " ('MasVnrArea', 23),\n",
              " ('BsmtFinSF1', 1),\n",
              " ('BsmtFinSF2', 1),\n",
              " ('BsmtUnfSF', 1),\n",
              " ('TotalBsmtSF', 1),\n",
              " ('Electrical', 1),\n",
              " ('BsmtFullBath', 2),\n",
              " ('BsmtHalfBath', 2),\n",
              " ('KitchenQual', 1),\n",
              " ('Functional', 2),\n",
              " ('GarageYrBlt', 159),\n",
              " ('GarageCars', 1),\n",
              " ('GarageArea', 1),\n",
              " ('SaleType', 1),\n",
              " ('SalePrice', 1459)]"
            ]
          },
          "metadata": {
            "tags": []
          },
          "execution_count": 32
        }
      ]
    },
    {
      "cell_type": "code",
      "metadata": {
        "id": "CqbRZ9PEWW3q",
        "colab": {
          "base_uri": "https://localhost:8080/",
          "height": 34
        },
        "outputId": "41a02b93-a38f-493a-9a94-97bed97df931"
      },
      "source": [
        "print('Hemos obtenido {} variables con valores faltantes.'.format(len(var_con_NA)))"
      ],
      "execution_count": null,
      "outputs": [
        {
          "output_type": "stream",
          "text": [
            "Hemos obtenido 21 variables con valores faltantes.\n"
          ],
          "name": "stdout"
        }
      ]
    },
    {
      "cell_type": "markdown",
      "metadata": {
        "id": "LIxS7gskYLAV"
      },
      "source": [
        "A continuación, vamos a proceder al estudio de cada variable con missing y decidiremos qué valor es más adecuado imputar."
      ]
    },
    {
      "cell_type": "markdown",
      "metadata": {
        "id": "um6KvKbTpYs3"
      },
      "source": [
        "##### **MSZoning**\n",
        "\n",
        "Esta variable representa la **clasificación general de venta por zonas**. \n",
        "\n",
        "Vamos a comenzar estudiando las viviendas a las que le falta este dato.\n",
        "\n"
      ]
    },
    {
      "cell_type": "code",
      "metadata": {
        "id": "5SY0YuerqGhh",
        "colab": {
          "base_uri": "https://localhost:8080/",
          "height": 190
        },
        "outputId": "7ae27816-752b-43f8-e071-5b3b1f15b624"
      },
      "source": [
        "miss_MSZoning = data_full_impt.filter(data_full_impt.MSZoning.isNull())\n",
        "miss_MSZoning.show(5)\n",
        "\n",
        "not_miss_MSZoning = data_full_impt.filter(data_full_impt.MSZoning.isNotNull())"
      ],
      "execution_count": null,
      "outputs": [
        {
          "output_type": "stream",
          "text": [
            "+----+----------+--------+-----------+-------+------+-----+--------+-----------+---------+---------+---------+------------+----------+----------+--------+----------+-----------+-----------+---------+------------+---------+--------+-----------+-----------+----------+----------+---------+---------+----------+--------+--------+------------+------------+----------+------------+----------+---------+-----------+-------+---------+----------+----------+--------+--------+------------+---------+------------+------------+--------+--------+------------+------------+-----------+------------+----------+----------+-----------+----------+-----------+------------+----------+----------+----------+----------+----------+----------+-----------+-------------+---------+-----------+--------+------+-----+-----------+-------+------+------+--------+-------------+---------+\n",
            "|  Id|MSSubClass|MSZoning|LotFrontage|LotArea|Street|Alley|LotShape|LandContour|Utilities|LotConfig|LandSlope|Neighborhood|Condition1|Condition2|BldgType|HouseStyle|OverallQual|OverallCond|YearBuilt|YearRemodAdd|RoofStyle|RoofMatl|Exterior1st|Exterior2nd|MasVnrType|MasVnrArea|ExterQual|ExterCond|Foundation|BsmtQual|BsmtCond|BsmtExposure|BsmtFinType1|BsmtFinSF1|BsmtFinType2|BsmtFinSF2|BsmtUnfSF|TotalBsmtSF|Heating|HeatingQC|CentralAir|Electrical|1stFlrSF|2ndFlrSF|LowQualFinSF|GrLivArea|BsmtFullBath|BsmtHalfBath|FullBath|HalfBath|BedroomAbvGr|KitchenAbvGr|KitchenQual|TotRmsAbvGrd|Functional|Fireplaces|FireplaceQu|GarageType|GarageYrBlt|GarageFinish|GarageCars|GarageArea|GarageQual|GarageCond|PavedDrive|WoodDeckSF|OpenPorchSF|EnclosedPorch|3SsnPorch|ScreenPorch|PoolArea|PoolQC|Fence|MiscFeature|MiscVal|MoSold|YrSold|SaleType|SaleCondition|SalePrice|\n",
            "+----+----------+--------+-----------+-------+------+-----+--------+-----------+---------+---------+---------+------------+----------+----------+--------+----------+-----------+-----------+---------+------------+---------+--------+-----------+-----------+----------+----------+---------+---------+----------+--------+--------+------------+------------+----------+------------+----------+---------+-----------+-------+---------+----------+----------+--------+--------+------------+---------+------------+------------+--------+--------+------------+------------+-----------+------------+----------+----------+-----------+----------+-----------+------------+----------+----------+----------+----------+----------+----------+-----------+-------------+---------+-----------+--------+------+-----+-----------+-------+------+------+--------+-------------+---------+\n",
            "|1916|        30|    null|        109|  21780|  Grvl|NotNA|     Reg|        Lvl|     null|   Inside|      Gtl|      IDOTRR|      Norm|      Norm|    1Fam|    1Story|          2|          4|     1910|        1950|    Gable| CompShg|    Wd Sdng|    Wd Sdng|      None|         0|       Fa|       Fa|    CBlock|   NotNA|   NotNA|       NotNA|       NotNA|         0|       NotNA|         0|        0|          0|   GasA|       TA|         N|     FuseA|     810|       0|           0|      810|           0|           0|       1|       0|           1|           1|         TA|           4|      Min1|         0|      NotNA|    Detchd|       1975|         Unf|         1|       280|        TA|        TA|         N|       119|         24|            0|        0|          0|       0| NotNA|NotNA|      NotNA|      0|     3|  2009|   ConLD|       Normal|     null|\n",
            "|2217|        20|    null|         80|  14584|  Pave|NotNA|     Reg|        Low|   AllPub|   Inside|      Mod|      IDOTRR|      Norm|      Norm|    1Fam|    1Story|          1|          5|     1952|        1952|    Gable| CompShg|    AsbShng|    VinylSd|      None|         0|       Fa|       Po|      Slab|   NotNA|   NotNA|       NotNA|       NotNA|         0|       NotNA|         0|        0|          0|   Wall|       Po|         N|     FuseA|     733|       0|           0|      733|           0|           0|       1|       0|           2|           1|         Fa|           4|      null|         0|      NotNA|    Attchd|       1952|         Unf|         2|       487|        Fa|        Po|         N|         0|          0|            0|        0|          0|       0| NotNA|NotNA|      NotNA|      0|     2|  2008|      WD|      Abnorml|     null|\n",
            "|2251|        70|    null|       null|  56600|  Pave|NotNA|     IR1|        Low|   AllPub|   Inside|      Gtl|      IDOTRR|      Norm|      Norm|    1Fam|    2.5Unf|          5|          1|     1900|        1950|      Hip| CompShg|    Wd Sdng|    Wd Sdng|      None|         0|       TA|       TA|    BrkTil|      TA|      TA|          No|         Unf|         0|         Unf|         0|      686|        686|   GasA|       Ex|         Y|     SBrkr|    1150|     686|           0|     1836|           0|           0|       2|       0|           4|           1|         TA|           7|      Maj1|         0|      NotNA|    Detchd|       1900|         Unf|         1|       288|        TA|        Fa|         N|         0|          0|            0|        0|          0|       0| NotNA|NotNA|      NotNA|      0|     1|  2008|      WD|       Normal|     null|\n",
            "|2905|        20|    null|        125|  31250|  Pave|NotNA|     Reg|        Lvl|   AllPub|   Inside|      Gtl|     Mitchel|    Artery|      Norm|    1Fam|    1Story|          1|          3|     1951|        1951|    Gable| CompShg|     CBlock|    VinylSd|      None|         0|       TA|       Fa|    CBlock|   NotNA|   NotNA|       NotNA|       NotNA|         0|       NotNA|         0|        0|          0|   GasA|       TA|         Y|     FuseA|    1600|       0|           0|     1600|           0|           0|       1|       1|           3|           1|         TA|           6|       Mod|         0|      NotNA|    Attchd|       1951|         Unf|         1|       270|        Fa|        TA|         N|         0|          0|          135|        0|          0|       0| NotNA|NotNA|      NotNA|      0|     5|  2006|      WD|       Normal|     null|\n",
            "+----+----------+--------+-----------+-------+------+-----+--------+-----------+---------+---------+---------+------------+----------+----------+--------+----------+-----------+-----------+---------+------------+---------+--------+-----------+-----------+----------+----------+---------+---------+----------+--------+--------+------------+------------+----------+------------+----------+---------+-----------+-------+---------+----------+----------+--------+--------+------------+---------+------------+------------+--------+--------+------------+------------+-----------+------------+----------+----------+-----------+----------+-----------+------------+----------+----------+----------+----------+----------+----------+-----------+-------------+---------+-----------+--------+------+-----+-----------+-------+------+------+--------+-------------+---------+\n",
            "\n"
          ],
          "name": "stdout"
        }
      ]
    },
    {
      "cell_type": "markdown",
      "metadata": {
        "id": "Z7WE3aSB3YG2"
      },
      "source": [
        "Para imputar esta variable, vamos a ver cuál es la zona(**MSZoning**) más frecuente para cada tipo de  vivienda(**MSSubClass**) ya que pensamos que pueden guardar una relación entre ellas."
      ]
    },
    {
      "cell_type": "code",
      "metadata": {
        "id": "uc87cownrloD",
        "colab": {
          "base_uri": "https://localhost:8080/",
          "height": 493
        },
        "outputId": "80c26089-b00b-4c23-dfeb-4c48e2d39dd1"
      },
      "source": [
        "df1 = not_miss_MSZoning.groupBy(['MSSubClass','MSZoning']).count()\n",
        "df1.filter(df1.MSSubClass == 30).show()\n",
        "df1.filter(df1.MSSubClass == 20).show()\n",
        "df1.filter(df1.MSSubClass == 70).show()"
      ],
      "execution_count": null,
      "outputs": [
        {
          "output_type": "stream",
          "text": [
            "+----------+--------+-----+\n",
            "|MSSubClass|MSZoning|count|\n",
            "+----------+--------+-----+\n",
            "|        30|      RH|    2|\n",
            "|        30| C (all)|    8|\n",
            "|        30|      RM|   67|\n",
            "|        30|      RL|   61|\n",
            "+----------+--------+-----+\n",
            "\n",
            "+----------+--------+-----+\n",
            "|MSSubClass|MSZoning|count|\n",
            "+----------+--------+-----+\n",
            "|        20|      FV|   34|\n",
            "|        20|      RM|   20|\n",
            "|        20| C (all)|    3|\n",
            "|        20|      RH|    4|\n",
            "|        20|      RL| 1016|\n",
            "+----------+--------+-----+\n",
            "\n",
            "+----------+--------+-----+\n",
            "|MSSubClass|MSZoning|count|\n",
            "+----------+--------+-----+\n",
            "|        70|      RM|   63|\n",
            "|        70| C (all)|    4|\n",
            "|        70|      RH|    3|\n",
            "|        70|      RL|   57|\n",
            "+----------+--------+-----+\n",
            "\n"
          ],
          "name": "stdout"
        }
      ]
    },
    {
      "cell_type": "markdown",
      "metadata": {
        "id": "pKuFc6L71QMI"
      },
      "source": [
        "Podemos observar que a la vivienda de **tipo 20** podemos asociarle claramente la zona **RL** ya que destaca con diferencia. Sin embargo, a las viviendas de **tipo 30** y **70** podemos asociarle tanto la zona **RM** como la **RL**. Nosotros nos vamos a quedar con **RM**,  por ejemplo, en ambos casos."
      ]
    },
    {
      "cell_type": "code",
      "metadata": {
        "id": "oOD-caAXX9Dp"
      },
      "source": [
        "valimp_MSZoning = \"RL\""
      ],
      "execution_count": null,
      "outputs": []
    },
    {
      "cell_type": "markdown",
      "metadata": {
        "id": "E7s-9dRw3CBS"
      },
      "source": [
        "Vamos a imputar ya el caso de la vivienda de tipo 20 y el resto lo imputaremos más adelante."
      ]
    },
    {
      "cell_type": "code",
      "metadata": {
        "id": "FPkMQmdq3BQm"
      },
      "source": [
        "data_full_impt = data_full_impt.withColumn('MSZoning', \\\n",
        "                  when((data_full_impt.MSZoning.isNull()) & (data_full_impt.MSSubClass==20),'RL') \\\n",
        "                  .otherwise(data_full_impt.MSZoning))"
      ],
      "execution_count": null,
      "outputs": []
    },
    {
      "cell_type": "markdown",
      "metadata": {
        "id": "2xZ1N4VD4u0N"
      },
      "source": [
        "Comprobamos ahora que si filtramos por los valores nulos de **MSZoning** entonces las viviendas de **tipo 20 no** aparecen."
      ]
    },
    {
      "cell_type": "code",
      "metadata": {
        "id": "eRHN0b0n4nNZ",
        "colab": {
          "base_uri": "https://localhost:8080/",
          "height": 156
        },
        "outputId": "b95c4a16-06c4-4a24-d050-508f40ae988b"
      },
      "source": [
        "data_full_impt.filter(data_full_impt.MSZoning.isNull()).show()"
      ],
      "execution_count": null,
      "outputs": [
        {
          "output_type": "stream",
          "text": [
            "+----+----------+--------+-----------+-------+------+-----+--------+-----------+---------+---------+---------+------------+----------+----------+--------+----------+-----------+-----------+---------+------------+---------+--------+-----------+-----------+----------+----------+---------+---------+----------+--------+--------+------------+------------+----------+------------+----------+---------+-----------+-------+---------+----------+----------+--------+--------+------------+---------+------------+------------+--------+--------+------------+------------+-----------+------------+----------+----------+-----------+----------+-----------+------------+----------+----------+----------+----------+----------+----------+-----------+-------------+---------+-----------+--------+------+-----+-----------+-------+------+------+--------+-------------+---------+\n",
            "|  Id|MSSubClass|MSZoning|LotFrontage|LotArea|Street|Alley|LotShape|LandContour|Utilities|LotConfig|LandSlope|Neighborhood|Condition1|Condition2|BldgType|HouseStyle|OverallQual|OverallCond|YearBuilt|YearRemodAdd|RoofStyle|RoofMatl|Exterior1st|Exterior2nd|MasVnrType|MasVnrArea|ExterQual|ExterCond|Foundation|BsmtQual|BsmtCond|BsmtExposure|BsmtFinType1|BsmtFinSF1|BsmtFinType2|BsmtFinSF2|BsmtUnfSF|TotalBsmtSF|Heating|HeatingQC|CentralAir|Electrical|1stFlrSF|2ndFlrSF|LowQualFinSF|GrLivArea|BsmtFullBath|BsmtHalfBath|FullBath|HalfBath|BedroomAbvGr|KitchenAbvGr|KitchenQual|TotRmsAbvGrd|Functional|Fireplaces|FireplaceQu|GarageType|GarageYrBlt|GarageFinish|GarageCars|GarageArea|GarageQual|GarageCond|PavedDrive|WoodDeckSF|OpenPorchSF|EnclosedPorch|3SsnPorch|ScreenPorch|PoolArea|PoolQC|Fence|MiscFeature|MiscVal|MoSold|YrSold|SaleType|SaleCondition|SalePrice|\n",
            "+----+----------+--------+-----------+-------+------+-----+--------+-----------+---------+---------+---------+------------+----------+----------+--------+----------+-----------+-----------+---------+------------+---------+--------+-----------+-----------+----------+----------+---------+---------+----------+--------+--------+------------+------------+----------+------------+----------+---------+-----------+-------+---------+----------+----------+--------+--------+------------+---------+------------+------------+--------+--------+------------+------------+-----------+------------+----------+----------+-----------+----------+-----------+------------+----------+----------+----------+----------+----------+----------+-----------+-------------+---------+-----------+--------+------+-----+-----------+-------+------+------+--------+-------------+---------+\n",
            "|1916|        30|    null|        109|  21780|  Grvl|NotNA|     Reg|        Lvl|     null|   Inside|      Gtl|      IDOTRR|      Norm|      Norm|    1Fam|    1Story|          2|          4|     1910|        1950|    Gable| CompShg|    Wd Sdng|    Wd Sdng|      None|         0|       Fa|       Fa|    CBlock|   NotNA|   NotNA|       NotNA|       NotNA|         0|       NotNA|         0|        0|          0|   GasA|       TA|         N|     FuseA|     810|       0|           0|      810|           0|           0|       1|       0|           1|           1|         TA|           4|      Min1|         0|      NotNA|    Detchd|       1975|         Unf|         1|       280|        TA|        TA|         N|       119|         24|            0|        0|          0|       0| NotNA|NotNA|      NotNA|      0|     3|  2009|   ConLD|       Normal|     null|\n",
            "|2251|        70|    null|       null|  56600|  Pave|NotNA|     IR1|        Low|   AllPub|   Inside|      Gtl|      IDOTRR|      Norm|      Norm|    1Fam|    2.5Unf|          5|          1|     1900|        1950|      Hip| CompShg|    Wd Sdng|    Wd Sdng|      None|         0|       TA|       TA|    BrkTil|      TA|      TA|          No|         Unf|         0|         Unf|         0|      686|        686|   GasA|       Ex|         Y|     SBrkr|    1150|     686|           0|     1836|           0|           0|       2|       0|           4|           1|         TA|           7|      Maj1|         0|      NotNA|    Detchd|       1900|         Unf|         1|       288|        TA|        Fa|         N|         0|          0|            0|        0|          0|       0| NotNA|NotNA|      NotNA|      0|     1|  2008|      WD|       Normal|     null|\n",
            "+----+----------+--------+-----------+-------+------+-----+--------+-----------+---------+---------+---------+------------+----------+----------+--------+----------+-----------+-----------+---------+------------+---------+--------+-----------+-----------+----------+----------+---------+---------+----------+--------+--------+------------+------------+----------+------------+----------+---------+-----------+-------+---------+----------+----------+--------+--------+------------+---------+------------+------------+--------+--------+------------+------------+-----------+------------+----------+----------+-----------+----------+-----------+------------+----------+----------+----------+----------+----------+----------+-----------+-------------+---------+-----------+--------+------+-----+-----------+-------+------+------+--------+-------------+---------+\n",
            "\n"
          ],
          "name": "stdout"
        }
      ]
    },
    {
      "cell_type": "markdown",
      "metadata": {
        "id": "JLT_L1PX0vzU"
      },
      "source": [
        "##### **LotFrontage**\n",
        "\n",
        "Esta variable representa la **distancia entre la calle y la vivienda**. Al tener demasiados missing, vamos a estudiar la variable directamente en los casos donde no presenta missings."
      ]
    },
    {
      "cell_type": "code",
      "metadata": {
        "id": "YyCsV8EPYYkv"
      },
      "source": [
        "not_miss_LotFrontage = data_full_impt.filter(data_full_impt.LotFrontage.isNotNull())"
      ],
      "execution_count": null,
      "outputs": []
    },
    {
      "cell_type": "markdown",
      "metadata": {
        "id": "COp7flre-tZp"
      },
      "source": [
        "* Calculamos la **media** de la variable."
      ]
    },
    {
      "cell_type": "code",
      "metadata": {
        "id": "dJNIxyjt0uxM",
        "colab": {
          "base_uri": "https://localhost:8080/",
          "height": 119
        },
        "outputId": "0da0deaf-b6f6-4a53-b786-4069fa50ec50"
      },
      "source": [
        "not_miss_LotFrontage.agg({'LotFrontage':'avg'}).show()"
      ],
      "execution_count": null,
      "outputs": [
        {
          "output_type": "stream",
          "text": [
            "+-----------------+\n",
            "| avg(LotFrontage)|\n",
            "+-----------------+\n",
            "|69.30579531442663|\n",
            "+-----------------+\n",
            "\n"
          ],
          "name": "stdout"
        }
      ]
    },
    {
      "cell_type": "markdown",
      "metadata": {
        "id": "bd-X7aZ6-xPA"
      },
      "source": [
        "* Calculamos la **mediana** de la variable."
      ]
    },
    {
      "cell_type": "code",
      "metadata": {
        "id": "cAvMWPyG2GGJ",
        "colab": {
          "base_uri": "https://localhost:8080/",
          "height": 34
        },
        "outputId": "2c4aa927-e2a4-423e-8dc5-fce675551323"
      },
      "source": [
        "statFunc(not_miss_LotFrontage).approxQuantile('LotFrontage', [0.5], 0.1)"
      ],
      "execution_count": null,
      "outputs": [
        {
          "output_type": "execute_result",
          "data": {
            "text/plain": [
              "[64.0]"
            ]
          },
          "metadata": {
            "tags": []
          },
          "execution_count": 41
        }
      ]
    },
    {
      "cell_type": "markdown",
      "metadata": {
        "id": "VqOJmrNB-5_P"
      },
      "source": [
        "* Calculamos un **resumen numérico** de la variable."
      ]
    },
    {
      "cell_type": "code",
      "metadata": {
        "id": "D9JmeAV4YRFZ",
        "colab": {
          "base_uri": "https://localhost:8080/",
          "height": 187
        },
        "outputId": "5c4aad34-b567-4b2b-a12c-e75ec2b4a6c7"
      },
      "source": [
        "not_miss_LotFrontage.describe('LotFrontage').show()"
      ],
      "execution_count": null,
      "outputs": [
        {
          "output_type": "stream",
          "text": [
            "+-------+------------------+\n",
            "|summary|       LotFrontage|\n",
            "+-------+------------------+\n",
            "|  count|              2433|\n",
            "|   mean| 69.30579531442663|\n",
            "| stddev|23.344904706927394|\n",
            "|    min|                21|\n",
            "|    max|               313|\n",
            "+-------+------------------+\n",
            "\n"
          ],
          "name": "stdout"
        }
      ]
    },
    {
      "cell_type": "markdown",
      "metadata": {
        "id": "rFgAOt1t_CX-"
      },
      "source": [
        "* Representamos un **boxplot** de la variable."
      ]
    },
    {
      "cell_type": "code",
      "metadata": {
        "id": "spvlIYgbHvdu",
        "colab": {
          "base_uri": "https://localhost:8080/",
          "height": 401
        },
        "outputId": "81ff68cb-b6af-49cc-da48-4c783627e51e"
      },
      "source": [
        "plt.boxplot(not_miss_LotFrontage[['LotFrontage']].toPandas()['LotFrontage'])"
      ],
      "execution_count": null,
      "outputs": [
        {
          "output_type": "execute_result",
          "data": {
            "text/plain": [
              "{'boxes': [<matplotlib.lines.Line2D at 0x7f74d29b2908>],\n",
              " 'caps': [<matplotlib.lines.Line2D at 0x7f74d29cd358>,\n",
              "  <matplotlib.lines.Line2D at 0x7f74d29cd6d8>],\n",
              " 'fliers': [<matplotlib.lines.Line2D at 0x7f74d29cddd8>],\n",
              " 'means': [],\n",
              " 'medians': [<matplotlib.lines.Line2D at 0x7f74d29cda58>],\n",
              " 'whiskers': [<matplotlib.lines.Line2D at 0x7f74d29b2c18>,\n",
              "  <matplotlib.lines.Line2D at 0x7f74d29b2f98>]}"
            ]
          },
          "metadata": {
            "tags": []
          },
          "execution_count": 43
        },
        {
          "output_type": "display_data",
          "data": {
            "image/png": "[encoded data removed]",
            "text/plain": [
              "<Figure size 432x288 with 1 Axes>"
            ]
          },
          "metadata": {
            "tags": [],
            "needs_background": "light"
          }
        }
      ]
    },
    {
      "cell_type": "markdown",
      "metadata": {
        "id": "wprgm0hOILn3"
      },
      "source": [
        "Como podemos observar, esta variable presenta una desviación típica muy alta por lo que ni la media ni la mediana pondrían ser valores representativos para esta variable. Además cuando representamos el boxplot, vemos que tiene una gran cantidad de outliers. En consiguiente, creemos adecuado **eliminar** esta variable del estudio."
      ]
    },
    {
      "cell_type": "markdown",
      "metadata": {
        "id": "Z480jJszZi-d"
      },
      "source": [
        "##### **Utilities**\n",
        "\n",
        "Esta variable representa el **tipo de sevicio disponible**. \n",
        "\n",
        "Vamos a comenzar estudiando las viviendas a las que le falta este dato."
      ]
    },
    {
      "cell_type": "code",
      "metadata": {
        "id": "xwMA3ThAZ4t5",
        "colab": {
          "base_uri": "https://localhost:8080/",
          "height": 156
        },
        "outputId": "74cafe10-8733-4933-ef0b-3e9f154d56d6"
      },
      "source": [
        "miss_Utilities = data_full_impt.filter(data_full_impt.Utilities.isNull())\n",
        "miss_Utilities.show()"
      ],
      "execution_count": null,
      "outputs": [
        {
          "output_type": "stream",
          "text": [
            "+----+----------+--------+-----------+-------+------+-----+--------+-----------+---------+---------+---------+------------+----------+----------+--------+----------+-----------+-----------+---------+------------+---------+--------+-----------+-----------+----------+----------+---------+---------+----------+--------+--------+------------+------------+----------+------------+----------+---------+-----------+-------+---------+----------+----------+--------+--------+------------+---------+------------+------------+--------+--------+------------+------------+-----------+------------+----------+----------+-----------+----------+-----------+------------+----------+----------+----------+----------+----------+----------+-----------+-------------+---------+-----------+--------+------+-----+-----------+-------+------+------+--------+-------------+---------+\n",
            "|  Id|MSSubClass|MSZoning|LotFrontage|LotArea|Street|Alley|LotShape|LandContour|Utilities|LotConfig|LandSlope|Neighborhood|Condition1|Condition2|BldgType|HouseStyle|OverallQual|OverallCond|YearBuilt|YearRemodAdd|RoofStyle|RoofMatl|Exterior1st|Exterior2nd|MasVnrType|MasVnrArea|ExterQual|ExterCond|Foundation|BsmtQual|BsmtCond|BsmtExposure|BsmtFinType1|BsmtFinSF1|BsmtFinType2|BsmtFinSF2|BsmtUnfSF|TotalBsmtSF|Heating|HeatingQC|CentralAir|Electrical|1stFlrSF|2ndFlrSF|LowQualFinSF|GrLivArea|BsmtFullBath|BsmtHalfBath|FullBath|HalfBath|BedroomAbvGr|KitchenAbvGr|KitchenQual|TotRmsAbvGrd|Functional|Fireplaces|FireplaceQu|GarageType|GarageYrBlt|GarageFinish|GarageCars|GarageArea|GarageQual|GarageCond|PavedDrive|WoodDeckSF|OpenPorchSF|EnclosedPorch|3SsnPorch|ScreenPorch|PoolArea|PoolQC|Fence|MiscFeature|MiscVal|MoSold|YrSold|SaleType|SaleCondition|SalePrice|\n",
            "+----+----------+--------+-----------+-------+------+-----+--------+-----------+---------+---------+---------+------------+----------+----------+--------+----------+-----------+-----------+---------+------------+---------+--------+-----------+-----------+----------+----------+---------+---------+----------+--------+--------+------------+------------+----------+------------+----------+---------+-----------+-------+---------+----------+----------+--------+--------+------------+---------+------------+------------+--------+--------+------------+------------+-----------+------------+----------+----------+-----------+----------+-----------+------------+----------+----------+----------+----------+----------+----------+-----------+-------------+---------+-----------+--------+------+-----+-----------+-------+------+------+--------+-------------+---------+\n",
            "|1916|        30|    null|        109|  21780|  Grvl|NotNA|     Reg|        Lvl|     null|   Inside|      Gtl|      IDOTRR|      Norm|      Norm|    1Fam|    1Story|          2|          4|     1910|        1950|    Gable| CompShg|    Wd Sdng|    Wd Sdng|      None|         0|       Fa|       Fa|    CBlock|   NotNA|   NotNA|       NotNA|       NotNA|         0|       NotNA|         0|        0|          0|   GasA|       TA|         N|     FuseA|     810|       0|           0|      810|           0|           0|       1|       0|           1|           1|         TA|           4|      Min1|         0|      NotNA|    Detchd|       1975|         Unf|         1|       280|        TA|        TA|         N|       119|         24|            0|        0|          0|       0| NotNA|NotNA|      NotNA|      0|     3|  2009|   ConLD|       Normal|     null|\n",
            "|1946|        20|      RL|       null|  31220|  Pave|NotNA|     IR1|        Bnk|     null|      FR2|      Gtl|     Gilbert|     Feedr|      Norm|    1Fam|    1Story|          6|          2|     1952|        1952|      Hip| CompShg|    BrkFace|    BrkFace|      None|         0|       TA|       TA|    CBlock|      TA|      TA|          No|         Unf|         0|         Unf|         0|     1632|       1632|   GasA|       TA|         Y|     FuseA|    1474|       0|           0|     1474|           0|           0|       1|       0|           3|           1|         TA|           7|      Min2|         2|         Gd|    Attchd|       1952|         Unf|         2|       495|        TA|        TA|         Y|         0|          0|          144|        0|          0|       0| NotNA|NotNA|       Shed|    750|     5|  2008|      WD|       Normal|     null|\n",
            "+----+----------+--------+-----------+-------+------+-----+--------+-----------+---------+---------+---------+------------+----------+----------+--------+----------+-----------+-----------+---------+------------+---------+--------+-----------+-----------+----------+----------+---------+---------+----------+--------+--------+------------+------------+----------+------------+----------+---------+-----------+-------+---------+----------+----------+--------+--------+------------+---------+------------+------------+--------+--------+------------+------------+-----------+------------+----------+----------+-----------+----------+-----------+------------+----------+----------+----------+----------+----------+----------+-----------+-------------+---------+-----------+--------+------+-----+-----------+-------+------+------+--------+-------------+---------+\n",
            "\n"
          ],
          "name": "stdout"
        }
      ]
    },
    {
      "cell_type": "markdown",
      "metadata": {
        "id": "UEtEND2U_O5G"
      },
      "source": [
        "A continuación, investigamos el tipo de servicio (**Utilities**) según el tipo de la vivienda (**MSSubClass**) ya que pensamos que pueden guardar un relación entre ellas."
      ]
    },
    {
      "cell_type": "code",
      "metadata": {
        "id": "HWeZ3HDl_2iq"
      },
      "source": [
        "not_miss_Utilities = data_full_impt.filter(data_full_impt.Utilities.isNotNull())"
      ],
      "execution_count": null,
      "outputs": []
    },
    {
      "cell_type": "code",
      "metadata": {
        "id": "Js6OWc2Y_nx5",
        "colab": {
          "base_uri": "https://localhost:8080/",
          "height": 119
        },
        "outputId": "7ba8b4d2-d758-4c1f-bf86-a2c32b554c2a"
      },
      "source": [
        "not_miss_Utilities.filter(not_miss_Utilities.MSSubClass == 30).groupby('Utilities').count().orderBy(F.desc('count')).show()"
      ],
      "execution_count": null,
      "outputs": [
        {
          "output_type": "stream",
          "text": [
            "+---------+-----+\n",
            "|Utilities|count|\n",
            "+---------+-----+\n",
            "|   AllPub|  138|\n",
            "+---------+-----+\n",
            "\n"
          ],
          "name": "stdout"
        }
      ]
    },
    {
      "cell_type": "code",
      "metadata": {
        "id": "z9sOC9om_78F",
        "colab": {
          "base_uri": "https://localhost:8080/",
          "height": 136
        },
        "outputId": "d27b4d40-2368-4967-e478-6a7ad1725d4b"
      },
      "source": [
        "not_miss_Utilities.filter(not_miss_Utilities.MSSubClass == 20).groupby('Utilities').count().orderBy(F.desc('count')).show()"
      ],
      "execution_count": null,
      "outputs": [
        {
          "output_type": "stream",
          "text": [
            "+---------+-----+\n",
            "|Utilities|count|\n",
            "+---------+-----+\n",
            "|   AllPub| 1077|\n",
            "|   NoSeWa|    1|\n",
            "+---------+-----+\n",
            "\n"
          ],
          "name": "stdout"
        }
      ]
    },
    {
      "cell_type": "markdown",
      "metadata": {
        "id": "PeCqn3qqABxH"
      },
      "source": [
        "Podemos observar que en ambos tipos de vivienda, la mayoría tienen todos los servicios disponibles y además con diferencia. Por tanto, es lógico que imputemos **Utilities** por **AllPub**."
      ]
    },
    {
      "cell_type": "code",
      "metadata": {
        "id": "EFF6yGHaaalw"
      },
      "source": [
        "valimp_Utilities = \"AllPub\""
      ],
      "execution_count": null,
      "outputs": []
    },
    {
      "cell_type": "markdown",
      "metadata": {
        "id": "Y5j3CxCNaZw5"
      },
      "source": [
        "##### **Exterior1st**\n",
        "\n",
        "Esta variable representa el **material de la cubierta exterior de la casa**.\n",
        "\n",
        "Comenzamos estudiando la vivienda a la que le falta esta variable."
      ]
    },
    {
      "cell_type": "code",
      "metadata": {
        "id": "Hm40coFmbbYs",
        "colab": {
          "base_uri": "https://localhost:8080/",
          "height": 139
        },
        "outputId": "580dc032-5439-4f3d-dce2-481b0cc3cf76"
      },
      "source": [
        "miss_Exterior1st = data_full_impt.filter(data_full_impt.Exterior1st.isNull())\n",
        "miss_Exterior1st.show()"
      ],
      "execution_count": null,
      "outputs": [
        {
          "output_type": "stream",
          "text": [
            "+----+----------+--------+-----------+-------+------+-----+--------+-----------+---------+---------+---------+------------+----------+----------+--------+----------+-----------+-----------+---------+------------+---------+--------+-----------+-----------+----------+----------+---------+---------+----------+--------+--------+------------+------------+----------+------------+----------+---------+-----------+-------+---------+----------+----------+--------+--------+------------+---------+------------+------------+--------+--------+------------+------------+-----------+------------+----------+----------+-----------+----------+-----------+------------+----------+----------+----------+----------+----------+----------+-----------+-------------+---------+-----------+--------+------+-----+-----------+-------+------+------+--------+-------------+---------+\n",
            "|  Id|MSSubClass|MSZoning|LotFrontage|LotArea|Street|Alley|LotShape|LandContour|Utilities|LotConfig|LandSlope|Neighborhood|Condition1|Condition2|BldgType|HouseStyle|OverallQual|OverallCond|YearBuilt|YearRemodAdd|RoofStyle|RoofMatl|Exterior1st|Exterior2nd|MasVnrType|MasVnrArea|ExterQual|ExterCond|Foundation|BsmtQual|BsmtCond|BsmtExposure|BsmtFinType1|BsmtFinSF1|BsmtFinType2|BsmtFinSF2|BsmtUnfSF|TotalBsmtSF|Heating|HeatingQC|CentralAir|Electrical|1stFlrSF|2ndFlrSF|LowQualFinSF|GrLivArea|BsmtFullBath|BsmtHalfBath|FullBath|HalfBath|BedroomAbvGr|KitchenAbvGr|KitchenQual|TotRmsAbvGrd|Functional|Fireplaces|FireplaceQu|GarageType|GarageYrBlt|GarageFinish|GarageCars|GarageArea|GarageQual|GarageCond|PavedDrive|WoodDeckSF|OpenPorchSF|EnclosedPorch|3SsnPorch|ScreenPorch|PoolArea|PoolQC|Fence|MiscFeature|MiscVal|MoSold|YrSold|SaleType|SaleCondition|SalePrice|\n",
            "+----+----------+--------+-----------+-------+------+-----+--------+-----------+---------+---------+---------+------------+----------+----------+--------+----------+-----------+-----------+---------+------------+---------+--------+-----------+-----------+----------+----------+---------+---------+----------+--------+--------+------------+------------+----------+------------+----------+---------+-----------+-------+---------+----------+----------+--------+--------+------------+---------+------------+------------+--------+--------+------------+------------+-----------+------------+----------+----------+-----------+----------+-----------+------------+----------+----------+----------+----------+----------+----------+-----------+-------------+---------+-----------+--------+------+-----+-----------+-------+------+------+--------+-------------+---------+\n",
            "|2152|        30|      RL|         85|  19550|  Pave|NotNA|     Reg|        Lvl|   AllPub|   Inside|      Gtl|     Edwards|      Norm|      Norm|    1Fam|    1Story|          5|          7|     1940|        2007|     Flat| Tar&Grv|       null|       null|      None|         0|       TA|       TA|     PConc|      TA|      TA|          Gd|         ALQ|      1035|         Unf|         0|      545|       1580|   GasA|       Ex|         Y|     SBrkr|    1518|       0|           0|     1518|           1|           0|       1|       0|           2|           1|         Fa|           5|       Typ|         2|         Gd|     NotNA|       null|       NotNA|         0|         0|     NotNA|     NotNA|         Y|         0|         39|            0|        0|          0|       0| NotNA|NotNA|      NotNA|      0|     1|  2008|      WD|       Normal|     null|\n",
            "+----+----------+--------+-----------+-------+------+-----+--------+-----------+---------+---------+---------+------------+----------+----------+--------+----------+-----------+-----------+---------+------------+---------+--------+-----------+-----------+----------+----------+---------+---------+----------+--------+--------+------------+------------+----------+------------+----------+---------+-----------+-------+---------+----------+----------+--------+--------+------------+---------+------------+------------+--------+--------+------------+------------+-----------+------------+----------+----------+-----------+----------+-----------+------------+----------+----------+----------+----------+----------+----------+-----------+-------------+---------+-----------+--------+------+-----+-----------+-------+------+------+--------+-------------+---------+\n",
            "\n"
          ],
          "name": "stdout"
        }
      ]
    },
    {
      "cell_type": "markdown",
      "metadata": {
        "id": "IuNYdNXmYOzm"
      },
      "source": [
        "En este caso creemos que es adecuado investigar a partir del material (**RoofMatl**) del tejado y calidad (**ExterQual**) y condición (**ExterCond**) del material que está hecho la cubierta exterior ya que pensamos que pueden estar relacionado con esta variable. Es por ello, que bajo las condiciones de las variables anteriores, vamos a quedarnos con el material  utilizado más frecuente."
      ]
    },
    {
      "cell_type": "code",
      "metadata": {
        "id": "Ewd2Jo8xYNR5"
      },
      "source": [
        "not_miss_Exterior1st = data_full_impt.filter(data_full_impt.Exterior1st.isNotNull())"
      ],
      "execution_count": null,
      "outputs": []
    },
    {
      "cell_type": "code",
      "metadata": {
        "id": "q_fuDHxEYmjk",
        "colab": {
          "base_uri": "https://localhost:8080/",
          "height": 187
        },
        "outputId": "bd715d2f-1c12-40e9-ae0e-da54a01d341d"
      },
      "source": [
        "not_miss_Exterior1st.filter((not_miss_Exterior1st.RoofMatl == 'Tar&Grv') & \\\n",
        "                            (not_miss_Exterior1st.ExterQual== 'TA') & \\\n",
        "                            (not_miss_Exterior1st.ExterCond == 'TA')).groupby('Exterior1st') \\\n",
        "                            .count().show()"
      ],
      "execution_count": null,
      "outputs": [
        {
          "output_type": "stream",
          "text": [
            "+-----------+-----+\n",
            "|Exterior1st|count|\n",
            "+-----------+-----+\n",
            "|    HdBoard|    1|\n",
            "|    WdShing|    2|\n",
            "|    Plywood|    9|\n",
            "|    Wd Sdng|    3|\n",
            "|    BrkComm|    1|\n",
            "+-----------+-----+\n",
            "\n"
          ],
          "name": "stdout"
        }
      ]
    },
    {
      "cell_type": "markdown",
      "metadata": {
        "id": "PEX04nPPaP5m"
      },
      "source": [
        "Observamos por tanto que  la mayoría de las viviendas, que tienen el **tejado** hecho de **grava y alquitrán** y la **condición** y **calidad** del material de la cubierta exterior es **media**, tienen la cubierta exterior de **madera contrachapada**."
      ]
    },
    {
      "cell_type": "code",
      "metadata": {
        "id": "l3W2adkzb-9h"
      },
      "source": [
        "valimp_Exterior1st = \"Plywood\""
      ],
      "execution_count": null,
      "outputs": []
    },
    {
      "cell_type": "markdown",
      "metadata": {
        "id": "ySTpHOdQapP2"
      },
      "source": [
        "##### **Exterior2nd**\n",
        "\n",
        "Esta variable representa el **material de la cubierta exterior de la casa si tiene más de un material**.\n",
        "\n",
        "Comenzamos estudiando la vivienda que no presenta este dato."
      ]
    },
    {
      "cell_type": "code",
      "metadata": {
        "id": "khwMoR2ibkt7",
        "colab": {
          "base_uri": "https://localhost:8080/",
          "height": 139
        },
        "outputId": "b817c1f6-4bb6-4aeb-d913-bfc61f8a87dd"
      },
      "source": [
        "miss_Exterior2nd = data_full_impt.filter(data_full_impt.Exterior2nd.isNull())\n",
        "miss_Exterior2nd.show()"
      ],
      "execution_count": null,
      "outputs": [
        {
          "output_type": "stream",
          "text": [
            "+----+----------+--------+-----------+-------+------+-----+--------+-----------+---------+---------+---------+------------+----------+----------+--------+----------+-----------+-----------+---------+------------+---------+--------+-----------+-----------+----------+----------+---------+---------+----------+--------+--------+------------+------------+----------+------------+----------+---------+-----------+-------+---------+----------+----------+--------+--------+------------+---------+------------+------------+--------+--------+------------+------------+-----------+------------+----------+----------+-----------+----------+-----------+------------+----------+----------+----------+----------+----------+----------+-----------+-------------+---------+-----------+--------+------+-----+-----------+-------+------+------+--------+-------------+---------+\n",
            "|  Id|MSSubClass|MSZoning|LotFrontage|LotArea|Street|Alley|LotShape|LandContour|Utilities|LotConfig|LandSlope|Neighborhood|Condition1|Condition2|BldgType|HouseStyle|OverallQual|OverallCond|YearBuilt|YearRemodAdd|RoofStyle|RoofMatl|Exterior1st|Exterior2nd|MasVnrType|MasVnrArea|ExterQual|ExterCond|Foundation|BsmtQual|BsmtCond|BsmtExposure|BsmtFinType1|BsmtFinSF1|BsmtFinType2|BsmtFinSF2|BsmtUnfSF|TotalBsmtSF|Heating|HeatingQC|CentralAir|Electrical|1stFlrSF|2ndFlrSF|LowQualFinSF|GrLivArea|BsmtFullBath|BsmtHalfBath|FullBath|HalfBath|BedroomAbvGr|KitchenAbvGr|KitchenQual|TotRmsAbvGrd|Functional|Fireplaces|FireplaceQu|GarageType|GarageYrBlt|GarageFinish|GarageCars|GarageArea|GarageQual|GarageCond|PavedDrive|WoodDeckSF|OpenPorchSF|EnclosedPorch|3SsnPorch|ScreenPorch|PoolArea|PoolQC|Fence|MiscFeature|MiscVal|MoSold|YrSold|SaleType|SaleCondition|SalePrice|\n",
            "+----+----------+--------+-----------+-------+------+-----+--------+-----------+---------+---------+---------+------------+----------+----------+--------+----------+-----------+-----------+---------+------------+---------+--------+-----------+-----------+----------+----------+---------+---------+----------+--------+--------+------------+------------+----------+------------+----------+---------+-----------+-------+---------+----------+----------+--------+--------+------------+---------+------------+------------+--------+--------+------------+------------+-----------+------------+----------+----------+-----------+----------+-----------+------------+----------+----------+----------+----------+----------+----------+-----------+-------------+---------+-----------+--------+------+-----+-----------+-------+------+------+--------+-------------+---------+\n",
            "|2152|        30|      RL|         85|  19550|  Pave|NotNA|     Reg|        Lvl|   AllPub|   Inside|      Gtl|     Edwards|      Norm|      Norm|    1Fam|    1Story|          5|          7|     1940|        2007|     Flat| Tar&Grv|       null|       null|      None|         0|       TA|       TA|     PConc|      TA|      TA|          Gd|         ALQ|      1035|         Unf|         0|      545|       1580|   GasA|       Ex|         Y|     SBrkr|    1518|       0|           0|     1518|           1|           0|       1|       0|           2|           1|         Fa|           5|       Typ|         2|         Gd|     NotNA|       null|       NotNA|         0|         0|     NotNA|     NotNA|         Y|         0|         39|            0|        0|          0|       0| NotNA|NotNA|      NotNA|      0|     1|  2008|      WD|       Normal|     null|\n",
            "+----+----------+--------+-----------+-------+------+-----+--------+-----------+---------+---------+---------+------------+----------+----------+--------+----------+-----------+-----------+---------+------------+---------+--------+-----------+-----------+----------+----------+---------+---------+----------+--------+--------+------------+------------+----------+------------+----------+---------+-----------+-------+---------+----------+----------+--------+--------+------------+---------+------------+------------+--------+--------+------------+------------+-----------+------------+----------+----------+-----------+----------+-----------+------------+----------+----------+----------+----------+----------+----------+-----------+-------------+---------+-----------+--------+------+-----+-----------+-------+------+------+--------+-------------+---------+\n",
            "\n"
          ],
          "name": "stdout"
        }
      ]
    },
    {
      "cell_type": "markdown",
      "metadata": {
        "id": "gh1gX6HYs7-u"
      },
      "source": [
        "Podemos observar que es la misma vivienda que antes. Por tanto, vamos a razonar de la misma manera, es decir, relacionamos **Exterior2nd** con las variables **ExterCond**, **ExterQual** y  **RootMatl**."
      ]
    },
    {
      "cell_type": "code",
      "metadata": {
        "id": "L9RHDM4WtSkO"
      },
      "source": [
        "not_miss_Exterior2nd = data_full_impt.filter(data_full_impt.Exterior2nd.isNotNull())"
      ],
      "execution_count": null,
      "outputs": []
    },
    {
      "cell_type": "code",
      "metadata": {
        "id": "D9sSjfzutUSw",
        "colab": {
          "base_uri": "https://localhost:8080/",
          "height": 204
        },
        "outputId": "fcefb7f2-3b4e-4ec3-9b66-a0cf6fc29dff"
      },
      "source": [
        "not_miss_Exterior2nd.filter((not_miss_Exterior2nd.RoofMatl == 'Tar&Grv') & (not_miss_Exterior2nd.ExterQual== 'TA') & (not_miss_Exterior2nd.ExterCond == 'TA')).groupby('Exterior2nd').count().show()"
      ],
      "execution_count": null,
      "outputs": [
        {
          "output_type": "stream",
          "text": [
            "+-----------+-----+\n",
            "|Exterior2nd|count|\n",
            "+-----------+-----+\n",
            "|    HdBoard|    1|\n",
            "|    Plywood|    8|\n",
            "|    Wd Shng|    2|\n",
            "|    Wd Sdng|    3|\n",
            "|    Brk Cmn|    1|\n",
            "|     CBlock|    1|\n",
            "+-----------+-----+\n",
            "\n"
          ],
          "name": "stdout"
        }
      ]
    },
    {
      "cell_type": "markdown",
      "metadata": {
        "id": "1MXRWPLDtzOk"
      },
      "source": [
        "Observamos por tanto que la mayoría de las viviendas que tienen el **tejado** hecho de **grava y alquitrán** y que la **calidad** y **condición** del material de la cubierta exterior es **media**, tienen como segundo material, **madera contrachapada**. Por tanto, la cubierta está hecha de sólo un material."
      ]
    },
    {
      "cell_type": "code",
      "metadata": {
        "id": "9MaZNngncSTX"
      },
      "source": [
        "valimp_Exterior2nd = \"Plywood\""
      ],
      "execution_count": null,
      "outputs": []
    },
    {
      "cell_type": "markdown",
      "metadata": {
        "id": "3SSKqUIbdFN6"
      },
      "source": [
        "##### **MasVnrArea**\n",
        "\n",
        "Esta variable representa el **área de revestimiento de mampostería en pies cuadrados**.\n",
        "\n",
        "Vamos a estudiar un poco la variable ya que hay muchos missing."
      ]
    },
    {
      "cell_type": "code",
      "metadata": {
        "id": "ryLpEPPrdesK"
      },
      "source": [
        "not_miss_MasVnrArea = data_full_impt.filter(data_full_impt.MasVnrArea.isNotNull())"
      ],
      "execution_count": null,
      "outputs": []
    },
    {
      "cell_type": "markdown",
      "metadata": {
        "id": "I0befi6xCjuR"
      },
      "source": [
        "* Calculamos la **media** de la variable."
      ]
    },
    {
      "cell_type": "code",
      "metadata": {
        "id": "yqpLhcq4de9J",
        "colab": {
          "base_uri": "https://localhost:8080/",
          "height": 119
        },
        "outputId": "18575f64-9443-4543-b9c5-ae7122ad66b9"
      },
      "source": [
        "not_miss_MasVnrArea.agg({'MasVnrArea':'avg'}).show()"
      ],
      "execution_count": null,
      "outputs": [
        {
          "output_type": "stream",
          "text": [
            "+------------------+\n",
            "|   avg(MasVnrArea)|\n",
            "+------------------+\n",
            "|102.20131215469613|\n",
            "+------------------+\n",
            "\n"
          ],
          "name": "stdout"
        }
      ]
    },
    {
      "cell_type": "markdown",
      "metadata": {
        "id": "sIPyfDS7CnWk"
      },
      "source": [
        "* Calculamos la **mediana** de la variable."
      ]
    },
    {
      "cell_type": "code",
      "metadata": {
        "id": "H2WpCYImdfIw",
        "colab": {
          "base_uri": "https://localhost:8080/",
          "height": 34
        },
        "outputId": "41e2491a-72c0-4636-e05f-483358f305e3"
      },
      "source": [
        "statFunc(not_miss_MasVnrArea).approxQuantile('MasVnrArea', [0.5], 0.1)"
      ],
      "execution_count": null,
      "outputs": [
        {
          "output_type": "execute_result",
          "data": {
            "text/plain": [
              "[0.0]"
            ]
          },
          "metadata": {
            "tags": []
          },
          "execution_count": 59
        }
      ]
    },
    {
      "cell_type": "markdown",
      "metadata": {
        "id": "DnHX92kUCtVJ"
      },
      "source": [
        "* Calculamos un **resumen numérico** de la variable."
      ]
    },
    {
      "cell_type": "code",
      "metadata": {
        "id": "WPG9DeBZeCys",
        "colab": {
          "base_uri": "https://localhost:8080/",
          "height": 187
        },
        "outputId": "a56e69ee-545b-4d18-f281-b65f053c6819"
      },
      "source": [
        "not_miss_MasVnrArea.describe('MasVnrArea').show()"
      ],
      "execution_count": null,
      "outputs": [
        {
          "output_type": "stream",
          "text": [
            "+-------+------------------+\n",
            "|summary|        MasVnrArea|\n",
            "+-------+------------------+\n",
            "|  count|              2896|\n",
            "|   mean|102.20131215469613|\n",
            "| stddev|179.33425303776386|\n",
            "|    min|                 0|\n",
            "|    max|              1600|\n",
            "+-------+------------------+\n",
            "\n"
          ],
          "name": "stdout"
        }
      ]
    },
    {
      "cell_type": "markdown",
      "metadata": {
        "id": "M5mEc93hCz-N"
      },
      "source": [
        "* Representamos el **boxplot** de la variable."
      ]
    },
    {
      "cell_type": "code",
      "metadata": {
        "id": "cdC5EjqsE0nA",
        "colab": {
          "base_uri": "https://localhost:8080/",
          "height": 401
        },
        "outputId": "0c749553-8079-4b13-aa20-a8047d0a9abf"
      },
      "source": [
        "plt.boxplot(not_miss_MasVnrArea[['MasVnrArea']].toPandas()['MasVnrArea'])"
      ],
      "execution_count": null,
      "outputs": [
        {
          "output_type": "execute_result",
          "data": {
            "text/plain": [
              "{'boxes': [<matplotlib.lines.Line2D at 0x7f74d2428a58>],\n",
              " 'caps': [<matplotlib.lines.Line2D at 0x7f74d243b4a8>,\n",
              "  <matplotlib.lines.Line2D at 0x7f74d243b828>],\n",
              " 'fliers': [<matplotlib.lines.Line2D at 0x7f74d243bf28>],\n",
              " 'means': [],\n",
              " 'medians': [<matplotlib.lines.Line2D at 0x7f74d243bba8>],\n",
              " 'whiskers': [<matplotlib.lines.Line2D at 0x7f74d2428d68>,\n",
              "  <matplotlib.lines.Line2D at 0x7f74d243b128>]}"
            ]
          },
          "metadata": {
            "tags": []
          },
          "execution_count": 61
        },
        {
          "output_type": "display_data",
          "data": {
            "image/png": "[encoded data removed]",
            "text/plain": [
              "<Figure size 432x288 with 1 Axes>"
            ]
          },
          "metadata": {
            "tags": [],
            "needs_background": "light"
          }
        }
      ]
    },
    {
      "cell_type": "markdown",
      "metadata": {
        "id": "8yeWPq_7fhc9"
      },
      "source": [
        "Como podemos observar, esta variable presenta una desviación típica muy alta por lo que ni la media ni la mediana pondrían ser valores representativos para esta variable. Además cuando representamos el boxplot, vemos tiene una gran cantidad de outliers. En consiguiente, creemos adecuado **eliminar** esta variable del estudio."
      ]
    },
    {
      "cell_type": "markdown",
      "metadata": {
        "id": "f6LqhWdraryW"
      },
      "source": [
        "##### **MasVnrType**\n",
        "\n",
        "Esta variable representa el **tipo de revestimiento de mampostería**.\n",
        "\n",
        "Vamos a comenzar estudiando las viviendas a las que le faltan esta variable."
      ]
    },
    {
      "cell_type": "code",
      "metadata": {
        "id": "EJhmZ_v9crAd",
        "colab": {
          "base_uri": "https://localhost:8080/",
          "height": 479
        },
        "outputId": "f16278d6-bf00-43ae-b997-ff17423576c6"
      },
      "source": [
        "miss_MasVnrType = data_full_impt.filter(data_full_impt.MasVnrType.isNull())\n",
        "miss_MasVnrType.show()"
      ],
      "execution_count": null,
      "outputs": [
        {
          "output_type": "stream",
          "text": [
            "+----+----------+--------+-----------+-------+------+-----+--------+-----------+---------+---------+---------+------------+----------+----------+--------+----------+-----------+-----------+---------+------------+---------+--------+-----------+-----------+----------+----------+---------+---------+----------+--------+--------+------------+------------+----------+------------+----------+---------+-----------+-------+---------+----------+----------+--------+--------+------------+---------+------------+------------+--------+--------+------------+------------+-----------+------------+----------+----------+-----------+----------+-----------+------------+----------+----------+----------+----------+----------+----------+-----------+-------------+---------+-----------+--------+------+-----+-----------+-------+------+------+--------+-------------+---------+\n",
            "|  Id|MSSubClass|MSZoning|LotFrontage|LotArea|Street|Alley|LotShape|LandContour|Utilities|LotConfig|LandSlope|Neighborhood|Condition1|Condition2|BldgType|HouseStyle|OverallQual|OverallCond|YearBuilt|YearRemodAdd|RoofStyle|RoofMatl|Exterior1st|Exterior2nd|MasVnrType|MasVnrArea|ExterQual|ExterCond|Foundation|BsmtQual|BsmtCond|BsmtExposure|BsmtFinType1|BsmtFinSF1|BsmtFinType2|BsmtFinSF2|BsmtUnfSF|TotalBsmtSF|Heating|HeatingQC|CentralAir|Electrical|1stFlrSF|2ndFlrSF|LowQualFinSF|GrLivArea|BsmtFullBath|BsmtHalfBath|FullBath|HalfBath|BedroomAbvGr|KitchenAbvGr|KitchenQual|TotRmsAbvGrd|Functional|Fireplaces|FireplaceQu|GarageType|GarageYrBlt|GarageFinish|GarageCars|GarageArea|GarageQual|GarageCond|PavedDrive|WoodDeckSF|OpenPorchSF|EnclosedPorch|3SsnPorch|ScreenPorch|PoolArea|PoolQC|Fence|MiscFeature|MiscVal|MoSold|YrSold|SaleType|SaleCondition|SalePrice|\n",
            "+----+----------+--------+-----------+-------+------+-----+--------+-----------+---------+---------+---------+------------+----------+----------+--------+----------+-----------+-----------+---------+------------+---------+--------+-----------+-----------+----------+----------+---------+---------+----------+--------+--------+------------+------------+----------+------------+----------+---------+-----------+-------+---------+----------+----------+--------+--------+------------+---------+------------+------------+--------+--------+------------+------------+-----------+------------+----------+----------+-----------+----------+-----------+------------+----------+----------+----------+----------+----------+----------+-----------+-------------+---------+-----------+--------+------+-----+-----------+-------+------+------+--------+-------------+---------+\n",
            "| 235|        60|      RL|       null|   7851|  Pave|NotNA|     Reg|        Lvl|   AllPub|   Inside|      Gtl|     Gilbert|      Norm|      Norm|    1Fam|    2Story|          6|          5|     2002|        2002|    Gable| CompShg|    VinylSd|    VinylSd|      null|      null|       Gd|       TA|     PConc|      Gd|      TA|          No|         GLQ|       625|         Unf|         0|      235|        860|   GasA|       Ex|         Y|     SBrkr|     860|    1100|           0|     1960|           1|           0|       2|       1|           4|           1|         Gd|           8|       Typ|         2|         TA|   BuiltIn|       2002|         Fin|         2|       440|        TA|        TA|         Y|       288|         48|            0|        0|          0|       0| NotNA|NotNA|      NotNA|      0|     5|  2010|      WD|       Normal|   216500|\n",
            "| 530|        20|      RL|       null|  32668|  Pave|NotNA|     IR1|        Lvl|   AllPub|  CulDSac|      Gtl|     Crawfor|      Norm|      Norm|    1Fam|    1Story|          6|          3|     1957|        1975|      Hip| CompShg|    Wd Sdng|      Stone|      null|      null|       Gd|       TA|     PConc|      TA|      TA|          No|         Rec|      1219|         Unf|         0|      816|       2035|   GasA|       TA|         Y|     SBrkr|    2515|       0|           0|     2515|           1|           0|       3|       0|           4|           2|         TA|           9|      Maj1|         2|         TA|    Attchd|       1975|         RFn|         2|       484|        TA|        TA|         Y|         0|          0|          200|        0|          0|       0| NotNA|NotNA|      NotNA|      0|     3|  2007|      WD|       Alloca|   200624|\n",
            "| 651|        60|      FV|         65|   8125|  Pave|NotNA|     Reg|        Lvl|   AllPub|   Inside|      Gtl|     Somerst|      Norm|      Norm|    1Fam|    2Story|          7|          6|     2007|        2007|    Gable| CompShg|    CemntBd|    CmentBd|      null|      null|       Gd|       TA|     PConc|      Gd|      TA|          No|         Unf|         0|         Unf|         0|      813|        813|   GasA|       Ex|         Y|     SBrkr|     822|     843|           0|     1665|           0|           0|       2|       1|           3|           1|         Gd|           7|       Typ|         0|      NotNA|    Attchd|       2007|         RFn|         2|       562|        TA|        TA|         Y|         0|          0|            0|        0|          0|       0| NotNA|NotNA|      NotNA|      0|     5|  2008|      WD|       Normal|   205950|\n",
            "| 937|        20|      RL|         67|  10083|  Pave|NotNA|     Reg|        Lvl|   AllPub|   Inside|      Gtl|     SawyerW|      Norm|      Norm|    1Fam|    1Story|          7|          5|     2003|        2003|    Gable| CompShg|    VinylSd|    VinylSd|      null|      null|       Gd|       TA|     PConc|      Gd|      TA|          No|         GLQ|       833|         Unf|         0|      343|       1176|   GasA|       Ex|         Y|     SBrkr|    1200|       0|           0|     1200|           1|           0|       2|       0|           2|           1|         Gd|           5|       Typ|         0|      NotNA|    Attchd|       2003|         RFn|         2|       555|        TA|        TA|         Y|         0|         41|            0|        0|          0|       0| NotNA|NotNA|      NotNA|      0|     8|  2009|      WD|       Normal|   184900|\n",
            "| 974|        20|      FV|         95|  11639|  Pave|NotNA|     Reg|        Lvl|   AllPub|   Corner|      Gtl|     Somerst|      Norm|      Norm|    1Fam|    1Story|          7|          5|     2007|        2008|    Gable| CompShg|    CemntBd|    CmentBd|      null|      null|       Gd|       TA|     PConc|      Gd|      TA|          No|         Unf|         0|         Unf|         0|     1428|       1428|   GasA|       Ex|         Y|     SBrkr|    1428|       0|           0|     1428|           0|           0|       2|       0|           3|           1|         Gd|           6|       Typ|         0|      NotNA|    Attchd|       2007|         Fin|         2|       480|        TA|        TA|         Y|         0|        120|            0|        0|          0|       0| NotNA|NotNA|      NotNA|      0|    12|  2008|     New|      Partial|   182000|\n",
            "| 978|       120|      FV|         35|   4274|  Pave| Pave|     IR1|        Lvl|   AllPub|   Inside|      Gtl|     Somerst|      Norm|      Norm|  TwnhsE|    1Story|          7|          5|     2006|        2007|    Gable| CompShg|    VinylSd|    VinylSd|      null|      null|       Gd|       TA|     PConc|      Gd|      TA|          No|         GLQ|      1106|         Unf|         0|      135|       1241|   GasA|       Ex|         Y|     SBrkr|    1241|       0|           0|     1241|           1|           0|       1|       1|           1|           1|         Gd|           4|       Typ|         0|      NotNA|    Attchd|       2007|         Fin|         2|       569|        TA|        TA|         Y|         0|        116|            0|        0|          0|       0| NotNA|NotNA|      NotNA|      0|    11|  2007|     New|      Partial|   199900|\n",
            "|1244|        20|      RL|        107|  13891|  Pave|NotNA|     Reg|        Lvl|   AllPub|   Inside|      Gtl|     NridgHt|      Norm|      Norm|    1Fam|    1Story|         10|          5|     2006|        2006|    Gable| CompShg|    VinylSd|    VinylSd|      null|      null|       Ex|       TA|     PConc|      Ex|      Gd|          Gd|         GLQ|      1386|         Unf|         0|      690|       2076|   GasA|       Ex|         Y|     SBrkr|    2076|       0|           0|     2076|           1|           0|       2|       1|           2|           1|         Ex|           7|       Typ|         1|         Gd|    Attchd|       2006|         Fin|         3|       850|        TA|        TA|         Y|       216|        229|            0|        0|          0|       0| NotNA|NotNA|      NotNA|      0|     9|  2006|     New|      Partial|   465000|\n",
            "|1279|        60|      RL|         75|   9473|  Pave|NotNA|     Reg|        Lvl|   AllPub|   Inside|      Gtl|     CollgCr|      Norm|      Norm|    1Fam|    2Story|          8|          5|     2002|        2002|    Gable| CompShg|    VinylSd|    VinylSd|      null|      null|       Gd|       TA|     PConc|      Gd|      TA|          No|         GLQ|       804|         Unf|         0|      324|       1128|   GasA|       Ex|         Y|     SBrkr|    1128|     903|           0|     2031|           1|           0|       2|       1|           3|           1|         Gd|           7|       Typ|         1|         Gd|    Attchd|       2002|         RFn|         2|       577|        TA|        TA|         Y|         0|        211|            0|        0|          0|       0| NotNA|NotNA|      NotNA|      0|     3|  2008|      WD|       Normal|   237000|\n",
            "|1692|        60|      RL|       null|  12891|  Pave|NotNA|     IR1|        Lvl|   AllPub|   Corner|      Gtl|     Gilbert|      Norm|      Norm|    1Fam|    2Story|          8|          5|     2002|        2002|    Gable| CompShg|    VinylSd|    VinylSd|      null|      null|       Gd|       TA|     PConc|      Ex|      TA|          No|         GLQ|       651|         Unf|         0|      219|        870|   GasA|       Ex|         Y|     SBrkr|     878|    1126|           0|     2004|           1|           0|       2|       1|           4|           1|         Gd|           8|       Typ|         1|         Gd|   BuiltIn|       2002|         Fin|         3|       644|        TA|        TA|         Y|         0|         48|            0|        0|          0|       0| NotNA|NotNA|      NotNA|      0|     7|  2009|      WD|       Normal|     null|\n",
            "|1707|        20|      FV|         90|   7993|  Pave|NotNA|     IR1|        Lvl|   AllPub|   Inside|      Gtl|     Somerst|      Norm|      Norm|    1Fam|    1Story|          7|          5|     2008|        2009|    Gable| CompShg|    VinylSd|    VinylSd|      null|      null|       Gd|       TA|     PConc|      Ex|      TA|          No|         Unf|         0|         Unf|         0|     1436|       1436|   GasA|       Ex|         Y|     SBrkr|    1436|       0|           0|     1436|           0|           0|       2|       0|           3|           1|         Gd|           6|       Typ|         0|      NotNA|    Attchd|       2008|         Fin|         2|       529|        TA|        TA|         Y|         0|        121|            0|        0|          0|       0| NotNA|NotNA|      NotNA|      0|    10|  2009|     New|      Partial|     null|\n",
            "|1883|        60|      RL|         70|   8749|  Pave|NotNA|     Reg|        Lvl|   AllPub|   Inside|      Gtl|     CollgCr|      Norm|      Norm|    1Fam|    2Story|          7|          5|     2002|        2002|    Gable| CompShg|    VinylSd|    VinylSd|      null|      null|       Gd|       TA|     PConc|      Gd|      TA|          No|         Unf|         0|         Unf|         0|      840|        840|   GasA|       Ex|         Y|     SBrkr|     840|     885|           0|     1725|           0|           0|       2|       1|           3|           1|         Gd|           6|       Typ|         0|      NotNA|    Attchd|       2002|         RFn|         2|       550|        TA|        TA|         Y|         0|         48|            0|        0|          0|       0| NotNA|NotNA|      NotNA|      0|    11|  2009|      WD|       Normal|     null|\n",
            "|1993|        60|      RL|       null|   7750|  Pave|NotNA|     Reg|        Lvl|   AllPub|   Inside|      Gtl|     Gilbert|      RRAn|      Norm|    1Fam|    2Story|          7|          5|     2002|        2002|    Gable| CompShg|    VinylSd|    VinylSd|      null|      null|       Gd|       TA|     PConc|      Gd|      TA|          No|         Unf|         0|         Unf|         0|      707|        707|   GasA|       Ex|         Y|     SBrkr|     707|     707|           0|     1414|           0|           0|       2|       1|           3|           1|         Gd|           6|       Typ|         1|         Gd|    Attchd|       2002|         Fin|         2|       403|        TA|        TA|         Y|       100|         35|            0|        0|          0|       0| NotNA|NotNA|      NotNA|      0|     4|  2008|      WD|       Normal|     null|\n",
            "|2005|        20|      RL|         87|  10037|  Pave|NotNA|     Reg|        Lvl|   AllPub|   Corner|      Gtl|     Somerst|     Feedr|      Norm|    1Fam|    1Story|          8|          5|     2006|        2007|      Hip| CompShg|    VinylSd|    VinylSd|      null|      null|       Gd|       TA|     PConc|      Ex|      TA|          No|         GLQ|       666|         Unf|         0|      794|       1460|   GasA|       Ex|         Y|     SBrkr|    1460|       0|           0|     1460|           0|           0|       2|       0|           3|           1|         Gd|           6|       Typ|         1|         Gd|    Attchd|       2006|         Fin|         2|       480|        TA|        TA|         Y|         0|         20|            0|        0|          0|       0| NotNA|NotNA|      NotNA|      0|     8|  2008|      WD|       Normal|     null|\n",
            "|2042|        60|      FV|       null|   7500|  Pave|NotNA|     Reg|        Lvl|   AllPub|   Inside|      Gtl|     Somerst|      Norm|      Norm|    1Fam|    2Story|          7|          5|     2002|        2002|    Gable| CompShg|    VinylSd|    VinylSd|      null|      null|       Gd|       TA|     PConc|      Gd|      TA|          No|         Unf|         0|         Unf|         0|      952|        952|   GasA|       Ex|         Y|     SBrkr|     952|     860|           0|     1812|           0|           0|       2|       1|           3|           1|         TA|           7|       Typ|         1|         TA|    Attchd|       2002|         RFn|         2|       469|        TA|        TA|         Y|       144|        112|            0|        0|          0|       0| NotNA|NotNA|      NotNA|      0|     4|  2008|      WD|       Normal|     null|\n",
            "|2312|        60|      RL|         59|  15810|  Pave|NotNA|     IR1|        Lvl|   AllPub|   Inside|      Gtl|     Gilbert|      RRAn|      Norm|    1Fam|    2Story|          6|          5|     2007|        2007|    Gable| CompShg|    VinylSd|    VinylSd|      null|      null|       Gd|       TA|    CBlock|      Gd|      TA|          No|         Unf|         0|         Unf|         0|      768|        768|   GasA|       Ex|         Y|     SBrkr|     768|     728|           0|     1496|           0|           0|       3|       0|           3|           1|         Gd|           7|       Typ|         0|      NotNA|    Attchd|       2007|         Unf|         2|       572|        TA|        TA|         Y|       100|          0|            0|        0|          0|       0| NotNA|NotNA|      NotNA|      0|     5|  2007|     New|      Partial|     null|\n",
            "|2326|        80|      RL|       null|  11950|  Pave|NotNA|     IR1|        Lvl|   AllPub|   Corner|      Gtl|     Gilbert|      Norm|      Norm|    1Fam|      SLvl|          7|          5|     2003|        2003|    Gable| CompShg|    VinylSd|    VinylSd|      null|      null|       Gd|       TA|     PConc|      Gd|      TA|          No|         Unf|         0|         Unf|         0|      384|        384|   GasA|       Ex|         Y|     SBrkr|     754|     640|           0|     1394|           0|           0|       2|       1|           3|           1|         Gd|           7|       Typ|         1|         TA|   BuiltIn|       2003|         Fin|         2|       400|        TA|        TA|         Y|       100|          0|            0|        0|          0|       0| NotNA|NotNA|      NotNA|      0|    10|  2007|      WD|       Normal|     null|\n",
            "|2341|        20|      RL|         85|   9965|  Pave|NotNA|     Reg|        Lvl|   AllPub|      FR2|      Gtl|     Somerst|     Feedr|      Norm|    1Fam|    1Story|          7|          5|     2007|        2007|    Gable| CompShg|    VinylSd|    VinylSd|      null|      null|       Gd|       TA|     PConc|      Gd|      TA|          No|         Unf|         0|         Unf|         0|     1528|       1528|   GasA|       Ex|         Y|     SBrkr|    1528|       0|           0|     1528|           0|           0|       3|       2|           3|           1|         Gd|           6|       Typ|         1|         TA|    Attchd|       2007|         Unf|         2|       480|        TA|        TA|         Y|         0|        228|            0|        0|          0|       0| NotNA|NotNA|      NotNA|      0|     9|  2007|     New|      Partial|     null|\n",
            "|2350|        60|      FV|        112|  12217|  Pave|NotNA|     IR1|        Lvl|   AllPub|   Inside|      Gtl|     Somerst|      Norm|      Norm|    1Fam|    2Story|          8|          5|     2007|        2007|      Hip| CompShg|    WdShing|    Wd Shng|      null|      null|       Gd|       TA|     PConc|      Ex|      TA|          Av|         GLQ|       745|         Unf|         0|      210|        955|   GasA|       Ex|         Y|     SBrkr|     955|     925|           0|     1880|           1|           0|       2|       1|           3|           1|         Ex|           8|       Typ|         1|         Gd|    Attchd|       2007|         Fin|         3|       880|        TA|        TA|         Y|       168|        127|            0|        0|          0|       0| NotNA|NotNA|      NotNA|      0|    12|  2007|     New|      Partial|     null|\n",
            "|2369|       120|      FV|         30|   5330|  Pave| Pave|     IR2|        Lvl|   AllPub|   Inside|      Gtl|     Somerst|      Norm|      Norm|  TwnhsE|    1Story|          8|          5|     2006|        2007|    Gable| CompShg|    VinylSd|    VinylSd|      null|      null|       Gd|       TA|     PConc|      Gd|      TA|          No|         Unf|         0|         Unf|         0|     1550|       1550|   GasA|       Ex|         Y|     SBrkr|    1550|       0|           0|     1550|           0|           0|       2|       1|           2|           1|         Gd|           5|       Typ|         0|      NotNA|    Attchd|       2007|         Fin|         2|       528|        TA|        TA|         Y|         0|        102|            0|        0|          0|       0| NotNA|NotNA|      NotNA|      0|     7|  2007|     New|      Partial|     null|\n",
            "|2593|        20|      RL|         68|   8298|  Pave|NotNA|     IR1|        HLS|   AllPub|   Inside|      Gtl|      Timber|      Norm|      Norm|    1Fam|    1Story|          8|          5|     2006|        2007|      Hip| CompShg|    VinylSd|    VinylSd|      null|      null|       Gd|       TA|     PConc|      Gd|      TA|          Av|         GLQ|       583|         Unf|         0|      963|       1546|   GasA|       Ex|         Y|     SBrkr|    1564|       0|           0|     1564|           0|           0|       2|       0|           2|           1|         Ex|           6|       Typ|         1|         Gd|    Attchd|       2207|         RFn|         2|       502|        TA|        TA|         Y|       132|          0|            0|        0|          0|       0| NotNA|NotNA|      NotNA|      0|     9|  2007|     New|      Partial|     null|\n",
            "+----+----------+--------+-----------+-------+------+-----+--------+-----------+---------+---------+---------+------------+----------+----------+--------+----------+-----------+-----------+---------+------------+---------+--------+-----------+-----------+----------+----------+---------+---------+----------+--------+--------+------------+------------+----------+------------+----------+---------+-----------+-------+---------+----------+----------+--------+--------+------------+---------+------------+------------+--------+--------+------------+------------+-----------+------------+----------+----------+-----------+----------+-----------+------------+----------+----------+----------+----------+----------+----------+-----------+-------------+---------+-----------+--------+------+-----+-----------+-------+------+------+--------+-------------+---------+\n",
            "only showing top 20 rows\n",
            "\n"
          ],
          "name": "stdout"
        }
      ]
    },
    {
      "cell_type": "markdown",
      "metadata": {
        "id": "OTFwOt2tqkz-"
      },
      "source": [
        "Pensamos que esta variable se podría relacionar con el área de la fachada(**MasVnrArea**), pero al haberla eliminado, creemos adecuado dejar esta variable con el fin de tener una característica que defina el revestimiento de mampostería. Por tanto, vamos a imputar esta variable por la moda con el fin de no alterar la distribución de ésta."
      ]
    },
    {
      "cell_type": "code",
      "metadata": {
        "id": "yYQyctfxDJ0W"
      },
      "source": [
        "not_miss_MasVnrType = data_full_impt.filter(data_full_impt.MasVnrType.isNotNull())"
      ],
      "execution_count": null,
      "outputs": []
    },
    {
      "cell_type": "code",
      "metadata": {
        "id": "HA_W-su5cv_D",
        "colab": {
          "base_uri": "https://localhost:8080/",
          "height": 170
        },
        "outputId": "5fa0a1cf-8a2f-49ac-885a-55bc28fb7332"
      },
      "source": [
        "not_miss_MasVnrType.groupby('MasVnrType').count().orderBy(F.desc('count')).show()"
      ],
      "execution_count": null,
      "outputs": [
        {
          "output_type": "stream",
          "text": [
            "+----------+-----+\n",
            "|MasVnrType|count|\n",
            "+----------+-----+\n",
            "|      None| 1742|\n",
            "|   BrkFace|  879|\n",
            "|     Stone|  249|\n",
            "|    BrkCmn|   25|\n",
            "+----------+-----+\n",
            "\n"
          ],
          "name": "stdout"
        }
      ]
    },
    {
      "cell_type": "code",
      "metadata": {
        "id": "iLI6BU52c0V0"
      },
      "source": [
        "valimp_MasVnrType = \"None\""
      ],
      "execution_count": null,
      "outputs": []
    },
    {
      "cell_type": "markdown",
      "metadata": {
        "id": "Fh2iK6ztgIO2"
      },
      "source": [
        "##### **BsmtFinSF1**\n",
        "\n",
        "Esta variable representa el **área terminada del sótano del tipo 1 en pies cuadrados**.\n",
        "\n",
        "Comenzamos investigando la vivienda a la que le falta este dato."
      ]
    },
    {
      "cell_type": "code",
      "metadata": {
        "id": "NDY_r2t0hC2O",
        "colab": {
          "base_uri": "https://localhost:8080/",
          "height": 139
        },
        "outputId": "22712fde-6c39-42d3-c184-343e0a5f9368"
      },
      "source": [
        "miss_BsmtFinSF1 = data_full_impt.filter(data_full_impt.BsmtFinSF1.isNull())\n",
        "miss_BsmtFinSF1.show()"
      ],
      "execution_count": null,
      "outputs": [
        {
          "output_type": "stream",
          "text": [
            "+----+----------+--------+-----------+-------+------+-----+--------+-----------+---------+---------+---------+------------+----------+----------+--------+----------+-----------+-----------+---------+------------+---------+--------+-----------+-----------+----------+----------+---------+---------+----------+--------+--------+------------+------------+----------+------------+----------+---------+-----------+-------+---------+----------+----------+--------+--------+------------+---------+------------+------------+--------+--------+------------+------------+-----------+------------+----------+----------+-----------+----------+-----------+------------+----------+----------+----------+----------+----------+----------+-----------+-------------+---------+-----------+--------+------+-----+-----------+-------+------+------+--------+-------------+---------+\n",
            "|  Id|MSSubClass|MSZoning|LotFrontage|LotArea|Street|Alley|LotShape|LandContour|Utilities|LotConfig|LandSlope|Neighborhood|Condition1|Condition2|BldgType|HouseStyle|OverallQual|OverallCond|YearBuilt|YearRemodAdd|RoofStyle|RoofMatl|Exterior1st|Exterior2nd|MasVnrType|MasVnrArea|ExterQual|ExterCond|Foundation|BsmtQual|BsmtCond|BsmtExposure|BsmtFinType1|BsmtFinSF1|BsmtFinType2|BsmtFinSF2|BsmtUnfSF|TotalBsmtSF|Heating|HeatingQC|CentralAir|Electrical|1stFlrSF|2ndFlrSF|LowQualFinSF|GrLivArea|BsmtFullBath|BsmtHalfBath|FullBath|HalfBath|BedroomAbvGr|KitchenAbvGr|KitchenQual|TotRmsAbvGrd|Functional|Fireplaces|FireplaceQu|GarageType|GarageYrBlt|GarageFinish|GarageCars|GarageArea|GarageQual|GarageCond|PavedDrive|WoodDeckSF|OpenPorchSF|EnclosedPorch|3SsnPorch|ScreenPorch|PoolArea|PoolQC|Fence|MiscFeature|MiscVal|MoSold|YrSold|SaleType|SaleCondition|SalePrice|\n",
            "+----+----------+--------+-----------+-------+------+-----+--------+-----------+---------+---------+---------+------------+----------+----------+--------+----------+-----------+-----------+---------+------------+---------+--------+-----------+-----------+----------+----------+---------+---------+----------+--------+--------+------------+------------+----------+------------+----------+---------+-----------+-------+---------+----------+----------+--------+--------+------------+---------+------------+------------+--------+--------+------------+------------+-----------+------------+----------+----------+-----------+----------+-----------+------------+----------+----------+----------+----------+----------+----------+-----------+-------------+---------+-----------+--------+------+-----+-----------+-------+------+------+--------+-------------+---------+\n",
            "|2121|        20|      RM|         99|   5940|  Pave|NotNA|     IR1|        Lvl|   AllPub|      FR3|      Gtl|     BrkSide|     Feedr|      Norm|    1Fam|    1Story|          4|          7|     1946|        1950|    Gable| CompShg|    MetalSd|     CBlock|      None|         0|       TA|       TA|     PConc|   NotNA|   NotNA|       NotNA|       NotNA|      null|       NotNA|      null|     null|       null|   GasA|       TA|         Y|     FuseA|     896|       0|           0|      896|        null|        null|       1|       0|           2|           1|         TA|           4|       Typ|         0|      NotNA|    Detchd|       1946|         Unf|         1|       280|        TA|        TA|         Y|         0|          0|            0|        0|          0|       0| NotNA|MnPrv|      NotNA|      0|     4|  2008|   ConLD|      Abnorml|     null|\n",
            "+----+----------+--------+-----------+-------+------+-----+--------+-----------+---------+---------+---------+------------+----------+----------+--------+----------+-----------+-----------+---------+------------+---------+--------+-----------+-----------+----------+----------+---------+---------+----------+--------+--------+------------+------------+----------+------------+----------+---------+-----------+-------+---------+----------+----------+--------+--------+------------+---------+------------+------------+--------+--------+------------+------------+-----------+------------+----------+----------+-----------+----------+-----------+------------+----------+----------+----------+----------+----------+----------+-----------+-------------+---------+-----------+--------+------+-----+-----------+-------+------+------+--------+-------------+---------+\n",
            "\n"
          ],
          "name": "stdout"
        }
      ]
    },
    {
      "cell_type": "markdown",
      "metadata": {
        "id": "NMMkL_2PPMPB"
      },
      "source": [
        "Si observamos las variables correspondientes al sótano de la vivienda, podemos deducir que no hay sótano. Por tanto, vamos a imputar esta variable por 0 ya que no hay área. "
      ]
    },
    {
      "cell_type": "code",
      "metadata": {
        "id": "62diaDeoi7-4"
      },
      "source": [
        "valimp_BsmtFinSF1 = 0"
      ],
      "execution_count": null,
      "outputs": []
    },
    {
      "cell_type": "markdown",
      "metadata": {
        "id": "LHdogRrAgdeL"
      },
      "source": [
        "##### **BsmtFinSF2**\n",
        "\n",
        "Esta variable representa el **área terminada del sótano del tipo 2 en pies cuadrados**. \n",
        "\n",
        "Comenzamos estudiando la vivienda a la que le falta este dato."
      ]
    },
    {
      "cell_type": "code",
      "metadata": {
        "id": "yUDoqAJCisTs",
        "colab": {
          "base_uri": "https://localhost:8080/",
          "height": 139
        },
        "outputId": "f2c69f2e-11aa-4b18-db84-e2a5f5eb710b"
      },
      "source": [
        "miss_BsmtFinSF2 = data_full_impt.filter(data_full_impt.BsmtFinSF2.isNull())\n",
        "miss_BsmtFinSF2.show()"
      ],
      "execution_count": null,
      "outputs": [
        {
          "output_type": "stream",
          "text": [
            "+----+----------+--------+-----------+-------+------+-----+--------+-----------+---------+---------+---------+------------+----------+----------+--------+----------+-----------+-----------+---------+------------+---------+--------+-----------+-----------+----------+----------+---------+---------+----------+--------+--------+------------+------------+----------+------------+----------+---------+-----------+-------+---------+----------+----------+--------+--------+------------+---------+------------+------------+--------+--------+------------+------------+-----------+------------+----------+----------+-----------+----------+-----------+------------+----------+----------+----------+----------+----------+----------+-----------+-------------+---------+-----------+--------+------+-----+-----------+-------+------+------+--------+-------------+---------+\n",
            "|  Id|MSSubClass|MSZoning|LotFrontage|LotArea|Street|Alley|LotShape|LandContour|Utilities|LotConfig|LandSlope|Neighborhood|Condition1|Condition2|BldgType|HouseStyle|OverallQual|OverallCond|YearBuilt|YearRemodAdd|RoofStyle|RoofMatl|Exterior1st|Exterior2nd|MasVnrType|MasVnrArea|ExterQual|ExterCond|Foundation|BsmtQual|BsmtCond|BsmtExposure|BsmtFinType1|BsmtFinSF1|BsmtFinType2|BsmtFinSF2|BsmtUnfSF|TotalBsmtSF|Heating|HeatingQC|CentralAir|Electrical|1stFlrSF|2ndFlrSF|LowQualFinSF|GrLivArea|BsmtFullBath|BsmtHalfBath|FullBath|HalfBath|BedroomAbvGr|KitchenAbvGr|KitchenQual|TotRmsAbvGrd|Functional|Fireplaces|FireplaceQu|GarageType|GarageYrBlt|GarageFinish|GarageCars|GarageArea|GarageQual|GarageCond|PavedDrive|WoodDeckSF|OpenPorchSF|EnclosedPorch|3SsnPorch|ScreenPorch|PoolArea|PoolQC|Fence|MiscFeature|MiscVal|MoSold|YrSold|SaleType|SaleCondition|SalePrice|\n",
            "+----+----------+--------+-----------+-------+------+-----+--------+-----------+---------+---------+---------+------------+----------+----------+--------+----------+-----------+-----------+---------+------------+---------+--------+-----------+-----------+----------+----------+---------+---------+----------+--------+--------+------------+------------+----------+------------+----------+---------+-----------+-------+---------+----------+----------+--------+--------+------------+---------+------------+------------+--------+--------+------------+------------+-----------+------------+----------+----------+-----------+----------+-----------+------------+----------+----------+----------+----------+----------+----------+-----------+-------------+---------+-----------+--------+------+-----+-----------+-------+------+------+--------+-------------+---------+\n",
            "|2121|        20|      RM|         99|   5940|  Pave|NotNA|     IR1|        Lvl|   AllPub|      FR3|      Gtl|     BrkSide|     Feedr|      Norm|    1Fam|    1Story|          4|          7|     1946|        1950|    Gable| CompShg|    MetalSd|     CBlock|      None|         0|       TA|       TA|     PConc|   NotNA|   NotNA|       NotNA|       NotNA|      null|       NotNA|      null|     null|       null|   GasA|       TA|         Y|     FuseA|     896|       0|           0|      896|        null|        null|       1|       0|           2|           1|         TA|           4|       Typ|         0|      NotNA|    Detchd|       1946|         Unf|         1|       280|        TA|        TA|         Y|         0|          0|            0|        0|          0|       0| NotNA|MnPrv|      NotNA|      0|     4|  2008|   ConLD|      Abnorml|     null|\n",
            "+----+----------+--------+-----------+-------+------+-----+--------+-----------+---------+---------+---------+------------+----------+----------+--------+----------+-----------+-----------+---------+------------+---------+--------+-----------+-----------+----------+----------+---------+---------+----------+--------+--------+------------+------------+----------+------------+----------+---------+-----------+-------+---------+----------+----------+--------+--------+------------+---------+------------+------------+--------+--------+------------+------------+-----------+------------+----------+----------+-----------+----------+-----------+------------+----------+----------+----------+----------+----------+----------+-----------+-------------+---------+-----------+--------+------+-----+-----------+-------+------+------+--------+-------------+---------+\n",
            "\n"
          ],
          "name": "stdout"
        }
      ]
    },
    {
      "cell_type": "markdown",
      "metadata": {
        "id": "TisL4eLOTc_4"
      },
      "source": [
        "Observamos que es la misma vivienda que en el caso anterior, es decir, no tiene sótano. Es por ello, por lo que imputamos esta variable por 0."
      ]
    },
    {
      "cell_type": "code",
      "metadata": {
        "id": "sYtJqJGPjf9c"
      },
      "source": [
        "valimp_BsmtFinSF2 = 0"
      ],
      "execution_count": null,
      "outputs": []
    },
    {
      "cell_type": "markdown",
      "metadata": {
        "id": "rAfNVZXKjorZ"
      },
      "source": [
        "##### **BsmtUnfSF**\n",
        "\n",
        "Esta variable representa el **número de pies cuadrados sin terminar del área del sótano**.\n",
        "\n",
        "Comenzamos investigando la vivienda a la que le falta este dato."
      ]
    },
    {
      "cell_type": "code",
      "metadata": {
        "id": "9zkcXXljj5G2",
        "colab": {
          "base_uri": "https://localhost:8080/",
          "height": 139
        },
        "outputId": "95990c68-2dde-41b5-8595-29fe8e9025fe"
      },
      "source": [
        "miss_BsmtUnfSF = data_full_impt.filter(data_full_impt.BsmtUnfSF.isNull())\n",
        "miss_BsmtUnfSF.show()"
      ],
      "execution_count": null,
      "outputs": [
        {
          "output_type": "stream",
          "text": [
            "+----+----------+--------+-----------+-------+------+-----+--------+-----------+---------+---------+---------+------------+----------+----------+--------+----------+-----------+-----------+---------+------------+---------+--------+-----------+-----------+----------+----------+---------+---------+----------+--------+--------+------------+------------+----------+------------+----------+---------+-----------+-------+---------+----------+----------+--------+--------+------------+---------+------------+------------+--------+--------+------------+------------+-----------+------------+----------+----------+-----------+----------+-----------+------------+----------+----------+----------+----------+----------+----------+-----------+-------------+---------+-----------+--------+------+-----+-----------+-------+------+------+--------+-------------+---------+\n",
            "|  Id|MSSubClass|MSZoning|LotFrontage|LotArea|Street|Alley|LotShape|LandContour|Utilities|LotConfig|LandSlope|Neighborhood|Condition1|Condition2|BldgType|HouseStyle|OverallQual|OverallCond|YearBuilt|YearRemodAdd|RoofStyle|RoofMatl|Exterior1st|Exterior2nd|MasVnrType|MasVnrArea|ExterQual|ExterCond|Foundation|BsmtQual|BsmtCond|BsmtExposure|BsmtFinType1|BsmtFinSF1|BsmtFinType2|BsmtFinSF2|BsmtUnfSF|TotalBsmtSF|Heating|HeatingQC|CentralAir|Electrical|1stFlrSF|2ndFlrSF|LowQualFinSF|GrLivArea|BsmtFullBath|BsmtHalfBath|FullBath|HalfBath|BedroomAbvGr|KitchenAbvGr|KitchenQual|TotRmsAbvGrd|Functional|Fireplaces|FireplaceQu|GarageType|GarageYrBlt|GarageFinish|GarageCars|GarageArea|GarageQual|GarageCond|PavedDrive|WoodDeckSF|OpenPorchSF|EnclosedPorch|3SsnPorch|ScreenPorch|PoolArea|PoolQC|Fence|MiscFeature|MiscVal|MoSold|YrSold|SaleType|SaleCondition|SalePrice|\n",
            "+----+----------+--------+-----------+-------+------+-----+--------+-----------+---------+---------+---------+------------+----------+----------+--------+----------+-----------+-----------+---------+------------+---------+--------+-----------+-----------+----------+----------+---------+---------+----------+--------+--------+------------+------------+----------+------------+----------+---------+-----------+-------+---------+----------+----------+--------+--------+------------+---------+------------+------------+--------+--------+------------+------------+-----------+------------+----------+----------+-----------+----------+-----------+------------+----------+----------+----------+----------+----------+----------+-----------+-------------+---------+-----------+--------+------+-----+-----------+-------+------+------+--------+-------------+---------+\n",
            "|2121|        20|      RM|         99|   5940|  Pave|NotNA|     IR1|        Lvl|   AllPub|      FR3|      Gtl|     BrkSide|     Feedr|      Norm|    1Fam|    1Story|          4|          7|     1946|        1950|    Gable| CompShg|    MetalSd|     CBlock|      None|         0|       TA|       TA|     PConc|   NotNA|   NotNA|       NotNA|       NotNA|      null|       NotNA|      null|     null|       null|   GasA|       TA|         Y|     FuseA|     896|       0|           0|      896|        null|        null|       1|       0|           2|           1|         TA|           4|       Typ|         0|      NotNA|    Detchd|       1946|         Unf|         1|       280|        TA|        TA|         Y|         0|          0|            0|        0|          0|       0| NotNA|MnPrv|      NotNA|      0|     4|  2008|   ConLD|      Abnorml|     null|\n",
            "+----+----------+--------+-----------+-------+------+-----+--------+-----------+---------+---------+---------+------------+----------+----------+--------+----------+-----------+-----------+---------+------------+---------+--------+-----------+-----------+----------+----------+---------+---------+----------+--------+--------+------------+------------+----------+------------+----------+---------+-----------+-------+---------+----------+----------+--------+--------+------------+---------+------------+------------+--------+--------+------------+------------+-----------+------------+----------+----------+-----------+----------+-----------+------------+----------+----------+----------+----------+----------+----------+-----------+-------------+---------+-----------+--------+------+-----+-----------+-------+------+------+--------+-------------+---------+\n",
            "\n"
          ],
          "name": "stdout"
        }
      ]
    },
    {
      "cell_type": "markdown",
      "metadata": {
        "id": "_BdMTTwgQ5rX"
      },
      "source": [
        "Podemos observar que esta vivienda corresponde a la de los casos anteriores en las que no había sótano. Es por ello, que vamos a imputar esta variable por 0."
      ]
    },
    {
      "cell_type": "code",
      "metadata": {
        "id": "tyea6dLskmic"
      },
      "source": [
        "valimp_BsmtUnfSF = 0"
      ],
      "execution_count": null,
      "outputs": []
    },
    {
      "cell_type": "markdown",
      "metadata": {
        "id": "p4wdOZx4k2Yi"
      },
      "source": [
        "##### **TotalBsmtSF**\n",
        "\n",
        "Esta variable representa  el **total de pies cuadrados  del área del sótano**.\n",
        "\n",
        "Vamos a comenzar estudiado la vivienda a la que le falta este dato."
      ]
    },
    {
      "cell_type": "code",
      "metadata": {
        "id": "3R1dRex2lF_A",
        "colab": {
          "base_uri": "https://localhost:8080/",
          "height": 139
        },
        "outputId": "353db0fd-beae-4953-fd43-1dc3ebe81e7d"
      },
      "source": [
        "miss_TotalBsmtSF = data_full_impt.filter(data_full_impt.TotalBsmtSF.isNull())\n",
        "miss_TotalBsmtSF.show()"
      ],
      "execution_count": null,
      "outputs": [
        {
          "output_type": "stream",
          "text": [
            "+----+----------+--------+-----------+-------+------+-----+--------+-----------+---------+---------+---------+------------+----------+----------+--------+----------+-----------+-----------+---------+------------+---------+--------+-----------+-----------+----------+----------+---------+---------+----------+--------+--------+------------+------------+----------+------------+----------+---------+-----------+-------+---------+----------+----------+--------+--------+------------+---------+------------+------------+--------+--------+------------+------------+-----------+------------+----------+----------+-----------+----------+-----------+------------+----------+----------+----------+----------+----------+----------+-----------+-------------+---------+-----------+--------+------+-----+-----------+-------+------+------+--------+-------------+---------+\n",
            "|  Id|MSSubClass|MSZoning|LotFrontage|LotArea|Street|Alley|LotShape|LandContour|Utilities|LotConfig|LandSlope|Neighborhood|Condition1|Condition2|BldgType|HouseStyle|OverallQual|OverallCond|YearBuilt|YearRemodAdd|RoofStyle|RoofMatl|Exterior1st|Exterior2nd|MasVnrType|MasVnrArea|ExterQual|ExterCond|Foundation|BsmtQual|BsmtCond|BsmtExposure|BsmtFinType1|BsmtFinSF1|BsmtFinType2|BsmtFinSF2|BsmtUnfSF|TotalBsmtSF|Heating|HeatingQC|CentralAir|Electrical|1stFlrSF|2ndFlrSF|LowQualFinSF|GrLivArea|BsmtFullBath|BsmtHalfBath|FullBath|HalfBath|BedroomAbvGr|KitchenAbvGr|KitchenQual|TotRmsAbvGrd|Functional|Fireplaces|FireplaceQu|GarageType|GarageYrBlt|GarageFinish|GarageCars|GarageArea|GarageQual|GarageCond|PavedDrive|WoodDeckSF|OpenPorchSF|EnclosedPorch|3SsnPorch|ScreenPorch|PoolArea|PoolQC|Fence|MiscFeature|MiscVal|MoSold|YrSold|SaleType|SaleCondition|SalePrice|\n",
            "+----+----------+--------+-----------+-------+------+-----+--------+-----------+---------+---------+---------+------------+----------+----------+--------+----------+-----------+-----------+---------+------------+---------+--------+-----------+-----------+----------+----------+---------+---------+----------+--------+--------+------------+------------+----------+------------+----------+---------+-----------+-------+---------+----------+----------+--------+--------+------------+---------+------------+------------+--------+--------+------------+------------+-----------+------------+----------+----------+-----------+----------+-----------+------------+----------+----------+----------+----------+----------+----------+-----------+-------------+---------+-----------+--------+------+-----+-----------+-------+------+------+--------+-------------+---------+\n",
            "|2121|        20|      RM|         99|   5940|  Pave|NotNA|     IR1|        Lvl|   AllPub|      FR3|      Gtl|     BrkSide|     Feedr|      Norm|    1Fam|    1Story|          4|          7|     1946|        1950|    Gable| CompShg|    MetalSd|     CBlock|      None|         0|       TA|       TA|     PConc|   NotNA|   NotNA|       NotNA|       NotNA|      null|       NotNA|      null|     null|       null|   GasA|       TA|         Y|     FuseA|     896|       0|           0|      896|        null|        null|       1|       0|           2|           1|         TA|           4|       Typ|         0|      NotNA|    Detchd|       1946|         Unf|         1|       280|        TA|        TA|         Y|         0|          0|            0|        0|          0|       0| NotNA|MnPrv|      NotNA|      0|     4|  2008|   ConLD|      Abnorml|     null|\n",
            "+----+----------+--------+-----------+-------+------+-----+--------+-----------+---------+---------+---------+------------+----------+----------+--------+----------+-----------+-----------+---------+------------+---------+--------+-----------+-----------+----------+----------+---------+---------+----------+--------+--------+------------+------------+----------+------------+----------+---------+-----------+-------+---------+----------+----------+--------+--------+------------+---------+------------+------------+--------+--------+------------+------------+-----------+------------+----------+----------+-----------+----------+-----------+------------+----------+----------+----------+----------+----------+----------+-----------+-------------+---------+-----------+--------+------+-----+-----------+-------+------+------+--------+-------------+---------+\n",
            "\n"
          ],
          "name": "stdout"
        }
      ]
    },
    {
      "cell_type": "markdown",
      "metadata": {
        "id": "EN0S7yLKQEA3"
      },
      "source": [
        "Podemos observar que este es el mismo caso que los anteriores en el que la vivienda no tiene sótano. Por tanto, vamos a imputar esta variable por 0."
      ]
    },
    {
      "cell_type": "code",
      "metadata": {
        "id": "_Q8e1sOllJmm"
      },
      "source": [
        "valimp_TotalBsmtSF = 0"
      ],
      "execution_count": null,
      "outputs": []
    },
    {
      "cell_type": "markdown",
      "metadata": {
        "id": "OquXTh7xl_pV"
      },
      "source": [
        "##### **Electrical**\n",
        "\n",
        "Esta variable representa el **sistema eléctrico**. Para imputar esta variable vamos a mirar individuos similares y obtendremos  el valor más frecuente de esta variable."
      ]
    },
    {
      "cell_type": "code",
      "metadata": {
        "id": "23o-HspAlJyu",
        "colab": {
          "base_uri": "https://localhost:8080/",
          "height": 139
        },
        "outputId": "4c0cffc6-b203-4373-83bc-c63afbb0cfa1"
      },
      "source": [
        "miss_Electrical = data_full_impt.filter(data_full_impt.Electrical.isNull())\n",
        "miss_Electrical.show()\n",
        "not_miss_Electrical = data_full_impt.filter(data_full_impt.Electrical.isNotNull())"
      ],
      "execution_count": null,
      "outputs": [
        {
          "output_type": "stream",
          "text": [
            "+----+----------+--------+-----------+-------+------+-----+--------+-----------+---------+---------+---------+------------+----------+----------+--------+----------+-----------+-----------+---------+------------+---------+--------+-----------+-----------+----------+----------+---------+---------+----------+--------+--------+------------+------------+----------+------------+----------+---------+-----------+-------+---------+----------+----------+--------+--------+------------+---------+------------+------------+--------+--------+------------+------------+-----------+------------+----------+----------+-----------+----------+-----------+------------+----------+----------+----------+----------+----------+----------+-----------+-------------+---------+-----------+--------+------+-----+-----------+-------+------+------+--------+-------------+---------+\n",
            "|  Id|MSSubClass|MSZoning|LotFrontage|LotArea|Street|Alley|LotShape|LandContour|Utilities|LotConfig|LandSlope|Neighborhood|Condition1|Condition2|BldgType|HouseStyle|OverallQual|OverallCond|YearBuilt|YearRemodAdd|RoofStyle|RoofMatl|Exterior1st|Exterior2nd|MasVnrType|MasVnrArea|ExterQual|ExterCond|Foundation|BsmtQual|BsmtCond|BsmtExposure|BsmtFinType1|BsmtFinSF1|BsmtFinType2|BsmtFinSF2|BsmtUnfSF|TotalBsmtSF|Heating|HeatingQC|CentralAir|Electrical|1stFlrSF|2ndFlrSF|LowQualFinSF|GrLivArea|BsmtFullBath|BsmtHalfBath|FullBath|HalfBath|BedroomAbvGr|KitchenAbvGr|KitchenQual|TotRmsAbvGrd|Functional|Fireplaces|FireplaceQu|GarageType|GarageYrBlt|GarageFinish|GarageCars|GarageArea|GarageQual|GarageCond|PavedDrive|WoodDeckSF|OpenPorchSF|EnclosedPorch|3SsnPorch|ScreenPorch|PoolArea|PoolQC|Fence|MiscFeature|MiscVal|MoSold|YrSold|SaleType|SaleCondition|SalePrice|\n",
            "+----+----------+--------+-----------+-------+------+-----+--------+-----------+---------+---------+---------+------------+----------+----------+--------+----------+-----------+-----------+---------+------------+---------+--------+-----------+-----------+----------+----------+---------+---------+----------+--------+--------+------------+------------+----------+------------+----------+---------+-----------+-------+---------+----------+----------+--------+--------+------------+---------+------------+------------+--------+--------+------------+------------+-----------+------------+----------+----------+-----------+----------+-----------+------------+----------+----------+----------+----------+----------+----------+-----------+-------------+---------+-----------+--------+------+-----+-----------+-------+------+------+--------+-------------+---------+\n",
            "|1380|        80|      RL|         73|   9735|  Pave|NotNA|     Reg|        Lvl|   AllPub|   Inside|      Gtl|      Timber|      Norm|      Norm|    1Fam|      SLvl|          5|          5|     2006|        2007|    Gable| CompShg|    VinylSd|    VinylSd|      None|         0|       TA|       TA|     PConc|      Gd|      TA|          No|         Unf|         0|         Unf|         0|      384|        384|   GasA|       Gd|         Y|      null|     754|     640|           0|     1394|           0|           0|       2|       1|           3|           1|         Gd|           7|       Typ|         0|      NotNA|   BuiltIn|       2007|         Fin|         2|       400|        TA|        TA|         Y|       100|          0|            0|        0|          0|       0| NotNA|NotNA|      NotNA|      0|     5|  2008|      WD|       Normal|   167500|\n",
            "+----+----------+--------+-----------+-------+------+-----+--------+-----------+---------+---------+---------+------------+----------+----------+--------+----------+-----------+-----------+---------+------------+---------+--------+-----------+-----------+----------+----------+---------+---------+----------+--------+--------+------------+------------+----------+------------+----------+---------+-----------+-------+---------+----------+----------+--------+--------+------------+---------+------------+------------+--------+--------+------------+------------+-----------+------------+----------+----------+-----------+----------+-----------+------------+----------+----------+----------+----------+----------+----------+-----------+-------------+---------+-----------+--------+------+-----+-----------+-------+------+------+--------+-------------+---------+\n",
            "\n"
          ],
          "name": "stdout"
        }
      ]
    },
    {
      "cell_type": "markdown",
      "metadata": {
        "id": "D9D0G1eOqyBA"
      },
      "source": [
        "Nos fijamos en las variables **Heating** (tipo de calefacción), **HeatingQC** (Calidad y condición de la calefacción) y **Central Air** (Aire acondicionado central) que pensamos que pueden guardar relación con el tipo de sistema eléctrico. Por tanto vamos a filtrar los datos no missing de esta variable por cada una de estas tres características y vemos qué tipo de sistema eléctrico es más frecuente."
      ]
    },
    {
      "cell_type": "markdown",
      "metadata": {
        "id": "fFLtOENCF-xZ"
      },
      "source": [
        "* Moda de **Electrical** en las viviendas con calefacción del tipo **GasA**."
      ]
    },
    {
      "cell_type": "code",
      "metadata": {
        "id": "sgcPUlnPFKsx",
        "colab": {
          "base_uri": "https://localhost:8080/",
          "height": 187
        },
        "outputId": "d56774f3-5234-494f-c813-39988e8b9f6b"
      },
      "source": [
        "not_miss_Electrical.filter(not_miss_Electrical.Heating=='GasA')\\\n",
        "                   .groupby('Electrical').count()\\\n",
        "                   .orderBy(F.desc('count')).show()"
      ],
      "execution_count": null,
      "outputs": [
        {
          "output_type": "stream",
          "text": [
            "+----------+-----+\n",
            "|Electrical|count|\n",
            "+----------+-----+\n",
            "|     SBrkr| 2643|\n",
            "|     FuseA|  179|\n",
            "|     FuseF|   42|\n",
            "|     FuseP|    8|\n",
            "|       Mix|    1|\n",
            "+----------+-----+\n",
            "\n"
          ],
          "name": "stdout"
        }
      ]
    },
    {
      "cell_type": "markdown",
      "metadata": {
        "id": "U8Y7tPNTHD4S"
      },
      "source": [
        "* Moda de **Electrical** en las viviendas con calidad y condición de la calefacción **Gd**."
      ]
    },
    {
      "cell_type": "code",
      "metadata": {
        "id": "s1125-TdEuUz",
        "colab": {
          "base_uri": "https://localhost:8080/",
          "height": 187
        },
        "outputId": "79e523b2-5f9f-4c8f-cec2-c844843dc66e"
      },
      "source": [
        "not_miss_Electrical.filter(not_miss_Electrical.HeatingQC == 'Gd')\\\n",
        "                   .groupby('Electrical').count()\\\n",
        "                   .orderBy(F.desc('count')).show()"
      ],
      "execution_count": null,
      "outputs": [
        {
          "output_type": "stream",
          "text": [
            "+----------+-----+\n",
            "|Electrical|count|\n",
            "+----------+-----+\n",
            "|     SBrkr|  420|\n",
            "|     FuseA|   44|\n",
            "|     FuseF|    6|\n",
            "|     FuseP|    2|\n",
            "|       Mix|    1|\n",
            "+----------+-----+\n",
            "\n"
          ],
          "name": "stdout"
        }
      ]
    },
    {
      "cell_type": "markdown",
      "metadata": {
        "id": "wFtrUcT-Gi1T"
      },
      "source": [
        "* Moda de **Electrical** en las viviendas con **aire acondicionado central**."
      ]
    },
    {
      "cell_type": "code",
      "metadata": {
        "id": "0_9EzJoPE-Uq",
        "colab": {
          "base_uri": "https://localhost:8080/",
          "height": 187
        },
        "outputId": "636a9a80-15d2-4f3f-dc72-dc4c790ff684"
      },
      "source": [
        "not_miss_Electrical.filter(not_miss_Electrical.CentralAir=='Y')\\\n",
        "                   .groupby('Electrical').count()\\\n",
        "                   .orderBy(F.desc('count')).show()"
      ],
      "execution_count": null,
      "outputs": [
        {
          "output_type": "stream",
          "text": [
            "+----------+-----+\n",
            "|Electrical|count|\n",
            "+----------+-----+\n",
            "|     SBrkr| 2562|\n",
            "|     FuseA|  138|\n",
            "|     FuseF|   20|\n",
            "|       Mix|    1|\n",
            "|     FuseP|    1|\n",
            "+----------+-----+\n",
            "\n"
          ],
          "name": "stdout"
        }
      ]
    },
    {
      "cell_type": "markdown",
      "metadata": {
        "id": "SRpALSqlHify"
      },
      "source": [
        "* Moda de **Electrical** en las viviendas con calefacción del tipo **GasA**, cuya calidad y condición de la calefacción es **Gd** y con **aire acondicionado central**."
      ]
    },
    {
      "cell_type": "code",
      "metadata": {
        "id": "AnvX7QkmrwJl",
        "colab": {
          "base_uri": "https://localhost:8080/",
          "height": 170
        },
        "outputId": "8ac6c394-5e3a-4b21-9abf-3eda387b65aa"
      },
      "source": [
        "indpar_elec = not_miss_Electrical.filter((not_miss_Electrical.HeatingQC=='Gd') \\\n",
        "                                         & (not_miss_Electrical.CentralAir=='Y') \\\n",
        "                                         & (not_miss_Electrical.Heating=='GasA'))\n",
        "indpar_elec.groupby('Electrical').count().orderBy(F.desc('count')).show()"
      ],
      "execution_count": null,
      "outputs": [
        {
          "output_type": "stream",
          "text": [
            "+----------+-----+\n",
            "|Electrical|count|\n",
            "+----------+-----+\n",
            "|     SBrkr|  401|\n",
            "|     FuseA|   35|\n",
            "|     FuseF|    5|\n",
            "|       Mix|    1|\n",
            "+----------+-----+\n",
            "\n"
          ],
          "name": "stdout"
        }
      ]
    },
    {
      "cell_type": "markdown",
      "metadata": {
        "id": "ns35gpHwFVJR"
      },
      "source": [
        "Podemos observar que en todos los casos, la mayoría de viviendas tienen el sistema eléctrico **SBrkr** y además con una diferencia bastante notable. Por tanto, creeamos adecuado imputar esta variable por **SBrkr**."
      ]
    },
    {
      "cell_type": "code",
      "metadata": {
        "id": "ZsTptUZPmUkC"
      },
      "source": [
        "valimp_Electrical = 'SBrkr'"
      ],
      "execution_count": null,
      "outputs": []
    },
    {
      "cell_type": "markdown",
      "metadata": {
        "id": "G46AebaOmoUL"
      },
      "source": [
        "##### **BsmtFullBath**\n",
        "\n",
        "Esta variable representa el **número de baños en el sótano**.\n",
        "\n",
        "Vamos a investigar las viviendas que no poseen el dato de esta variable."
      ]
    },
    {
      "cell_type": "code",
      "metadata": {
        "id": "703twJSKmUas"
      },
      "source": [
        "miss_BsmtFullBath = data_full_impt.filter(data_full_impt.BsmtFullBath.isNull())"
      ],
      "execution_count": null,
      "outputs": []
    },
    {
      "cell_type": "code",
      "metadata": {
        "id": "RLpa2CfRLHXG",
        "colab": {
          "base_uri": "https://localhost:8080/",
          "height": 156
        },
        "outputId": "7728f264-2f89-4696-de59-aacc0115b92c"
      },
      "source": [
        "miss_BsmtFullBath.show()"
      ],
      "execution_count": null,
      "outputs": [
        {
          "output_type": "stream",
          "text": [
            "+----+----------+--------+-----------+-------+------+-----+--------+-----------+---------+---------+---------+------------+----------+----------+--------+----------+-----------+-----------+---------+------------+---------+--------+-----------+-----------+----------+----------+---------+---------+----------+--------+--------+------------+------------+----------+------------+----------+---------+-----------+-------+---------+----------+----------+--------+--------+------------+---------+------------+------------+--------+--------+------------+------------+-----------+------------+----------+----------+-----------+----------+-----------+------------+----------+----------+----------+----------+----------+----------+-----------+-------------+---------+-----------+--------+------+-----+-----------+-------+------+------+--------+-------------+---------+\n",
            "|  Id|MSSubClass|MSZoning|LotFrontage|LotArea|Street|Alley|LotShape|LandContour|Utilities|LotConfig|LandSlope|Neighborhood|Condition1|Condition2|BldgType|HouseStyle|OverallQual|OverallCond|YearBuilt|YearRemodAdd|RoofStyle|RoofMatl|Exterior1st|Exterior2nd|MasVnrType|MasVnrArea|ExterQual|ExterCond|Foundation|BsmtQual|BsmtCond|BsmtExposure|BsmtFinType1|BsmtFinSF1|BsmtFinType2|BsmtFinSF2|BsmtUnfSF|TotalBsmtSF|Heating|HeatingQC|CentralAir|Electrical|1stFlrSF|2ndFlrSF|LowQualFinSF|GrLivArea|BsmtFullBath|BsmtHalfBath|FullBath|HalfBath|BedroomAbvGr|KitchenAbvGr|KitchenQual|TotRmsAbvGrd|Functional|Fireplaces|FireplaceQu|GarageType|GarageYrBlt|GarageFinish|GarageCars|GarageArea|GarageQual|GarageCond|PavedDrive|WoodDeckSF|OpenPorchSF|EnclosedPorch|3SsnPorch|ScreenPorch|PoolArea|PoolQC|Fence|MiscFeature|MiscVal|MoSold|YrSold|SaleType|SaleCondition|SalePrice|\n",
            "+----+----------+--------+-----------+-------+------+-----+--------+-----------+---------+---------+---------+------------+----------+----------+--------+----------+-----------+-----------+---------+------------+---------+--------+-----------+-----------+----------+----------+---------+---------+----------+--------+--------+------------+------------+----------+------------+----------+---------+-----------+-------+---------+----------+----------+--------+--------+------------+---------+------------+------------+--------+--------+------------+------------+-----------+------------+----------+----------+-----------+----------+-----------+------------+----------+----------+----------+----------+----------+----------+-----------+-------------+---------+-----------+--------+------+-----+-----------+-------+------+------+--------+-------------+---------+\n",
            "|2121|        20|      RM|         99|   5940|  Pave|NotNA|     IR1|        Lvl|   AllPub|      FR3|      Gtl|     BrkSide|     Feedr|      Norm|    1Fam|    1Story|          4|          7|     1946|        1950|    Gable| CompShg|    MetalSd|     CBlock|      None|         0|       TA|       TA|     PConc|   NotNA|   NotNA|       NotNA|       NotNA|      null|       NotNA|      null|     null|       null|   GasA|       TA|         Y|     FuseA|     896|       0|           0|      896|        null|        null|       1|       0|           2|           1|         TA|           4|       Typ|         0|      NotNA|    Detchd|       1946|         Unf|         1|       280|        TA|        TA|         Y|         0|          0|            0|        0|          0|       0| NotNA|MnPrv|      NotNA|      0|     4|  2008|   ConLD|      Abnorml|     null|\n",
            "|2189|        20|      RL|        123|  47007|  Pave|NotNA|     IR1|        Lvl|   AllPub|   Inside|      Gtl|     Edwards|      Norm|      Norm|    1Fam|    1Story|          5|          7|     1959|        1996|    Gable| CompShg|    Plywood|    Plywood|      None|         0|       TA|       TA|      Slab|   NotNA|   NotNA|       NotNA|       NotNA|         0|       NotNA|         0|        0|          0|   GasA|       TA|         Y|     SBrkr|    3820|       0|           0|     3820|        null|        null|       3|       1|           5|           1|         Ex|          11|       Typ|         2|         Gd|    Attchd|       1959|         Unf|         2|       624|        TA|        TA|         Y|         0|        372|            0|        0|          0|       0| NotNA|NotNA|      NotNA|      0|     7|  2008|      WD|       Normal|     null|\n",
            "+----+----------+--------+-----------+-------+------+-----+--------+-----------+---------+---------+---------+------------+----------+----------+--------+----------+-----------+-----------+---------+------------+---------+--------+-----------+-----------+----------+----------+---------+---------+----------+--------+--------+------------+------------+----------+------------+----------+---------+-----------+-------+---------+----------+----------+--------+--------+------------+---------+------------+------------+--------+--------+------------+------------+-----------+------------+----------+----------+-----------+----------+-----------+------------+----------+----------+----------+----------+----------+----------+-----------+-------------+---------+-----------+--------+------+-----+-----------+-------+------+------+--------+-------------+---------+\n",
            "\n"
          ],
          "name": "stdout"
        }
      ]
    },
    {
      "cell_type": "markdown",
      "metadata": {
        "id": "D566mlV8LNW7"
      },
      "source": [
        "Podemos observar que de todas las características con respecto al sótano no tenemos información, eso significa que estas viviendas no tienen sótano. Por tanto, vamos a imputar la variable por 0."
      ]
    },
    {
      "cell_type": "code",
      "metadata": {
        "id": "M-uJQH5togl8"
      },
      "source": [
        "valimp_BsmtFullBath = 0"
      ],
      "execution_count": null,
      "outputs": []
    },
    {
      "cell_type": "markdown",
      "metadata": {
        "id": "uryaK_KdoR9K"
      },
      "source": [
        "##### **BsmtHalfBath**\n",
        "\n",
        "Esta variable representa el **número medio de baños en el sótano**. \n",
        "\n",
        "Comenzamos estudiando las viviendas que no tienen la información de esta variable.\n"
      ]
    },
    {
      "cell_type": "code",
      "metadata": {
        "id": "Qncvyl6tnDdC",
        "colab": {
          "base_uri": "https://localhost:8080/",
          "height": 156
        },
        "outputId": "4bc8633a-1304-4444-b623-12b412657858"
      },
      "source": [
        "miss_BsmtHalfBath = data_full_impt.filter(data_full_impt.BsmtHalfBath.isNull())\n",
        "miss_BsmtHalfBath.show()"
      ],
      "execution_count": null,
      "outputs": [
        {
          "output_type": "stream",
          "text": [
            "+----+----------+--------+-----------+-------+------+-----+--------+-----------+---------+---------+---------+------------+----------+----------+--------+----------+-----------+-----------+---------+------------+---------+--------+-----------+-----------+----------+----------+---------+---------+----------+--------+--------+------------+------------+----------+------------+----------+---------+-----------+-------+---------+----------+----------+--------+--------+------------+---------+------------+------------+--------+--------+------------+------------+-----------+------------+----------+----------+-----------+----------+-----------+------------+----------+----------+----------+----------+----------+----------+-----------+-------------+---------+-----------+--------+------+-----+-----------+-------+------+------+--------+-------------+---------+\n",
            "|  Id|MSSubClass|MSZoning|LotFrontage|LotArea|Street|Alley|LotShape|LandContour|Utilities|LotConfig|LandSlope|Neighborhood|Condition1|Condition2|BldgType|HouseStyle|OverallQual|OverallCond|YearBuilt|YearRemodAdd|RoofStyle|RoofMatl|Exterior1st|Exterior2nd|MasVnrType|MasVnrArea|ExterQual|ExterCond|Foundation|BsmtQual|BsmtCond|BsmtExposure|BsmtFinType1|BsmtFinSF1|BsmtFinType2|BsmtFinSF2|BsmtUnfSF|TotalBsmtSF|Heating|HeatingQC|CentralAir|Electrical|1stFlrSF|2ndFlrSF|LowQualFinSF|GrLivArea|BsmtFullBath|BsmtHalfBath|FullBath|HalfBath|BedroomAbvGr|KitchenAbvGr|KitchenQual|TotRmsAbvGrd|Functional|Fireplaces|FireplaceQu|GarageType|GarageYrBlt|GarageFinish|GarageCars|GarageArea|GarageQual|GarageCond|PavedDrive|WoodDeckSF|OpenPorchSF|EnclosedPorch|3SsnPorch|ScreenPorch|PoolArea|PoolQC|Fence|MiscFeature|MiscVal|MoSold|YrSold|SaleType|SaleCondition|SalePrice|\n",
            "+----+----------+--------+-----------+-------+------+-----+--------+-----------+---------+---------+---------+------------+----------+----------+--------+----------+-----------+-----------+---------+------------+---------+--------+-----------+-----------+----------+----------+---------+---------+----------+--------+--------+------------+------------+----------+------------+----------+---------+-----------+-------+---------+----------+----------+--------+--------+------------+---------+------------+------------+--------+--------+------------+------------+-----------+------------+----------+----------+-----------+----------+-----------+------------+----------+----------+----------+----------+----------+----------+-----------+-------------+---------+-----------+--------+------+-----+-----------+-------+------+------+--------+-------------+---------+\n",
            "|2121|        20|      RM|         99|   5940|  Pave|NotNA|     IR1|        Lvl|   AllPub|      FR3|      Gtl|     BrkSide|     Feedr|      Norm|    1Fam|    1Story|          4|          7|     1946|        1950|    Gable| CompShg|    MetalSd|     CBlock|      None|         0|       TA|       TA|     PConc|   NotNA|   NotNA|       NotNA|       NotNA|      null|       NotNA|      null|     null|       null|   GasA|       TA|         Y|     FuseA|     896|       0|           0|      896|        null|        null|       1|       0|           2|           1|         TA|           4|       Typ|         0|      NotNA|    Detchd|       1946|         Unf|         1|       280|        TA|        TA|         Y|         0|          0|            0|        0|          0|       0| NotNA|MnPrv|      NotNA|      0|     4|  2008|   ConLD|      Abnorml|     null|\n",
            "|2189|        20|      RL|        123|  47007|  Pave|NotNA|     IR1|        Lvl|   AllPub|   Inside|      Gtl|     Edwards|      Norm|      Norm|    1Fam|    1Story|          5|          7|     1959|        1996|    Gable| CompShg|    Plywood|    Plywood|      None|         0|       TA|       TA|      Slab|   NotNA|   NotNA|       NotNA|       NotNA|         0|       NotNA|         0|        0|          0|   GasA|       TA|         Y|     SBrkr|    3820|       0|           0|     3820|        null|        null|       3|       1|           5|           1|         Ex|          11|       Typ|         2|         Gd|    Attchd|       1959|         Unf|         2|       624|        TA|        TA|         Y|         0|        372|            0|        0|          0|       0| NotNA|NotNA|      NotNA|      0|     7|  2008|      WD|       Normal|     null|\n",
            "+----+----------+--------+-----------+-------+------+-----+--------+-----------+---------+---------+---------+------------+----------+----------+--------+----------+-----------+-----------+---------+------------+---------+--------+-----------+-----------+----------+----------+---------+---------+----------+--------+--------+------------+------------+----------+------------+----------+---------+-----------+-------+---------+----------+----------+--------+--------+------------+---------+------------+------------+--------+--------+------------+------------+-----------+------------+----------+----------+-----------+----------+-----------+------------+----------+----------+----------+----------+----------+----------+-----------+-------------+---------+-----------+--------+------+-----+-----------+-------+------+------+--------+-------------+---------+\n",
            "\n"
          ],
          "name": "stdout"
        }
      ]
    },
    {
      "cell_type": "markdown",
      "metadata": {
        "id": "zQ0tSQCzMQqk"
      },
      "source": [
        "Observamos que estamos en las dos misma viviendas de antes, es decir, no poseen sótano. Por tanto, de la misma forma, vamos a imputar esos dos valores por 0."
      ]
    },
    {
      "cell_type": "code",
      "metadata": {
        "id": "nYlqkcCMos1F"
      },
      "source": [
        "valimp_BsmtHalfBath = 0"
      ],
      "execution_count": null,
      "outputs": []
    },
    {
      "cell_type": "markdown",
      "metadata": {
        "id": "bfRTMI7HptdJ"
      },
      "source": [
        "##### **KitchenQual**\n",
        "\n",
        "Esta variable representa la **calidad de la cocina**.\n",
        "\n",
        "Vamos a comenzar estudiando el caso de la vivienda que no posee este dato."
      ]
    },
    {
      "cell_type": "code",
      "metadata": {
        "id": "5JRTVChRosrM",
        "colab": {
          "base_uri": "https://localhost:8080/",
          "height": 139
        },
        "outputId": "b9e17060-8e5e-4530-bacf-fa712fdd0b0c"
      },
      "source": [
        "miss_KitchenQual = data_full_impt.filter(data_full_impt.KitchenQual.isNull())\n",
        "miss_KitchenQual.show()"
      ],
      "execution_count": null,
      "outputs": [
        {
          "output_type": "stream",
          "text": [
            "+----+----------+--------+-----------+-------+------+-----+--------+-----------+---------+---------+---------+------------+----------+----------+--------+----------+-----------+-----------+---------+------------+---------+--------+-----------+-----------+----------+----------+---------+---------+----------+--------+--------+------------+------------+----------+------------+----------+---------+-----------+-------+---------+----------+----------+--------+--------+------------+---------+------------+------------+--------+--------+------------+------------+-----------+------------+----------+----------+-----------+----------+-----------+------------+----------+----------+----------+----------+----------+----------+-----------+-------------+---------+-----------+--------+------+-----+-----------+-------+------+------+--------+-------------+---------+\n",
            "|  Id|MSSubClass|MSZoning|LotFrontage|LotArea|Street|Alley|LotShape|LandContour|Utilities|LotConfig|LandSlope|Neighborhood|Condition1|Condition2|BldgType|HouseStyle|OverallQual|OverallCond|YearBuilt|YearRemodAdd|RoofStyle|RoofMatl|Exterior1st|Exterior2nd|MasVnrType|MasVnrArea|ExterQual|ExterCond|Foundation|BsmtQual|BsmtCond|BsmtExposure|BsmtFinType1|BsmtFinSF1|BsmtFinType2|BsmtFinSF2|BsmtUnfSF|TotalBsmtSF|Heating|HeatingQC|CentralAir|Electrical|1stFlrSF|2ndFlrSF|LowQualFinSF|GrLivArea|BsmtFullBath|BsmtHalfBath|FullBath|HalfBath|BedroomAbvGr|KitchenAbvGr|KitchenQual|TotRmsAbvGrd|Functional|Fireplaces|FireplaceQu|GarageType|GarageYrBlt|GarageFinish|GarageCars|GarageArea|GarageQual|GarageCond|PavedDrive|WoodDeckSF|OpenPorchSF|EnclosedPorch|3SsnPorch|ScreenPorch|PoolArea|PoolQC|Fence|MiscFeature|MiscVal|MoSold|YrSold|SaleType|SaleCondition|SalePrice|\n",
            "+----+----------+--------+-----------+-------+------+-----+--------+-----------+---------+---------+---------+------------+----------+----------+--------+----------+-----------+-----------+---------+------------+---------+--------+-----------+-----------+----------+----------+---------+---------+----------+--------+--------+------------+------------+----------+------------+----------+---------+-----------+-------+---------+----------+----------+--------+--------+------------+---------+------------+------------+--------+--------+------------+------------+-----------+------------+----------+----------+-----------+----------+-----------+------------+----------+----------+----------+----------+----------+----------+-----------+-------------+---------+-----------+--------+------+-----+-----------+-------+------+------+--------+-------------+---------+\n",
            "|1556|        50|      RL|         72|  10632|  Pave|NotNA|     IR1|        Lvl|   AllPub|   Inside|      Gtl|     ClearCr|      Norm|      Norm|    1Fam|    1.5Fin|          5|          3|     1917|        1950|    Gable| CompShg|    Wd Sdng|    Wd Sdng|      None|         0|       TA|       TA|    BrkTil|      Gd|      Fa|          No|         Unf|         0|         Unf|         0|      689|        689|   GasA|       Gd|         N|     SBrkr|     725|     499|           0|     1224|           0|           0|       1|       1|           3|           1|       null|           6|       Mod|         0|      NotNA|    Detchd|       1917|         Unf|         1|       180|        Fa|        Fa|         N|         0|          0|          248|        0|          0|       0| NotNA|NotNA|      NotNA|      0|     1|  2010|     COD|       Normal|     null|\n",
            "+----+----------+--------+-----------+-------+------+-----+--------+-----------+---------+---------+---------+------------+----------+----------+--------+----------+-----------+-----------+---------+------------+---------+--------+-----------+-----------+----------+----------+---------+---------+----------+--------+--------+------------+------------+----------+------------+----------+---------+-----------+-------+---------+----------+----------+--------+--------+------------+---------+------------+------------+--------+--------+------------+------------+-----------+------------+----------+----------+-----------+----------+-----------+------------+----------+----------+----------+----------+----------+----------+-----------+-------------+---------+-----------+--------+------+-----+-----------+-------+------+------+--------+-------------+---------+\n",
            "\n"
          ],
          "name": "stdout"
        }
      ]
    },
    {
      "cell_type": "markdown",
      "metadata": {
        "id": "zuNtB8PXO1fb"
      },
      "source": [
        "Podemos observar que esta vivienda es del tipo 50(**MSSubClass**) y tiene solamente una cocina al nivel del suelo(**KitchenAbvGr**). Creemos que esta dos variables pueden estar relacionada con la calidad de la cocina. Por tanto vamos a investigar cómo suelen ser las cocinas de las viviendas del **tipo 50**, y  en concreto, cómo suele ser la **única** cocina al nivel del suelo de las viviendas del tipo 50."
      ]
    },
    {
      "cell_type": "code",
      "metadata": {
        "id": "YH5aZ4g0PWtw"
      },
      "source": [
        "not_miss_KitchenQual = data_full_impt.filter(data_full_impt.KitchenQual.isNotNull())"
      ],
      "execution_count": null,
      "outputs": []
    },
    {
      "cell_type": "markdown",
      "metadata": {
        "id": "6ousErlBLBRg"
      },
      "source": [
        "* Moda de **KitchenQual** de las viviendas del **tipo 50**."
      ]
    },
    {
      "cell_type": "code",
      "metadata": {
        "id": "ZZUgrfJVLI18",
        "colab": {
          "base_uri": "https://localhost:8080/",
          "height": 170
        },
        "outputId": "9514adc2-7aee-495c-95b4-4909cb521498"
      },
      "source": [
        "not_miss_KitchenQual.filter((not_miss_KitchenQual.MSSubClass==50))\\\n",
        "                            .groupby('KitchenQual').count().show()"
      ],
      "execution_count": null,
      "outputs": [
        {
          "output_type": "stream",
          "text": [
            "+-----------+-----+\n",
            "|KitchenQual|count|\n",
            "+-----------+-----+\n",
            "|         Gd|   57|\n",
            "|         Ex|    4|\n",
            "|         Fa|   16|\n",
            "|         TA|  209|\n",
            "+-----------+-----+\n",
            "\n"
          ],
          "name": "stdout"
        }
      ]
    },
    {
      "cell_type": "markdown",
      "metadata": {
        "id": "a2CN6htLJz45"
      },
      "source": [
        "* Moda **KitchenQual** de las viviendas del **tipo 50** y con **una cocina al nivel del suelo**."
      ]
    },
    {
      "cell_type": "code",
      "metadata": {
        "id": "W9H9dUVONpjx",
        "colab": {
          "base_uri": "https://localhost:8080/",
          "height": 170
        },
        "outputId": "e9a403ab-e8c3-4310-cfe6-9be5bed8b665"
      },
      "source": [
        "not_miss_KitchenQual.filter((not_miss_KitchenQual.KitchenAbvGr==1) & \\\n",
        "                            (not_miss_KitchenQual.MSSubClass==50) ) \\\n",
        "                            .groupby('KitchenQual').count().show()"
      ],
      "execution_count": null,
      "outputs": [
        {
          "output_type": "stream",
          "text": [
            "+-----------+-----+\n",
            "|KitchenQual|count|\n",
            "+-----------+-----+\n",
            "|         Gd|   57|\n",
            "|         Ex|    4|\n",
            "|         Fa|   16|\n",
            "|         TA|  206|\n",
            "+-----------+-----+\n",
            "\n"
          ],
          "name": "stdout"
        }
      ]
    },
    {
      "cell_type": "markdown",
      "metadata": {
        "id": "8wZ-qTZdPqKH"
      },
      "source": [
        "En conclusión, la mayoría de las cocinas de las viviendas del **tipo 50** tienen calidad **TA**(medio), y dentro de las que solamente tienen **una cocina** al nivel de suelo, la mayoría tienen la misma calidad. Deducimos entonces que el valor más adecuado para imputar es 'TA'."
      ]
    },
    {
      "cell_type": "code",
      "metadata": {
        "id": "mw_Z4dDYqK9f"
      },
      "source": [
        "valimp_KitchenQual = 'TA'"
      ],
      "execution_count": null,
      "outputs": []
    },
    {
      "cell_type": "markdown",
      "metadata": {
        "id": "HayUS-I-qVrs"
      },
      "source": [
        "##### **Functional**\n",
        "\n",
        "Esta variable representa el **funcionamiento en el hogar**. Según la descripción de los datos, se supone que es la categoría **Typ** a menos que se justifiquen las deducciones."
      ]
    },
    {
      "cell_type": "code",
      "metadata": {
        "id": "aEQiN4FiqzyI"
      },
      "source": [
        "valimp_Functional = \"Typ\""
      ],
      "execution_count": null,
      "outputs": []
    },
    {
      "cell_type": "markdown",
      "metadata": {
        "id": "v5PLRUfzrJ3t"
      },
      "source": [
        "##### **GarageYrBlt**\n",
        "\n",
        "Esta variable representa el **año en el que se construyó el garaje**.\n",
        "\n",
        "Para imputar esta variable, vamos a investigar las viviendas en las que le falta este dato."
      ]
    },
    {
      "cell_type": "code",
      "metadata": {
        "id": "PliyPsCNreu0",
        "colab": {
          "base_uri": "https://localhost:8080/",
          "height": 479
        },
        "outputId": "78851d8a-3863-4a97-962b-244b8ba7c91a"
      },
      "source": [
        "miss_GarageYrBlt = data_full_impt.filter(data_full_impt.GarageYrBlt.isNull())\n",
        "miss_GarageYrBlt.show()"
      ],
      "execution_count": null,
      "outputs": [
        {
          "output_type": "stream",
          "text": [
            "+---+----------+--------+-----------+-------+------+-----+--------+-----------+---------+---------+---------+------------+----------+----------+--------+----------+-----------+-----------+---------+------------+---------+--------+-----------+-----------+----------+----------+---------+---------+----------+--------+--------+------------+------------+----------+------------+----------+---------+-----------+-------+---------+----------+----------+--------+--------+------------+---------+------------+------------+--------+--------+------------+------------+-----------+------------+----------+----------+-----------+----------+-----------+------------+----------+----------+----------+----------+----------+----------+-----------+-------------+---------+-----------+--------+------+-----+-----------+-------+------+------+--------+-------------+---------+\n",
            "| Id|MSSubClass|MSZoning|LotFrontage|LotArea|Street|Alley|LotShape|LandContour|Utilities|LotConfig|LandSlope|Neighborhood|Condition1|Condition2|BldgType|HouseStyle|OverallQual|OverallCond|YearBuilt|YearRemodAdd|RoofStyle|RoofMatl|Exterior1st|Exterior2nd|MasVnrType|MasVnrArea|ExterQual|ExterCond|Foundation|BsmtQual|BsmtCond|BsmtExposure|BsmtFinType1|BsmtFinSF1|BsmtFinType2|BsmtFinSF2|BsmtUnfSF|TotalBsmtSF|Heating|HeatingQC|CentralAir|Electrical|1stFlrSF|2ndFlrSF|LowQualFinSF|GrLivArea|BsmtFullBath|BsmtHalfBath|FullBath|HalfBath|BedroomAbvGr|KitchenAbvGr|KitchenQual|TotRmsAbvGrd|Functional|Fireplaces|FireplaceQu|GarageType|GarageYrBlt|GarageFinish|GarageCars|GarageArea|GarageQual|GarageCond|PavedDrive|WoodDeckSF|OpenPorchSF|EnclosedPorch|3SsnPorch|ScreenPorch|PoolArea|PoolQC|Fence|MiscFeature|MiscVal|MoSold|YrSold|SaleType|SaleCondition|SalePrice|\n",
            "+---+----------+--------+-----------+-------+------+-----+--------+-----------+---------+---------+---------+------------+----------+----------+--------+----------+-----------+-----------+---------+------------+---------+--------+-----------+-----------+----------+----------+---------+---------+----------+--------+--------+------------+------------+----------+------------+----------+---------+-----------+-------+---------+----------+----------+--------+--------+------------+---------+------------+------------+--------+--------+------------+------------+-----------+------------+----------+----------+-----------+----------+-----------+------------+----------+----------+----------+----------+----------+----------+-----------+-------------+---------+-----------+--------+------+-----+-----------+-------+------+------+--------+-------------+---------+\n",
            "| 40|        90|      RL|         65|   6040|  Pave|NotNA|     Reg|        Lvl|   AllPub|   Inside|      Gtl|     Edwards|      Norm|      Norm|  Duplex|    1Story|          4|          5|     1955|        1955|    Gable| CompShg|    AsbShng|    Plywood|      None|         0|       TA|       TA|     PConc|   NotNA|   NotNA|       NotNA|       NotNA|         0|       NotNA|         0|        0|          0|   GasA|       TA|         N|     FuseP|    1152|       0|           0|     1152|           0|           0|       2|       0|           2|           2|         Fa|           6|       Typ|         0|      NotNA|     NotNA|       null|       NotNA|         0|         0|     NotNA|     NotNA|         N|         0|          0|            0|        0|          0|       0| NotNA|NotNA|      NotNA|      0|     6|  2008|      WD|      AdjLand|    82000|\n",
            "| 49|       190|      RM|         33|   4456|  Pave|NotNA|     Reg|        Lvl|   AllPub|   Inside|      Gtl|     OldTown|      Norm|      Norm|  2fmCon|    2Story|          4|          5|     1920|        2008|    Gable| CompShg|    MetalSd|    MetalSd|      None|         0|       TA|       TA|    BrkTil|      TA|      TA|          No|         Unf|         0|         Unf|         0|      736|        736|   GasA|       Gd|         Y|     SBrkr|     736|     716|           0|     1452|           0|           0|       2|       0|           2|           3|         TA|           8|       Typ|         0|      NotNA|     NotNA|       null|       NotNA|         0|         0|     NotNA|     NotNA|         N|         0|          0|          102|        0|          0|       0| NotNA|NotNA|      NotNA|      0|     6|  2009|     New|      Partial|   113000|\n",
            "| 79|        90|      RL|         72|  10778|  Pave|NotNA|     Reg|        Lvl|   AllPub|   Inside|      Gtl|      Sawyer|      Norm|      Norm|  Duplex|    1Story|          4|          5|     1968|        1968|      Hip| CompShg|    HdBoard|    HdBoard|      None|         0|       TA|       TA|    CBlock|      TA|      TA|          No|         Unf|         0|         Unf|         0|     1768|       1768|   GasA|       TA|         N|     SBrkr|    1768|       0|           0|     1768|           0|           0|       2|       0|           4|           2|         TA|           8|       Typ|         0|      NotNA|     NotNA|       null|       NotNA|         0|         0|     NotNA|     NotNA|         Y|         0|          0|            0|        0|          0|       0| NotNA|NotNA|      NotNA|      0|     4|  2010|      WD|       Normal|   136500|\n",
            "| 89|        50| C (all)|        105|   8470|  Pave|NotNA|     IR1|        Lvl|   AllPub|   Corner|      Gtl|      IDOTRR|     Feedr|     Feedr|    1Fam|    1.5Fin|          3|          2|     1915|        1982|      Hip| CompShg|    Plywood|    Plywood|      None|         0|       Fa|       Fa|    CBlock|      TA|      Fa|          No|         Unf|         0|         Unf|         0|     1013|       1013|   GasA|       TA|         N|     SBrkr|    1013|       0|         513|     1526|           0|           0|       1|       0|           2|           1|         Fa|           6|       Typ|         0|      NotNA|     NotNA|       null|       NotNA|         0|         0|     NotNA|     NotNA|         N|         0|          0|          156|        0|          0|       0| NotNA|MnPrv|      NotNA|      0|    10|  2009|   ConLD|      Abnorml|    85000|\n",
            "| 90|        20|      RL|         60|   8070|  Pave|NotNA|     Reg|        Lvl|   AllPub|   Inside|      Gtl|     CollgCr|      Norm|      Norm|    1Fam|    1Story|          4|          5|     1994|        1995|    Gable| CompShg|    VinylSd|    VinylSd|      None|         0|       TA|       TA|     PConc|      Gd|      TA|          No|         GLQ|       588|         Unf|         0|      402|        990|   GasA|       Ex|         Y|     SBrkr|     990|       0|           0|      990|           1|           0|       1|       0|           3|           1|         TA|           5|       Typ|         0|      NotNA|     NotNA|       null|       NotNA|         0|         0|     NotNA|     NotNA|         Y|         0|          0|            0|        0|          0|       0| NotNA|NotNA|      NotNA|      0|     8|  2007|      WD|       Normal|   123600|\n",
            "|100|        20|      RL|         77|   9320|  Pave|NotNA|     IR1|        Lvl|   AllPub|   Inside|      Gtl|       NAmes|      Norm|      Norm|    1Fam|    1Story|          4|          5|     1959|        1959|    Gable| CompShg|    Plywood|    Plywood|      None|         0|       TA|       TA|    CBlock|      TA|      TA|          No|         ALQ|       569|         Unf|         0|      381|        950|   GasA|       Fa|         Y|     SBrkr|    1225|       0|           0|     1225|           1|           0|       1|       1|           3|           1|         TA|           6|       Typ|         0|      NotNA|     NotNA|       null|       NotNA|         0|         0|     NotNA|     NotNA|         Y|       352|          0|            0|        0|          0|       0| NotNA|NotNA|       Shed|    400|     1|  2010|      WD|       Normal|   128950|\n",
            "|109|        50|      RM|         85|   8500|  Pave|NotNA|     Reg|        Lvl|   AllPub|   Corner|      Gtl|      IDOTRR|    Artery|      Norm|    1Fam|    1.5Fin|          5|          7|     1919|        2005|    Gable| CompShg|    CemntBd|    CmentBd|      None|         0|       TA|       TA|    CBlock|      TA|      TA|          No|         Unf|         0|         Unf|         0|      793|        793|   GasW|       TA|         N|     FuseF|     997|     520|           0|     1517|           0|           0|       2|       0|           3|           1|         Fa|           7|       Typ|         0|      NotNA|     NotNA|       null|       NotNA|         0|         0|     NotNA|     NotNA|         N|         0|          0|          144|        0|          0|       0| NotNA|NotNA|      NotNA|      0|     8|  2007|      WD|       Normal|   115000|\n",
            "|126|       190|      RM|         60|   6780|  Pave|NotNA|     Reg|        Lvl|   AllPub|   Inside|      Gtl|      IDOTRR|      Norm|      Norm|  2fmCon|    1.5Fin|          6|          8|     1935|        1982|    Gable| CompShg|    Wd Sdng|    Wd Sdng|      None|         0|       TA|       Fa|    CBlock|      TA|      TA|          Av|         GLQ|       490|         Unf|         0|       30|        520|   GasA|       Gd|         N|     SBrkr|     520|       0|         234|      754|           1|           0|       1|       0|           2|           1|         TA|           5|       Typ|         0|      NotNA|     NotNA|       null|       NotNA|         0|         0|     NotNA|     NotNA|         N|        53|          0|            0|        0|          0|       0| NotNA|NotNA|      NotNA|      0|     6|  2006|      WD|       Normal|    84500|\n",
            "|128|        45|      RM|         55|   4388|  Pave|NotNA|     IR1|        Bnk|   AllPub|   Inside|      Gtl|     OldTown|     Feedr|      Norm|    1Fam|    1.5Unf|          5|          7|     1930|        1950|    Gable| CompShg|    WdShing|    Wd Sdng|      None|         0|       TA|       Gd|    BrkTil|      TA|      TA|          No|         LwQ|       116|         Unf|         0|      556|        672|   GasA|       Ex|         Y|     SBrkr|     840|       0|           0|      840|           0|           0|       1|       0|           3|           1|         TA|           5|       Typ|         1|         TA|     NotNA|       null|       NotNA|         0|         0|     NotNA|     NotNA|         N|         0|          0|            0|        0|          0|       0| NotNA|NotNA|      NotNA|      0|     6|  2007|      WD|       Normal|    87000|\n",
            "|141|        20|      RL|         70|  10500|  Pave|NotNA|     Reg|        Lvl|   AllPub|      FR2|      Gtl|       NAmes|      Norm|      Norm|    1Fam|    1Story|          4|          5|     1971|        1971|    Gable| CompShg|    HdBoard|    HdBoard|      None|         0|       TA|       TA|    CBlock|      TA|      TA|          No|         ALQ|       432|         Unf|         0|      432|        864|   GasA|       TA|         Y|     SBrkr|     864|       0|           0|      864|           0|           0|       1|       0|           3|           1|         TA|           5|       Typ|         1|         Po|     NotNA|       null|       NotNA|         0|         0|     NotNA|     NotNA|         Y|         0|          0|            0|        0|          0|       0| NotNA|NotNA|      NotNA|      0|     4|  2010|   ConLI|       Normal|   115000|\n",
            "|149|        20|      RL|         63|   7500|  Pave|NotNA|     Reg|        Lvl|   AllPub|   Inside|      Gtl|     SawyerW|      Norm|      Norm|    1Fam|    1Story|          7|          5|     2004|        2005|    Gable| CompShg|    VinylSd|    VinylSd|   BrkFace|       120|       TA|       TA|     PConc|      Gd|      TA|          No|         GLQ|       680|         Unf|         0|      400|       1080|   GasA|       Ex|         Y|     SBrkr|    1080|       0|           0|     1080|           1|           0|       1|       0|           3|           1|         Gd|           6|       Typ|         0|      NotNA|     NotNA|       null|       NotNA|         0|         0|     NotNA|     NotNA|         Y|         0|          0|            0|        0|          0|       0| NotNA|NotNA|      NotNA|      0|     4|  2008|      WD|       Normal|   141000|\n",
            "|156|        50|      RL|         60|   9600|  Pave|NotNA|     Reg|        Lvl|   AllPub|   Corner|      Gtl|     Edwards|    Artery|      Norm|    1Fam|    1.5Fin|          6|          5|     1924|        1950|    Gable| CompShg|    Wd Sdng|    Wd Sdng|      None|         0|       TA|       TA|    BrkTil|      TA|      TA|          No|         Unf|         0|         Unf|         0|      572|        572|   Grav|       Fa|         N|     FuseF|     572|     524|           0|     1096|           0|           0|       1|       0|           2|           1|         TA|           5|       Typ|         0|      NotNA|     NotNA|       null|       NotNA|         0|         0|     NotNA|     NotNA|         N|         0|          8|          128|        0|          0|       0| NotNA|NotNA|      NotNA|      0|     4|  2008|      WD|       Normal|    79000|\n",
            "|164|        45|      RL|         55|   5500|  Pave|NotNA|     Reg|        Lvl|   AllPub|   Inside|      Gtl|     OldTown|      Norm|      Norm|    1Fam|    1.5Unf|          4|          6|     1956|        1956|    Gable| CompShg|    MetalSd|    MetalSd|      None|         0|       TA|       TA|    CBlock|      TA|      TA|          No|         Unf|         0|         Unf|         0|      882|        882|   GasA|       Ex|         Y|     SBrkr|     882|       0|           0|      882|           0|           0|       1|       0|           1|           1|         TA|           4|       Typ|         0|      NotNA|     NotNA|       null|       NotNA|         0|         0|     NotNA|     NotNA|         Y|         0|          0|            0|        0|          0|       0| NotNA|MnPrv|      NotNA|      0|     4|  2007|      WD|       Normal|   103200|\n",
            "|166|       190|      RL|         62|  10106|  Pave|NotNA|     Reg|        Lvl|   AllPub|   Inside|      Gtl|     Edwards|      Norm|      Norm|  2fmCon|    1.5Fin|          5|          7|     1940|        1999|    Gable| CompShg|    Wd Sdng|    Wd Sdng|      None|         0|       TA|       Gd|    BrkTil|      TA|      TA|          No|         ALQ|       351|         Rec|       181|      112|        644|   GasA|       Gd|         Y|     SBrkr|     808|     547|           0|     1355|           1|           0|       2|       0|           4|           2|         TA|           6|       Typ|         0|      NotNA|     NotNA|       null|       NotNA|         0|         0|     NotNA|     NotNA|         Y|       140|          0|            0|        0|          0|       0| NotNA|NotNA|      NotNA|      0|     9|  2008|      WD|       Normal|   127500|\n",
            "|199|        75|      RM|         92|   5520|  Pave|NotNA|     Reg|        Lvl|   AllPub|   Corner|      Gtl|     OldTown|      Norm|      Norm|    1Fam|    2.5Fin|          6|          6|     1912|        1950|    Gable| CompShg|    Wd Sdng|    Wd Sdng|      None|         0|       TA|       TA|    CBlock|      TA|      TA|          No|         Unf|         0|         Unf|         0|      755|        755|   GasA|       Ex|         Y|     SBrkr|     929|     929|         371|     2229|           0|           0|       1|       0|           5|           1|         TA|           8|       Typ|         0|      NotNA|     NotNA|       null|       NotNA|         0|         0|     NotNA|     NotNA|         Y|         0|        198|           30|        0|          0|       0| NotNA|MnPrv|      NotNA|      0|     7|  2009|      WD|      Abnorml|   104000|\n",
            "|211|        30|      RL|         67|   5604|  Pave|NotNA|     Reg|        Lvl|   AllPub|   Inside|      Gtl|     Edwards|      Norm|      Norm|    1Fam|    1Story|          5|          6|     1925|        1950|    Gable| CompShg|     Stucco|     Stucco|      None|         0|       TA|       TA|    CBlock|      TA|      TA|          No|         Rec|       468|         Unf|         0|      396|        864|   GasA|       TA|         N|     FuseA|     864|       0|           0|      864|           1|           0|       1|       0|           2|           1|         TA|           5|       Typ|         0|      NotNA|     NotNA|       null|       NotNA|         0|         0|     NotNA|     NotNA|         Y|         0|          0|           96|        0|          0|       0| NotNA|NotNA|      NotNA|      0|     4|  2008|      WD|       Normal|    98000|\n",
            "|242|        30|      RM|         40|   3880|  Pave|NotNA|     Reg|        Lvl|   AllPub|   Inside|      Gtl|     OldTown|      Norm|      Norm|    1Fam|    1Story|          5|          9|     1945|        1997|    Gable| CompShg|    VinylSd|    VinylSd|      None|         0|       TA|       Gd|    CBlock|      TA|      TA|          No|         ALQ|       329|         Unf|         0|      357|        686|   GasA|       Gd|         Y|     SBrkr|     866|       0|           0|      866|           0|           0|       1|       0|           2|           1|         Gd|           4|       Typ|         0|      NotNA|     NotNA|       null|       NotNA|         0|         0|     NotNA|     NotNA|         Y|        58|         42|            0|        0|          0|       0| NotNA|NotNA|      NotNA|      0|     8|  2007|      WD|       Normal|   110500|\n",
            "|251|        30|      RL|         55|   5350|  Pave|NotNA|     IR1|        Lvl|   AllPub|   Inside|      Gtl|     BrkSide|      Norm|      Norm|    1Fam|    1Story|          3|          2|     1940|        1966|    Gable| CompShg|    Wd Sdng|    Plywood|      None|         0|       TA|       Po|    CBlock|      TA|      TA|          No|         Unf|         0|         Unf|         0|      728|        728|   GasA|       Ex|         Y|     SBrkr|    1306|       0|           0|     1306|           0|           0|       1|       0|           3|           1|         Fa|           6|       Mod|         0|      NotNA|     NotNA|       null|       NotNA|         0|         0|     NotNA|     NotNA|         Y|       263|          0|            0|        0|          0|       0| NotNA| GdWo|       Shed|    450|     5|  2010|      WD|       Normal|    76500|\n",
            "|288|        20|      RL|       null|   8125|  Pave|NotNA|     IR1|        Lvl|   AllPub|   Corner|      Gtl|       NAmes|      Norm|      Norm|    1Fam|    1Story|          4|          4|     1971|        1971|    Gable| CompShg|    HdBoard|    HdBoard|      None|         0|       TA|       TA|    CBlock|      TA|      TA|          No|         BLQ|       614|         Unf|         0|      244|        858|   GasA|       TA|         Y|     SBrkr|     858|       0|           0|      858|           0|           0|       1|       0|           3|           1|         TA|           5|       Typ|         0|      NotNA|     NotNA|       null|       NotNA|         0|         0|     NotNA|     NotNA|         Y|         0|          0|            0|        0|          0|       0| NotNA|NotNA|      NotNA|      0|     6|  2006|      WD|       Normal|    88000|\n",
            "|292|       190|      RL|         55|   5687|  Pave| Grvl|     Reg|        Bnk|   AllPub|   Inside|      Gtl|       SWISU|      Norm|      Norm|  2fmCon|    2Story|          5|          6|     1912|        2000|    Gable| CompShg|    VinylSd|    VinylSd|      None|         0|       TA|       Fa|     PConc|      TA|      Fa|          No|         Rec|       210|         Unf|         0|      570|        780|   GasA|       Ex|         N|     SBrkr|     936|     780|           0|     1716|           1|           0|       2|       0|           6|           1|         Fa|           9|       Typ|         0|      NotNA|     NotNA|       null|       NotNA|         0|         0|     NotNA|     NotNA|         N|         0|        184|            0|        0|          0|       0| NotNA|NotNA|      NotNA|      0|     3|  2008|      WD|       Normal|   135900|\n",
            "+---+----------+--------+-----------+-------+------+-----+--------+-----------+---------+---------+---------+------------+----------+----------+--------+----------+-----------+-----------+---------+------------+---------+--------+-----------+-----------+----------+----------+---------+---------+----------+--------+--------+------------+------------+----------+------------+----------+---------+-----------+-------+---------+----------+----------+--------+--------+------------+---------+------------+------------+--------+--------+------------+------------+-----------+------------+----------+----------+-----------+----------+-----------+------------+----------+----------+----------+----------+----------+----------+-----------+-------------+---------+-----------+--------+------+-----+-----------+-------+------+------+--------+-------------+---------+\n",
            "only showing top 20 rows\n",
            "\n"
          ],
          "name": "stdout"
        }
      ]
    },
    {
      "cell_type": "markdown",
      "metadata": {
        "id": "R1z59Y-vNT7g"
      },
      "source": [
        "A continuación, vamos a estudiar la frecuencia de cada variable relacionada con garaje dentro del conjunto de viviendas con missing en **GarageYrBlt**."
      ]
    },
    {
      "cell_type": "code",
      "metadata": {
        "id": "hhfuW121uN3c",
        "colab": {
          "base_uri": "https://localhost:8080/",
          "height": 136
        },
        "outputId": "a410b2d9-ff4d-4127-cb2e-0aa1bd02ab23"
      },
      "source": [
        "miss_GarageYrBlt.groupby('GarageType').count().orderBy(F.desc('count')).show()"
      ],
      "execution_count": null,
      "outputs": [
        {
          "output_type": "stream",
          "text": [
            "+----------+-----+\n",
            "|GarageType|count|\n",
            "+----------+-----+\n",
            "|     NotNA|  157|\n",
            "|    Detchd|    2|\n",
            "+----------+-----+\n",
            "\n"
          ],
          "name": "stdout"
        }
      ]
    },
    {
      "cell_type": "code",
      "metadata": {
        "id": "qmD0U4ULviOA",
        "colab": {
          "base_uri": "https://localhost:8080/",
          "height": 119
        },
        "outputId": "ebd1754c-f43a-4c9c-e4a5-69037e90e72d"
      },
      "source": [
        "miss_GarageYrBlt.groupby('GarageFinish').count().orderBy(F.desc('count')).show()"
      ],
      "execution_count": null,
      "outputs": [
        {
          "output_type": "stream",
          "text": [
            "+------------+-----+\n",
            "|GarageFinish|count|\n",
            "+------------+-----+\n",
            "|       NotNA|  159|\n",
            "+------------+-----+\n",
            "\n"
          ],
          "name": "stdout"
        }
      ]
    },
    {
      "cell_type": "code",
      "metadata": {
        "id": "QqR9hyXEvs3F",
        "colab": {
          "base_uri": "https://localhost:8080/",
          "height": 153
        },
        "outputId": "a65a8d86-8537-478a-f05c-f16667566fc0"
      },
      "source": [
        "miss_GarageYrBlt.groupby('GarageCars').count().orderBy(F.desc('count')).show()"
      ],
      "execution_count": null,
      "outputs": [
        {
          "output_type": "stream",
          "text": [
            "+----------+-----+\n",
            "|GarageCars|count|\n",
            "+----------+-----+\n",
            "|         0|  157|\n",
            "|      null|    1|\n",
            "|         1|    1|\n",
            "+----------+-----+\n",
            "\n"
          ],
          "name": "stdout"
        }
      ]
    },
    {
      "cell_type": "code",
      "metadata": {
        "id": "vOSQJsnhwCSy",
        "colab": {
          "base_uri": "https://localhost:8080/",
          "height": 153
        },
        "outputId": "ff501fa6-ddff-4dbb-aeb1-a5b0d99059ea"
      },
      "source": [
        "miss_GarageYrBlt.groupby('GarageArea').count().orderBy(F.desc('count')).show()"
      ],
      "execution_count": null,
      "outputs": [
        {
          "output_type": "stream",
          "text": [
            "+----------+-----+\n",
            "|GarageArea|count|\n",
            "+----------+-----+\n",
            "|         0|  157|\n",
            "|       360|    1|\n",
            "|      null|    1|\n",
            "+----------+-----+\n",
            "\n"
          ],
          "name": "stdout"
        }
      ]
    },
    {
      "cell_type": "code",
      "metadata": {
        "id": "Dlglh-VZwOx7",
        "colab": {
          "base_uri": "https://localhost:8080/",
          "height": 119
        },
        "outputId": "b4062771-aa0c-4f50-aaee-2890b7e9e28d"
      },
      "source": [
        "miss_GarageYrBlt.groupby('GarageCond').count().orderBy(F.desc('count')).show()"
      ],
      "execution_count": null,
      "outputs": [
        {
          "output_type": "stream",
          "text": [
            "+----------+-----+\n",
            "|GarageCond|count|\n",
            "+----------+-----+\n",
            "|     NotNA|  159|\n",
            "+----------+-----+\n",
            "\n"
          ],
          "name": "stdout"
        }
      ]
    },
    {
      "cell_type": "markdown",
      "metadata": {
        "id": "S6CH4g4u3J-I"
      },
      "source": [
        "De aquí podemos decir que hay **157** viviendas que no tienen garaje ya que todas las características del garaje vienen como valor **NotNA**(No Garaje) o **0** en el caso de **GarageArea** y **GarageCars**. Sin embargo, observamos que hay dos viviendas que si tienen garaje, ya que el valor en **GarageType** es igual a **Detchd**, es decir, el garaje se encuentra fuera de la vivienda. Vamos a investigar estos casos un poco más."
      ]
    },
    {
      "cell_type": "code",
      "metadata": {
        "id": "_3fkAvFd4H_6",
        "colab": {
          "base_uri": "https://localhost:8080/",
          "height": 156
        },
        "outputId": "b3c068ad-7941-427e-e43e-fdb4eca98e38"
      },
      "source": [
        "miss_GarageYrBlt.filter(miss_GarageYrBlt.GarageType=='Detchd').show()"
      ],
      "execution_count": null,
      "outputs": [
        {
          "output_type": "stream",
          "text": [
            "+----+----------+--------+-----------+-------+------+-----+--------+-----------+---------+---------+---------+------------+----------+----------+--------+----------+-----------+-----------+---------+------------+---------+--------+-----------+-----------+----------+----------+---------+---------+----------+--------+--------+------------+------------+----------+------------+----------+---------+-----------+-------+---------+----------+----------+--------+--------+------------+---------+------------+------------+--------+--------+------------+------------+-----------+------------+----------+----------+-----------+----------+-----------+------------+----------+----------+----------+----------+----------+----------+-----------+-------------+---------+-----------+--------+------+-----+-----------+-------+------+------+--------+-------------+---------+\n",
            "|  Id|MSSubClass|MSZoning|LotFrontage|LotArea|Street|Alley|LotShape|LandContour|Utilities|LotConfig|LandSlope|Neighborhood|Condition1|Condition2|BldgType|HouseStyle|OverallQual|OverallCond|YearBuilt|YearRemodAdd|RoofStyle|RoofMatl|Exterior1st|Exterior2nd|MasVnrType|MasVnrArea|ExterQual|ExterCond|Foundation|BsmtQual|BsmtCond|BsmtExposure|BsmtFinType1|BsmtFinSF1|BsmtFinType2|BsmtFinSF2|BsmtUnfSF|TotalBsmtSF|Heating|HeatingQC|CentralAir|Electrical|1stFlrSF|2ndFlrSF|LowQualFinSF|GrLivArea|BsmtFullBath|BsmtHalfBath|FullBath|HalfBath|BedroomAbvGr|KitchenAbvGr|KitchenQual|TotRmsAbvGrd|Functional|Fireplaces|FireplaceQu|GarageType|GarageYrBlt|GarageFinish|GarageCars|GarageArea|GarageQual|GarageCond|PavedDrive|WoodDeckSF|OpenPorchSF|EnclosedPorch|3SsnPorch|ScreenPorch|PoolArea|PoolQC|Fence|MiscFeature|MiscVal|MoSold|YrSold|SaleType|SaleCondition|SalePrice|\n",
            "+----+----------+--------+-----------+-------+------+-----+--------+-----------+---------+---------+---------+------------+----------+----------+--------+----------+-----------+-----------+---------+------------+---------+--------+-----------+-----------+----------+----------+---------+---------+----------+--------+--------+------------+------------+----------+------------+----------+---------+-----------+-------+---------+----------+----------+--------+--------+------------+---------+------------+------------+--------+--------+------------+------------+-----------+------------+----------+----------+-----------+----------+-----------+------------+----------+----------+----------+----------+----------+----------+-----------+-------------+---------+-----------+--------+------+-----+-----------+-------+------+------+--------+-------------+---------+\n",
            "|2127|        60|      RM|         57|   8094|  Pave| Grvl|     Reg|        Lvl|   AllPub|   Inside|      Gtl|     OldTown|      Norm|      Norm|  2fmCon|    2.5Unf|          6|          8|     1910|        1983|    Gable| CompShg|    Wd Sdng|    Wd Sdng|      None|         0|       TA|       TA|     PConc|      TA|      TA|          Mn|         Rec|       196|         Unf|         0|     1046|       1242|   GasA|       Gd|         Y|     SBrkr|    1242|     742|           0|     1984|           0|           0|       2|       0|           5|           1|         TA|           8|       Typ|         0|      NotNA|    Detchd|       null|       NotNA|         1|       360|     NotNA|     NotNA|         Y|        64|          0|          180|        0|          0|       0| NotNA|MnPrv|       Shed|   1000|     9|  2008|      WD|       Normal|     null|\n",
            "|2577|        70|      RM|         50|   9060|  Pave|NotNA|     Reg|        Lvl|   AllPub|   Inside|      Gtl|      IDOTRR|      Norm|      Norm|    1Fam|    2Story|          5|          6|     1923|        1999|    Gable| CompShg|    Wd Sdng|    Plywood|      None|         0|       TA|       TA|    BrkTil|      Gd|      TA|          No|         ALQ|       548|         Unf|         0|      311|        859|   GasA|       Ex|         Y|     SBrkr|     942|     886|           0|     1828|           0|           0|       2|       0|           3|           1|         Gd|           6|       Typ|         0|      NotNA|    Detchd|       null|       NotNA|      null|      null|     NotNA|     NotNA|         Y|       174|          0|          212|        0|          0|       0| NotNA|MnPrv|      NotNA|      0|     3|  2007|      WD|       Alloca|     null|\n",
            "+----+----------+--------+-----------+-------+------+-----+--------+-----------+---------+---------+---------+------------+----------+----------+--------+----------+-----------+-----------+---------+------------+---------+--------+-----------+-----------+----------+----------+---------+---------+----------+--------+--------+------------+------------+----------+------------+----------+---------+-----------+-------+---------+----------+----------+--------+--------+------------+---------+------------+------------+--------+--------+------------+------------+-----------+------------+----------+----------+-----------+----------+-----------+------------+----------+----------+----------+----------+----------+----------+-----------+-------------+---------+-----------+--------+------+-----+-----------+-------+------+------+--------+-------------+---------+\n",
            "\n"
          ],
          "name": "stdout"
        }
      ]
    },
    {
      "cell_type": "markdown",
      "metadata": {
        "id": "J1BLidCv5K-g"
      },
      "source": [
        "Podemos observar que una de ellas tiene una capacidad para un coche y 360 de área y sin embargo de la otra no sabemos más información, porlo que suponemos que no se ha construido aún el garaje.\n",
        "\n",
        "Por tanto, vamos a imputar a los que no tienen garaje por la moda de la variable con el fin de no distorsionar la distribución de ésta. Y por otro lado, vamos a imputar estos dos casos por el año más repetido dentro de las viviendas con garaje externo."
      ]
    },
    {
      "cell_type": "code",
      "metadata": {
        "id": "2RFpkH4vRIik"
      },
      "source": [
        "not_miss_GarageYrBlt = data_full_impt.filter(data_full_impt.GarageYrBlt.isNotNull())"
      ],
      "execution_count": null,
      "outputs": []
    },
    {
      "cell_type": "code",
      "metadata": {
        "id": "bawWD1z2rjgd",
        "colab": {
          "base_uri": "https://localhost:8080/",
          "height": 459
        },
        "outputId": "33bdb808-98a5-4e42-bed8-185a79cd736a"
      },
      "source": [
        "not_miss_GarageYrBlt.groupby('GarageYrBlt').count().orderBy(F.desc('count')).show()"
      ],
      "execution_count": null,
      "outputs": [
        {
          "output_type": "stream",
          "text": [
            "+-----------+-----+\n",
            "|GarageYrBlt|count|\n",
            "+-----------+-----+\n",
            "|       2005|  142|\n",
            "|       2006|  115|\n",
            "|       2007|  115|\n",
            "|       2004|   99|\n",
            "|       2003|   92|\n",
            "|       1977|   66|\n",
            "|       2008|   61|\n",
            "|       1998|   58|\n",
            "|       2000|   55|\n",
            "|       1999|   54|\n",
            "|       2002|   53|\n",
            "|       1950|   51|\n",
            "|       1976|   50|\n",
            "|       1993|   49|\n",
            "|       1968|   48|\n",
            "|       1997|   44|\n",
            "|       1958|   42|\n",
            "|       2001|   41|\n",
            "|       1978|   41|\n",
            "|       1956|   41|\n",
            "+-----------+-----+\n",
            "only showing top 20 rows\n",
            "\n"
          ],
          "name": "stdout"
        }
      ]
    },
    {
      "cell_type": "code",
      "metadata": {
        "id": "bYjp9eCNsBq7"
      },
      "source": [
        "valimp_GarageYrBlt = 2005"
      ],
      "execution_count": null,
      "outputs": []
    },
    {
      "cell_type": "markdown",
      "metadata": {
        "id": "a0waQuiMG06Y"
      },
      "source": [
        "Vamos a sacar ahora la **moda** dentro de las viviendas con **garaje externo**."
      ]
    },
    {
      "cell_type": "code",
      "metadata": {
        "id": "7bJVo7TfG66x",
        "colab": {
          "base_uri": "https://localhost:8080/",
          "height": 459
        },
        "outputId": "eaf7c4a0-abc3-4d44-d49e-456bae0e1deb"
      },
      "source": [
        "not_miss_GarageYrBlt.filter(not_miss_GarageYrBlt.GarageType=='Detchd').groupby('GarageYrBlt').count().orderBy(F.desc('count')).show()"
      ],
      "execution_count": null,
      "outputs": [
        {
          "output_type": "stream",
          "text": [
            "+-----------+-----+\n",
            "|GarageYrBlt|count|\n",
            "+-----------+-----+\n",
            "|       1950|   29|\n",
            "|       1920|   27|\n",
            "|       1930|   24|\n",
            "|       1940|   18|\n",
            "|       1939|   18|\n",
            "|       1977|   17|\n",
            "|       1999|   17|\n",
            "|       1973|   16|\n",
            "|       1979|   16|\n",
            "|       2004|   16|\n",
            "|       1962|   15|\n",
            "|       1926|   15|\n",
            "|       2000|   13|\n",
            "|       1925|   13|\n",
            "|       1980|   13|\n",
            "|       1974|   13|\n",
            "|       1972|   12|\n",
            "|       1948|   12|\n",
            "|       1965|   11|\n",
            "|       2005|   11|\n",
            "+-----------+-----+\n",
            "only showing top 20 rows\n",
            "\n"
          ],
          "name": "stdout"
        }
      ]
    },
    {
      "cell_type": "markdown",
      "metadata": {
        "id": "9UYSQO3fHuCf"
      },
      "source": [
        "Por tanto vamos a imputar esos dos casos por **1950**, aunque se podría tambien imputar por 1920 y más adelante imputaremos los casos de viviendas que no tenían garaje."
      ]
    },
    {
      "cell_type": "code",
      "metadata": {
        "id": "xGnF-822IFMi"
      },
      "source": [
        "data_full_impt = data_full_impt.withColumn('GarageYrBlt',\\\n",
        "                 when((data_full_impt.GarageYrBlt.isNull()) & \\\n",
        "                      (data_full_impt.GarageType=='Detchd'),1950) \\\n",
        "                      .otherwise(data_full_impt.GarageYrBlt))"
      ],
      "execution_count": null,
      "outputs": []
    },
    {
      "cell_type": "markdown",
      "metadata": {
        "id": "8H8BRglmMEFA"
      },
      "source": [
        "Comprobamos que esos dos casos no aparecen si filtramos por los valores nulos de **GarageYrBlt** cuyo garaje es de tipo externo."
      ]
    },
    {
      "cell_type": "code",
      "metadata": {
        "id": "WudowqOKL4AE",
        "colab": {
          "base_uri": "https://localhost:8080/",
          "height": 122
        },
        "outputId": "7fd57a7f-73f1-4f9e-f820-6f144c21fac4"
      },
      "source": [
        "data_full_impt.filter((data_full_impt.GarageYrBlt.isNull()) & \\\n",
        "                      (data_full_impt.GarageType=='Detchd')).show()"
      ],
      "execution_count": null,
      "outputs": [
        {
          "output_type": "stream",
          "text": [
            "+---+----------+--------+-----------+-------+------+-----+--------+-----------+---------+---------+---------+------------+----------+----------+--------+----------+-----------+-----------+---------+------------+---------+--------+-----------+-----------+----------+----------+---------+---------+----------+--------+--------+------------+------------+----------+------------+----------+---------+-----------+-------+---------+----------+----------+--------+--------+------------+---------+------------+------------+--------+--------+------------+------------+-----------+------------+----------+----------+-----------+----------+-----------+------------+----------+----------+----------+----------+----------+----------+-----------+-------------+---------+-----------+--------+------+-----+-----------+-------+------+------+--------+-------------+---------+\n",
            "| Id|MSSubClass|MSZoning|LotFrontage|LotArea|Street|Alley|LotShape|LandContour|Utilities|LotConfig|LandSlope|Neighborhood|Condition1|Condition2|BldgType|HouseStyle|OverallQual|OverallCond|YearBuilt|YearRemodAdd|RoofStyle|RoofMatl|Exterior1st|Exterior2nd|MasVnrType|MasVnrArea|ExterQual|ExterCond|Foundation|BsmtQual|BsmtCond|BsmtExposure|BsmtFinType1|BsmtFinSF1|BsmtFinType2|BsmtFinSF2|BsmtUnfSF|TotalBsmtSF|Heating|HeatingQC|CentralAir|Electrical|1stFlrSF|2ndFlrSF|LowQualFinSF|GrLivArea|BsmtFullBath|BsmtHalfBath|FullBath|HalfBath|BedroomAbvGr|KitchenAbvGr|KitchenQual|TotRmsAbvGrd|Functional|Fireplaces|FireplaceQu|GarageType|GarageYrBlt|GarageFinish|GarageCars|GarageArea|GarageQual|GarageCond|PavedDrive|WoodDeckSF|OpenPorchSF|EnclosedPorch|3SsnPorch|ScreenPorch|PoolArea|PoolQC|Fence|MiscFeature|MiscVal|MoSold|YrSold|SaleType|SaleCondition|SalePrice|\n",
            "+---+----------+--------+-----------+-------+------+-----+--------+-----------+---------+---------+---------+------------+----------+----------+--------+----------+-----------+-----------+---------+------------+---------+--------+-----------+-----------+----------+----------+---------+---------+----------+--------+--------+------------+------------+----------+------------+----------+---------+-----------+-------+---------+----------+----------+--------+--------+------------+---------+------------+------------+--------+--------+------------+------------+-----------+------------+----------+----------+-----------+----------+-----------+------------+----------+----------+----------+----------+----------+----------+-----------+-------------+---------+-----------+--------+------+-----+-----------+-------+------+------+--------+-------------+---------+\n",
            "+---+----------+--------+-----------+-------+------+-----+--------+-----------+---------+---------+---------+------------+----------+----------+--------+----------+-----------+-----------+---------+------------+---------+--------+-----------+-----------+----------+----------+---------+---------+----------+--------+--------+------------+------------+----------+------------+----------+---------+-----------+-------+---------+----------+----------+--------+--------+------------+---------+------------+------------+--------+--------+------------+------------+-----------+------------+----------+----------+-----------+----------+-----------+------------+----------+----------+----------+----------+----------+----------+-----------+-------------+---------+-----------+--------+------+-----+-----------+-------+------+------+--------+-------------+---------+\n",
            "\n"
          ],
          "name": "stdout"
        }
      ]
    },
    {
      "cell_type": "markdown",
      "metadata": {
        "id": "t9qSMG69sWcL"
      },
      "source": [
        "##### **GarageCars**\n",
        "\n",
        "Esta variable representa el **número de coches que cabe en el garaje**.\n",
        "\n",
        "Vamos a comenzar investigando la vivienda que le falta esta información."
      ]
    },
    {
      "cell_type": "code",
      "metadata": {
        "id": "9xu3mAtTrjpu",
        "colab": {
          "base_uri": "https://localhost:8080/",
          "height": 139
        },
        "outputId": "3842c4ed-3d4d-4192-94bf-3614bd4ef424"
      },
      "source": [
        "miss_GarageCars = data_full_impt.filter(data_full_impt.GarageCars.isNull())\n",
        "miss_GarageCars.show()"
      ],
      "execution_count": null,
      "outputs": [
        {
          "output_type": "stream",
          "text": [
            "+----+----------+--------+-----------+-------+------+-----+--------+-----------+---------+---------+---------+------------+----------+----------+--------+----------+-----------+-----------+---------+------------+---------+--------+-----------+-----------+----------+----------+---------+---------+----------+--------+--------+------------+------------+----------+------------+----------+---------+-----------+-------+---------+----------+----------+--------+--------+------------+---------+------------+------------+--------+--------+------------+------------+-----------+------------+----------+----------+-----------+----------+-----------+------------+----------+----------+----------+----------+----------+----------+-----------+-------------+---------+-----------+--------+------+-----+-----------+-------+------+------+--------+-------------+---------+\n",
            "|  Id|MSSubClass|MSZoning|LotFrontage|LotArea|Street|Alley|LotShape|LandContour|Utilities|LotConfig|LandSlope|Neighborhood|Condition1|Condition2|BldgType|HouseStyle|OverallQual|OverallCond|YearBuilt|YearRemodAdd|RoofStyle|RoofMatl|Exterior1st|Exterior2nd|MasVnrType|MasVnrArea|ExterQual|ExterCond|Foundation|BsmtQual|BsmtCond|BsmtExposure|BsmtFinType1|BsmtFinSF1|BsmtFinType2|BsmtFinSF2|BsmtUnfSF|TotalBsmtSF|Heating|HeatingQC|CentralAir|Electrical|1stFlrSF|2ndFlrSF|LowQualFinSF|GrLivArea|BsmtFullBath|BsmtHalfBath|FullBath|HalfBath|BedroomAbvGr|KitchenAbvGr|KitchenQual|TotRmsAbvGrd|Functional|Fireplaces|FireplaceQu|GarageType|GarageYrBlt|GarageFinish|GarageCars|GarageArea|GarageQual|GarageCond|PavedDrive|WoodDeckSF|OpenPorchSF|EnclosedPorch|3SsnPorch|ScreenPorch|PoolArea|PoolQC|Fence|MiscFeature|MiscVal|MoSold|YrSold|SaleType|SaleCondition|SalePrice|\n",
            "+----+----------+--------+-----------+-------+------+-----+--------+-----------+---------+---------+---------+------------+----------+----------+--------+----------+-----------+-----------+---------+------------+---------+--------+-----------+-----------+----------+----------+---------+---------+----------+--------+--------+------------+------------+----------+------------+----------+---------+-----------+-------+---------+----------+----------+--------+--------+------------+---------+------------+------------+--------+--------+------------+------------+-----------+------------+----------+----------+-----------+----------+-----------+------------+----------+----------+----------+----------+----------+----------+-----------+-------------+---------+-----------+--------+------+-----+-----------+-------+------+------+--------+-------------+---------+\n",
            "|2577|        70|      RM|         50|   9060|  Pave|NotNA|     Reg|        Lvl|   AllPub|   Inside|      Gtl|      IDOTRR|      Norm|      Norm|    1Fam|    2Story|          5|          6|     1923|        1999|    Gable| CompShg|    Wd Sdng|    Plywood|      None|         0|       TA|       TA|    BrkTil|      Gd|      TA|          No|         ALQ|       548|         Unf|         0|      311|        859|   GasA|       Ex|         Y|     SBrkr|     942|     886|           0|     1828|           0|           0|       2|       0|           3|           1|         Gd|           6|       Typ|         0|      NotNA|    Detchd|       1950|       NotNA|      null|      null|     NotNA|     NotNA|         Y|       174|          0|          212|        0|          0|       0| NotNA|MnPrv|      NotNA|      0|     3|  2007|      WD|       Alloca|     null|\n",
            "+----+----------+--------+-----------+-------+------+-----+--------+-----------+---------+---------+---------+------------+----------+----------+--------+----------+-----------+-----------+---------+------------+---------+--------+-----------+-----------+----------+----------+---------+---------+----------+--------+--------+------------+------------+----------+------------+----------+---------+-----------+-------+---------+----------+----------+--------+--------+------------+---------+------------+------------+--------+--------+------------+------------+-----------+------------+----------+----------+-----------+----------+-----------+------------+----------+----------+----------+----------+----------+----------+-----------+-------------+---------+-----------+--------+------+-----+-----------+-------+------+------+--------+-------------+---------+\n",
            "\n"
          ],
          "name": "stdout"
        }
      ]
    },
    {
      "cell_type": "markdown",
      "metadata": {
        "id": "bXaWoVsH7iXh"
      },
      "source": [
        "Podemos observar que estamos ante un caso en el que se sabe cuál va a ser el tipo de garaje pero aún no se ha construido. Es por ello que no sabemos nada del resto de variables relacionadas con el garaje.\n",
        "\n",
        "Podríamos investigar el resto de viviendas que tienen el garaje fuera de la casa e imputar por el número más frecuente de coches que caben en él."
      ]
    },
    {
      "cell_type": "code",
      "metadata": {
        "id": "Jukf-LRhR1aE"
      },
      "source": [
        "not_miss_GarageCars = data_full_impt.filter(data_full_impt.GarageCars.isNotNull())"
      ],
      "execution_count": null,
      "outputs": []
    },
    {
      "cell_type": "code",
      "metadata": {
        "id": "2R47zHpa_cVJ",
        "colab": {
          "base_uri": "https://localhost:8080/",
          "height": 187
        },
        "outputId": "083d5292-5380-4f3f-d449-7187b65db805"
      },
      "source": [
        "not_miss_GarageCars.filter(not_miss_GarageCars.GarageType=='Detchd') \\\n",
        "                   .groupby('GarageCars').count().show()"
      ],
      "execution_count": null,
      "outputs": [
        {
          "output_type": "stream",
          "text": [
            "+----------+-----+\n",
            "|GarageCars|count|\n",
            "+----------+-----+\n",
            "|         1|  376|\n",
            "|         3|   13|\n",
            "|         5|    1|\n",
            "|         4|    4|\n",
            "|         2|  384|\n",
            "+----------+-----+\n",
            "\n"
          ],
          "name": "stdout"
        }
      ]
    },
    {
      "cell_type": "markdown",
      "metadata": {
        "id": "edzt2xwT_gx8"
      },
      "source": [
        "Por tanto, vamos a imputar por 2 coches que cabrían, pero se podría imputar por 1 ya que no tenemos más información y también es muy frecuente en los garajes fuera de la vivienda."
      ]
    },
    {
      "cell_type": "code",
      "metadata": {
        "id": "umxAQIC9snyF"
      },
      "source": [
        "valimp_GarageCars = 2"
      ],
      "execution_count": null,
      "outputs": []
    },
    {
      "cell_type": "markdown",
      "metadata": {
        "id": "-oPTMBRPt3ns"
      },
      "source": [
        "##### **GarageArea**\n",
        "\n",
        "Esta variable representa el **área del garaje**.\n",
        "\n",
        "Vamos a comenzar investigando la vivienda que le falta esta información."
      ]
    },
    {
      "cell_type": "code",
      "metadata": {
        "id": "O7iMoeGFughR",
        "colab": {
          "base_uri": "https://localhost:8080/",
          "height": 139
        },
        "outputId": "3f8acede-c8ff-4022-cf37-87af6d363be2"
      },
      "source": [
        "miss_GarageArea = data_full_impt.filter(data_full_impt.GarageArea.isNull())\n",
        "miss_GarageArea.show()"
      ],
      "execution_count": null,
      "outputs": [
        {
          "output_type": "stream",
          "text": [
            "+----+----------+--------+-----------+-------+------+-----+--------+-----------+---------+---------+---------+------------+----------+----------+--------+----------+-----------+-----------+---------+------------+---------+--------+-----------+-----------+----------+----------+---------+---------+----------+--------+--------+------------+------------+----------+------------+----------+---------+-----------+-------+---------+----------+----------+--------+--------+------------+---------+------------+------------+--------+--------+------------+------------+-----------+------------+----------+----------+-----------+----------+-----------+------------+----------+----------+----------+----------+----------+----------+-----------+-------------+---------+-----------+--------+------+-----+-----------+-------+------+------+--------+-------------+---------+\n",
            "|  Id|MSSubClass|MSZoning|LotFrontage|LotArea|Street|Alley|LotShape|LandContour|Utilities|LotConfig|LandSlope|Neighborhood|Condition1|Condition2|BldgType|HouseStyle|OverallQual|OverallCond|YearBuilt|YearRemodAdd|RoofStyle|RoofMatl|Exterior1st|Exterior2nd|MasVnrType|MasVnrArea|ExterQual|ExterCond|Foundation|BsmtQual|BsmtCond|BsmtExposure|BsmtFinType1|BsmtFinSF1|BsmtFinType2|BsmtFinSF2|BsmtUnfSF|TotalBsmtSF|Heating|HeatingQC|CentralAir|Electrical|1stFlrSF|2ndFlrSF|LowQualFinSF|GrLivArea|BsmtFullBath|BsmtHalfBath|FullBath|HalfBath|BedroomAbvGr|KitchenAbvGr|KitchenQual|TotRmsAbvGrd|Functional|Fireplaces|FireplaceQu|GarageType|GarageYrBlt|GarageFinish|GarageCars|GarageArea|GarageQual|GarageCond|PavedDrive|WoodDeckSF|OpenPorchSF|EnclosedPorch|3SsnPorch|ScreenPorch|PoolArea|PoolQC|Fence|MiscFeature|MiscVal|MoSold|YrSold|SaleType|SaleCondition|SalePrice|\n",
            "+----+----------+--------+-----------+-------+------+-----+--------+-----------+---------+---------+---------+------------+----------+----------+--------+----------+-----------+-----------+---------+------------+---------+--------+-----------+-----------+----------+----------+---------+---------+----------+--------+--------+------------+------------+----------+------------+----------+---------+-----------+-------+---------+----------+----------+--------+--------+------------+---------+------------+------------+--------+--------+------------+------------+-----------+------------+----------+----------+-----------+----------+-----------+------------+----------+----------+----------+----------+----------+----------+-----------+-------------+---------+-----------+--------+------+-----+-----------+-------+------+------+--------+-------------+---------+\n",
            "|2577|        70|      RM|         50|   9060|  Pave|NotNA|     Reg|        Lvl|   AllPub|   Inside|      Gtl|      IDOTRR|      Norm|      Norm|    1Fam|    2Story|          5|          6|     1923|        1999|    Gable| CompShg|    Wd Sdng|    Plywood|      None|         0|       TA|       TA|    BrkTil|      Gd|      TA|          No|         ALQ|       548|         Unf|         0|      311|        859|   GasA|       Ex|         Y|     SBrkr|     942|     886|           0|     1828|           0|           0|       2|       0|           3|           1|         Gd|           6|       Typ|         0|      NotNA|    Detchd|       1950|       NotNA|      null|      null|     NotNA|     NotNA|         Y|       174|          0|          212|        0|          0|       0| NotNA|MnPrv|      NotNA|      0|     3|  2007|      WD|       Alloca|     null|\n",
            "+----+----------+--------+-----------+-------+------+-----+--------+-----------+---------+---------+---------+------------+----------+----------+--------+----------+-----------+-----------+---------+------------+---------+--------+-----------+-----------+----------+----------+---------+---------+----------+--------+--------+------------+------------+----------+------------+----------+---------+-----------+-------+---------+----------+----------+--------+--------+------------+---------+------------+------------+--------+--------+------------+------------+-----------+------------+----------+----------+-----------+----------+-----------+------------+----------+----------+----------+----------+----------+----------+-----------+-------------+---------+-----------+--------+------+-----+-----------+-------+------+------+--------+-------------+---------+\n",
            "\n"
          ],
          "name": "stdout"
        }
      ]
    },
    {
      "cell_type": "markdown",
      "metadata": {
        "id": "T57JGJ22Cavr"
      },
      "source": [
        "Este sigue siendo el mismo caso anterior en el que no está construido el garaje todavía. Por ello, vamos a filtrar por los garajes fuera de casa y veamos si es más adecuado imputar por la media o la mediana."
      ]
    },
    {
      "cell_type": "code",
      "metadata": {
        "id": "-3iq0vh2SNmk"
      },
      "source": [
        "not_miss_GarageArea = data_full_impt.filter(data_full_impt.GarageArea.isNotNull())"
      ],
      "execution_count": null,
      "outputs": []
    },
    {
      "cell_type": "code",
      "metadata": {
        "id": "0sUjcFf8Cpli"
      },
      "source": [
        "not_miss_GarageArea_detchd = not_miss_GarageArea.filter(not_miss_GarageArea.GarageType==\"Detchd\")"
      ],
      "execution_count": null,
      "outputs": []
    },
    {
      "cell_type": "markdown",
      "metadata": {
        "id": "3jrKtILFSQIK"
      },
      "source": [
        "* Calculamos la **media** de **GarageArea** dentro de las viviendas con garaje externo."
      ]
    },
    {
      "cell_type": "code",
      "metadata": {
        "id": "tey81MpRugsG",
        "colab": {
          "base_uri": "https://localhost:8080/",
          "height": 119
        },
        "outputId": "84c4035f-9823-41a4-b90d-7f12f28083ab"
      },
      "source": [
        "not_miss_GarageArea_detchd.agg({'GarageArea':'avg'}).show()"
      ],
      "execution_count": null,
      "outputs": [
        {
          "output_type": "stream",
          "text": [
            "+------------------+\n",
            "|   avg(GarageArea)|\n",
            "+------------------+\n",
            "|419.49228791773777|\n",
            "+------------------+\n",
            "\n"
          ],
          "name": "stdout"
        }
      ]
    },
    {
      "cell_type": "markdown",
      "metadata": {
        "id": "GDNfXwxySiRQ"
      },
      "source": [
        "* Calculamos la **mediana** de **GarageArea** dentro de las viviendas con garaje externo."
      ]
    },
    {
      "cell_type": "code",
      "metadata": {
        "id": "VJxONbAduhGR",
        "colab": {
          "base_uri": "https://localhost:8080/",
          "height": 34
        },
        "outputId": "a0533453-79ef-4e15-f615-898eaf8455af"
      },
      "source": [
        "statFunc(not_miss_GarageArea_detchd).approxQuantile('GarageArea', [0.5], 0.1)"
      ],
      "execution_count": null,
      "outputs": [
        {
          "output_type": "execute_result",
          "data": {
            "text/plain": [
              "[360.0]"
            ]
          },
          "metadata": {
            "tags": []
          },
          "execution_count": 112
        }
      ]
    },
    {
      "cell_type": "markdown",
      "metadata": {
        "id": "whcBoD_HSkLe"
      },
      "source": [
        "* Calculamos un **resumen numérico** de **GarageArea** dentro de las viviendas con garaje externo."
      ]
    },
    {
      "cell_type": "code",
      "metadata": {
        "id": "YX1wdLN6vIEN",
        "colab": {
          "base_uri": "https://localhost:8080/",
          "height": 187
        },
        "outputId": "9af8182d-7734-48d0-ff96-5e376232b282"
      },
      "source": [
        "not_miss_GarageArea_detchd.describe('GarageArea').show()"
      ],
      "execution_count": null,
      "outputs": [
        {
          "output_type": "stream",
          "text": [
            "+-------+------------------+\n",
            "|summary|        GarageArea|\n",
            "+-------+------------------+\n",
            "|  count|               778|\n",
            "|   mean|419.49228791773777|\n",
            "| stddev|174.72657239619394|\n",
            "|    min|               100|\n",
            "|    max|              1488|\n",
            "+-------+------------------+\n",
            "\n"
          ],
          "name": "stdout"
        }
      ]
    },
    {
      "cell_type": "markdown",
      "metadata": {
        "id": "9Ipf3U_wvW-s"
      },
      "source": [
        "Al haber mucha variabilidad en el área de los garajes externos, creemos más adecuado utilizar la **mediana**."
      ]
    },
    {
      "cell_type": "code",
      "metadata": {
        "id": "UMEa8BgovexB"
      },
      "source": [
        "valimp_GarageArea = 360"
      ],
      "execution_count": null,
      "outputs": []
    },
    {
      "cell_type": "markdown",
      "metadata": {
        "id": "df0UqW7ovm5J"
      },
      "source": [
        "##### **SaleType**\n",
        "\n",
        "Esta variable representa el **tipo de venta**. \n",
        "\n",
        "Comenzamos estudiando la vivienda que le falta este dato."
      ]
    },
    {
      "cell_type": "code",
      "metadata": {
        "id": "pwxTfjoRuhnO",
        "colab": {
          "base_uri": "https://localhost:8080/",
          "height": 139
        },
        "outputId": "32250e69-bcaa-4467-f40b-fe4d040ca948"
      },
      "source": [
        "miss_SaleType = data_full_impt.filter(data_full_impt.SaleType.isNull())\n",
        "miss_SaleType.show()"
      ],
      "execution_count": null,
      "outputs": [
        {
          "output_type": "stream",
          "text": [
            "+----+----------+--------+-----------+-------+------+-----+--------+-----------+---------+---------+---------+------------+----------+----------+--------+----------+-----------+-----------+---------+------------+---------+--------+-----------+-----------+----------+----------+---------+---------+----------+--------+--------+------------+------------+----------+------------+----------+---------+-----------+-------+---------+----------+----------+--------+--------+------------+---------+------------+------------+--------+--------+------------+------------+-----------+------------+----------+----------+-----------+----------+-----------+------------+----------+----------+----------+----------+----------+----------+-----------+-------------+---------+-----------+--------+------+-----+-----------+-------+------+------+--------+-------------+---------+\n",
            "|  Id|MSSubClass|MSZoning|LotFrontage|LotArea|Street|Alley|LotShape|LandContour|Utilities|LotConfig|LandSlope|Neighborhood|Condition1|Condition2|BldgType|HouseStyle|OverallQual|OverallCond|YearBuilt|YearRemodAdd|RoofStyle|RoofMatl|Exterior1st|Exterior2nd|MasVnrType|MasVnrArea|ExterQual|ExterCond|Foundation|BsmtQual|BsmtCond|BsmtExposure|BsmtFinType1|BsmtFinSF1|BsmtFinType2|BsmtFinSF2|BsmtUnfSF|TotalBsmtSF|Heating|HeatingQC|CentralAir|Electrical|1stFlrSF|2ndFlrSF|LowQualFinSF|GrLivArea|BsmtFullBath|BsmtHalfBath|FullBath|HalfBath|BedroomAbvGr|KitchenAbvGr|KitchenQual|TotRmsAbvGrd|Functional|Fireplaces|FireplaceQu|GarageType|GarageYrBlt|GarageFinish|GarageCars|GarageArea|GarageQual|GarageCond|PavedDrive|WoodDeckSF|OpenPorchSF|EnclosedPorch|3SsnPorch|ScreenPorch|PoolArea|PoolQC|Fence|MiscFeature|MiscVal|MoSold|YrSold|SaleType|SaleCondition|SalePrice|\n",
            "+----+----------+--------+-----------+-------+------+-----+--------+-----------+---------+---------+---------+------------+----------+----------+--------+----------+-----------+-----------+---------+------------+---------+--------+-----------+-----------+----------+----------+---------+---------+----------+--------+--------+------------+------------+----------+------------+----------+---------+-----------+-------+---------+----------+----------+--------+--------+------------+---------+------------+------------+--------+--------+------------+------------+-----------+------------+----------+----------+-----------+----------+-----------+------------+----------+----------+----------+----------+----------+----------+-----------+-------------+---------+-----------+--------+------+-----+-----------+-------+------+------+--------+-------------+---------+\n",
            "|2490|        20|      RL|         85|  13770|  Pave|NotNA|     Reg|        Lvl|   AllPub|   Corner|      Gtl|      Sawyer|     Feedr|      Norm|    1Fam|    1Story|          5|          6|     1958|        1998|    Gable| CompShg|    Plywood|    Plywood|   BrkFace|       340|       TA|       TA|    CBlock|      TA|      TA|          Mn|         Rec|       190|         BLQ|       873|       95|       1158|   GasA|       TA|         Y|     SBrkr|    1176|       0|           0|     1176|           1|           0|       1|       0|           3|           1|         TA|           6|       Typ|         2|         Gd|    Attchd|       1958|         Unf|         1|       303|        TA|        TA|         Y|         0|          0|            0|        0|          0|       0| NotNA|NotNA|      NotNA|      0|    10|  2007|    null|       Normal|     null|\n",
            "+----+----------+--------+-----------+-------+------+-----+--------+-----------+---------+---------+---------+------------+----------+----------+--------+----------+-----------+-----------+---------+------------+---------+--------+-----------+-----------+----------+----------+---------+---------+----------+--------+--------+------------+------------+----------+------------+----------+---------+-----------+-------+---------+----------+----------+--------+--------+------------+---------+------------+------------+--------+--------+------------+------------+-----------+------------+----------+----------+-----------+----------+-----------+------------+----------+----------+----------+----------+----------+----------+-----------+-------------+---------+-----------+--------+------+-----+-----------+-------+------+------+--------+-------------+---------+\n",
            "\n"
          ],
          "name": "stdout"
        }
      ]
    },
    {
      "cell_type": "markdown",
      "metadata": {
        "id": "MiYWwrlYxtFg"
      },
      "source": [
        "Podemos relacionar el tipo de venta(**SaleType**) con la condición(**SaleCondition**) de ésta e investigar cuál es el tipo de venta más frecuente."
      ]
    },
    {
      "cell_type": "code",
      "metadata": {
        "id": "M8OLdo3NTF1B"
      },
      "source": [
        "not_miss_SaleType= data_full_impt.filter(data_full_impt.SaleType.isNotNull())"
      ],
      "execution_count": null,
      "outputs": []
    },
    {
      "cell_type": "code",
      "metadata": {
        "id": "jZ_2OTXnxsgJ",
        "colab": {
          "base_uri": "https://localhost:8080/",
          "height": 238
        },
        "outputId": "2d997d07-ad8b-470c-ab6b-20119c9b97f2"
      },
      "source": [
        "not_miss_SaleType.filter(not_miss_SaleType.SaleCondition=='Normal') \\\n",
        "                  .groupby('SaleType').count() \\\n",
        "                  .orderBy(F.desc('count')).show()"
      ],
      "execution_count": null,
      "outputs": [
        {
          "output_type": "stream",
          "text": [
            "+--------+-----+\n",
            "|SaleType|count|\n",
            "+--------+-----+\n",
            "|      WD| 2314|\n",
            "|     COD|   39|\n",
            "|   ConLD|   21|\n",
            "|     CWD|   10|\n",
            "|   ConLw|    7|\n",
            "|   ConLI|    5|\n",
            "|     Con|    4|\n",
            "|     Oth|    1|\n",
            "+--------+-----+\n",
            "\n"
          ],
          "name": "stdout"
        }
      ]
    },
    {
      "cell_type": "markdown",
      "metadata": {
        "id": "G9T5BsfyTTZQ"
      },
      "source": [
        "Calculamos ahora la **distribución** de esta variable en aquellas viviendas donde no hay missing."
      ]
    },
    {
      "cell_type": "code",
      "metadata": {
        "id": "KDYjIQsjwIbC",
        "colab": {
          "base_uri": "https://localhost:8080/",
          "height": 255
        },
        "outputId": "a2ae5494-f87d-4cdf-c7a2-648ff77584bf"
      },
      "source": [
        "not_miss_SaleType.groupby('SaleType').count().orderBy(F.desc('count')).show()"
      ],
      "execution_count": null,
      "outputs": [
        {
          "output_type": "stream",
          "text": [
            "+--------+-----+\n",
            "|SaleType|count|\n",
            "+--------+-----+\n",
            "|      WD| 2525|\n",
            "|     New|  239|\n",
            "|     COD|   87|\n",
            "|   ConLD|   26|\n",
            "|     CWD|   12|\n",
            "|   ConLI|    9|\n",
            "|   ConLw|    8|\n",
            "|     Oth|    7|\n",
            "|     Con|    5|\n",
            "+--------+-----+\n",
            "\n"
          ],
          "name": "stdout"
        }
      ]
    },
    {
      "cell_type": "markdown",
      "metadata": {
        "id": "SC_DcfQQxUX0"
      },
      "source": [
        "Observamos que la distribución de esta variable se concentra en el tipo **WD**. Además al relacionar la condición de venta con el tipo, obtenemos la misma concentración en **WD**. En consecuencia, tiene sentido que imputemos por este valor."
      ]
    },
    {
      "cell_type": "code",
      "metadata": {
        "id": "zakKouQRwToq"
      },
      "source": [
        "valimp_SaleType = 'WD'"
      ],
      "execution_count": null,
      "outputs": []
    },
    {
      "cell_type": "markdown",
      "metadata": {
        "id": "NaSei8rn8rRE"
      },
      "source": [
        "#### **Imputación de los valores missing**\n"
      ]
    },
    {
      "cell_type": "markdown",
      "metadata": {
        "id": "OjmgFUpYwYNb"
      },
      "source": [
        "Una vez estudiada el valor a imputar de cada variable con valores faltantes, vamos a proceder a la **imputación** de dichos datos."
      ]
    },
    {
      "cell_type": "code",
      "metadata": {
        "id": "Mif76GK-wfOy"
      },
      "source": [
        "#Eliminamos, tanto del conjunto de datos completo como de la lista de variables \n",
        "#numéricas, las variables \"LotFrontage\" y \"MasVnrArea\".\n",
        "\n",
        "data_full2= data_full_impt.drop(\"LotFrontage\", \"MasVnrArea\")\n",
        "vars_numericas.remove('LotFrontage')\n",
        "vars_numericas.remove('MasVnrArea')\n",
        "\n",
        "data_imputed = data_full2.fillna({'MSZoning': valimp_MSZoning,\n",
        "                                  'Utilities': valimp_Utilities,\n",
        "                                  'Exterior1st': valimp_Exterior1st,\n",
        "                                  'Exterior2nd': valimp_Exterior2nd,\n",
        "                                  'MasVnrType': valimp_MasVnrType,\n",
        "                                  'BsmtFinSF1': valimp_BsmtFinSF1,\n",
        "                                  'BsmtFinSF2': valimp_BsmtFinSF2,\n",
        "                                  'BsmtUnfSF': valimp_BsmtUnfSF,\n",
        "                                  'TotalBsmtSF': valimp_TotalBsmtSF,\n",
        "                                  'Electrical': valimp_Electrical,\n",
        "                                  'BsmtFullBath': valimp_BsmtFullBath,\n",
        "                                  'BsmtHalfBath': valimp_BsmtHalfBath,\n",
        "                                  'KitchenQual': valimp_KitchenQual,\n",
        "                                  'Functional': valimp_Functional,\n",
        "                                  'GarageYrBlt': valimp_GarageYrBlt,\n",
        "                                  'GarageCars': valimp_GarageCars,\n",
        "                                  'GarageArea': valimp_GarageArea,\n",
        "                                  'SaleType': valimp_SaleType})"
      ],
      "execution_count": null,
      "outputs": []
    },
    {
      "cell_type": "markdown",
      "metadata": {
        "id": "4hIRSOKJ6AVf"
      },
      "source": [
        "Vamos a comprobar que no hay ninguna variable con valores faltantes excepto **SalePrice**."
      ]
    },
    {
      "cell_type": "code",
      "metadata": {
        "id": "1LW1mlo_5SmC",
        "colab": {
          "base_uri": "https://localhost:8080/",
          "height": 139
        },
        "outputId": "c236d76f-ad40-4412-80e0-ee6f09d73cd7"
      },
      "source": [
        "# Definimos la operación para cada columna del DF.\n",
        "exprs = [count_nulls(c) for c in data_imputed.columns]\n",
        "\n",
        "# Aplicamos todas las operaciones.\n",
        "data_imputed.agg(*exprs).show()"
      ],
      "execution_count": null,
      "outputs": [
        {
          "output_type": "stream",
          "text": [
            "+---+----------+--------+-------+------+-----+--------+-----------+---------+---------+---------+------------+----------+----------+--------+----------+-----------+-----------+---------+------------+---------+--------+-----------+-----------+----------+---------+---------+----------+--------+--------+------------+------------+----------+------------+----------+---------+-----------+-------+---------+----------+----------+--------+--------+------------+---------+------------+------------+--------+--------+------------+------------+-----------+------------+----------+----------+-----------+----------+-----------+------------+----------+----------+----------+----------+----------+----------+-----------+-------------+---------+-----------+--------+------+-----+-----------+-------+------+------+--------+-------------+---------+\n",
            "| Id|MSSubClass|MSZoning|LotArea|Street|Alley|LotShape|LandContour|Utilities|LotConfig|LandSlope|Neighborhood|Condition1|Condition2|BldgType|HouseStyle|OverallQual|OverallCond|YearBuilt|YearRemodAdd|RoofStyle|RoofMatl|Exterior1st|Exterior2nd|MasVnrType|ExterQual|ExterCond|Foundation|BsmtQual|BsmtCond|BsmtExposure|BsmtFinType1|BsmtFinSF1|BsmtFinType2|BsmtFinSF2|BsmtUnfSF|TotalBsmtSF|Heating|HeatingQC|CentralAir|Electrical|1stFlrSF|2ndFlrSF|LowQualFinSF|GrLivArea|BsmtFullBath|BsmtHalfBath|FullBath|HalfBath|BedroomAbvGr|KitchenAbvGr|KitchenQual|TotRmsAbvGrd|Functional|Fireplaces|FireplaceQu|GarageType|GarageYrBlt|GarageFinish|GarageCars|GarageArea|GarageQual|GarageCond|PavedDrive|WoodDeckSF|OpenPorchSF|EnclosedPorch|3SsnPorch|ScreenPorch|PoolArea|PoolQC|Fence|MiscFeature|MiscVal|MoSold|YrSold|SaleType|SaleCondition|SalePrice|\n",
            "+---+----------+--------+-------+------+-----+--------+-----------+---------+---------+---------+------------+----------+----------+--------+----------+-----------+-----------+---------+------------+---------+--------+-----------+-----------+----------+---------+---------+----------+--------+--------+------------+------------+----------+------------+----------+---------+-----------+-------+---------+----------+----------+--------+--------+------------+---------+------------+------------+--------+--------+------------+------------+-----------+------------+----------+----------+-----------+----------+-----------+------------+----------+----------+----------+----------+----------+----------+-----------+-------------+---------+-----------+--------+------+-----+-----------+-------+------+------+--------+-------------+---------+\n",
            "|  0|         0|       0|      0|     0|    0|       0|          0|        0|        0|        0|           0|         0|         0|       0|         0|          0|          0|        0|           0|        0|       0|          0|          0|         0|        0|        0|         0|       0|       0|           0|           0|         0|           0|         0|        0|          0|      0|        0|         0|         0|       0|       0|           0|        0|           0|           0|       0|       0|           0|           0|          0|           0|         0|         0|          0|         0|          0|           0|         0|         0|         0|         0|         0|         0|          0|            0|        0|          0|       0|     0|    0|          0|      0|     0|     0|       0|            0|     1459|\n",
            "+---+----------+--------+-------+------+-----+--------+-----------+---------+---------+---------+------------+----------+----------+--------+----------+-----------+-----------+---------+------------+---------+--------+-----------+-----------+----------+---------+---------+----------+--------+--------+------------+------------+----------+------------+----------+---------+-----------+-------+---------+----------+----------+--------+--------+------------+---------+------------+------------+--------+--------+------------+------------+-----------+------------+----------+----------+-----------+----------+-----------+------------+----------+----------+----------+----------+----------+----------+-----------+-------------+---------+-----------+--------+------+-----+-----------+-------+------+------+--------+-------------+---------+\n",
            "\n"
          ],
          "name": "stdout"
        }
      ]
    },
    {
      "cell_type": "markdown",
      "metadata": {
        "id": "DVv4uoRaVVFy"
      },
      "source": [
        "Por último vamos a volver a separar los datos en **entrenamiento** y **test**."
      ]
    },
    {
      "cell_type": "code",
      "metadata": {
        "id": "-CVpO9ry88fj"
      },
      "source": [
        "data_train_final = data_imputed.filter(data_imputed.SalePrice.isNotNull())\n",
        "data_test_final = data_imputed.filter(data_imputed.SalePrice.isNull())"
      ],
      "execution_count": null,
      "outputs": []
    },
    {
      "cell_type": "markdown",
      "metadata": {
        "id": "xux6LaXPVVhg"
      },
      "source": [
        "### Estudio variable respuesta SalePrice\n",
        "\n",
        "A continuación, vamos a estudiar la variable respuesta **SalePrice**."
      ]
    },
    {
      "cell_type": "code",
      "metadata": {
        "id": "F3V9c5sTG26L",
        "colab": {
          "base_uri": "https://localhost:8080/",
          "height": 187
        },
        "outputId": "f9d36381-e709-4d7b-cfcd-5f989c1c10e2"
      },
      "source": [
        "data_train_final.describe(\"SalePrice\").show()"
      ],
      "execution_count": null,
      "outputs": [
        {
          "output_type": "stream",
          "text": [
            "+-------+------------------+\n",
            "|summary|         SalePrice|\n",
            "+-------+------------------+\n",
            "|  count|              1460|\n",
            "|   mean|180921.19589041095|\n",
            "| stddev| 79442.50288288663|\n",
            "|    min|             34900|\n",
            "|    max|            755000|\n",
            "+-------+------------------+\n",
            "\n"
          ],
          "name": "stdout"
        }
      ]
    },
    {
      "cell_type": "markdown",
      "metadata": {
        "id": "Imy0z3yV4pit"
      },
      "source": [
        "Podemos observar que tenemos 1460 valores con un valor medio de aproximadamente 180921 y una desviación típica de 79442.5. El valor mínimo de la variable se da en 34900, mientras que el valor máximo que toma es de 755000."
      ]
    },
    {
      "cell_type": "code",
      "metadata": {
        "id": "Z2SxmNkIGm2Z",
        "colab": {
          "base_uri": "https://localhost:8080/",
          "height": 658
        },
        "outputId": "39e47b39-8319-4029-d1ab-131f73d25527"
      },
      "source": [
        "df_saleprice = data_train_final.select(\"SalePrice\").toPandas()\n",
        "sns.distplot(df_saleprice['SalePrice'], fit=norm)\n",
        "\n",
        "(mu, sigma) = norm.fit(df_saleprice['SalePrice'])\n",
        "print( '\\n mu = {:.2f} and sigma = {:.2f}\\n'.format(mu, sigma))\n",
        "plt.legend(['Normal dist. ($\\mu=$ {:.2f} and $\\sigma=$ {:.2f} )'.format(mu, sigma)],\n",
        "            loc='best')\n",
        "plt.ylabel('Frequency')\n",
        "plt.title('SalePrice distribution')\n",
        "\n",
        "fig = plt.figure()\n",
        "res = stats.probplot(df_saleprice['SalePrice'], plot=plt)\n",
        "plt.show()\n",
        "\n",
        "print(\"Skewness: %f\" % df_saleprice['SalePrice'].skew())\n",
        "print(\"Kurtosis: %f\" % df_saleprice['SalePrice'].kurt())"
      ],
      "execution_count": null,
      "outputs": [
        {
          "output_type": "stream",
          "text": [
            "\n",
            " mu = 180921.20 and sigma = 79415.29\n",
            "\n"
          ],
          "name": "stdout"
        },
        {
          "output_type": "display_data",
          "data": {
            "image/png": "[encoded data removed]",
            "text/plain": [
              "<Figure size 432x288 with 1 Axes>"
            ]
          },
          "metadata": {
            "tags": [],
            "needs_background": "light"
          }
        },
        {
          "output_type": "display_data",
          "data": {
            "image/png": "[encoded data removed]",
            "text/plain": [
              "<Figure size 432x288 with 1 Axes>"
            ]
          },
          "metadata": {
            "tags": [],
            "needs_background": "light"
          }
        },
        {
          "output_type": "stream",
          "text": [
            "Skewness: 1.882876\n",
            "Kurtosis: 6.536282\n"
          ],
          "name": "stdout"
        }
      ]
    },
    {
      "cell_type": "markdown",
      "metadata": {
        "id": "D_-VCuBwVVca"
      },
      "source": [
        "Podemos observar en la primera gráfica que aunque el rango de valores que toma es muy grande, la mayoría de las viviendas se concentra en un precio entre 10000 y 20000. Es decir, vemos que la variable **SalePrice** es asimétrica o sesgada a la derecha y además tiene una distribución leptocúrtica(curtosis>0).\n",
        "Por otro lado, en la segunda gráfica podemos observar que la variable no sigue una normal ya que los cuantiles teóricos no coinciden con los estimados. Por tanto, a continuación, vamos hacer una transformación de la variable con el fin de conseguir una distribución normal simétrica."
      ]
    },
    {
      "cell_type": "code",
      "metadata": {
        "id": "jlr7WSpp9cia"
      },
      "source": [
        "data_train_final_2 = data_train_final.withColumn('logSalePrice',log(data_train_final.SalePrice))"
      ],
      "execution_count": null,
      "outputs": []
    },
    {
      "cell_type": "code",
      "metadata": {
        "id": "9-U_Xeji-_BE",
        "colab": {
          "base_uri": "https://localhost:8080/",
          "height": 658
        },
        "outputId": "62937a81-9507-407a-9718-e7ca71164ddc"
      },
      "source": [
        "df_logsaleprice = data_train_final_2.select(\"logSalePrice\").toPandas()\n",
        "sns.distplot(df_logsaleprice['logSalePrice'], fit=norm)\n",
        "\n",
        "(mu, sigma) = norm.fit(df_logsaleprice['logSalePrice'])\n",
        "print( '\\n mu = {:.2f} and sigma = {:.2f}\\n'.format(mu, sigma))\n",
        "plt.legend(['Normal dist. ($\\mu=$ {:.2f} and $\\sigma=$ {:.2f} )'.format(mu, sigma)],\n",
        "            loc='best')\n",
        "plt.ylabel('Frequency')\n",
        "plt.title('logSalePrice distribution')\n",
        "\n",
        "fig = plt.figure()\n",
        "res = stats.probplot(df_logsaleprice['logSalePrice'], plot=plt)\n",
        "plt.show()\n",
        "\n",
        "print(\"Skewness: %f\" % df_logsaleprice['logSalePrice'].skew())\n",
        "print(\"Kurtosis: %f\" % df_logsaleprice['logSalePrice'].kurt())\n"
      ],
      "execution_count": null,
      "outputs": [
        {
          "output_type": "stream",
          "text": [
            "\n",
            " mu = 12.02 and sigma = 0.40\n",
            "\n"
          ],
          "name": "stdout"
        },
        {
          "output_type": "display_data",
          "data": {
            "image/png": "[encoded data removed]",
            "text/plain": [
              "<Figure size 432x288 with 1 Axes>"
            ]
          },
          "metadata": {
            "tags": [],
            "needs_background": "light"
          }
        },
        {
          "output_type": "display_data",
          "data": {
            "image/png": "[encoded data removed]",
            "text/plain": [
              "<Figure size 432x288 with 1 Axes>"
            ]
          },
          "metadata": {
            "tags": [],
            "needs_background": "light"
          }
        },
        {
          "output_type": "stream",
          "text": [
            "Skewness: 0.121335\n",
            "Kurtosis: 0.809532\n"
          ],
          "name": "stdout"
        }
      ]
    },
    {
      "cell_type": "markdown",
      "metadata": {
        "id": "7MkZOz7W_Pr5"
      },
      "source": [
        "Observamos que, al aplicar la transformación del logaritmo, la distribución se vuelve normal y simétrica. Por tanto, a partir de ahora, nuestra variable respuesta en los modelos será **logSalePrice**."
      ]
    },
    {
      "cell_type": "markdown",
      "metadata": {
        "id": "37-G5Kq1_5_O"
      },
      "source": [
        "Añadimos esta nueva variable al conjunto **test**."
      ]
    },
    {
      "cell_type": "code",
      "metadata": {
        "id": "Isqvza8q_8_r"
      },
      "source": [
        "data_test_final_2=data_test_final.withColumn('logSalePrice',F.lit(None).cast(IntegerType()))"
      ],
      "execution_count": null,
      "outputs": []
    },
    {
      "cell_type": "markdown",
      "metadata": {
        "id": "bfqy4vwen-eH"
      },
      "source": [
        "### Conversión de variables categóricas\n",
        "\n",
        "A continuación, vamos a convertir las variables categóricas a numéricas para utilizarlas en los modelos basados en árboles y a onehot para todos los modelos."
      ]
    },
    {
      "cell_type": "code",
      "metadata": {
        "id": "2RpIwyksv-se"
      },
      "source": [
        "cols_to_index = vars_categoricas\n",
        "cols_to_onehot = vars_categoricas \n",
        "cols_num = vars_numericas[:-1]"
      ],
      "execution_count": null,
      "outputs": []
    },
    {
      "cell_type": "markdown",
      "metadata": {
        "id": "q-TqvXIb6WK9"
      },
      "source": [
        "#### StringIndexer"
      ]
    },
    {
      "cell_type": "code",
      "metadata": {
        "id": "ab3z-IK96Zqa"
      },
      "source": [
        "pipeline_stages = []\n",
        "idx_cols = []\n",
        "for col in cols_to_index:\n",
        "    idx_col = col+'_idx'\n",
        "    idx_cols.append(idx_col)\n",
        "    pipeline_stages.append(StringIndexer(inputCol=col, outputCol=idx_col))"
      ],
      "execution_count": null,
      "outputs": []
    },
    {
      "cell_type": "markdown",
      "metadata": {
        "id": "xpwco-RS6rd2"
      },
      "source": [
        "#### OneHotEncoder"
      ]
    },
    {
      "cell_type": "code",
      "metadata": {
        "id": "YoHD0iD06ssM"
      },
      "source": [
        "ohe_inputCols = []\n",
        "ohe_outputCols = []\n",
        "for col in cols_to_onehot:\n",
        "    ohe_inputCols.append(col+'_idx')\n",
        "    ohe_outputCols.append(col+'_vec')\n",
        "    \n",
        "pipeline_stages.append(OneHotEncoderEstimator(inputCols=ohe_inputCols, outputCols=ohe_outputCols))"
      ],
      "execution_count": null,
      "outputs": []
    },
    {
      "cell_type": "markdown",
      "metadata": {
        "id": "ueik0hmtpBJI"
      },
      "source": [
        "#### VectorAssembler"
      ]
    },
    {
      "cell_type": "code",
      "metadata": {
        "id": "S7pquzeqpER9",
        "colab": {
          "base_uri": "https://localhost:8080/",
          "height": 54
        },
        "outputId": "a049af3a-f834-49c0-ee0b-fcdc244e6e1d"
      },
      "source": [
        "#En raw_cols vamos a guardar las variables numéricas y las variables categóricas \n",
        "#convertidas a numéricas\n",
        "\n",
        "raw_cols = []\n",
        "raw_cols.extend(cols_num)\n",
        "raw_cols.extend(idx_cols)\n",
        "\n",
        "#En final_cols nos vamos a guardar las variables numéricas y las variables onehot\n",
        "\n",
        "final_cols = []\n",
        "final_cols.extend(cols_num)\n",
        "final_cols.extend(ohe_outputCols)\n",
        "print(final_cols)\n",
        "\n",
        "\n",
        "pipeline_stages.append(VectorAssembler(inputCols=final_cols, outputCol='features_ohe'))\n",
        "pipeline_stages.append(VectorAssembler(inputCols=raw_cols, outputCol='features_raw'))"
      ],
      "execution_count": null,
      "outputs": [
        {
          "output_type": "stream",
          "text": [
            "['MSSubClass', 'LotArea', 'OverallQual', 'OverallCond', 'YearBuilt', 'YearRemodAdd', 'BsmtFinSF1', 'BsmtFinSF2', 'BsmtUnfSF', 'TotalBsmtSF', '1stFlrSF', '2ndFlrSF', 'LowQualFinSF', 'GrLivArea', 'BsmtFullBath', 'BsmtHalfBath', 'FullBath', 'HalfBath', 'BedroomAbvGr', 'KitchenAbvGr', 'TotRmsAbvGrd', 'Fireplaces', 'GarageYrBlt', 'GarageCars', 'GarageArea', 'WoodDeckSF', 'OpenPorchSF', 'EnclosedPorch', '3SsnPorch', 'ScreenPorch', 'PoolArea', 'MiscVal', 'MoSold', 'YrSold', 'MSZoning_vec', 'Street_vec', 'Alley_vec', 'LotShape_vec', 'LandContour_vec', 'Utilities_vec', 'LotConfig_vec', 'LandSlope_vec', 'Neighborhood_vec', 'Condition1_vec', 'Condition2_vec', 'BldgType_vec', 'HouseStyle_vec', 'RoofStyle_vec', 'RoofMatl_vec', 'Exterior1st_vec', 'Exterior2nd_vec', 'MasVnrType_vec', 'ExterQual_vec', 'ExterCond_vec', 'Foundation_vec', 'BsmtQual_vec', 'BsmtCond_vec', 'BsmtExposure_vec', 'BsmtFinType1_vec', 'BsmtFinType2_vec', 'Heating_vec', 'HeatingQC_vec', 'CentralAir_vec', 'Electrical_vec', 'KitchenQual_vec', 'Functional_vec', 'FireplaceQu_vec', 'GarageType_vec', 'GarageFinish_vec', 'GarageQual_vec', 'GarageCond_vec', 'PavedDrive_vec', 'PoolQC_vec', 'Fence_vec', 'MiscFeature_vec', 'SaleType_vec', 'SaleCondition_vec']\n"
          ],
          "name": "stdout"
        }
      ]
    },
    {
      "cell_type": "markdown",
      "metadata": {
        "id": "oEI8m9ze8zrH"
      },
      "source": [
        "#### Pipeline"
      ]
    },
    {
      "cell_type": "code",
      "metadata": {
        "id": "oO84mHgX8S1g",
        "colab": {
          "base_uri": "https://localhost:8080/",
          "height": 190
        },
        "outputId": "ba350e72-3df6-4821-9c3b-66fbd387124d"
      },
      "source": [
        "#Como anteriormente hemos añadido la variable logSalePrice,\n",
        "#volvemos a unir el train con el test.\n",
        "data_full_final = data_train_final_2.union(data_test_final_2)\n",
        "\n",
        "pipeline = Pipeline(stages=pipeline_stages)\n",
        "pipeline_model = pipeline.fit(data_full_final)\n",
        "data_full_final2 = pipeline_model.transform(data_full_final)\n",
        "data_full_final2.show(3)"
      ],
      "execution_count": null,
      "outputs": [
        {
          "output_type": "stream",
          "text": [
            "+---+----------+--------+-------+------+-----+--------+-----------+---------+---------+---------+------------+----------+----------+--------+----------+-----------+-----------+---------+------------+---------+--------+-----------+-----------+----------+---------+---------+----------+--------+--------+------------+------------+----------+------------+----------+---------+-----------+-------+---------+----------+----------+--------+--------+------------+---------+------------+------------+--------+--------+------------+------------+-----------+------------+----------+----------+-----------+----------+-----------+------------+----------+----------+----------+----------+----------+----------+-----------+-------------+---------+-----------+--------+------+-----+-----------+-------+------+------+--------+-------------+---------+------------------+------------+----------+---------+------------+---------------+-------------+-------------+-------------+----------------+--------------+--------------+------------+--------------+-------------+------------+---------------+---------------+--------------+-------------+-------------+--------------+------------+------------+----------------+----------------+----------------+-----------+-------------+--------------+--------------+---------------+--------------+---------------+--------------+----------------+--------------+--------------+--------------+----------+---------+---------------+------------+-----------------+-------------+--------------+-------------+--------------+-----------------+----------------+-------------+-------------+-------------+--------------+--------------+---------------+---------------+-------------+-------------+---------------+--------------+--------------+-------------+--------------+--------------+----------------+-------------+---------------+-------------+--------------+----------------+-------------+--------------+----------------+-------------+-------------+-------------+-------------+-------------+--------------+--------------+---------------+-------------+---------------+-------------+-------------+----------------+--------------------+--------------------+\n",
            "| Id|MSSubClass|MSZoning|LotArea|Street|Alley|LotShape|LandContour|Utilities|LotConfig|LandSlope|Neighborhood|Condition1|Condition2|BldgType|HouseStyle|OverallQual|OverallCond|YearBuilt|YearRemodAdd|RoofStyle|RoofMatl|Exterior1st|Exterior2nd|MasVnrType|ExterQual|ExterCond|Foundation|BsmtQual|BsmtCond|BsmtExposure|BsmtFinType1|BsmtFinSF1|BsmtFinType2|BsmtFinSF2|BsmtUnfSF|TotalBsmtSF|Heating|HeatingQC|CentralAir|Electrical|1stFlrSF|2ndFlrSF|LowQualFinSF|GrLivArea|BsmtFullBath|BsmtHalfBath|FullBath|HalfBath|BedroomAbvGr|KitchenAbvGr|KitchenQual|TotRmsAbvGrd|Functional|Fireplaces|FireplaceQu|GarageType|GarageYrBlt|GarageFinish|GarageCars|GarageArea|GarageQual|GarageCond|PavedDrive|WoodDeckSF|OpenPorchSF|EnclosedPorch|3SsnPorch|ScreenPorch|PoolArea|PoolQC|Fence|MiscFeature|MiscVal|MoSold|YrSold|SaleType|SaleCondition|SalePrice|      logSalePrice|MSZoning_idx|Street_idx|Alley_idx|LotShape_idx|LandContour_idx|Utilities_idx|LotConfig_idx|LandSlope_idx|Neighborhood_idx|Condition1_idx|Condition2_idx|BldgType_idx|HouseStyle_idx|RoofStyle_idx|RoofMatl_idx|Exterior1st_idx|Exterior2nd_idx|MasVnrType_idx|ExterQual_idx|ExterCond_idx|Foundation_idx|BsmtQual_idx|BsmtCond_idx|BsmtExposure_idx|BsmtFinType1_idx|BsmtFinType2_idx|Heating_idx|HeatingQC_idx|CentralAir_idx|Electrical_idx|KitchenQual_idx|Functional_idx|FireplaceQu_idx|GarageType_idx|GarageFinish_idx|GarageQual_idx|GarageCond_idx|PavedDrive_idx|PoolQC_idx|Fence_idx|MiscFeature_idx|SaleType_idx|SaleCondition_idx|   Street_vec|Functional_vec|LandSlope_vec|Foundation_vec|SaleCondition_vec|BsmtFinType2_vec|   PoolQC_vec| BsmtCond_vec|Utilities_vec|Electrical_vec|PavedDrive_vec|LandContour_vec|Exterior1st_vec| BsmtQual_vec|    Alley_vec|FireplaceQu_vec|GarageType_vec|HouseStyle_vec| SaleType_vec|CentralAir_vec|Condition2_vec|BsmtExposure_vec| BldgType_vec|MiscFeature_vec|RoofStyle_vec|MasVnrType_vec|GarageFinish_vec|    Fence_vec|GarageQual_vec|BsmtFinType1_vec|LotConfig_vec|  Heating_vec| LotShape_vec| RoofMatl_vec|ExterQual_vec|Condition1_vec|GarageCond_vec|KitchenQual_vec|ExterCond_vec|Exterior2nd_vec| MSZoning_vec|HeatingQC_vec|Neighborhood_vec|        features_ohe|        features_raw|\n",
            "+---+----------+--------+-------+------+-----+--------+-----------+---------+---------+---------+------------+----------+----------+--------+----------+-----------+-----------+---------+------------+---------+--------+-----------+-----------+----------+---------+---------+----------+--------+--------+------------+------------+----------+------------+----------+---------+-----------+-------+---------+----------+----------+--------+--------+------------+---------+------------+------------+--------+--------+------------+------------+-----------+------------+----------+----------+-----------+----------+-----------+------------+----------+----------+----------+----------+----------+----------+-----------+-------------+---------+-----------+--------+------+-----+-----------+-------+------+------+--------+-------------+---------+------------------+------------+----------+---------+------------+---------------+-------------+-------------+-------------+----------------+--------------+--------------+------------+--------------+-------------+------------+---------------+---------------+--------------+-------------+-------------+--------------+------------+------------+----------------+----------------+----------------+-----------+-------------+--------------+--------------+---------------+--------------+---------------+--------------+----------------+--------------+--------------+--------------+----------+---------+---------------+------------+-----------------+-------------+--------------+-------------+--------------+-----------------+----------------+-------------+-------------+-------------+--------------+--------------+---------------+---------------+-------------+-------------+---------------+--------------+--------------+-------------+--------------+--------------+----------------+-------------+---------------+-------------+--------------+----------------+-------------+--------------+----------------+-------------+-------------+-------------+-------------+-------------+--------------+--------------+---------------+-------------+---------------+-------------+-------------+----------------+--------------------+--------------------+\n",
            "|  1|        60|      RL|   8450|  Pave|NotNA|     Reg|        Lvl|   AllPub|   Inside|      Gtl|     CollgCr|      Norm|      Norm|    1Fam|    2Story|          7|          5|     2003|        2003|    Gable| CompShg|    VinylSd|    VinylSd|   BrkFace|       Gd|       TA|     PConc|      Gd|      TA|          No|         GLQ|       706|         Unf|         0|      150|        856|   GasA|       Ex|         Y|     SBrkr|     856|     854|           0|     1710|           1|           0|       2|       1|           3|           1|         Gd|           8|       Typ|         0|      NotNA|    Attchd|       2003|         RFn|         2|       548|        TA|        TA|         Y|         0|         61|            0|        0|          0|       0| NotNA|NotNA|      NotNA|      0|     2|  2008|      WD|       Normal|   208500|12.247694320220994|         0.0|       0.0|      0.0|         0.0|            0.0|          0.0|          0.0|          0.0|             1.0|           0.0|           0.0|         0.0|           1.0|          0.0|         0.0|            0.0|            0.0|           1.0|          1.0|          0.0|           0.0|         1.0|         0.0|             0.0|             1.0|             0.0|        0.0|          0.0|           0.0|           0.0|            1.0|           0.0|            0.0|           0.0|             1.0|           0.0|           0.0|           0.0|       0.0|      0.0|            0.0|         0.0|              0.0|(1,[0],[1.0])| (6,[0],[1.0])|(2,[0],[1.0])| (5,[0],[1.0])|    (5,[0],[1.0])|   (6,[0],[1.0])|(3,[0],[1.0])|(4,[0],[1.0])|(1,[0],[1.0])| (4,[0],[1.0])| (2,[0],[1.0])|  (3,[0],[1.0])| (14,[0],[1.0])|(4,[1],[1.0])|(2,[0],[1.0])|  (5,[0],[1.0])| (6,[0],[1.0])| (7,[1],[1.0])|(8,[0],[1.0])| (1,[0],[1.0])| (7,[0],[1.0])|   (4,[0],[1.0])|(4,[0],[1.0])|  (4,[0],[1.0])|(5,[0],[1.0])| (3,[1],[1.0])|   (3,[1],[1.0])|(4,[0],[1.0])| (5,[0],[1.0])|   (6,[1],[1.0])|(4,[0],[1.0])|(5,[0],[1.0])|(3,[0],[1.0])|(7,[0],[1.0])|(3,[1],[1.0])| (8,[0],[1.0])| (5,[0],[1.0])|  (3,[1],[1.0])|(4,[0],[1.0])| (15,[0],[1.0])|(4,[0],[1.0])|(4,[0],[1.0])|  (24,[1],[1.0])|(257,[0,1,2,3,4,5...|(77,[0,1,2,3,4,5,...|\n",
            "|  2|        20|      RL|   9600|  Pave|NotNA|     Reg|        Lvl|   AllPub|      FR2|      Gtl|     Veenker|     Feedr|      Norm|    1Fam|    1Story|          6|          8|     1976|        1976|    Gable| CompShg|    MetalSd|    MetalSd|      None|       TA|       TA|    CBlock|      Gd|      TA|          Gd|         ALQ|       978|         Unf|         0|      284|       1262|   GasA|       Ex|         Y|     SBrkr|    1262|       0|           0|     1262|           0|           1|       2|       0|           3|           1|         TA|           6|       Typ|         1|         TA|    Attchd|       1976|         RFn|         2|       460|        TA|        TA|         Y|       298|          0|            0|        0|          0|       0| NotNA|NotNA|      NotNA|      0|     5|  2007|      WD|       Normal|   181500|12.109010932687042|         0.0|       0.0|      0.0|         0.0|            0.0|          0.0|          3.0|          0.0|            22.0|           1.0|           0.0|         0.0|           0.0|          0.0|         0.0|            1.0|            1.0|           0.0|          0.0|          0.0|           1.0|         1.0|         0.0|             2.0|             2.0|             0.0|        0.0|          0.0|           0.0|           0.0|            0.0|           0.0|            2.0|           0.0|             1.0|           0.0|           0.0|           0.0|       0.0|      0.0|            0.0|         0.0|              0.0|(1,[0],[1.0])| (6,[0],[1.0])|(2,[0],[1.0])| (5,[1],[1.0])|    (5,[0],[1.0])|   (6,[0],[1.0])|(3,[0],[1.0])|(4,[0],[1.0])|(1,[0],[1.0])| (4,[0],[1.0])| (2,[0],[1.0])|  (3,[0],[1.0])| (14,[1],[1.0])|(4,[1],[1.0])|(2,[0],[1.0])|  (5,[2],[1.0])| (6,[0],[1.0])| (7,[0],[1.0])|(8,[0],[1.0])| (1,[0],[1.0])| (7,[0],[1.0])|   (4,[2],[1.0])|(4,[0],[1.0])|  (4,[0],[1.0])|(5,[0],[1.0])| (3,[0],[1.0])|   (3,[1],[1.0])|(4,[0],[1.0])| (5,[0],[1.0])|   (6,[2],[1.0])|(4,[3],[1.0])|(5,[0],[1.0])|(3,[0],[1.0])|(7,[0],[1.0])|(3,[0],[1.0])| (8,[1],[1.0])| (5,[0],[1.0])|  (3,[0],[1.0])|(4,[0],[1.0])| (15,[1],[1.0])|(4,[0],[1.0])|(4,[0],[1.0])| (24,[22],[1.0])|(257,[0,1,2,3,4,5...|(77,[0,1,2,3,4,5,...|\n",
            "|  3|        60|      RL|  11250|  Pave|NotNA|     IR1|        Lvl|   AllPub|   Inside|      Gtl|     CollgCr|      Norm|      Norm|    1Fam|    2Story|          7|          5|     2001|        2002|    Gable| CompShg|    VinylSd|    VinylSd|   BrkFace|       Gd|       TA|     PConc|      Gd|      TA|          Mn|         GLQ|       486|         Unf|         0|      434|        920|   GasA|       Ex|         Y|     SBrkr|     920|     866|           0|     1786|           1|           0|       2|       1|           3|           1|         Gd|           6|       Typ|         1|         TA|    Attchd|       2001|         RFn|         2|       608|        TA|        TA|         Y|         0|         42|            0|        0|          0|       0| NotNA|NotNA|      NotNA|      0|     9|  2008|      WD|       Normal|   223500| 12.31716669303576|         0.0|       0.0|      0.0|         1.0|            0.0|          0.0|          0.0|          0.0|             1.0|           0.0|           0.0|         0.0|           1.0|          0.0|         0.0|            0.0|            0.0|           1.0|          1.0|          0.0|           0.0|         1.0|         0.0|             3.0|             1.0|             0.0|        0.0|          0.0|           0.0|           0.0|            1.0|           0.0|            2.0|           0.0|             1.0|           0.0|           0.0|           0.0|       0.0|      0.0|            0.0|         0.0|              0.0|(1,[0],[1.0])| (6,[0],[1.0])|(2,[0],[1.0])| (5,[0],[1.0])|    (5,[0],[1.0])|   (6,[0],[1.0])|(3,[0],[1.0])|(4,[0],[1.0])|(1,[0],[1.0])| (4,[0],[1.0])| (2,[0],[1.0])|  (3,[0],[1.0])| (14,[0],[1.0])|(4,[1],[1.0])|(2,[0],[1.0])|  (5,[2],[1.0])| (6,[0],[1.0])| (7,[1],[1.0])|(8,[0],[1.0])| (1,[0],[1.0])| (7,[0],[1.0])|   (4,[3],[1.0])|(4,[0],[1.0])|  (4,[0],[1.0])|(5,[0],[1.0])| (3,[1],[1.0])|   (3,[1],[1.0])|(4,[0],[1.0])| (5,[0],[1.0])|   (6,[1],[1.0])|(4,[0],[1.0])|(5,[0],[1.0])|(3,[1],[1.0])|(7,[0],[1.0])|(3,[1],[1.0])| (8,[0],[1.0])| (5,[0],[1.0])|  (3,[1],[1.0])|(4,[0],[1.0])| (15,[0],[1.0])|(4,[0],[1.0])|(4,[0],[1.0])|  (24,[1],[1.0])|(257,[0,1,2,3,4,5...|(77,[0,1,2,3,4,5,...|\n",
            "+---+----------+--------+-------+------+-----+--------+-----------+---------+---------+---------+------------+----------+----------+--------+----------+-----------+-----------+---------+------------+---------+--------+-----------+-----------+----------+---------+---------+----------+--------+--------+------------+------------+----------+------------+----------+---------+-----------+-------+---------+----------+----------+--------+--------+------------+---------+------------+------------+--------+--------+------------+------------+-----------+------------+----------+----------+-----------+----------+-----------+------------+----------+----------+----------+----------+----------+----------+-----------+-------------+---------+-----------+--------+------+-----+-----------+-------+------+------+--------+-------------+---------+------------------+------------+----------+---------+------------+---------------+-------------+-------------+-------------+----------------+--------------+--------------+------------+--------------+-------------+------------+---------------+---------------+--------------+-------------+-------------+--------------+------------+------------+----------------+----------------+----------------+-----------+-------------+--------------+--------------+---------------+--------------+---------------+--------------+----------------+--------------+--------------+--------------+----------+---------+---------------+------------+-----------------+-------------+--------------+-------------+--------------+-----------------+----------------+-------------+-------------+-------------+--------------+--------------+---------------+---------------+-------------+-------------+---------------+--------------+--------------+-------------+--------------+--------------+----------------+-------------+---------------+-------------+--------------+----------------+-------------+--------------+----------------+-------------+-------------+-------------+-------------+-------------+--------------+--------------+---------------+-------------+---------------+-------------+-------------+----------------+--------------------+--------------------+\n",
            "only showing top 3 rows\n",
            "\n"
          ],
          "name": "stdout"
        }
      ]
    },
    {
      "cell_type": "markdown",
      "metadata": {
        "id": "Y7Zpvc3C3ST3"
      },
      "source": [
        "Vamos ahora a dividir el conjunto ***data_full_final2*** en **train** y **test** ya que el escalado lo haremos aprendiendo a partir del **train**."
      ]
    },
    {
      "cell_type": "code",
      "metadata": {
        "id": "iGQYyp5Q3M4P",
        "colab": {
          "base_uri": "https://localhost:8080/",
          "height": 326
        },
        "outputId": "c18cbfbd-5f93-478d-d7b3-f5e372938130"
      },
      "source": [
        "data_train_def =  data_full_final2.filter(data_full_final2.logSalePrice.isNotNull())\n",
        "data_train_def.show(1)\n",
        "\n",
        "data_train_ohe = data_train_def.select(F.col('Id'),F.col('features_ohe'), F.col('features_raw'), F.col('logSalePrice').alias('label'))\n",
        "data_train_ohe.show(3)\n",
        "data_train_ohe.count()"
      ],
      "execution_count": null,
      "outputs": [
        {
          "output_type": "stream",
          "text": [
            "+---+----------+--------+-------+------+-----+--------+-----------+---------+---------+---------+------------+----------+----------+--------+----------+-----------+-----------+---------+------------+---------+--------+-----------+-----------+----------+---------+---------+----------+--------+--------+------------+------------+----------+------------+----------+---------+-----------+-------+---------+----------+----------+--------+--------+------------+---------+------------+------------+--------+--------+------------+------------+-----------+------------+----------+----------+-----------+----------+-----------+------------+----------+----------+----------+----------+----------+----------+-----------+-------------+---------+-----------+--------+------+-----+-----------+-------+------+------+--------+-------------+---------+------------------+------------+----------+---------+------------+---------------+-------------+-------------+-------------+----------------+--------------+--------------+------------+--------------+-------------+------------+---------------+---------------+--------------+-------------+-------------+--------------+------------+------------+----------------+----------------+----------------+-----------+-------------+--------------+--------------+---------------+--------------+---------------+--------------+----------------+--------------+--------------+--------------+----------+---------+---------------+------------+-----------------+-------------+--------------+-------------+--------------+-----------------+----------------+-------------+-------------+-------------+--------------+--------------+---------------+---------------+-------------+-------------+---------------+--------------+--------------+-------------+--------------+--------------+----------------+-------------+---------------+-------------+--------------+----------------+-------------+--------------+----------------+-------------+-------------+-------------+-------------+-------------+--------------+--------------+---------------+-------------+---------------+-------------+-------------+----------------+--------------------+--------------------+\n",
            "| Id|MSSubClass|MSZoning|LotArea|Street|Alley|LotShape|LandContour|Utilities|LotConfig|LandSlope|Neighborhood|Condition1|Condition2|BldgType|HouseStyle|OverallQual|OverallCond|YearBuilt|YearRemodAdd|RoofStyle|RoofMatl|Exterior1st|Exterior2nd|MasVnrType|ExterQual|ExterCond|Foundation|BsmtQual|BsmtCond|BsmtExposure|BsmtFinType1|BsmtFinSF1|BsmtFinType2|BsmtFinSF2|BsmtUnfSF|TotalBsmtSF|Heating|HeatingQC|CentralAir|Electrical|1stFlrSF|2ndFlrSF|LowQualFinSF|GrLivArea|BsmtFullBath|BsmtHalfBath|FullBath|HalfBath|BedroomAbvGr|KitchenAbvGr|KitchenQual|TotRmsAbvGrd|Functional|Fireplaces|FireplaceQu|GarageType|GarageYrBlt|GarageFinish|GarageCars|GarageArea|GarageQual|GarageCond|PavedDrive|WoodDeckSF|OpenPorchSF|EnclosedPorch|3SsnPorch|ScreenPorch|PoolArea|PoolQC|Fence|MiscFeature|MiscVal|MoSold|YrSold|SaleType|SaleCondition|SalePrice|      logSalePrice|MSZoning_idx|Street_idx|Alley_idx|LotShape_idx|LandContour_idx|Utilities_idx|LotConfig_idx|LandSlope_idx|Neighborhood_idx|Condition1_idx|Condition2_idx|BldgType_idx|HouseStyle_idx|RoofStyle_idx|RoofMatl_idx|Exterior1st_idx|Exterior2nd_idx|MasVnrType_idx|ExterQual_idx|ExterCond_idx|Foundation_idx|BsmtQual_idx|BsmtCond_idx|BsmtExposure_idx|BsmtFinType1_idx|BsmtFinType2_idx|Heating_idx|HeatingQC_idx|CentralAir_idx|Electrical_idx|KitchenQual_idx|Functional_idx|FireplaceQu_idx|GarageType_idx|GarageFinish_idx|GarageQual_idx|GarageCond_idx|PavedDrive_idx|PoolQC_idx|Fence_idx|MiscFeature_idx|SaleType_idx|SaleCondition_idx|   Street_vec|Functional_vec|LandSlope_vec|Foundation_vec|SaleCondition_vec|BsmtFinType2_vec|   PoolQC_vec| BsmtCond_vec|Utilities_vec|Electrical_vec|PavedDrive_vec|LandContour_vec|Exterior1st_vec| BsmtQual_vec|    Alley_vec|FireplaceQu_vec|GarageType_vec|HouseStyle_vec| SaleType_vec|CentralAir_vec|Condition2_vec|BsmtExposure_vec| BldgType_vec|MiscFeature_vec|RoofStyle_vec|MasVnrType_vec|GarageFinish_vec|    Fence_vec|GarageQual_vec|BsmtFinType1_vec|LotConfig_vec|  Heating_vec| LotShape_vec| RoofMatl_vec|ExterQual_vec|Condition1_vec|GarageCond_vec|KitchenQual_vec|ExterCond_vec|Exterior2nd_vec| MSZoning_vec|HeatingQC_vec|Neighborhood_vec|        features_ohe|        features_raw|\n",
            "+---+----------+--------+-------+------+-----+--------+-----------+---------+---------+---------+------------+----------+----------+--------+----------+-----------+-----------+---------+------------+---------+--------+-----------+-----------+----------+---------+---------+----------+--------+--------+------------+------------+----------+------------+----------+---------+-----------+-------+---------+----------+----------+--------+--------+------------+---------+------------+------------+--------+--------+------------+------------+-----------+------------+----------+----------+-----------+----------+-----------+------------+----------+----------+----------+----------+----------+----------+-----------+-------------+---------+-----------+--------+------+-----+-----------+-------+------+------+--------+-------------+---------+------------------+------------+----------+---------+------------+---------------+-------------+-------------+-------------+----------------+--------------+--------------+------------+--------------+-------------+------------+---------------+---------------+--------------+-------------+-------------+--------------+------------+------------+----------------+----------------+----------------+-----------+-------------+--------------+--------------+---------------+--------------+---------------+--------------+----------------+--------------+--------------+--------------+----------+---------+---------------+------------+-----------------+-------------+--------------+-------------+--------------+-----------------+----------------+-------------+-------------+-------------+--------------+--------------+---------------+---------------+-------------+-------------+---------------+--------------+--------------+-------------+--------------+--------------+----------------+-------------+---------------+-------------+--------------+----------------+-------------+--------------+----------------+-------------+-------------+-------------+-------------+-------------+--------------+--------------+---------------+-------------+---------------+-------------+-------------+----------------+--------------------+--------------------+\n",
            "|  1|        60|      RL|   8450|  Pave|NotNA|     Reg|        Lvl|   AllPub|   Inside|      Gtl|     CollgCr|      Norm|      Norm|    1Fam|    2Story|          7|          5|     2003|        2003|    Gable| CompShg|    VinylSd|    VinylSd|   BrkFace|       Gd|       TA|     PConc|      Gd|      TA|          No|         GLQ|       706|         Unf|         0|      150|        856|   GasA|       Ex|         Y|     SBrkr|     856|     854|           0|     1710|           1|           0|       2|       1|           3|           1|         Gd|           8|       Typ|         0|      NotNA|    Attchd|       2003|         RFn|         2|       548|        TA|        TA|         Y|         0|         61|            0|        0|          0|       0| NotNA|NotNA|      NotNA|      0|     2|  2008|      WD|       Normal|   208500|12.247694320220994|         0.0|       0.0|      0.0|         0.0|            0.0|          0.0|          0.0|          0.0|             1.0|           0.0|           0.0|         0.0|           1.0|          0.0|         0.0|            0.0|            0.0|           1.0|          1.0|          0.0|           0.0|         1.0|         0.0|             0.0|             1.0|             0.0|        0.0|          0.0|           0.0|           0.0|            1.0|           0.0|            0.0|           0.0|             1.0|           0.0|           0.0|           0.0|       0.0|      0.0|            0.0|         0.0|              0.0|(1,[0],[1.0])| (6,[0],[1.0])|(2,[0],[1.0])| (5,[0],[1.0])|    (5,[0],[1.0])|   (6,[0],[1.0])|(3,[0],[1.0])|(4,[0],[1.0])|(1,[0],[1.0])| (4,[0],[1.0])| (2,[0],[1.0])|  (3,[0],[1.0])| (14,[0],[1.0])|(4,[1],[1.0])|(2,[0],[1.0])|  (5,[0],[1.0])| (6,[0],[1.0])| (7,[1],[1.0])|(8,[0],[1.0])| (1,[0],[1.0])| (7,[0],[1.0])|   (4,[0],[1.0])|(4,[0],[1.0])|  (4,[0],[1.0])|(5,[0],[1.0])| (3,[1],[1.0])|   (3,[1],[1.0])|(4,[0],[1.0])| (5,[0],[1.0])|   (6,[1],[1.0])|(4,[0],[1.0])|(5,[0],[1.0])|(3,[0],[1.0])|(7,[0],[1.0])|(3,[1],[1.0])| (8,[0],[1.0])| (5,[0],[1.0])|  (3,[1],[1.0])|(4,[0],[1.0])| (15,[0],[1.0])|(4,[0],[1.0])|(4,[0],[1.0])|  (24,[1],[1.0])|(257,[0,1,2,3,4,5...|(77,[0,1,2,3,4,5,...|\n",
            "+---+----------+--------+-------+------+-----+--------+-----------+---------+---------+---------+------------+----------+----------+--------+----------+-----------+-----------+---------+------------+---------+--------+-----------+-----------+----------+---------+---------+----------+--------+--------+------------+------------+----------+------------+----------+---------+-----------+-------+---------+----------+----------+--------+--------+------------+---------+------------+------------+--------+--------+------------+------------+-----------+------------+----------+----------+-----------+----------+-----------+------------+----------+----------+----------+----------+----------+----------+-----------+-------------+---------+-----------+--------+------+-----+-----------+-------+------+------+--------+-------------+---------+------------------+------------+----------+---------+------------+---------------+-------------+-------------+-------------+----------------+--------------+--------------+------------+--------------+-------------+------------+---------------+---------------+--------------+-------------+-------------+--------------+------------+------------+----------------+----------------+----------------+-----------+-------------+--------------+--------------+---------------+--------------+---------------+--------------+----------------+--------------+--------------+--------------+----------+---------+---------------+------------+-----------------+-------------+--------------+-------------+--------------+-----------------+----------------+-------------+-------------+-------------+--------------+--------------+---------------+---------------+-------------+-------------+---------------+--------------+--------------+-------------+--------------+--------------+----------------+-------------+---------------+-------------+--------------+----------------+-------------+--------------+----------------+-------------+-------------+-------------+-------------+-------------+--------------+--------------+---------------+-------------+---------------+-------------+-------------+----------------+--------------------+--------------------+\n",
            "only showing top 1 row\n",
            "\n",
            "+---+--------------------+--------------------+------------------+\n",
            "| Id|        features_ohe|        features_raw|             label|\n",
            "+---+--------------------+--------------------+------------------+\n",
            "|  1|(257,[0,1,2,3,4,5...|(77,[0,1,2,3,4,5,...|12.247694320220994|\n",
            "|  2|(257,[0,1,2,3,4,5...|(77,[0,1,2,3,4,5,...|12.109010932687042|\n",
            "|  3|(257,[0,1,2,3,4,5...|(77,[0,1,2,3,4,5,...| 12.31716669303576|\n",
            "+---+--------------------+--------------------+------------------+\n",
            "only showing top 3 rows\n",
            "\n"
          ],
          "name": "stdout"
        },
        {
          "output_type": "execute_result",
          "data": {
            "text/plain": [
              "1460"
            ]
          },
          "metadata": {
            "tags": []
          },
          "execution_count": 133
        }
      ]
    },
    {
      "cell_type": "code",
      "metadata": {
        "id": "1-R0i3oy4XdI",
        "colab": {
          "base_uri": "https://localhost:8080/",
          "height": 309
        },
        "outputId": "d0ad4924-b5b2-4de3-ed01-c5b24c14cc7a"
      },
      "source": [
        "data_test_def =  data_full_final2.filter(data_full_final2.logSalePrice.isNull())\n",
        "data_test_def.show(1)\n",
        "\n",
        "data_test_ohe = data_test_def.select(F.col('Id'),F.col('features_ohe'), F.col('features_raw'), F.col('logSalePrice').alias('label'))\n",
        "data_test_ohe.show(3)"
      ],
      "execution_count": null,
      "outputs": [
        {
          "output_type": "stream",
          "text": [
            "+----+----------+--------+-------+------+-----+--------+-----------+---------+---------+---------+------------+----------+----------+--------+----------+-----------+-----------+---------+------------+---------+--------+-----------+-----------+----------+---------+---------+----------+--------+--------+------------+------------+----------+------------+----------+---------+-----------+-------+---------+----------+----------+--------+--------+------------+---------+------------+------------+--------+--------+------------+------------+-----------+------------+----------+----------+-----------+----------+-----------+------------+----------+----------+----------+----------+----------+----------+-----------+-------------+---------+-----------+--------+------+-----+-----------+-------+------+------+--------+-------------+---------+------------+------------+----------+---------+------------+---------------+-------------+-------------+-------------+----------------+--------------+--------------+------------+--------------+-------------+------------+---------------+---------------+--------------+-------------+-------------+--------------+------------+------------+----------------+----------------+----------------+-----------+-------------+--------------+--------------+---------------+--------------+---------------+--------------+----------------+--------------+--------------+--------------+----------+---------+---------------+------------+-----------------+-------------+--------------+-------------+--------------+-----------------+----------------+-------------+-------------+-------------+--------------+--------------+---------------+---------------+-------------+-------------+---------------+--------------+--------------+-------------+--------------+--------------+----------------+-------------+---------------+-------------+--------------+----------------+-------------+--------------+----------------+-------------+-------------+-------------+-------------+-------------+--------------+--------------+---------------+-------------+---------------+-------------+-------------+----------------+--------------------+--------------------+\n",
            "|  Id|MSSubClass|MSZoning|LotArea|Street|Alley|LotShape|LandContour|Utilities|LotConfig|LandSlope|Neighborhood|Condition1|Condition2|BldgType|HouseStyle|OverallQual|OverallCond|YearBuilt|YearRemodAdd|RoofStyle|RoofMatl|Exterior1st|Exterior2nd|MasVnrType|ExterQual|ExterCond|Foundation|BsmtQual|BsmtCond|BsmtExposure|BsmtFinType1|BsmtFinSF1|BsmtFinType2|BsmtFinSF2|BsmtUnfSF|TotalBsmtSF|Heating|HeatingQC|CentralAir|Electrical|1stFlrSF|2ndFlrSF|LowQualFinSF|GrLivArea|BsmtFullBath|BsmtHalfBath|FullBath|HalfBath|BedroomAbvGr|KitchenAbvGr|KitchenQual|TotRmsAbvGrd|Functional|Fireplaces|FireplaceQu|GarageType|GarageYrBlt|GarageFinish|GarageCars|GarageArea|GarageQual|GarageCond|PavedDrive|WoodDeckSF|OpenPorchSF|EnclosedPorch|3SsnPorch|ScreenPorch|PoolArea|PoolQC|Fence|MiscFeature|MiscVal|MoSold|YrSold|SaleType|SaleCondition|SalePrice|logSalePrice|MSZoning_idx|Street_idx|Alley_idx|LotShape_idx|LandContour_idx|Utilities_idx|LotConfig_idx|LandSlope_idx|Neighborhood_idx|Condition1_idx|Condition2_idx|BldgType_idx|HouseStyle_idx|RoofStyle_idx|RoofMatl_idx|Exterior1st_idx|Exterior2nd_idx|MasVnrType_idx|ExterQual_idx|ExterCond_idx|Foundation_idx|BsmtQual_idx|BsmtCond_idx|BsmtExposure_idx|BsmtFinType1_idx|BsmtFinType2_idx|Heating_idx|HeatingQC_idx|CentralAir_idx|Electrical_idx|KitchenQual_idx|Functional_idx|FireplaceQu_idx|GarageType_idx|GarageFinish_idx|GarageQual_idx|GarageCond_idx|PavedDrive_idx|PoolQC_idx|Fence_idx|MiscFeature_idx|SaleType_idx|SaleCondition_idx|   Street_vec|Functional_vec|LandSlope_vec|Foundation_vec|SaleCondition_vec|BsmtFinType2_vec|   PoolQC_vec| BsmtCond_vec|Utilities_vec|Electrical_vec|PavedDrive_vec|LandContour_vec|Exterior1st_vec| BsmtQual_vec|    Alley_vec|FireplaceQu_vec|GarageType_vec|HouseStyle_vec| SaleType_vec|CentralAir_vec|Condition2_vec|BsmtExposure_vec| BldgType_vec|MiscFeature_vec|RoofStyle_vec|MasVnrType_vec|GarageFinish_vec|    Fence_vec|GarageQual_vec|BsmtFinType1_vec|LotConfig_vec|  Heating_vec| LotShape_vec| RoofMatl_vec|ExterQual_vec|Condition1_vec|GarageCond_vec|KitchenQual_vec|ExterCond_vec|Exterior2nd_vec| MSZoning_vec|HeatingQC_vec|Neighborhood_vec|        features_ohe|        features_raw|\n",
            "+----+----------+--------+-------+------+-----+--------+-----------+---------+---------+---------+------------+----------+----------+--------+----------+-----------+-----------+---------+------------+---------+--------+-----------+-----------+----------+---------+---------+----------+--------+--------+------------+------------+----------+------------+----------+---------+-----------+-------+---------+----------+----------+--------+--------+------------+---------+------------+------------+--------+--------+------------+------------+-----------+------------+----------+----------+-----------+----------+-----------+------------+----------+----------+----------+----------+----------+----------+-----------+-------------+---------+-----------+--------+------+-----+-----------+-------+------+------+--------+-------------+---------+------------+------------+----------+---------+------------+---------------+-------------+-------------+-------------+----------------+--------------+--------------+------------+--------------+-------------+------------+---------------+---------------+--------------+-------------+-------------+--------------+------------+------------+----------------+----------------+----------------+-----------+-------------+--------------+--------------+---------------+--------------+---------------+--------------+----------------+--------------+--------------+--------------+----------+---------+---------------+------------+-----------------+-------------+--------------+-------------+--------------+-----------------+----------------+-------------+-------------+-------------+--------------+--------------+---------------+---------------+-------------+-------------+---------------+--------------+--------------+-------------+--------------+--------------+----------------+-------------+---------------+-------------+--------------+----------------+-------------+--------------+----------------+-------------+-------------+-------------+-------------+-------------+--------------+--------------+---------------+-------------+---------------+-------------+-------------+----------------+--------------------+--------------------+\n",
            "|1461|        20|      RH|  11622|  Pave|NotNA|     Reg|        Lvl|   AllPub|   Inside|      Gtl|       NAmes|     Feedr|      Norm|    1Fam|    1Story|          5|          6|     1961|        1961|    Gable| CompShg|    VinylSd|    VinylSd|      None|       TA|       TA|    CBlock|      TA|      TA|          No|         Rec|       468|         LwQ|       144|      270|        882|   GasA|       TA|         Y|     SBrkr|     896|       0|           0|      896|           0|           0|       1|       0|           2|           1|         TA|           5|       Typ|         0|      NotNA|    Attchd|       1961|         Unf|         1|       730|        TA|        TA|         Y|       140|          0|            0|        0|        120|       0| NotNA|MnPrv|      NotNA|      0|     6|  2010|      WD|       Normal|     null|        null|         3.0|       0.0|      0.0|         0.0|            0.0|          0.0|          0.0|          0.0|             0.0|           1.0|           0.0|         0.0|           0.0|          0.0|         0.0|            0.0|            0.0|           0.0|          0.0|          0.0|           1.0|         0.0|         0.0|             0.0|             3.0|             2.0|        0.0|          1.0|           0.0|           0.0|            0.0|           0.0|            0.0|           0.0|             0.0|           0.0|           0.0|           0.0|       0.0|      1.0|            0.0|         0.0|              0.0|(1,[0],[1.0])| (6,[0],[1.0])|(2,[0],[1.0])| (5,[1],[1.0])|    (5,[0],[1.0])|   (6,[2],[1.0])|(3,[0],[1.0])|(4,[0],[1.0])|(1,[0],[1.0])| (4,[0],[1.0])| (2,[0],[1.0])|  (3,[0],[1.0])| (14,[0],[1.0])|(4,[0],[1.0])|(2,[0],[1.0])|  (5,[0],[1.0])| (6,[0],[1.0])| (7,[0],[1.0])|(8,[0],[1.0])| (1,[0],[1.0])| (7,[0],[1.0])|   (4,[0],[1.0])|(4,[0],[1.0])|  (4,[0],[1.0])|(5,[0],[1.0])| (3,[0],[1.0])|   (3,[0],[1.0])|(4,[1],[1.0])| (5,[0],[1.0])|   (6,[3],[1.0])|(4,[0],[1.0])|(5,[0],[1.0])|(3,[0],[1.0])|(7,[0],[1.0])|(3,[0],[1.0])| (8,[1],[1.0])| (5,[0],[1.0])|  (3,[0],[1.0])|(4,[0],[1.0])| (15,[0],[1.0])|(4,[3],[1.0])|(4,[1],[1.0])|  (24,[0],[1.0])|(257,[0,1,2,3,4,5...|(77,[0,1,2,3,4,5,...|\n",
            "+----+----------+--------+-------+------+-----+--------+-----------+---------+---------+---------+------------+----------+----------+--------+----------+-----------+-----------+---------+------------+---------+--------+-----------+-----------+----------+---------+---------+----------+--------+--------+------------+------------+----------+------------+----------+---------+-----------+-------+---------+----------+----------+--------+--------+------------+---------+------------+------------+--------+--------+------------+------------+-----------+------------+----------+----------+-----------+----------+-----------+------------+----------+----------+----------+----------+----------+----------+-----------+-------------+---------+-----------+--------+------+-----+-----------+-------+------+------+--------+-------------+---------+------------+------------+----------+---------+------------+---------------+-------------+-------------+-------------+----------------+--------------+--------------+------------+--------------+-------------+------------+---------------+---------------+--------------+-------------+-------------+--------------+------------+------------+----------------+----------------+----------------+-----------+-------------+--------------+--------------+---------------+--------------+---------------+--------------+----------------+--------------+--------------+--------------+----------+---------+---------------+------------+-----------------+-------------+--------------+-------------+--------------+-----------------+----------------+-------------+-------------+-------------+--------------+--------------+---------------+---------------+-------------+-------------+---------------+--------------+--------------+-------------+--------------+--------------+----------------+-------------+---------------+-------------+--------------+----------------+-------------+--------------+----------------+-------------+-------------+-------------+-------------+-------------+--------------+--------------+---------------+-------------+---------------+-------------+-------------+----------------+--------------------+--------------------+\n",
            "only showing top 1 row\n",
            "\n",
            "+----+--------------------+--------------------+-----+\n",
            "|  Id|        features_ohe|        features_raw|label|\n",
            "+----+--------------------+--------------------+-----+\n",
            "|1461|(257,[0,1,2,3,4,5...|(77,[0,1,2,3,4,5,...| null|\n",
            "|1462|(257,[0,1,2,3,4,5...|(77,[0,1,2,3,4,5,...| null|\n",
            "|1463|(257,[0,1,2,3,4,5...|(77,[0,1,2,3,4,5,...| null|\n",
            "+----+--------------------+--------------------+-----+\n",
            "only showing top 3 rows\n",
            "\n"
          ],
          "name": "stdout"
        }
      ]
    },
    {
      "cell_type": "markdown",
      "metadata": {
        "id": "ZNevoyJioHtN"
      },
      "source": [
        "#### Escalado - MaxAbsEscaler"
      ]
    },
    {
      "cell_type": "markdown",
      "metadata": {
        "id": "pMHsNVwrYbp8"
      },
      "source": [
        "A continuación, vamos a escalar los datos aprendiendo del conjunto **train**. Por un lado **escalaremos** las variables **numéricas** con las de **stringIndexer** y por otro lado las variables **numéricas** con las **one hot**."
      ]
    },
    {
      "cell_type": "code",
      "metadata": {
        "id": "GMfZ_89C_l-l",
        "colab": {
          "base_uri": "https://localhost:8080/",
          "height": 170
        },
        "outputId": "1a5cc6b0-76ae-441a-8630-94aafd16b241"
      },
      "source": [
        "maxabs_scaler1 = MaxAbsScaler(inputCol='features_ohe', outputCol='features_ohe_esc')\n",
        "maxabs_scaler2 = MaxAbsScaler(inputCol='features_raw', outputCol='features_esc')\n",
        "pipeline_scaler1 = Pipeline(stages=[maxabs_scaler1])\n",
        "pipeline_scaler2 = Pipeline(stages=[maxabs_scaler2])\n",
        "maxabs_scaler_model1 = pipeline_scaler1.fit(data_train_ohe)\n",
        "maxabs_scaler_model2 = pipeline_scaler2.fit(data_train_ohe)\n",
        "data_train_ohe_esc_maxabs = maxabs_scaler_model1.transform(data_train_ohe)\n",
        "data_train_ohe_esc_maxabs = maxabs_scaler_model2.transform(data_train_ohe_esc_maxabs)\n",
        "data_train_ohe_esc_maxabs.show(3)"
      ],
      "execution_count": null,
      "outputs": [
        {
          "output_type": "stream",
          "text": [
            "+---+--------------------+--------------------+------------------+--------------------+--------------------+\n",
            "| Id|        features_ohe|        features_raw|             label|    features_ohe_esc|        features_esc|\n",
            "+---+--------------------+--------------------+------------------+--------------------+--------------------+\n",
            "|  1|(257,[0,1,2,3,4,5...|(77,[0,1,2,3,4,5,...|12.247694320220994|(257,[0,1,2,3,4,5...|(77,[0,1,2,3,4,5,...|\n",
            "|  2|(257,[0,1,2,3,4,5...|(77,[0,1,2,3,4,5,...|12.109010932687042|(257,[0,1,2,3,4,5...|(77,[0,1,2,3,4,5,...|\n",
            "|  3|(257,[0,1,2,3,4,5...|(77,[0,1,2,3,4,5,...| 12.31716669303576|(257,[0,1,2,3,4,5...|(77,[0,1,2,3,4,5,...|\n",
            "+---+--------------------+--------------------+------------------+--------------------+--------------------+\n",
            "only showing top 3 rows\n",
            "\n"
          ],
          "name": "stdout"
        }
      ]
    },
    {
      "cell_type": "markdown",
      "metadata": {
        "id": "PCLC_q30Uoir"
      },
      "source": [
        "**Escalamos** ahora el conjunto **test** con lo aprendido sobre el conjunto **train**."
      ]
    },
    {
      "cell_type": "code",
      "metadata": {
        "id": "37Uj4yUcUxkR",
        "colab": {
          "base_uri": "https://localhost:8080/",
          "height": 170
        },
        "outputId": "48f784bb-3eef-4e06-a413-b25d88d68904"
      },
      "source": [
        "data_test_ohe_esc = maxabs_scaler_model1.transform(data_test_ohe)\n",
        "data_test_ohe_esc = maxabs_scaler_model2.transform(data_test_ohe_esc)\n",
        "data_test_ohe_esc.show(3)"
      ],
      "execution_count": null,
      "outputs": [
        {
          "output_type": "stream",
          "text": [
            "+----+--------------------+--------------------+-----+--------------------+--------------------+\n",
            "|  Id|        features_ohe|        features_raw|label|    features_ohe_esc|        features_esc|\n",
            "+----+--------------------+--------------------+-----+--------------------+--------------------+\n",
            "|1461|(257,[0,1,2,3,4,5...|(77,[0,1,2,3,4,5,...| null|(257,[0,1,2,3,4,5...|(77,[0,1,2,3,4,5,...|\n",
            "|1462|(257,[0,1,2,3,4,5...|(77,[0,1,2,3,4,5,...| null|(257,[0,1,2,3,4,5...|(77,[0,1,2,3,4,5,...|\n",
            "|1463|(257,[0,1,2,3,4,5...|(77,[0,1,2,3,4,5,...| null|(257,[0,1,2,3,4,5...|(77,[0,1,2,3,4,5,...|\n",
            "+----+--------------------+--------------------+-----+--------------------+--------------------+\n",
            "only showing top 3 rows\n",
            "\n"
          ],
          "name": "stdout"
        }
      ]
    },
    {
      "cell_type": "markdown",
      "metadata": {
        "id": "uKDnIVCPBnVg"
      },
      "source": [
        "## Reducción de la dimensionalidad y ajuste de modelos"
      ]
    },
    {
      "cell_type": "markdown",
      "metadata": {
        "id": "Fn4cDMrPq9qU"
      },
      "source": [
        "Vamos a comenzar dividiendo el conjunto de **entrenamiento** ya procesado en un subconjunto para **entrenar** el modelo y otro para **evaluarlo**."
      ]
    },
    {
      "cell_type": "code",
      "metadata": {
        "id": "WC7ATMZJ0PIV",
        "colab": {
          "base_uri": "https://localhost:8080/",
          "height": 88
        },
        "outputId": "44e87d41-be48-40f3-dad1-c5b46868bce6"
      },
      "source": [
        "train, valid = data_train_ohe_esc_maxabs.randomSplit([0.8, 0.2], seed=global_seed) \n",
        "print('Tamaño train: {}. Tamaño valid: {}.'.format(train.count(), valid.count()))\n",
        "print(train.first())\n",
        "print(valid.first())"
      ],
      "execution_count": null,
      "outputs": [
        {
          "output_type": "stream",
          "text": [
            "Tamaño train: 1181. Tamaño valid: 279.\n",
            "Row(Id=1, features_ohe=SparseVector(257, {0: 60.0, 1: 8450.0, 2: 7.0, 3: 5.0, 4: 2003.0, 5: 2003.0, 6: 706.0, 8: 150.0, 9: 856.0, 10: 856.0, 11: 854.0, 13: 1710.0, 14: 1.0, 16: 2.0, 17: 1.0, 18: 3.0, 19: 1.0, 20: 8.0, 22: 2003.0, 23: 2.0, 24: 548.0, 26: 61.0, 32: 2.0, 33: 2008.0, 34: 1.0, 38: 1.0, 39: 1.0, 41: 1.0, 44: 1.0, 47: 1.0, 48: 1.0, 52: 1.0, 55: 1.0, 78: 1.0, 86: 1.0, 93: 1.0, 98: 1.0, 104: 1.0, 109: 1.0, 116: 1.0, 130: 1.0, 146: 1.0, 149: 1.0, 151: 1.0, 155: 1.0, 161: 1.0, 164: 1.0, 168: 1.0, 173: 1.0, 178: 1.0, 184: 1.0, 189: 1.0, 193: 1.0, 194: 1.0, 199: 1.0, 201: 1.0, 207: 1.0, 212: 1.0, 219: 1.0, 221: 1.0, 226: 1.0, 231: 1.0, 233: 1.0, 236: 1.0, 240: 1.0, 244: 1.0, 252: 1.0}), features_raw=SparseVector(77, {0: 60.0, 1: 8450.0, 2: 7.0, 3: 5.0, 4: 2003.0, 5: 2003.0, 6: 706.0, 8: 150.0, 9: 856.0, 10: 856.0, 11: 854.0, 13: 1710.0, 14: 1.0, 16: 2.0, 17: 1.0, 18: 3.0, 19: 1.0, 20: 8.0, 22: 2003.0, 23: 2.0, 24: 548.0, 26: 61.0, 32: 2.0, 33: 2008.0, 42: 1.0, 46: 1.0, 51: 1.0, 52: 1.0, 55: 1.0, 58: 1.0, 64: 1.0, 68: 1.0}), label=12.247694320220994, features_ohe_esc=SparseVector(257, {0: 0.3158, 1: 0.0393, 2: 0.7, 3: 0.5556, 4: 0.9965, 5: 0.9965, 6: 0.1251, 8: 0.0642, 9: 0.1401, 10: 0.1824, 11: 0.4136, 13: 0.3031, 14: 0.3333, 16: 0.6667, 17: 0.5, 18: 0.375, 19: 0.3333, 20: 0.5714, 22: 0.9965, 23: 0.5, 24: 0.3865, 26: 0.1115, 32: 0.1667, 33: 0.999, 34: 1.0, 38: 1.0, 39: 1.0, 41: 1.0, 44: 1.0, 47: 1.0, 48: 1.0, 52: 1.0, 55: 1.0, 78: 1.0, 86: 1.0, 93: 1.0, 98: 1.0, 104: 1.0, 109: 1.0, 116: 1.0, 130: 1.0, 146: 1.0, 149: 1.0, 151: 1.0, 155: 1.0, 161: 1.0, 164: 1.0, 168: 1.0, 173: 1.0, 178: 1.0, 184: 1.0, 189: 1.0, 193: 1.0, 194: 1.0, 199: 1.0, 201: 1.0, 207: 1.0, 212: 1.0, 219: 1.0, 221: 1.0, 226: 1.0, 231: 1.0, 233: 1.0, 236: 1.0, 240: 1.0, 244: 1.0, 252: 1.0}), features_esc=SparseVector(77, {0: 0.3158, 1: 0.0393, 2: 0.7, 3: 0.5556, 4: 0.9965, 5: 0.9965, 6: 0.1251, 8: 0.0642, 9: 0.1401, 10: 0.1824, 11: 0.4136, 13: 0.3031, 14: 0.3333, 16: 0.6667, 17: 0.5, 18: 0.375, 19: 0.3333, 20: 0.5714, 22: 0.9965, 23: 0.5, 24: 0.3865, 26: 0.1115, 32: 0.1667, 33: 0.999, 42: 0.0417, 46: 0.1429, 51: 0.3333, 52: 0.3333, 55: 0.25, 58: 0.1667, 64: 0.3333, 68: 0.3333}))\n",
            "Row(Id=5, features_ohe=SparseVector(257, {0: 60.0, 1: 14260.0, 2: 8.0, 3: 5.0, 4: 2000.0, 5: 2000.0, 6: 655.0, 8: 490.0, 9: 1145.0, 10: 1145.0, 11: 1053.0, 13: 2198.0, 14: 1.0, 16: 2.0, 17: 1.0, 18: 4.0, 19: 1.0, 20: 9.0, 21: 1.0, 22: 2000.0, 23: 3.0, 24: 836.0, 25: 192.0, 26: 84.0, 32: 12.0, 33: 2008.0, 34: 1.0, 38: 1.0, 39: 1.0, 42: 1.0, 44: 1.0, 47: 1.0, 51: 1.0, 52: 1.0, 69: 1.0, 78: 1.0, 86: 1.0, 93: 1.0, 98: 1.0, 104: 1.0, 109: 1.0, 116: 1.0, 130: 1.0, 146: 1.0, 149: 1.0, 151: 1.0, 155: 1.0, 161: 1.0, 164: 1.0, 169: 1.0, 173: 1.0, 178: 1.0, 184: 1.0, 189: 1.0, 193: 1.0, 194: 1.0, 199: 1.0, 201: 1.0, 209: 1.0, 212: 1.0, 219: 1.0, 221: 1.0, 226: 1.0, 231: 1.0, 233: 1.0, 236: 1.0, 240: 1.0, 244: 1.0, 252: 1.0}), features_raw=SparseVector(77, {0: 60.0, 1: 14260.0, 2: 8.0, 3: 5.0, 4: 2000.0, 5: 2000.0, 6: 655.0, 8: 490.0, 9: 1145.0, 10: 1145.0, 11: 1053.0, 13: 2198.0, 14: 1.0, 16: 2.0, 17: 1.0, 18: 4.0, 19: 1.0, 20: 9.0, 21: 1.0, 22: 2000.0, 23: 3.0, 24: 836.0, 25: 192.0, 26: 84.0, 32: 12.0, 33: 2008.0, 37: 1.0, 40: 3.0, 42: 15.0, 46: 1.0, 51: 1.0, 52: 1.0, 55: 1.0, 57: 1.0, 58: 1.0, 64: 1.0, 66: 2.0, 68: 1.0}), label=12.429216196844383, features_ohe_esc=SparseVector(257, {0: 0.3158, 1: 0.0663, 2: 0.8, 3: 0.5556, 4: 0.995, 5: 0.995, 6: 0.1161, 8: 0.2098, 9: 0.1874, 10: 0.244, 11: 0.5099, 13: 0.3896, 14: 0.3333, 16: 0.6667, 17: 0.5, 18: 0.5, 19: 0.3333, 20: 0.6429, 21: 0.3333, 22: 0.995, 23: 0.75, 24: 0.5896, 25: 0.224, 26: 0.1536, 32: 1.0, 33: 0.999, 34: 1.0, 38: 1.0, 39: 1.0, 42: 1.0, 44: 1.0, 47: 1.0, 51: 1.0, 52: 1.0, 69: 1.0, 78: 1.0, 86: 1.0, 93: 1.0, 98: 1.0, 104: 1.0, 109: 1.0, 116: 1.0, 130: 1.0, 146: 1.0, 149: 1.0, 151: 1.0, 155: 1.0, 161: 1.0, 164: 1.0, 169: 1.0, 173: 1.0, 178: 1.0, 184: 1.0, 189: 1.0, 193: 1.0, 194: 1.0, 199: 1.0, 201: 1.0, 209: 1.0, 212: 1.0, 219: 1.0, 221: 1.0, 226: 1.0, 231: 1.0, 233: 1.0, 236: 1.0, 240: 1.0, 244: 1.0, 252: 1.0}), features_esc=SparseVector(77, {0: 0.3158, 1: 0.0663, 2: 0.8, 3: 0.5556, 4: 0.995, 5: 0.995, 6: 0.1161, 8: 0.2098, 9: 0.1874, 10: 0.244, 11: 0.5099, 13: 0.3896, 14: 0.3333, 16: 0.6667, 17: 0.5, 18: 0.5, 19: 0.3333, 20: 0.6429, 21: 0.3333, 22: 0.995, 23: 0.75, 24: 0.5896, 25: 0.224, 26: 0.1536, 32: 1.0, 33: 0.999, 37: 0.3333, 40: 0.75, 42: 0.625, 46: 0.1429, 51: 0.3333, 52: 0.3333, 55: 0.25, 57: 0.25, 58: 0.1667, 64: 0.3333, 66: 0.4, 68: 0.3333}))\n"
          ],
          "name": "stdout"
        }
      ]
    },
    {
      "cell_type": "markdown",
      "metadata": {
        "id": "uG6ZlhpuE9bX"
      },
      "source": [
        "Recordemos que la variable respuesta que vamos a utilizar en los modelos va a ser la **transformación logaritmo de SalePrice**, por lo que si queremos la predicción real tendríamos que aplicarle la exponencial a la predicción obtenida."
      ]
    },
    {
      "cell_type": "markdown",
      "metadata": {
        "id": "WHd2kM0Gx1jj"
      },
      "source": [
        "### Correlación variables numéricas"
      ]
    },
    {
      "cell_type": "markdown",
      "metadata": {
        "id": "bBpVN-Vox6Zr"
      },
      "source": [
        "Vamos ahora a calcular la correlación entre las variables numéricas. Al utilizarse feature, que contiene todas las variables tanto numéricas como categóricas, la correlación se calculará para todas ellas pero debemos tener en cuenta que la correlación de pearson para las categóricas no tiene sentido."
      ]
    },
    {
      "cell_type": "code",
      "metadata": {
        "id": "2_Udj3qoyF2_"
      },
      "source": [
        "mat_corr=Correlation.corr(train,column='features_esc', method='pearson')"
      ],
      "execution_count": null,
      "outputs": []
    },
    {
      "cell_type": "code",
      "metadata": {
        "id": "Vua-Flch16WR",
        "colab": {
          "base_uri": "https://localhost:8080/",
          "height": 1000
        },
        "outputId": "5b46b79b-1b2c-4b80-dc14-c0b0e38bbe8d"
      },
      "source": [
        "rows=mat_corr.collect()[0][0].toArray()\n",
        "cols=cols_num+idx_cols\n",
        "df = pd.DataFrame(rows,columns=cols,index=cols)\n",
        "\n",
        "#Nos quedamos con la correlación entre las variables numéricas\n",
        "mat_corr_numericas = df.loc[cols_num,cols_num]\n",
        "mat_corr_numericas"
      ],
      "execution_count": null,
      "outputs": [
        {
          "output_type": "execute_result",
          "data": {
            "text/html": [
              "<div>\n",
              "<style scoped>\n",
              "    .dataframe tbody tr th:only-of-type {\n",
              "        vertical-align: middle;\n",
              "    }\n",
              "\n",
              "    .dataframe tbody tr th {\n",
              "        vertical-align: top;\n",
              "    }\n",
              "\n",
              "    .dataframe thead th {\n",
              "        text-align: right;\n",
              "    }\n",
              "</style>\n",
              "<table border=\"1\" class=\"dataframe\">\n",
              "  <thead>\n",
              "    <tr style=\"text-align: right;\">\n",
              "      <th></th>\n",
              "      <th>MSSubClass</th>\n",
              "      <th>LotArea</th>\n",
              "      <th>OverallQual</th>\n",
              "      <th>OverallCond</th>\n",
              "      <th>YearBuilt</th>\n",
              "      <th>YearRemodAdd</th>\n",
              "      <th>BsmtFinSF1</th>\n",
              "      <th>BsmtFinSF2</th>\n",
              "      <th>BsmtUnfSF</th>\n",
              "      <th>TotalBsmtSF</th>\n",
              "      <th>1stFlrSF</th>\n",
              "      <th>2ndFlrSF</th>\n",
              "      <th>LowQualFinSF</th>\n",
              "      <th>GrLivArea</th>\n",
              "      <th>BsmtFullBath</th>\n",
              "      <th>BsmtHalfBath</th>\n",
              "      <th>FullBath</th>\n",
              "      <th>HalfBath</th>\n",
              "      <th>BedroomAbvGr</th>\n",
              "      <th>KitchenAbvGr</th>\n",
              "      <th>TotRmsAbvGrd</th>\n",
              "      <th>Fireplaces</th>\n",
              "      <th>GarageYrBlt</th>\n",
              "      <th>GarageCars</th>\n",
              "      <th>GarageArea</th>\n",
              "      <th>WoodDeckSF</th>\n",
              "      <th>OpenPorchSF</th>\n",
              "      <th>EnclosedPorch</th>\n",
              "      <th>3SsnPorch</th>\n",
              "      <th>ScreenPorch</th>\n",
              "      <th>PoolArea</th>\n",
              "      <th>MiscVal</th>\n",
              "      <th>MoSold</th>\n",
              "      <th>YrSold</th>\n",
              "    </tr>\n",
              "  </thead>\n",
              "  <tbody>\n",
              "    <tr>\n",
              "      <th>MSSubClass</th>\n",
              "      <td>1.000000</td>\n",
              "      <td>-0.183489</td>\n",
              "      <td>0.030132</td>\n",
              "      <td>-0.054183</td>\n",
              "      <td>0.028087</td>\n",
              "      <td>0.053411</td>\n",
              "      <td>-0.065408</td>\n",
              "      <td>-0.084226</td>\n",
              "      <td>-0.144369</td>\n",
              "      <td>-0.245352</td>\n",
              "      <td>-0.259736</td>\n",
              "      <td>0.311060</td>\n",
              "      <td>0.061668</td>\n",
              "      <td>0.073395</td>\n",
              "      <td>-0.016848</td>\n",
              "      <td>0.004898</td>\n",
              "      <td>0.133436</td>\n",
              "      <td>0.177200</td>\n",
              "      <td>-0.028956</td>\n",
              "      <td>0.280439</td>\n",
              "      <td>0.028215</td>\n",
              "      <td>-0.062174</td>\n",
              "      <td>0.106808</td>\n",
              "      <td>-0.050525</td>\n",
              "      <td>-0.113738</td>\n",
              "      <td>-0.040913</td>\n",
              "      <td>0.001349</td>\n",
              "      <td>-0.007957</td>\n",
              "      <td>-0.039474</td>\n",
              "      <td>-0.011521</td>\n",
              "      <td>0.009348</td>\n",
              "      <td>-0.040167</td>\n",
              "      <td>-0.016628</td>\n",
              "      <td>-0.019675</td>\n",
              "    </tr>\n",
              "    <tr>\n",
              "      <th>LotArea</th>\n",
              "      <td>-0.183489</td>\n",
              "      <td>1.000000</td>\n",
              "      <td>0.121985</td>\n",
              "      <td>-0.007539</td>\n",
              "      <td>0.004330</td>\n",
              "      <td>0.019271</td>\n",
              "      <td>0.222465</td>\n",
              "      <td>0.121791</td>\n",
              "      <td>-0.004751</td>\n",
              "      <td>0.270730</td>\n",
              "      <td>0.308075</td>\n",
              "      <td>0.057583</td>\n",
              "      <td>0.013322</td>\n",
              "      <td>0.274163</td>\n",
              "      <td>0.150417</td>\n",
              "      <td>0.066553</td>\n",
              "      <td>0.116578</td>\n",
              "      <td>0.019360</td>\n",
              "      <td>0.120181</td>\n",
              "      <td>-0.020199</td>\n",
              "      <td>0.192659</td>\n",
              "      <td>0.278029</td>\n",
              "      <td>-0.049329</td>\n",
              "      <td>0.152238</td>\n",
              "      <td>0.178909</td>\n",
              "      <td>0.138051</td>\n",
              "      <td>0.106834</td>\n",
              "      <td>-0.018471</td>\n",
              "      <td>0.015961</td>\n",
              "      <td>0.047519</td>\n",
              "      <td>0.087353</td>\n",
              "      <td>0.021378</td>\n",
              "      <td>-0.003757</td>\n",
              "      <td>-0.012963</td>\n",
              "    </tr>\n",
              "    <tr>\n",
              "      <th>OverallQual</th>\n",
              "      <td>0.030132</td>\n",
              "      <td>0.121985</td>\n",
              "      <td>1.000000</td>\n",
              "      <td>-0.118486</td>\n",
              "      <td>0.565505</td>\n",
              "      <td>0.542853</td>\n",
              "      <td>0.215496</td>\n",
              "      <td>-0.066690</td>\n",
              "      <td>0.326050</td>\n",
              "      <td>0.528536</td>\n",
              "      <td>0.475785</td>\n",
              "      <td>0.295685</td>\n",
              "      <td>-0.032276</td>\n",
              "      <td>0.589599</td>\n",
              "      <td>0.094754</td>\n",
              "      <td>-0.025887</td>\n",
              "      <td>0.541425</td>\n",
              "      <td>0.275667</td>\n",
              "      <td>0.093406</td>\n",
              "      <td>-0.177425</td>\n",
              "      <td>0.435941</td>\n",
              "      <td>0.394535</td>\n",
              "      <td>0.434616</td>\n",
              "      <td>0.611923</td>\n",
              "      <td>0.561984</td>\n",
              "      <td>0.224039</td>\n",
              "      <td>0.320467</td>\n",
              "      <td>-0.123533</td>\n",
              "      <td>0.031434</td>\n",
              "      <td>0.066966</td>\n",
              "      <td>0.074199</td>\n",
              "      <td>-0.018472</td>\n",
              "      <td>0.036753</td>\n",
              "      <td>-0.029694</td>\n",
              "    </tr>\n",
              "    <tr>\n",
              "      <th>OverallCond</th>\n",
              "      <td>-0.054183</td>\n",
              "      <td>-0.007539</td>\n",
              "      <td>-0.118486</td>\n",
              "      <td>1.000000</td>\n",
              "      <td>-0.400952</td>\n",
              "      <td>0.043331</td>\n",
              "      <td>-0.051927</td>\n",
              "      <td>0.052265</td>\n",
              "      <td>-0.145936</td>\n",
              "      <td>-0.182147</td>\n",
              "      <td>-0.141649</td>\n",
              "      <td>0.019693</td>\n",
              "      <td>0.037491</td>\n",
              "      <td>-0.083738</td>\n",
              "      <td>-0.052393</td>\n",
              "      <td>0.086898</td>\n",
              "      <td>-0.207498</td>\n",
              "      <td>-0.064632</td>\n",
              "      <td>0.019633</td>\n",
              "      <td>-0.060892</td>\n",
              "      <td>-0.066645</td>\n",
              "      <td>-0.042358</td>\n",
              "      <td>-0.289945</td>\n",
              "      <td>-0.212157</td>\n",
              "      <td>-0.172343</td>\n",
              "      <td>0.001062</td>\n",
              "      <td>-0.020270</td>\n",
              "      <td>0.061688</td>\n",
              "      <td>0.011799</td>\n",
              "      <td>0.062978</td>\n",
              "      <td>-0.002561</td>\n",
              "      <td>0.101320</td>\n",
              "      <td>-0.006036</td>\n",
              "      <td>0.050366</td>\n",
              "    </tr>\n",
              "    <tr>\n",
              "      <th>YearBuilt</th>\n",
              "      <td>0.028087</td>\n",
              "      <td>0.004330</td>\n",
              "      <td>0.565505</td>\n",
              "      <td>-0.400952</td>\n",
              "      <td>1.000000</td>\n",
              "      <td>0.605953</td>\n",
              "      <td>0.227673</td>\n",
              "      <td>-0.053640</td>\n",
              "      <td>0.158794</td>\n",
              "      <td>0.376501</td>\n",
              "      <td>0.273392</td>\n",
              "      <td>0.000929</td>\n",
              "      <td>-0.185403</td>\n",
              "      <td>0.183229</td>\n",
              "      <td>0.170685</td>\n",
              "      <td>-0.033255</td>\n",
              "      <td>0.458942</td>\n",
              "      <td>0.229740</td>\n",
              "      <td>-0.085733</td>\n",
              "      <td>-0.189329</td>\n",
              "      <td>0.089127</td>\n",
              "      <td>0.121964</td>\n",
              "      <td>0.714139</td>\n",
              "      <td>0.541097</td>\n",
              "      <td>0.469614</td>\n",
              "      <td>0.214262</td>\n",
              "      <td>0.188937</td>\n",
              "      <td>-0.398618</td>\n",
              "      <td>0.036748</td>\n",
              "      <td>-0.045140</td>\n",
              "      <td>0.004841</td>\n",
              "      <td>-0.039142</td>\n",
              "      <td>-0.000639</td>\n",
              "      <td>-0.011853</td>\n",
              "    </tr>\n",
              "    <tr>\n",
              "      <th>YearRemodAdd</th>\n",
              "      <td>0.053411</td>\n",
              "      <td>0.019271</td>\n",
              "      <td>0.542853</td>\n",
              "      <td>0.043331</td>\n",
              "      <td>0.605953</td>\n",
              "      <td>1.000000</td>\n",
              "      <td>0.114304</td>\n",
              "      <td>-0.068540</td>\n",
              "      <td>0.181698</td>\n",
              "      <td>0.276863</td>\n",
              "      <td>0.229449</td>\n",
              "      <td>0.127906</td>\n",
              "      <td>-0.040872</td>\n",
              "      <td>0.269798</td>\n",
              "      <td>0.115321</td>\n",
              "      <td>-0.014903</td>\n",
              "      <td>0.434400</td>\n",
              "      <td>0.180293</td>\n",
              "      <td>-0.053086</td>\n",
              "      <td>-0.140278</td>\n",
              "      <td>0.182047</td>\n",
              "      <td>0.089584</td>\n",
              "      <td>0.581723</td>\n",
              "      <td>0.426901</td>\n",
              "      <td>0.368165</td>\n",
              "      <td>0.202523</td>\n",
              "      <td>0.229601</td>\n",
              "      <td>-0.207512</td>\n",
              "      <td>0.040842</td>\n",
              "      <td>-0.026138</td>\n",
              "      <td>0.006659</td>\n",
              "      <td>0.004719</td>\n",
              "      <td>-0.008291</td>\n",
              "      <td>0.039069</td>\n",
              "    </tr>\n",
              "    <tr>\n",
              "      <th>BsmtFinSF1</th>\n",
              "      <td>-0.065408</td>\n",
              "      <td>0.222465</td>\n",
              "      <td>0.215496</td>\n",
              "      <td>-0.051927</td>\n",
              "      <td>0.227673</td>\n",
              "      <td>0.114304</td>\n",
              "      <td>1.000000</td>\n",
              "      <td>-0.047346</td>\n",
              "      <td>-0.493915</td>\n",
              "      <td>0.516490</td>\n",
              "      <td>0.436328</td>\n",
              "      <td>-0.118446</td>\n",
              "      <td>-0.057317</td>\n",
              "      <td>0.215574</td>\n",
              "      <td>0.640972</td>\n",
              "      <td>0.080863</td>\n",
              "      <td>0.045822</td>\n",
              "      <td>0.012696</td>\n",
              "      <td>-0.088958</td>\n",
              "      <td>-0.089122</td>\n",
              "      <td>0.060808</td>\n",
              "      <td>0.240306</td>\n",
              "      <td>0.109108</td>\n",
              "      <td>0.198674</td>\n",
              "      <td>0.267142</td>\n",
              "      <td>0.166971</td>\n",
              "      <td>0.129339</td>\n",
              "      <td>-0.084380</td>\n",
              "      <td>0.032073</td>\n",
              "      <td>0.079878</td>\n",
              "      <td>0.156740</td>\n",
              "      <td>0.002968</td>\n",
              "      <td>-0.005341</td>\n",
              "      <td>0.026332</td>\n",
              "    </tr>\n",
              "    <tr>\n",
              "      <th>BsmtFinSF2</th>\n",
              "      <td>-0.084226</td>\n",
              "      <td>0.121791</td>\n",
              "      <td>-0.066690</td>\n",
              "      <td>0.052265</td>\n",
              "      <td>-0.053640</td>\n",
              "      <td>-0.068540</td>\n",
              "      <td>-0.047346</td>\n",
              "      <td>1.000000</td>\n",
              "      <td>-0.217208</td>\n",
              "      <td>0.103418</td>\n",
              "      <td>0.097749</td>\n",
              "      <td>-0.097216</td>\n",
              "      <td>0.023206</td>\n",
              "      <td>-0.006829</td>\n",
              "      <td>0.168421</td>\n",
              "      <td>0.046768</td>\n",
              "      <td>-0.074064</td>\n",
              "      <td>-0.055117</td>\n",
              "      <td>-0.020662</td>\n",
              "      <td>-0.054780</td>\n",
              "      <td>-0.038539</td>\n",
              "      <td>0.061133</td>\n",
              "      <td>-0.093831</td>\n",
              "      <td>-0.033861</td>\n",
              "      <td>-0.017182</td>\n",
              "      <td>0.089186</td>\n",
              "      <td>-0.020763</td>\n",
              "      <td>0.022050</td>\n",
              "      <td>-0.034934</td>\n",
              "      <td>0.063885</td>\n",
              "      <td>0.044838</td>\n",
              "      <td>-0.006925</td>\n",
              "      <td>-0.012575</td>\n",
              "      <td>0.052344</td>\n",
              "    </tr>\n",
              "    <tr>\n",
              "      <th>BsmtUnfSF</th>\n",
              "      <td>-0.144369</td>\n",
              "      <td>-0.004751</td>\n",
              "      <td>0.326050</td>\n",
              "      <td>-0.145936</td>\n",
              "      <td>0.158794</td>\n",
              "      <td>0.181698</td>\n",
              "      <td>-0.493915</td>\n",
              "      <td>-0.217208</td>\n",
              "      <td>1.000000</td>\n",
              "      <td>0.421443</td>\n",
              "      <td>0.329230</td>\n",
              "      <td>-0.018071</td>\n",
              "      <td>0.020871</td>\n",
              "      <td>0.227711</td>\n",
              "      <td>-0.416464</td>\n",
              "      <td>-0.091642</td>\n",
              "      <td>0.290940</td>\n",
              "      <td>-0.056387</td>\n",
              "      <td>0.137941</td>\n",
              "      <td>0.043442</td>\n",
              "      <td>0.237151</td>\n",
              "      <td>0.062677</td>\n",
              "      <td>0.171360</td>\n",
              "      <td>0.229536</td>\n",
              "      <td>0.198525</td>\n",
              "      <td>0.003919</td>\n",
              "      <td>0.124689</td>\n",
              "      <td>-0.005835</td>\n",
              "      <td>0.011685</td>\n",
              "      <td>-0.014196</td>\n",
              "      <td>-0.038916</td>\n",
              "      <td>-0.019807</td>\n",
              "      <td>0.015560</td>\n",
              "      <td>-0.052237</td>\n",
              "    </tr>\n",
              "    <tr>\n",
              "      <th>TotalBsmtSF</th>\n",
              "      <td>-0.245352</td>\n",
              "      <td>0.270730</td>\n",
              "      <td>0.528536</td>\n",
              "      <td>-0.182147</td>\n",
              "      <td>0.376501</td>\n",
              "      <td>0.276863</td>\n",
              "      <td>0.516490</td>\n",
              "      <td>0.103418</td>\n",
              "      <td>0.421443</td>\n",
              "      <td>1.000000</td>\n",
              "      <td>0.821500</td>\n",
              "      <td>-0.177079</td>\n",
              "      <td>-0.029508</td>\n",
              "      <td>0.451261</td>\n",
              "      <td>0.303885</td>\n",
              "      <td>0.008218</td>\n",
              "      <td>0.314654</td>\n",
              "      <td>-0.064539</td>\n",
              "      <td>0.040050</td>\n",
              "      <td>-0.068593</td>\n",
              "      <td>0.288885</td>\n",
              "      <td>0.334923</td>\n",
              "      <td>0.251590</td>\n",
              "      <td>0.425555</td>\n",
              "      <td>0.471183</td>\n",
              "      <td>0.209953</td>\n",
              "      <td>0.252445</td>\n",
              "      <td>-0.085003</td>\n",
              "      <td>0.032012</td>\n",
              "      <td>0.092059</td>\n",
              "      <td>0.139439</td>\n",
              "      <td>-0.019581</td>\n",
              "      <td>0.005557</td>\n",
              "      <td>-0.006193</td>\n",
              "    </tr>\n",
              "    <tr>\n",
              "      <th>1stFlrSF</th>\n",
              "      <td>-0.259736</td>\n",
              "      <td>0.308075</td>\n",
              "      <td>0.475785</td>\n",
              "      <td>-0.141649</td>\n",
              "      <td>0.273392</td>\n",
              "      <td>0.229449</td>\n",
              "      <td>0.436328</td>\n",
              "      <td>0.097749</td>\n",
              "      <td>0.329230</td>\n",
              "      <td>0.821500</td>\n",
              "      <td>1.000000</td>\n",
              "      <td>-0.199129</td>\n",
              "      <td>-0.003536</td>\n",
              "      <td>0.565955</td>\n",
              "      <td>0.247520</td>\n",
              "      <td>0.012560</td>\n",
              "      <td>0.376452</td>\n",
              "      <td>-0.136030</td>\n",
              "      <td>0.125410</td>\n",
              "      <td>0.058978</td>\n",
              "      <td>0.411917</td>\n",
              "      <td>0.412272</td>\n",
              "      <td>0.170984</td>\n",
              "      <td>0.431593</td>\n",
              "      <td>0.477142</td>\n",
              "      <td>0.215537</td>\n",
              "      <td>0.214920</td>\n",
              "      <td>-0.047702</td>\n",
              "      <td>0.045071</td>\n",
              "      <td>0.103163</td>\n",
              "      <td>0.146656</td>\n",
              "      <td>-0.025308</td>\n",
              "      <td>0.021353</td>\n",
              "      <td>0.003470</td>\n",
              "    </tr>\n",
              "    <tr>\n",
              "      <th>2ndFlrSF</th>\n",
              "      <td>0.311060</td>\n",
              "      <td>0.057583</td>\n",
              "      <td>0.295685</td>\n",
              "      <td>0.019693</td>\n",
              "      <td>0.000929</td>\n",
              "      <td>0.127906</td>\n",
              "      <td>-0.118446</td>\n",
              "      <td>-0.097216</td>\n",
              "      <td>-0.018071</td>\n",
              "      <td>-0.177079</td>\n",
              "      <td>-0.199129</td>\n",
              "      <td>1.000000</td>\n",
              "      <td>0.082721</td>\n",
              "      <td>0.689997</td>\n",
              "      <td>-0.174376</td>\n",
              "      <td>-0.010339</td>\n",
              "      <td>0.429390</td>\n",
              "      <td>0.603570</td>\n",
              "      <td>0.503379</td>\n",
              "      <td>0.077117</td>\n",
              "      <td>0.616817</td>\n",
              "      <td>0.198337</td>\n",
              "      <td>0.039481</td>\n",
              "      <td>0.189644</td>\n",
              "      <td>0.144378</td>\n",
              "      <td>0.089006</td>\n",
              "      <td>0.212281</td>\n",
              "      <td>0.040731</td>\n",
              "      <td>-0.019908</td>\n",
              "      <td>0.047471</td>\n",
              "      <td>0.088631</td>\n",
              "      <td>-0.011030</td>\n",
              "      <td>0.014730</td>\n",
              "      <td>-0.040019</td>\n",
              "    </tr>\n",
              "    <tr>\n",
              "      <th>LowQualFinSF</th>\n",
              "      <td>0.061668</td>\n",
              "      <td>0.013322</td>\n",
              "      <td>-0.032276</td>\n",
              "      <td>0.037491</td>\n",
              "      <td>-0.185403</td>\n",
              "      <td>-0.040872</td>\n",
              "      <td>-0.057317</td>\n",
              "      <td>0.023206</td>\n",
              "      <td>0.020871</td>\n",
              "      <td>-0.029508</td>\n",
              "      <td>-0.003536</td>\n",
              "      <td>0.082721</td>\n",
              "      <td>1.000000</td>\n",
              "      <td>0.159874</td>\n",
              "      <td>-0.037643</td>\n",
              "      <td>-0.000483</td>\n",
              "      <td>0.016526</td>\n",
              "      <td>-0.017677</td>\n",
              "      <td>0.126523</td>\n",
              "      <td>0.015717</td>\n",
              "      <td>0.163603</td>\n",
              "      <td>-0.012941</td>\n",
              "      <td>0.022550</td>\n",
              "      <td>-0.102112</td>\n",
              "      <td>-0.069181</td>\n",
              "      <td>-0.017228</td>\n",
              "      <td>0.034393</td>\n",
              "      <td>0.071423</td>\n",
              "      <td>-0.003779</td>\n",
              "      <td>0.038933</td>\n",
              "      <td>0.067164</td>\n",
              "      <td>-0.006454</td>\n",
              "      <td>-0.018109</td>\n",
              "      <td>-0.035843</td>\n",
              "    </tr>\n",
              "    <tr>\n",
              "      <th>GrLivArea</th>\n",
              "      <td>0.073395</td>\n",
              "      <td>0.274163</td>\n",
              "      <td>0.589599</td>\n",
              "      <td>-0.083738</td>\n",
              "      <td>0.183229</td>\n",
              "      <td>0.269798</td>\n",
              "      <td>0.215574</td>\n",
              "      <td>-0.006829</td>\n",
              "      <td>0.227711</td>\n",
              "      <td>0.451261</td>\n",
              "      <td>0.565955</td>\n",
              "      <td>0.689997</td>\n",
              "      <td>0.159874</td>\n",
              "      <td>1.000000</td>\n",
              "      <td>0.033081</td>\n",
              "      <td>0.000579</td>\n",
              "      <td>0.632242</td>\n",
              "      <td>0.398526</td>\n",
              "      <td>0.520285</td>\n",
              "      <td>0.108437</td>\n",
              "      <td>0.827149</td>\n",
              "      <td>0.464394</td>\n",
              "      <td>0.159814</td>\n",
              "      <td>0.462943</td>\n",
              "      <td>0.461869</td>\n",
              "      <td>0.229647</td>\n",
              "      <td>0.336095</td>\n",
              "      <td>0.005554</td>\n",
              "      <td>0.016117</td>\n",
              "      <td>0.118382</td>\n",
              "      <td>0.186907</td>\n",
              "      <td>-0.028241</td>\n",
              "      <td>0.026103</td>\n",
              "      <td>-0.033960</td>\n",
              "    </tr>\n",
              "    <tr>\n",
              "      <th>BsmtFullBath</th>\n",
              "      <td>-0.016848</td>\n",
              "      <td>0.150417</td>\n",
              "      <td>0.094754</td>\n",
              "      <td>-0.052393</td>\n",
              "      <td>0.170685</td>\n",
              "      <td>0.115321</td>\n",
              "      <td>0.640972</td>\n",
              "      <td>0.168421</td>\n",
              "      <td>-0.416464</td>\n",
              "      <td>0.303885</td>\n",
              "      <td>0.247520</td>\n",
              "      <td>-0.174376</td>\n",
              "      <td>-0.037643</td>\n",
              "      <td>0.033081</td>\n",
              "      <td>1.000000</td>\n",
              "      <td>-0.138671</td>\n",
              "      <td>-0.069139</td>\n",
              "      <td>-0.050616</td>\n",
              "      <td>-0.144715</td>\n",
              "      <td>-0.038947</td>\n",
              "      <td>-0.045622</td>\n",
              "      <td>0.117365</td>\n",
              "      <td>0.087054</td>\n",
              "      <td>0.120652</td>\n",
              "      <td>0.161848</td>\n",
              "      <td>0.137943</td>\n",
              "      <td>0.081933</td>\n",
              "      <td>-0.039193</td>\n",
              "      <td>0.010913</td>\n",
              "      <td>0.029418</td>\n",
              "      <td>0.074880</td>\n",
              "      <td>-0.016801</td>\n",
              "      <td>-0.027514</td>\n",
              "      <td>0.075799</td>\n",
              "    </tr>\n",
              "    <tr>\n",
              "      <th>BsmtHalfBath</th>\n",
              "      <td>0.004898</td>\n",
              "      <td>0.066553</td>\n",
              "      <td>-0.025887</td>\n",
              "      <td>0.086898</td>\n",
              "      <td>-0.033255</td>\n",
              "      <td>-0.014903</td>\n",
              "      <td>0.080863</td>\n",
              "      <td>0.046768</td>\n",
              "      <td>-0.091642</td>\n",
              "      <td>0.008218</td>\n",
              "      <td>0.012560</td>\n",
              "      <td>-0.010339</td>\n",
              "      <td>-0.000483</td>\n",
              "      <td>0.000579</td>\n",
              "      <td>-0.138671</td>\n",
              "      <td>1.000000</td>\n",
              "      <td>-0.042193</td>\n",
              "      <td>0.013032</td>\n",
              "      <td>0.053439</td>\n",
              "      <td>-0.047812</td>\n",
              "      <td>-0.016317</td>\n",
              "      <td>0.062610</td>\n",
              "      <td>-0.063567</td>\n",
              "      <td>-0.001710</td>\n",
              "      <td>-0.010551</td>\n",
              "      <td>0.037215</td>\n",
              "      <td>-0.030443</td>\n",
              "      <td>-0.002784</td>\n",
              "      <td>0.020750</td>\n",
              "      <td>0.042709</td>\n",
              "      <td>0.022970</td>\n",
              "      <td>-0.008581</td>\n",
              "      <td>0.034492</td>\n",
              "      <td>-0.049708</td>\n",
              "    </tr>\n",
              "    <tr>\n",
              "      <th>FullBath</th>\n",
              "      <td>0.133436</td>\n",
              "      <td>0.116578</td>\n",
              "      <td>0.541425</td>\n",
              "      <td>-0.207498</td>\n",
              "      <td>0.458942</td>\n",
              "      <td>0.434400</td>\n",
              "      <td>0.045822</td>\n",
              "      <td>-0.074064</td>\n",
              "      <td>0.290940</td>\n",
              "      <td>0.314654</td>\n",
              "      <td>0.376452</td>\n",
              "      <td>0.429390</td>\n",
              "      <td>0.016526</td>\n",
              "      <td>0.632242</td>\n",
              "      <td>-0.069139</td>\n",
              "      <td>-0.042193</td>\n",
              "      <td>1.000000</td>\n",
              "      <td>0.124925</td>\n",
              "      <td>0.364398</td>\n",
              "      <td>0.137809</td>\n",
              "      <td>0.561336</td>\n",
              "      <td>0.225057</td>\n",
              "      <td>0.418367</td>\n",
              "      <td>0.468443</td>\n",
              "      <td>0.399869</td>\n",
              "      <td>0.177045</td>\n",
              "      <td>0.257385</td>\n",
              "      <td>-0.110748</td>\n",
              "      <td>0.029889</td>\n",
              "      <td>0.007109</td>\n",
              "      <td>0.054787</td>\n",
              "      <td>-0.037730</td>\n",
              "      <td>0.032212</td>\n",
              "      <td>-0.015806</td>\n",
              "    </tr>\n",
              "    <tr>\n",
              "      <th>HalfBath</th>\n",
              "      <td>0.177200</td>\n",
              "      <td>0.019360</td>\n",
              "      <td>0.275667</td>\n",
              "      <td>-0.064632</td>\n",
              "      <td>0.229740</td>\n",
              "      <td>0.180293</td>\n",
              "      <td>0.012696</td>\n",
              "      <td>-0.055117</td>\n",
              "      <td>-0.056387</td>\n",
              "      <td>-0.064539</td>\n",
              "      <td>-0.136030</td>\n",
              "      <td>0.603570</td>\n",
              "      <td>-0.017677</td>\n",
              "      <td>0.398526</td>\n",
              "      <td>-0.050616</td>\n",
              "      <td>0.013032</td>\n",
              "      <td>0.124925</td>\n",
              "      <td>1.000000</td>\n",
              "      <td>0.222335</td>\n",
              "      <td>-0.073993</td>\n",
              "      <td>0.334886</td>\n",
              "      <td>0.200820</td>\n",
              "      <td>0.145727</td>\n",
              "      <td>0.218133</td>\n",
              "      <td>0.155576</td>\n",
              "      <td>0.108438</td>\n",
              "      <td>0.193985</td>\n",
              "      <td>-0.127195</td>\n",
              "      <td>0.001457</td>\n",
              "      <td>0.082041</td>\n",
              "      <td>0.022708</td>\n",
              "      <td>-0.037698</td>\n",
              "      <td>-0.014913</td>\n",
              "      <td>-0.016540</td>\n",
              "    </tr>\n",
              "    <tr>\n",
              "      <th>BedroomAbvGr</th>\n",
              "      <td>-0.028956</td>\n",
              "      <td>0.120181</td>\n",
              "      <td>0.093406</td>\n",
              "      <td>0.019633</td>\n",
              "      <td>-0.085733</td>\n",
              "      <td>-0.053086</td>\n",
              "      <td>-0.088958</td>\n",
              "      <td>-0.020662</td>\n",
              "      <td>0.137941</td>\n",
              "      <td>0.040050</td>\n",
              "      <td>0.125410</td>\n",
              "      <td>0.503379</td>\n",
              "      <td>0.126523</td>\n",
              "      <td>0.520285</td>\n",
              "      <td>-0.144715</td>\n",
              "      <td>0.053439</td>\n",
              "      <td>0.364398</td>\n",
              "      <td>0.222335</td>\n",
              "      <td>1.000000</td>\n",
              "      <td>0.209742</td>\n",
              "      <td>0.667390</td>\n",
              "      <td>0.106308</td>\n",
              "      <td>-0.080994</td>\n",
              "      <td>0.078352</td>\n",
              "      <td>0.060116</td>\n",
              "      <td>0.036805</td>\n",
              "      <td>0.092326</td>\n",
              "      <td>0.038833</td>\n",
              "      <td>-0.033186</td>\n",
              "      <td>0.048151</td>\n",
              "      <td>0.078519</td>\n",
              "      <td>-0.012214</td>\n",
              "      <td>0.024535</td>\n",
              "      <td>-0.038893</td>\n",
              "    </tr>\n",
              "    <tr>\n",
              "      <th>KitchenAbvGr</th>\n",
              "      <td>0.280439</td>\n",
              "      <td>-0.020199</td>\n",
              "      <td>-0.177425</td>\n",
              "      <td>-0.060892</td>\n",
              "      <td>-0.189329</td>\n",
              "      <td>-0.140278</td>\n",
              "      <td>-0.089122</td>\n",
              "      <td>-0.054780</td>\n",
              "      <td>0.043442</td>\n",
              "      <td>-0.068593</td>\n",
              "      <td>0.058978</td>\n",
              "      <td>0.077117</td>\n",
              "      <td>0.015717</td>\n",
              "      <td>0.108437</td>\n",
              "      <td>-0.038947</td>\n",
              "      <td>-0.047812</td>\n",
              "      <td>0.137809</td>\n",
              "      <td>-0.073993</td>\n",
              "      <td>0.209742</td>\n",
              "      <td>1.000000</td>\n",
              "      <td>0.254141</td>\n",
              "      <td>-0.132212</td>\n",
              "      <td>-0.072828</td>\n",
              "      <td>-0.072425</td>\n",
              "      <td>-0.085977</td>\n",
              "      <td>-0.097045</td>\n",
              "      <td>-0.075242</td>\n",
              "      <td>0.062120</td>\n",
              "      <td>-0.024891</td>\n",
              "      <td>-0.047872</td>\n",
              "      <td>-0.015492</td>\n",
              "      <td>-0.011455</td>\n",
              "      <td>0.018020</td>\n",
              "      <td>0.053891</td>\n",
              "    </tr>\n",
              "    <tr>\n",
              "      <th>TotRmsAbvGrd</th>\n",
              "      <td>0.028215</td>\n",
              "      <td>0.192659</td>\n",
              "      <td>0.435941</td>\n",
              "      <td>-0.066645</td>\n",
              "      <td>0.089127</td>\n",
              "      <td>0.182047</td>\n",
              "      <td>0.060808</td>\n",
              "      <td>-0.038539</td>\n",
              "      <td>0.237151</td>\n",
              "      <td>0.288885</td>\n",
              "      <td>0.411917</td>\n",
              "      <td>0.616817</td>\n",
              "      <td>0.163603</td>\n",
              "      <td>0.827149</td>\n",
              "      <td>-0.045622</td>\n",
              "      <td>-0.016317</td>\n",
              "      <td>0.561336</td>\n",
              "      <td>0.334886</td>\n",
              "      <td>0.667390</td>\n",
              "      <td>0.254141</td>\n",
              "      <td>1.000000</td>\n",
              "      <td>0.326065</td>\n",
              "      <td>0.100108</td>\n",
              "      <td>0.362923</td>\n",
              "      <td>0.333435</td>\n",
              "      <td>0.152952</td>\n",
              "      <td>0.236528</td>\n",
              "      <td>-0.004298</td>\n",
              "      <td>-0.015888</td>\n",
              "      <td>0.065583</td>\n",
              "      <td>0.092141</td>\n",
              "      <td>-0.018332</td>\n",
              "      <td>0.001962</td>\n",
              "      <td>-0.024550</td>\n",
              "    </tr>\n",
              "    <tr>\n",
              "      <th>Fireplaces</th>\n",
              "      <td>-0.062174</td>\n",
              "      <td>0.278029</td>\n",
              "      <td>0.394535</td>\n",
              "      <td>-0.042358</td>\n",
              "      <td>0.121964</td>\n",
              "      <td>0.089584</td>\n",
              "      <td>0.240306</td>\n",
              "      <td>0.061133</td>\n",
              "      <td>0.062677</td>\n",
              "      <td>0.334923</td>\n",
              "      <td>0.412272</td>\n",
              "      <td>0.198337</td>\n",
              "      <td>-0.012941</td>\n",
              "      <td>0.464394</td>\n",
              "      <td>0.117365</td>\n",
              "      <td>0.062610</td>\n",
              "      <td>0.225057</td>\n",
              "      <td>0.200820</td>\n",
              "      <td>0.106308</td>\n",
              "      <td>-0.132212</td>\n",
              "      <td>0.326065</td>\n",
              "      <td>1.000000</td>\n",
              "      <td>-0.008318</td>\n",
              "      <td>0.302016</td>\n",
              "      <td>0.263214</td>\n",
              "      <td>0.190423</td>\n",
              "      <td>0.184549</td>\n",
              "      <td>-0.025457</td>\n",
              "      <td>0.013500</td>\n",
              "      <td>0.187344</td>\n",
              "      <td>0.104720</td>\n",
              "      <td>-0.004500</td>\n",
              "      <td>0.061320</td>\n",
              "      <td>-0.027221</td>\n",
              "    </tr>\n",
              "    <tr>\n",
              "      <th>GarageYrBlt</th>\n",
              "      <td>0.106808</td>\n",
              "      <td>-0.049329</td>\n",
              "      <td>0.434616</td>\n",
              "      <td>-0.289945</td>\n",
              "      <td>0.714139</td>\n",
              "      <td>0.581723</td>\n",
              "      <td>0.109108</td>\n",
              "      <td>-0.093831</td>\n",
              "      <td>0.171360</td>\n",
              "      <td>0.251590</td>\n",
              "      <td>0.170984</td>\n",
              "      <td>0.039481</td>\n",
              "      <td>0.022550</td>\n",
              "      <td>0.159814</td>\n",
              "      <td>0.087054</td>\n",
              "      <td>-0.063567</td>\n",
              "      <td>0.418367</td>\n",
              "      <td>0.145727</td>\n",
              "      <td>-0.080994</td>\n",
              "      <td>-0.072828</td>\n",
              "      <td>0.100108</td>\n",
              "      <td>-0.008318</td>\n",
              "      <td>1.000000</td>\n",
              "      <td>0.338768</td>\n",
              "      <td>0.332298</td>\n",
              "      <td>0.175717</td>\n",
              "      <td>0.184245</td>\n",
              "      <td>-0.267799</td>\n",
              "      <td>0.024453</td>\n",
              "      <td>-0.089771</td>\n",
              "      <td>-0.020028</td>\n",
              "      <td>-0.043753</td>\n",
              "      <td>-0.026312</td>\n",
              "      <td>-0.001238</td>\n",
              "    </tr>\n",
              "    <tr>\n",
              "      <th>GarageCars</th>\n",
              "      <td>-0.050525</td>\n",
              "      <td>0.152238</td>\n",
              "      <td>0.611923</td>\n",
              "      <td>-0.212157</td>\n",
              "      <td>0.541097</td>\n",
              "      <td>0.426901</td>\n",
              "      <td>0.198674</td>\n",
              "      <td>-0.033861</td>\n",
              "      <td>0.229536</td>\n",
              "      <td>0.425555</td>\n",
              "      <td>0.431593</td>\n",
              "      <td>0.189644</td>\n",
              "      <td>-0.102112</td>\n",
              "      <td>0.462943</td>\n",
              "      <td>0.120652</td>\n",
              "      <td>-0.001710</td>\n",
              "      <td>0.468443</td>\n",
              "      <td>0.218133</td>\n",
              "      <td>0.078352</td>\n",
              "      <td>-0.072425</td>\n",
              "      <td>0.362923</td>\n",
              "      <td>0.302016</td>\n",
              "      <td>0.338768</td>\n",
              "      <td>1.000000</td>\n",
              "      <td>0.882571</td>\n",
              "      <td>0.210935</td>\n",
              "      <td>0.224306</td>\n",
              "      <td>-0.159689</td>\n",
              "      <td>0.038958</td>\n",
              "      <td>0.058769</td>\n",
              "      <td>0.024078</td>\n",
              "      <td>-0.043252</td>\n",
              "      <td>0.027840</td>\n",
              "      <td>-0.023273</td>\n",
              "    </tr>\n",
              "    <tr>\n",
              "      <th>GarageArea</th>\n",
              "      <td>-0.113738</td>\n",
              "      <td>0.178909</td>\n",
              "      <td>0.561984</td>\n",
              "      <td>-0.172343</td>\n",
              "      <td>0.469614</td>\n",
              "      <td>0.368165</td>\n",
              "      <td>0.267142</td>\n",
              "      <td>-0.017182</td>\n",
              "      <td>0.198525</td>\n",
              "      <td>0.471183</td>\n",
              "      <td>0.477142</td>\n",
              "      <td>0.144378</td>\n",
              "      <td>-0.069181</td>\n",
              "      <td>0.461869</td>\n",
              "      <td>0.161848</td>\n",
              "      <td>-0.010551</td>\n",
              "      <td>0.399869</td>\n",
              "      <td>0.155576</td>\n",
              "      <td>0.060116</td>\n",
              "      <td>-0.085977</td>\n",
              "      <td>0.333435</td>\n",
              "      <td>0.263214</td>\n",
              "      <td>0.332298</td>\n",
              "      <td>0.882571</td>\n",
              "      <td>1.000000</td>\n",
              "      <td>0.192856</td>\n",
              "      <td>0.256299</td>\n",
              "      <td>-0.116298</td>\n",
              "      <td>0.037880</td>\n",
              "      <td>0.059341</td>\n",
              "      <td>0.067661</td>\n",
              "      <td>-0.030813</td>\n",
              "      <td>0.021366</td>\n",
              "      <td>-0.016966</td>\n",
              "    </tr>\n",
              "    <tr>\n",
              "      <th>WoodDeckSF</th>\n",
              "      <td>-0.040913</td>\n",
              "      <td>0.138051</td>\n",
              "      <td>0.224039</td>\n",
              "      <td>0.001062</td>\n",
              "      <td>0.214262</td>\n",
              "      <td>0.202523</td>\n",
              "      <td>0.166971</td>\n",
              "      <td>0.089186</td>\n",
              "      <td>0.003919</td>\n",
              "      <td>0.209953</td>\n",
              "      <td>0.215537</td>\n",
              "      <td>0.089006</td>\n",
              "      <td>-0.017228</td>\n",
              "      <td>0.229647</td>\n",
              "      <td>0.137943</td>\n",
              "      <td>0.037215</td>\n",
              "      <td>0.177045</td>\n",
              "      <td>0.108438</td>\n",
              "      <td>0.036805</td>\n",
              "      <td>-0.097045</td>\n",
              "      <td>0.152952</td>\n",
              "      <td>0.190423</td>\n",
              "      <td>0.175717</td>\n",
              "      <td>0.210935</td>\n",
              "      <td>0.192856</td>\n",
              "      <td>1.000000</td>\n",
              "      <td>0.059177</td>\n",
              "      <td>-0.123332</td>\n",
              "      <td>-0.029659</td>\n",
              "      <td>-0.057064</td>\n",
              "      <td>0.082899</td>\n",
              "      <td>-0.026774</td>\n",
              "      <td>0.002546</td>\n",
              "      <td>0.043695</td>\n",
              "    </tr>\n",
              "    <tr>\n",
              "      <th>OpenPorchSF</th>\n",
              "      <td>0.001349</td>\n",
              "      <td>0.106834</td>\n",
              "      <td>0.320467</td>\n",
              "      <td>-0.020270</td>\n",
              "      <td>0.188937</td>\n",
              "      <td>0.229601</td>\n",
              "      <td>0.129339</td>\n",
              "      <td>-0.020763</td>\n",
              "      <td>0.124689</td>\n",
              "      <td>0.252445</td>\n",
              "      <td>0.214920</td>\n",
              "      <td>0.212281</td>\n",
              "      <td>0.034393</td>\n",
              "      <td>0.336095</td>\n",
              "      <td>0.081933</td>\n",
              "      <td>-0.030443</td>\n",
              "      <td>0.257385</td>\n",
              "      <td>0.193985</td>\n",
              "      <td>0.092326</td>\n",
              "      <td>-0.075242</td>\n",
              "      <td>0.236528</td>\n",
              "      <td>0.184549</td>\n",
              "      <td>0.184245</td>\n",
              "      <td>0.224306</td>\n",
              "      <td>0.256299</td>\n",
              "      <td>0.059177</td>\n",
              "      <td>1.000000</td>\n",
              "      <td>-0.109251</td>\n",
              "      <td>-0.006597</td>\n",
              "      <td>0.075574</td>\n",
              "      <td>0.068565</td>\n",
              "      <td>-0.011755</td>\n",
              "      <td>0.058434</td>\n",
              "      <td>-0.056938</td>\n",
              "    </tr>\n",
              "    <tr>\n",
              "      <th>EnclosedPorch</th>\n",
              "      <td>-0.007957</td>\n",
              "      <td>-0.018471</td>\n",
              "      <td>-0.123533</td>\n",
              "      <td>0.061688</td>\n",
              "      <td>-0.398618</td>\n",
              "      <td>-0.207512</td>\n",
              "      <td>-0.084380</td>\n",
              "      <td>0.022050</td>\n",
              "      <td>-0.005835</td>\n",
              "      <td>-0.085003</td>\n",
              "      <td>-0.047702</td>\n",
              "      <td>0.040731</td>\n",
              "      <td>0.071423</td>\n",
              "      <td>0.005554</td>\n",
              "      <td>-0.039193</td>\n",
              "      <td>-0.002784</td>\n",
              "      <td>-0.110748</td>\n",
              "      <td>-0.127195</td>\n",
              "      <td>0.038833</td>\n",
              "      <td>0.062120</td>\n",
              "      <td>-0.004298</td>\n",
              "      <td>-0.025457</td>\n",
              "      <td>-0.267799</td>\n",
              "      <td>-0.159689</td>\n",
              "      <td>-0.116298</td>\n",
              "      <td>-0.123332</td>\n",
              "      <td>-0.109251</td>\n",
              "      <td>1.000000</td>\n",
              "      <td>-0.038102</td>\n",
              "      <td>-0.077861</td>\n",
              "      <td>0.061416</td>\n",
              "      <td>-0.001610</td>\n",
              "      <td>-0.040364</td>\n",
              "      <td>-0.004629</td>\n",
              "    </tr>\n",
              "    <tr>\n",
              "      <th>3SsnPorch</th>\n",
              "      <td>-0.039474</td>\n",
              "      <td>0.015961</td>\n",
              "      <td>0.031434</td>\n",
              "      <td>0.011799</td>\n",
              "      <td>0.036748</td>\n",
              "      <td>0.040842</td>\n",
              "      <td>0.032073</td>\n",
              "      <td>-0.034934</td>\n",
              "      <td>0.011685</td>\n",
              "      <td>0.032012</td>\n",
              "      <td>0.045071</td>\n",
              "      <td>-0.019908</td>\n",
              "      <td>-0.003779</td>\n",
              "      <td>0.016117</td>\n",
              "      <td>0.010913</td>\n",
              "      <td>0.020750</td>\n",
              "      <td>0.029889</td>\n",
              "      <td>0.001457</td>\n",
              "      <td>-0.033186</td>\n",
              "      <td>-0.024891</td>\n",
              "      <td>-0.015888</td>\n",
              "      <td>0.013500</td>\n",
              "      <td>0.024453</td>\n",
              "      <td>0.038958</td>\n",
              "      <td>0.037880</td>\n",
              "      <td>-0.029659</td>\n",
              "      <td>-0.006597</td>\n",
              "      <td>-0.038102</td>\n",
              "      <td>1.000000</td>\n",
              "      <td>-0.033200</td>\n",
              "      <td>-0.009383</td>\n",
              "      <td>0.002908</td>\n",
              "      <td>0.027771</td>\n",
              "      <td>0.029780</td>\n",
              "    </tr>\n",
              "    <tr>\n",
              "      <th>ScreenPorch</th>\n",
              "      <td>-0.011521</td>\n",
              "      <td>0.047519</td>\n",
              "      <td>0.066966</td>\n",
              "      <td>0.062978</td>\n",
              "      <td>-0.045140</td>\n",
              "      <td>-0.026138</td>\n",
              "      <td>0.079878</td>\n",
              "      <td>0.063885</td>\n",
              "      <td>-0.014196</td>\n",
              "      <td>0.092059</td>\n",
              "      <td>0.103163</td>\n",
              "      <td>0.047471</td>\n",
              "      <td>0.038933</td>\n",
              "      <td>0.118382</td>\n",
              "      <td>0.029418</td>\n",
              "      <td>0.042709</td>\n",
              "      <td>0.007109</td>\n",
              "      <td>0.082041</td>\n",
              "      <td>0.048151</td>\n",
              "      <td>-0.047872</td>\n",
              "      <td>0.065583</td>\n",
              "      <td>0.187344</td>\n",
              "      <td>-0.089771</td>\n",
              "      <td>0.058769</td>\n",
              "      <td>0.059341</td>\n",
              "      <td>-0.057064</td>\n",
              "      <td>0.075574</td>\n",
              "      <td>-0.077861</td>\n",
              "      <td>-0.033200</td>\n",
              "      <td>1.000000</td>\n",
              "      <td>0.057294</td>\n",
              "      <td>0.049398</td>\n",
              "      <td>0.046218</td>\n",
              "      <td>0.031326</td>\n",
              "    </tr>\n",
              "    <tr>\n",
              "      <th>PoolArea</th>\n",
              "      <td>0.009348</td>\n",
              "      <td>0.087353</td>\n",
              "      <td>0.074199</td>\n",
              "      <td>-0.002561</td>\n",
              "      <td>0.004841</td>\n",
              "      <td>0.006659</td>\n",
              "      <td>0.156740</td>\n",
              "      <td>0.044838</td>\n",
              "      <td>-0.038916</td>\n",
              "      <td>0.139439</td>\n",
              "      <td>0.146656</td>\n",
              "      <td>0.088631</td>\n",
              "      <td>0.067164</td>\n",
              "      <td>0.186907</td>\n",
              "      <td>0.074880</td>\n",
              "      <td>0.022970</td>\n",
              "      <td>0.054787</td>\n",
              "      <td>0.022708</td>\n",
              "      <td>0.078519</td>\n",
              "      <td>-0.015492</td>\n",
              "      <td>0.092141</td>\n",
              "      <td>0.104720</td>\n",
              "      <td>-0.020028</td>\n",
              "      <td>0.024078</td>\n",
              "      <td>0.067661</td>\n",
              "      <td>0.082899</td>\n",
              "      <td>0.068565</td>\n",
              "      <td>0.061416</td>\n",
              "      <td>-0.009383</td>\n",
              "      <td>0.057294</td>\n",
              "      <td>1.000000</td>\n",
              "      <td>0.034809</td>\n",
              "      <td>-0.037576</td>\n",
              "      <td>-0.067909</td>\n",
              "    </tr>\n",
              "    <tr>\n",
              "      <th>MiscVal</th>\n",
              "      <td>-0.040167</td>\n",
              "      <td>0.021378</td>\n",
              "      <td>-0.018472</td>\n",
              "      <td>0.101320</td>\n",
              "      <td>-0.039142</td>\n",
              "      <td>0.004719</td>\n",
              "      <td>0.002968</td>\n",
              "      <td>-0.006925</td>\n",
              "      <td>-0.019807</td>\n",
              "      <td>-0.019581</td>\n",
              "      <td>-0.025308</td>\n",
              "      <td>-0.011030</td>\n",
              "      <td>-0.006454</td>\n",
              "      <td>-0.028241</td>\n",
              "      <td>-0.016801</td>\n",
              "      <td>-0.008581</td>\n",
              "      <td>-0.037730</td>\n",
              "      <td>-0.037698</td>\n",
              "      <td>-0.012214</td>\n",
              "      <td>-0.011455</td>\n",
              "      <td>-0.018332</td>\n",
              "      <td>-0.004500</td>\n",
              "      <td>-0.043753</td>\n",
              "      <td>-0.043252</td>\n",
              "      <td>-0.030813</td>\n",
              "      <td>-0.026774</td>\n",
              "      <td>-0.011755</td>\n",
              "      <td>-0.001610</td>\n",
              "      <td>0.002908</td>\n",
              "      <td>0.049398</td>\n",
              "      <td>0.034809</td>\n",
              "      <td>1.000000</td>\n",
              "      <td>-0.016075</td>\n",
              "      <td>-0.002518</td>\n",
              "    </tr>\n",
              "    <tr>\n",
              "      <th>MoSold</th>\n",
              "      <td>-0.016628</td>\n",
              "      <td>-0.003757</td>\n",
              "      <td>0.036753</td>\n",
              "      <td>-0.006036</td>\n",
              "      <td>-0.000639</td>\n",
              "      <td>-0.008291</td>\n",
              "      <td>-0.005341</td>\n",
              "      <td>-0.012575</td>\n",
              "      <td>0.015560</td>\n",
              "      <td>0.005557</td>\n",
              "      <td>0.021353</td>\n",
              "      <td>0.014730</td>\n",
              "      <td>-0.018109</td>\n",
              "      <td>0.026103</td>\n",
              "      <td>-0.027514</td>\n",
              "      <td>0.034492</td>\n",
              "      <td>0.032212</td>\n",
              "      <td>-0.014913</td>\n",
              "      <td>0.024535</td>\n",
              "      <td>0.018020</td>\n",
              "      <td>0.001962</td>\n",
              "      <td>0.061320</td>\n",
              "      <td>-0.026312</td>\n",
              "      <td>0.027840</td>\n",
              "      <td>0.021366</td>\n",
              "      <td>0.002546</td>\n",
              "      <td>0.058434</td>\n",
              "      <td>-0.040364</td>\n",
              "      <td>0.027771</td>\n",
              "      <td>0.046218</td>\n",
              "      <td>-0.037576</td>\n",
              "      <td>-0.016075</td>\n",
              "      <td>1.000000</td>\n",
              "      <td>-0.145178</td>\n",
              "    </tr>\n",
              "    <tr>\n",
              "      <th>YrSold</th>\n",
              "      <td>-0.019675</td>\n",
              "      <td>-0.012963</td>\n",
              "      <td>-0.029694</td>\n",
              "      <td>0.050366</td>\n",
              "      <td>-0.011853</td>\n",
              "      <td>0.039069</td>\n",
              "      <td>0.026332</td>\n",
              "      <td>0.052344</td>\n",
              "      <td>-0.052237</td>\n",
              "      <td>-0.006193</td>\n",
              "      <td>0.003470</td>\n",
              "      <td>-0.040019</td>\n",
              "      <td>-0.035843</td>\n",
              "      <td>-0.033960</td>\n",
              "      <td>0.075799</td>\n",
              "      <td>-0.049708</td>\n",
              "      <td>-0.015806</td>\n",
              "      <td>-0.016540</td>\n",
              "      <td>-0.038893</td>\n",
              "      <td>0.053891</td>\n",
              "      <td>-0.024550</td>\n",
              "      <td>-0.027221</td>\n",
              "      <td>-0.001238</td>\n",
              "      <td>-0.023273</td>\n",
              "      <td>-0.016966</td>\n",
              "      <td>0.043695</td>\n",
              "      <td>-0.056938</td>\n",
              "      <td>-0.004629</td>\n",
              "      <td>0.029780</td>\n",
              "      <td>0.031326</td>\n",
              "      <td>-0.067909</td>\n",
              "      <td>-0.002518</td>\n",
              "      <td>-0.145178</td>\n",
              "      <td>1.000000</td>\n",
              "    </tr>\n",
              "  </tbody>\n",
              "</table>\n",
              "</div>"
            ],
            "text/plain": [
              "               MSSubClass   LotArea  OverallQual  ...   MiscVal    MoSold    YrSold\n",
              "MSSubClass       1.000000 -0.183489     0.030132  ... -0.040167 -0.016628 -0.019675\n",
              "LotArea         -0.183489  1.000000     0.121985  ...  0.021378 -0.003757 -0.012963\n",
              "OverallQual      0.030132  0.121985     1.000000  ... -0.018472  0.036753 -0.029694\n",
              "OverallCond     -0.054183 -0.007539    -0.118486  ...  0.101320 -0.006036  0.050366\n",
              "YearBuilt        0.028087  0.004330     0.565505  ... -0.039142 -0.000639 -0.011853\n",
              "YearRemodAdd     0.053411  0.019271     0.542853  ...  0.004719 -0.008291  0.039069\n",
              "BsmtFinSF1      -0.065408  0.222465     0.215496  ...  0.002968 -0.005341  0.026332\n",
              "BsmtFinSF2      -0.084226  0.121791    -0.066690  ... -0.006925 -0.012575  0.052344\n",
              "BsmtUnfSF       -0.144369 -0.004751     0.326050  ... -0.019807  0.015560 -0.052237\n",
              "TotalBsmtSF     -0.245352  0.270730     0.528536  ... -0.019581  0.005557 -0.006193\n",
              "1stFlrSF        -0.259736  0.308075     0.475785  ... -0.025308  0.021353  0.003470\n",
              "2ndFlrSF         0.311060  0.057583     0.295685  ... -0.011030  0.014730 -0.040019\n",
              "LowQualFinSF     0.061668  0.013322    -0.032276  ... -0.006454 -0.018109 -0.035843\n",
              "GrLivArea        0.073395  0.274163     0.589599  ... -0.028241  0.026103 -0.033960\n",
              "BsmtFullBath    -0.016848  0.150417     0.094754  ... -0.016801 -0.027514  0.075799\n",
              "BsmtHalfBath     0.004898  0.066553    -0.025887  ... -0.008581  0.034492 -0.049708\n",
              "FullBath         0.133436  0.116578     0.541425  ... -0.037730  0.032212 -0.015806\n",
              "HalfBath         0.177200  0.019360     0.275667  ... -0.037698 -0.014913 -0.016540\n",
              "BedroomAbvGr    -0.028956  0.120181     0.093406  ... -0.012214  0.024535 -0.038893\n",
              "KitchenAbvGr     0.280439 -0.020199    -0.177425  ... -0.011455  0.018020  0.053891\n",
              "TotRmsAbvGrd     0.028215  0.192659     0.435941  ... -0.018332  0.001962 -0.024550\n",
              "Fireplaces      -0.062174  0.278029     0.394535  ... -0.004500  0.061320 -0.027221\n",
              "GarageYrBlt      0.106808 -0.049329     0.434616  ... -0.043753 -0.026312 -0.001238\n",
              "GarageCars      -0.050525  0.152238     0.611923  ... -0.043252  0.027840 -0.023273\n",
              "GarageArea      -0.113738  0.178909     0.561984  ... -0.030813  0.021366 -0.016966\n",
              "WoodDeckSF      -0.040913  0.138051     0.224039  ... -0.026774  0.002546  0.043695\n",
              "OpenPorchSF      0.001349  0.106834     0.320467  ... -0.011755  0.058434 -0.056938\n",
              "EnclosedPorch   -0.007957 -0.018471    -0.123533  ... -0.001610 -0.040364 -0.004629\n",
              "3SsnPorch       -0.039474  0.015961     0.031434  ...  0.002908  0.027771  0.029780\n",
              "ScreenPorch     -0.011521  0.047519     0.066966  ...  0.049398  0.046218  0.031326\n",
              "PoolArea         0.009348  0.087353     0.074199  ...  0.034809 -0.037576 -0.067909\n",
              "MiscVal         -0.040167  0.021378    -0.018472  ...  1.000000 -0.016075 -0.002518\n",
              "MoSold          -0.016628 -0.003757     0.036753  ... -0.016075  1.000000 -0.145178\n",
              "YrSold          -0.019675 -0.012963    -0.029694  ... -0.002518 -0.145178  1.000000\n",
              "\n",
              "[34 rows x 34 columns]"
            ]
          },
          "metadata": {
            "tags": []
          },
          "execution_count": 139
        }
      ]
    },
    {
      "cell_type": "code",
      "metadata": {
        "id": "myCSIbw288HN",
        "colab": {
          "base_uri": "https://localhost:8080/",
          "height": 950
        },
        "outputId": "0104ad8a-24d0-4ea3-96b1-99ef0f7b30ec"
      },
      "source": [
        "f, ax = plt.subplots(figsize=(18, 15))\n",
        "sns.heatmap(mat_corr_numericas)"
      ],
      "execution_count": null,
      "outputs": [
        {
          "output_type": "execute_result",
          "data": {
            "text/plain": [
              "<matplotlib.axes._subplots.AxesSubplot at 0x7f74d2296278>"
            ]
          },
          "metadata": {
            "tags": []
          },
          "execution_count": 140
        },
        {
          "output_type": "display_data",
          "data": {
            "image/png": "[encoded data removed]",
            "text/plain": [
              "<Figure size 1296x1080 with 2 Axes>"
            ]
          },
          "metadata": {
            "tags": [],
            "needs_background": "light"
          }
        }
      ]
    },
    {
      "cell_type": "markdown",
      "metadata": {
        "id": "_U-5PpGv9kU5"
      },
      "source": [
        "Como podemos observar hay zonas muy claras, por lo que existen variables fuertemente correladas positivamente, como por ejemplo es el caso de **TotalBsmtSF** y **1stFlrSF** o **GarageArea** y **GarageCars**. Por otro lado, observamos zonas muy oscuras, lo que significa que hay variables fuertemente correladas negativamente, como es el caso de **EnclosedPorch** y **YearBuilt**. Por tanto, estamos ante un problema de multicolinealidad y en consecuencia, tiene sentido aplicar un análisis de componentes principales."
      ]
    },
    {
      "cell_type": "markdown",
      "metadata": {
        "id": "_j3dEHlpxJxP"
      },
      "source": [
        "### PCA: Análisis de componentes principales"
      ]
    },
    {
      "cell_type": "markdown",
      "metadata": {
        "id": "0rTIi6tCzLNn"
      },
      "source": [
        "A continuación, vamos a realizar un análisis de componentes principales sobre el conjunto de entrenamiento **train**, con el fin de reducir la dimensionalidad. Comenzaremos haciéndola con k igual al número de variables y determinaremos el número de componentes principales mediante la varianza explicada por cada componente."
      ]
    },
    {
      "cell_type": "markdown",
      "metadata": {
        "id": "aH47azQ3H8-f"
      },
      "source": [
        "* Para el **feauture_esc**\n",
        "\n",
        "\n"
      ]
    },
    {
      "cell_type": "code",
      "metadata": {
        "id": "G5X_n-E4xNAi"
      },
      "source": [
        "pca_todas_raw = PCA(k=77,inputCol='features_esc',outputCol='pca_features_raw_esc')"
      ],
      "execution_count": null,
      "outputs": []
    },
    {
      "cell_type": "code",
      "metadata": {
        "id": "c0OVPxktz835"
      },
      "source": [
        "model_pca_todas_raw=pca_todas_raw.fit(train)"
      ],
      "execution_count": null,
      "outputs": []
    },
    {
      "cell_type": "markdown",
      "metadata": {
        "id": "Spm9W-mxcJ7q"
      },
      "source": [
        "Construimos un dataframe para representar la varianza explicada y la  acumulada."
      ]
    },
    {
      "cell_type": "code",
      "metadata": {
        "id": "XVoWsbo90gc6",
        "colab": {
          "base_uri": "https://localhost:8080/",
          "height": 855
        },
        "outputId": "0a519100-4c34-4a35-a92d-28f1930db591"
      },
      "source": [
        "nombres=['Componente Principal '+ str(k) for k in range(1,len(cols_num)+len(idx_cols)+1)]\n",
        "var_expl=model_pca_todas_raw.explainedVariance\n",
        "import pandas as pd\n",
        "df_pca=pd.DataFrame(columns=['Componente principal','Varianza explicada',\n",
        "                             'Varianza explicada acumulada'])\n",
        "df_pca['Componente principal']=nombres\n",
        "df_pca['Varianza explicada']=var_expl\n",
        "df_pca['Varianza explicada acumulada']=df_pca['Varianza explicada'].cumsum()\n",
        "df_pca.head(26)"
      ],
      "execution_count": null,
      "outputs": [
        {
          "output_type": "execute_result",
          "data": {
            "text/html": [
              "<div>\n",
              "<style scoped>\n",
              "    .dataframe tbody tr th:only-of-type {\n",
              "        vertical-align: middle;\n",
              "    }\n",
              "\n",
              "    .dataframe tbody tr th {\n",
              "        vertical-align: top;\n",
              "    }\n",
              "\n",
              "    .dataframe thead th {\n",
              "        text-align: right;\n",
              "    }\n",
              "</style>\n",
              "<table border=\"1\" class=\"dataframe\">\n",
              "  <thead>\n",
              "    <tr style=\"text-align: right;\">\n",
              "      <th></th>\n",
              "      <th>Componente principal</th>\n",
              "      <th>Varianza explicada</th>\n",
              "      <th>Varianza explicada acumulada</th>\n",
              "    </tr>\n",
              "  </thead>\n",
              "  <tbody>\n",
              "    <tr>\n",
              "      <th>0</th>\n",
              "      <td>Componente Principal 1</td>\n",
              "      <td>0.130585</td>\n",
              "      <td>0.130585</td>\n",
              "    </tr>\n",
              "    <tr>\n",
              "      <th>1</th>\n",
              "      <td>Componente Principal 2</td>\n",
              "      <td>0.070264</td>\n",
              "      <td>0.200849</td>\n",
              "    </tr>\n",
              "    <tr>\n",
              "      <th>2</th>\n",
              "      <td>Componente Principal 3</td>\n",
              "      <td>0.066946</td>\n",
              "      <td>0.267794</td>\n",
              "    </tr>\n",
              "    <tr>\n",
              "      <th>3</th>\n",
              "      <td>Componente Principal 4</td>\n",
              "      <td>0.057883</td>\n",
              "      <td>0.325678</td>\n",
              "    </tr>\n",
              "    <tr>\n",
              "      <th>4</th>\n",
              "      <td>Componente Principal 5</td>\n",
              "      <td>0.046235</td>\n",
              "      <td>0.371912</td>\n",
              "    </tr>\n",
              "    <tr>\n",
              "      <th>5</th>\n",
              "      <td>Componente Principal 6</td>\n",
              "      <td>0.041302</td>\n",
              "      <td>0.413214</td>\n",
              "    </tr>\n",
              "    <tr>\n",
              "      <th>6</th>\n",
              "      <td>Componente Principal 7</td>\n",
              "      <td>0.037969</td>\n",
              "      <td>0.451183</td>\n",
              "    </tr>\n",
              "    <tr>\n",
              "      <th>7</th>\n",
              "      <td>Componente Principal 8</td>\n",
              "      <td>0.031469</td>\n",
              "      <td>0.482652</td>\n",
              "    </tr>\n",
              "    <tr>\n",
              "      <th>8</th>\n",
              "      <td>Componente Principal 9</td>\n",
              "      <td>0.027974</td>\n",
              "      <td>0.510626</td>\n",
              "    </tr>\n",
              "    <tr>\n",
              "      <th>9</th>\n",
              "      <td>Componente Principal 10</td>\n",
              "      <td>0.026572</td>\n",
              "      <td>0.537198</td>\n",
              "    </tr>\n",
              "    <tr>\n",
              "      <th>10</th>\n",
              "      <td>Componente Principal 11</td>\n",
              "      <td>0.025424</td>\n",
              "      <td>0.562622</td>\n",
              "    </tr>\n",
              "    <tr>\n",
              "      <th>11</th>\n",
              "      <td>Componente Principal 12</td>\n",
              "      <td>0.024347</td>\n",
              "      <td>0.586969</td>\n",
              "    </tr>\n",
              "    <tr>\n",
              "      <th>12</th>\n",
              "      <td>Componente Principal 13</td>\n",
              "      <td>0.022788</td>\n",
              "      <td>0.609757</td>\n",
              "    </tr>\n",
              "    <tr>\n",
              "      <th>13</th>\n",
              "      <td>Componente Principal 14</td>\n",
              "      <td>0.021588</td>\n",
              "      <td>0.631345</td>\n",
              "    </tr>\n",
              "    <tr>\n",
              "      <th>14</th>\n",
              "      <td>Componente Principal 15</td>\n",
              "      <td>0.020463</td>\n",
              "      <td>0.651808</td>\n",
              "    </tr>\n",
              "    <tr>\n",
              "      <th>15</th>\n",
              "      <td>Componente Principal 16</td>\n",
              "      <td>0.018903</td>\n",
              "      <td>0.670711</td>\n",
              "    </tr>\n",
              "    <tr>\n",
              "      <th>16</th>\n",
              "      <td>Componente Principal 17</td>\n",
              "      <td>0.018232</td>\n",
              "      <td>0.688943</td>\n",
              "    </tr>\n",
              "    <tr>\n",
              "      <th>17</th>\n",
              "      <td>Componente Principal 18</td>\n",
              "      <td>0.017278</td>\n",
              "      <td>0.706220</td>\n",
              "    </tr>\n",
              "    <tr>\n",
              "      <th>18</th>\n",
              "      <td>Componente Principal 19</td>\n",
              "      <td>0.016375</td>\n",
              "      <td>0.722595</td>\n",
              "    </tr>\n",
              "    <tr>\n",
              "      <th>19</th>\n",
              "      <td>Componente Principal 20</td>\n",
              "      <td>0.016110</td>\n",
              "      <td>0.738706</td>\n",
              "    </tr>\n",
              "    <tr>\n",
              "      <th>20</th>\n",
              "      <td>Componente Principal 21</td>\n",
              "      <td>0.015326</td>\n",
              "      <td>0.754032</td>\n",
              "    </tr>\n",
              "    <tr>\n",
              "      <th>21</th>\n",
              "      <td>Componente Principal 22</td>\n",
              "      <td>0.014700</td>\n",
              "      <td>0.768732</td>\n",
              "    </tr>\n",
              "    <tr>\n",
              "      <th>22</th>\n",
              "      <td>Componente Principal 23</td>\n",
              "      <td>0.013559</td>\n",
              "      <td>0.782291</td>\n",
              "    </tr>\n",
              "    <tr>\n",
              "      <th>23</th>\n",
              "      <td>Componente Principal 24</td>\n",
              "      <td>0.013052</td>\n",
              "      <td>0.795343</td>\n",
              "    </tr>\n",
              "    <tr>\n",
              "      <th>24</th>\n",
              "      <td>Componente Principal 25</td>\n",
              "      <td>0.011863</td>\n",
              "      <td>0.807206</td>\n",
              "    </tr>\n",
              "    <tr>\n",
              "      <th>25</th>\n",
              "      <td>Componente Principal 26</td>\n",
              "      <td>0.011342</td>\n",
              "      <td>0.818548</td>\n",
              "    </tr>\n",
              "  </tbody>\n",
              "</table>\n",
              "</div>"
            ],
            "text/plain": [
              "       Componente principal  Varianza explicada  Varianza explicada acumulada\n",
              "0    Componente Principal 1            0.130585                      0.130585\n",
              "1    Componente Principal 2            0.070264                      0.200849\n",
              "2    Componente Principal 3            0.066946                      0.267794\n",
              "3    Componente Principal 4            0.057883                      0.325678\n",
              "4    Componente Principal 5            0.046235                      0.371912\n",
              "5    Componente Principal 6            0.041302                      0.413214\n",
              "6    Componente Principal 7            0.037969                      0.451183\n",
              "7    Componente Principal 8            0.031469                      0.482652\n",
              "8    Componente Principal 9            0.027974                      0.510626\n",
              "9   Componente Principal 10            0.026572                      0.537198\n",
              "10  Componente Principal 11            0.025424                      0.562622\n",
              "11  Componente Principal 12            0.024347                      0.586969\n",
              "12  Componente Principal 13            0.022788                      0.609757\n",
              "13  Componente Principal 14            0.021588                      0.631345\n",
              "14  Componente Principal 15            0.020463                      0.651808\n",
              "15  Componente Principal 16            0.018903                      0.670711\n",
              "16  Componente Principal 17            0.018232                      0.688943\n",
              "17  Componente Principal 18            0.017278                      0.706220\n",
              "18  Componente Principal 19            0.016375                      0.722595\n",
              "19  Componente Principal 20            0.016110                      0.738706\n",
              "20  Componente Principal 21            0.015326                      0.754032\n",
              "21  Componente Principal 22            0.014700                      0.768732\n",
              "22  Componente Principal 23            0.013559                      0.782291\n",
              "23  Componente Principal 24            0.013052                      0.795343\n",
              "24  Componente Principal 25            0.011863                      0.807206\n",
              "25  Componente Principal 26            0.011342                      0.818548"
            ]
          },
          "metadata": {
            "tags": []
          },
          "execution_count": 143
        }
      ]
    },
    {
      "cell_type": "markdown",
      "metadata": {
        "id": "3e60d6rF4YRA"
      },
      "source": [
        "Nos vamos a quedar con aquellas componentes principales que expliquen un 80% de la variabilidad explicada acumulada. En este caso podemos observar que con 25 componentes principales ya se obtiene."
      ]
    },
    {
      "cell_type": "markdown",
      "metadata": {
        "id": "Pv3iyi7fIH-E"
      },
      "source": [
        "* Para el **feature_ohe_esc**: En este caso como no sabemos cuántas variables hay en total, vamos a ir modificando el parámetro k hasta que podamos ver cuándo se obtiene alrededor de un 80% de la variabilidad explicada.\n",
        "\n"
      ]
    },
    {
      "cell_type": "code",
      "metadata": {
        "id": "STMZlZ2RIO5p"
      },
      "source": [
        "pca_ohe_pb = PCA(k=50,inputCol='features_ohe_esc',outputCol='pca_features_ohe_esc')"
      ],
      "execution_count": null,
      "outputs": []
    },
    {
      "cell_type": "code",
      "metadata": {
        "id": "kLO8MymmJAUX"
      },
      "source": [
        "model_pca_ohe_pb=pca_ohe_pb.fit(train)"
      ],
      "execution_count": null,
      "outputs": []
    },
    {
      "cell_type": "markdown",
      "metadata": {
        "id": "EFO1Gu9ec4ED"
      },
      "source": [
        "Construimos un dataframe para representar la varianza explicada y acumulada."
      ]
    },
    {
      "cell_type": "code",
      "metadata": {
        "id": "8aRVdSovJa4r",
        "colab": {
          "base_uri": "https://localhost:8080/",
          "height": 1000
        },
        "outputId": "e5efa810-0f4a-4c1d-974b-c7a1ceb8d051"
      },
      "source": [
        "nombres_ohe=['Componente Principal '+ str(k) for k in range(1,51)]\n",
        "var_expl=model_pca_ohe_pb.explainedVariance\n",
        "df_pca=pd.DataFrame(columns=['Componente principal','Varianza explicada',\n",
        "                             'Varianza explicada acumulada'])\n",
        "df_pca['Componente principal']=nombres_ohe\n",
        "df_pca['Varianza explicada']=var_expl\n",
        "df_pca['Varianza explicada acumulada']=df_pca['Varianza explicada'].cumsum()\n",
        "df_pca.head(45)"
      ],
      "execution_count": null,
      "outputs": [
        {
          "output_type": "execute_result",
          "data": {
            "text/html": [
              "<div>\n",
              "<style scoped>\n",
              "    .dataframe tbody tr th:only-of-type {\n",
              "        vertical-align: middle;\n",
              "    }\n",
              "\n",
              "    .dataframe tbody tr th {\n",
              "        vertical-align: top;\n",
              "    }\n",
              "\n",
              "    .dataframe thead th {\n",
              "        text-align: right;\n",
              "    }\n",
              "</style>\n",
              "<table border=\"1\" class=\"dataframe\">\n",
              "  <thead>\n",
              "    <tr style=\"text-align: right;\">\n",
              "      <th></th>\n",
              "      <th>Componente principal</th>\n",
              "      <th>Varianza explicada</th>\n",
              "      <th>Varianza explicada acumulada</th>\n",
              "    </tr>\n",
              "  </thead>\n",
              "  <tbody>\n",
              "    <tr>\n",
              "      <th>0</th>\n",
              "      <td>Componente Principal 1</td>\n",
              "      <td>0.145776</td>\n",
              "      <td>0.145776</td>\n",
              "    </tr>\n",
              "    <tr>\n",
              "      <th>1</th>\n",
              "      <td>Componente Principal 2</td>\n",
              "      <td>0.060083</td>\n",
              "      <td>0.205859</td>\n",
              "    </tr>\n",
              "    <tr>\n",
              "      <th>2</th>\n",
              "      <td>Componente Principal 3</td>\n",
              "      <td>0.038473</td>\n",
              "      <td>0.244332</td>\n",
              "    </tr>\n",
              "    <tr>\n",
              "      <th>3</th>\n",
              "      <td>Componente Principal 4</td>\n",
              "      <td>0.035847</td>\n",
              "      <td>0.280179</td>\n",
              "    </tr>\n",
              "    <tr>\n",
              "      <th>4</th>\n",
              "      <td>Componente Principal 5</td>\n",
              "      <td>0.032712</td>\n",
              "      <td>0.312891</td>\n",
              "    </tr>\n",
              "    <tr>\n",
              "      <th>5</th>\n",
              "      <td>Componente Principal 6</td>\n",
              "      <td>0.027698</td>\n",
              "      <td>0.340590</td>\n",
              "    </tr>\n",
              "    <tr>\n",
              "      <th>6</th>\n",
              "      <td>Componente Principal 7</td>\n",
              "      <td>0.026423</td>\n",
              "      <td>0.367013</td>\n",
              "    </tr>\n",
              "    <tr>\n",
              "      <th>7</th>\n",
              "      <td>Componente Principal 8</td>\n",
              "      <td>0.023274</td>\n",
              "      <td>0.390287</td>\n",
              "    </tr>\n",
              "    <tr>\n",
              "      <th>8</th>\n",
              "      <td>Componente Principal 9</td>\n",
              "      <td>0.021032</td>\n",
              "      <td>0.411319</td>\n",
              "    </tr>\n",
              "    <tr>\n",
              "      <th>9</th>\n",
              "      <td>Componente Principal 10</td>\n",
              "      <td>0.020656</td>\n",
              "      <td>0.431975</td>\n",
              "    </tr>\n",
              "    <tr>\n",
              "      <th>10</th>\n",
              "      <td>Componente Principal 11</td>\n",
              "      <td>0.019581</td>\n",
              "      <td>0.451556</td>\n",
              "    </tr>\n",
              "    <tr>\n",
              "      <th>11</th>\n",
              "      <td>Componente Principal 12</td>\n",
              "      <td>0.019197</td>\n",
              "      <td>0.470753</td>\n",
              "    </tr>\n",
              "    <tr>\n",
              "      <th>12</th>\n",
              "      <td>Componente Principal 13</td>\n",
              "      <td>0.018316</td>\n",
              "      <td>0.489069</td>\n",
              "    </tr>\n",
              "    <tr>\n",
              "      <th>13</th>\n",
              "      <td>Componente Principal 14</td>\n",
              "      <td>0.016702</td>\n",
              "      <td>0.505771</td>\n",
              "    </tr>\n",
              "    <tr>\n",
              "      <th>14</th>\n",
              "      <td>Componente Principal 15</td>\n",
              "      <td>0.015973</td>\n",
              "      <td>0.521744</td>\n",
              "    </tr>\n",
              "    <tr>\n",
              "      <th>15</th>\n",
              "      <td>Componente Principal 16</td>\n",
              "      <td>0.015526</td>\n",
              "      <td>0.537270</td>\n",
              "    </tr>\n",
              "    <tr>\n",
              "      <th>16</th>\n",
              "      <td>Componente Principal 17</td>\n",
              "      <td>0.015162</td>\n",
              "      <td>0.552432</td>\n",
              "    </tr>\n",
              "    <tr>\n",
              "      <th>17</th>\n",
              "      <td>Componente Principal 18</td>\n",
              "      <td>0.014616</td>\n",
              "      <td>0.567049</td>\n",
              "    </tr>\n",
              "    <tr>\n",
              "      <th>18</th>\n",
              "      <td>Componente Principal 19</td>\n",
              "      <td>0.014456</td>\n",
              "      <td>0.581505</td>\n",
              "    </tr>\n",
              "    <tr>\n",
              "      <th>19</th>\n",
              "      <td>Componente Principal 20</td>\n",
              "      <td>0.013876</td>\n",
              "      <td>0.595382</td>\n",
              "    </tr>\n",
              "    <tr>\n",
              "      <th>20</th>\n",
              "      <td>Componente Principal 21</td>\n",
              "      <td>0.013072</td>\n",
              "      <td>0.608453</td>\n",
              "    </tr>\n",
              "    <tr>\n",
              "      <th>21</th>\n",
              "      <td>Componente Principal 22</td>\n",
              "      <td>0.012322</td>\n",
              "      <td>0.620775</td>\n",
              "    </tr>\n",
              "    <tr>\n",
              "      <th>22</th>\n",
              "      <td>Componente Principal 23</td>\n",
              "      <td>0.011671</td>\n",
              "      <td>0.632447</td>\n",
              "    </tr>\n",
              "    <tr>\n",
              "      <th>23</th>\n",
              "      <td>Componente Principal 24</td>\n",
              "      <td>0.011400</td>\n",
              "      <td>0.643847</td>\n",
              "    </tr>\n",
              "    <tr>\n",
              "      <th>24</th>\n",
              "      <td>Componente Principal 25</td>\n",
              "      <td>0.011058</td>\n",
              "      <td>0.654904</td>\n",
              "    </tr>\n",
              "    <tr>\n",
              "      <th>25</th>\n",
              "      <td>Componente Principal 26</td>\n",
              "      <td>0.010684</td>\n",
              "      <td>0.665588</td>\n",
              "    </tr>\n",
              "    <tr>\n",
              "      <th>26</th>\n",
              "      <td>Componente Principal 27</td>\n",
              "      <td>0.010441</td>\n",
              "      <td>0.676029</td>\n",
              "    </tr>\n",
              "    <tr>\n",
              "      <th>27</th>\n",
              "      <td>Componente Principal 28</td>\n",
              "      <td>0.010000</td>\n",
              "      <td>0.686029</td>\n",
              "    </tr>\n",
              "    <tr>\n",
              "      <th>28</th>\n",
              "      <td>Componente Principal 29</td>\n",
              "      <td>0.009494</td>\n",
              "      <td>0.695523</td>\n",
              "    </tr>\n",
              "    <tr>\n",
              "      <th>29</th>\n",
              "      <td>Componente Principal 30</td>\n",
              "      <td>0.009132</td>\n",
              "      <td>0.704655</td>\n",
              "    </tr>\n",
              "    <tr>\n",
              "      <th>30</th>\n",
              "      <td>Componente Principal 31</td>\n",
              "      <td>0.008813</td>\n",
              "      <td>0.713468</td>\n",
              "    </tr>\n",
              "    <tr>\n",
              "      <th>31</th>\n",
              "      <td>Componente Principal 32</td>\n",
              "      <td>0.008350</td>\n",
              "      <td>0.721818</td>\n",
              "    </tr>\n",
              "    <tr>\n",
              "      <th>32</th>\n",
              "      <td>Componente Principal 33</td>\n",
              "      <td>0.008049</td>\n",
              "      <td>0.729867</td>\n",
              "    </tr>\n",
              "    <tr>\n",
              "      <th>33</th>\n",
              "      <td>Componente Principal 34</td>\n",
              "      <td>0.007809</td>\n",
              "      <td>0.737676</td>\n",
              "    </tr>\n",
              "    <tr>\n",
              "      <th>34</th>\n",
              "      <td>Componente Principal 35</td>\n",
              "      <td>0.007506</td>\n",
              "      <td>0.745182</td>\n",
              "    </tr>\n",
              "    <tr>\n",
              "      <th>35</th>\n",
              "      <td>Componente Principal 36</td>\n",
              "      <td>0.007165</td>\n",
              "      <td>0.752347</td>\n",
              "    </tr>\n",
              "    <tr>\n",
              "      <th>36</th>\n",
              "      <td>Componente Principal 37</td>\n",
              "      <td>0.007051</td>\n",
              "      <td>0.759398</td>\n",
              "    </tr>\n",
              "    <tr>\n",
              "      <th>37</th>\n",
              "      <td>Componente Principal 38</td>\n",
              "      <td>0.006879</td>\n",
              "      <td>0.766277</td>\n",
              "    </tr>\n",
              "    <tr>\n",
              "      <th>38</th>\n",
              "      <td>Componente Principal 39</td>\n",
              "      <td>0.006627</td>\n",
              "      <td>0.772904</td>\n",
              "    </tr>\n",
              "    <tr>\n",
              "      <th>39</th>\n",
              "      <td>Componente Principal 40</td>\n",
              "      <td>0.006393</td>\n",
              "      <td>0.779297</td>\n",
              "    </tr>\n",
              "    <tr>\n",
              "      <th>40</th>\n",
              "      <td>Componente Principal 41</td>\n",
              "      <td>0.006130</td>\n",
              "      <td>0.785427</td>\n",
              "    </tr>\n",
              "    <tr>\n",
              "      <th>41</th>\n",
              "      <td>Componente Principal 42</td>\n",
              "      <td>0.005931</td>\n",
              "      <td>0.791358</td>\n",
              "    </tr>\n",
              "    <tr>\n",
              "      <th>42</th>\n",
              "      <td>Componente Principal 43</td>\n",
              "      <td>0.005637</td>\n",
              "      <td>0.796995</td>\n",
              "    </tr>\n",
              "    <tr>\n",
              "      <th>43</th>\n",
              "      <td>Componente Principal 44</td>\n",
              "      <td>0.005538</td>\n",
              "      <td>0.802533</td>\n",
              "    </tr>\n",
              "    <tr>\n",
              "      <th>44</th>\n",
              "      <td>Componente Principal 45</td>\n",
              "      <td>0.005313</td>\n",
              "      <td>0.807847</td>\n",
              "    </tr>\n",
              "  </tbody>\n",
              "</table>\n",
              "</div>"
            ],
            "text/plain": [
              "       Componente principal  Varianza explicada  Varianza explicada acumulada\n",
              "0    Componente Principal 1            0.145776                      0.145776\n",
              "1    Componente Principal 2            0.060083                      0.205859\n",
              "2    Componente Principal 3            0.038473                      0.244332\n",
              "3    Componente Principal 4            0.035847                      0.280179\n",
              "4    Componente Principal 5            0.032712                      0.312891\n",
              "5    Componente Principal 6            0.027698                      0.340590\n",
              "6    Componente Principal 7            0.026423                      0.367013\n",
              "7    Componente Principal 8            0.023274                      0.390287\n",
              "8    Componente Principal 9            0.021032                      0.411319\n",
              "9   Componente Principal 10            0.020656                      0.431975\n",
              "10  Componente Principal 11            0.019581                      0.451556\n",
              "11  Componente Principal 12            0.019197                      0.470753\n",
              "12  Componente Principal 13            0.018316                      0.489069\n",
              "13  Componente Principal 14            0.016702                      0.505771\n",
              "14  Componente Principal 15            0.015973                      0.521744\n",
              "15  Componente Principal 16            0.015526                      0.537270\n",
              "16  Componente Principal 17            0.015162                      0.552432\n",
              "17  Componente Principal 18            0.014616                      0.567049\n",
              "18  Componente Principal 19            0.014456                      0.581505\n",
              "19  Componente Principal 20            0.013876                      0.595382\n",
              "20  Componente Principal 21            0.013072                      0.608453\n",
              "21  Componente Principal 22            0.012322                      0.620775\n",
              "22  Componente Principal 23            0.011671                      0.632447\n",
              "23  Componente Principal 24            0.011400                      0.643847\n",
              "24  Componente Principal 25            0.011058                      0.654904\n",
              "25  Componente Principal 26            0.010684                      0.665588\n",
              "26  Componente Principal 27            0.010441                      0.676029\n",
              "27  Componente Principal 28            0.010000                      0.686029\n",
              "28  Componente Principal 29            0.009494                      0.695523\n",
              "29  Componente Principal 30            0.009132                      0.704655\n",
              "30  Componente Principal 31            0.008813                      0.713468\n",
              "31  Componente Principal 32            0.008350                      0.721818\n",
              "32  Componente Principal 33            0.008049                      0.729867\n",
              "33  Componente Principal 34            0.007809                      0.737676\n",
              "34  Componente Principal 35            0.007506                      0.745182\n",
              "35  Componente Principal 36            0.007165                      0.752347\n",
              "36  Componente Principal 37            0.007051                      0.759398\n",
              "37  Componente Principal 38            0.006879                      0.766277\n",
              "38  Componente Principal 39            0.006627                      0.772904\n",
              "39  Componente Principal 40            0.006393                      0.779297\n",
              "40  Componente Principal 41            0.006130                      0.785427\n",
              "41  Componente Principal 42            0.005931                      0.791358\n",
              "42  Componente Principal 43            0.005637                      0.796995\n",
              "43  Componente Principal 44            0.005538                      0.802533\n",
              "44  Componente Principal 45            0.005313                      0.807847"
            ]
          },
          "metadata": {
            "tags": []
          },
          "execution_count": 146
        }
      ]
    },
    {
      "cell_type": "markdown",
      "metadata": {
        "id": "WeWxF85rLadi"
      },
      "source": [
        "Podemos observar que con 44 componentes principales se obtiene un 80% de la variabilidad explicada."
      ]
    },
    {
      "cell_type": "markdown",
      "metadata": {
        "id": "niCmq8iQOrB7"
      },
      "source": [
        "Una vez que hemos decidido con cuántas componentes principales nos vamos a quedar en cada caso, vamos a montar un pipeline para automatizar los procesos."
      ]
    },
    {
      "cell_type": "code",
      "metadata": {
        "id": "93oFKylbNWLM"
      },
      "source": [
        "pca_raw = PCA(k=25,inputCol='features_esc',outputCol='pca_features_raw_esc')\n",
        "pca_ohe = PCA(k=44,inputCol='features_ohe_esc',outputCol='pca_features_ohe_esc')\n",
        "pipeline_pca = Pipeline(stages=[pca_raw,pca_ohe])\n",
        "model_pca = pipeline_pca.fit(train)"
      ],
      "execution_count": null,
      "outputs": []
    },
    {
      "cell_type": "code",
      "metadata": {
        "id": "3cdezoyVN_Qc",
        "colab": {
          "base_uri": "https://localhost:8080/",
          "height": 153
        },
        "outputId": "4f105c7b-905f-48ba-9259-752957f39f8d"
      },
      "source": [
        "train_pca = model_pca.transform(train)\n",
        "train_pca.show(2)"
      ],
      "execution_count": null,
      "outputs": [
        {
          "output_type": "stream",
          "text": [
            "+---+--------------------+--------------------+------------------+--------------------+--------------------+--------------------+--------------------+\n",
            "| Id|        features_ohe|        features_raw|             label|    features_ohe_esc|        features_esc|pca_features_raw_esc|pca_features_ohe_esc|\n",
            "+---+--------------------+--------------------+------------------+--------------------+--------------------+--------------------+--------------------+\n",
            "|  1|(257,[0,1,2,3,4,5...|(77,[0,1,2,3,4,5,...|12.247694320220994|(257,[0,1,2,3,4,5...|(77,[0,1,2,3,4,5,...|[-1.1999303283311...|[-2.6965894834728...|\n",
            "|  2|(257,[0,1,2,3,4,5...|(77,[0,1,2,3,4,5,...|12.109010932687042|(257,[0,1,2,3,4,5...|(77,[0,1,2,3,4,5,...|[-0.8701377574017...|[-0.3331800054289...|\n",
            "+---+--------------------+--------------------+------------------+--------------------+--------------------+--------------------+--------------------+\n",
            "only showing top 2 rows\n",
            "\n"
          ],
          "name": "stdout"
        }
      ]
    },
    {
      "cell_type": "markdown",
      "metadata": {
        "id": "35zF0naUMb_o"
      },
      "source": [
        "Transformamos el conjunto de **validación** y el conjunto **test** con lo aprendido en el **train**."
      ]
    },
    {
      "cell_type": "code",
      "metadata": {
        "id": "_zq6WeMjOCOm",
        "colab": {
          "base_uri": "https://localhost:8080/",
          "height": 153
        },
        "outputId": "26709fa9-c3f5-4238-e65b-f7b4b83d4b2b"
      },
      "source": [
        "valid_pca = model_pca.transform(valid)\n",
        "valid_pca.show(2)"
      ],
      "execution_count": null,
      "outputs": [
        {
          "output_type": "stream",
          "text": [
            "+---+--------------------+--------------------+------------------+--------------------+--------------------+--------------------+--------------------+\n",
            "| Id|        features_ohe|        features_raw|             label|    features_ohe_esc|        features_esc|pca_features_raw_esc|pca_features_ohe_esc|\n",
            "+---+--------------------+--------------------+------------------+--------------------+--------------------+--------------------+--------------------+\n",
            "|  5|(257,[0,1,2,3,4,5...|(77,[0,1,2,3,4,5,...|12.429216196844383|(257,[0,1,2,3,4,5...|(77,[0,1,2,3,4,5,...|[-1.6565853306980...|[-3.1932218232872...|\n",
            "| 10|(257,[0,1,2,3,4,5...|(77,[0,1,2,3,4,5,...|11.678439903447801|(257,[0,1,2,3,4,5...|(77,[0,1,2,3,4,5,...|[-0.4820199714037...|[0.05015382182514...|\n",
            "+---+--------------------+--------------------+------------------+--------------------+--------------------+--------------------+--------------------+\n",
            "only showing top 2 rows\n",
            "\n"
          ],
          "name": "stdout"
        }
      ]
    },
    {
      "cell_type": "code",
      "metadata": {
        "id": "X2kH4Ot4YTmX",
        "colab": {
          "base_uri": "https://localhost:8080/",
          "height": 153
        },
        "outputId": "5973b1c2-0df1-4ad4-b268-8acd88069dbe"
      },
      "source": [
        "test_pca = model_pca.transform(data_test_ohe_esc)\n",
        "test_pca.show(2)"
      ],
      "execution_count": null,
      "outputs": [
        {
          "output_type": "stream",
          "text": [
            "+----+--------------------+--------------------+-----+--------------------+--------------------+--------------------+--------------------+\n",
            "|  Id|        features_ohe|        features_raw|label|    features_ohe_esc|        features_esc|pca_features_raw_esc|pca_features_ohe_esc|\n",
            "+----+--------------------+--------------------+-----+--------------------+--------------------+--------------------+--------------------+\n",
            "|1461|(257,[0,1,2,3,4,5...|(77,[0,1,2,3,4,5,...| null|(257,[0,1,2,3,4,5...|(77,[0,1,2,3,4,5,...|[-0.1708538296775...|[0.91640459245183...|\n",
            "|1462|(257,[0,1,2,3,4,5...|(77,[0,1,2,3,4,5,...| null|(257,[0,1,2,3,4,5...|(77,[0,1,2,3,4,5,...|[-0.6067441677346...|[0.32005059049221...|\n",
            "+----+--------------------+--------------------+-----+--------------------+--------------------+--------------------+--------------------+\n",
            "only showing top 2 rows\n",
            "\n"
          ],
          "name": "stdout"
        }
      ]
    },
    {
      "cell_type": "markdown",
      "metadata": {
        "id": "Au3WwziFnauI"
      },
      "source": [
        "### Selección de variables\n",
        "\n",
        "A continuación, vamos a seleccionar aquellas componentes principales que guardan relación con la variable respuesta **logSalePrice**. Para ello, utilizaremos la importancia de variables que nos da el **random forest**. Por tanto, vamos a construir dos modelos random forest, uno para raw y otro para one hot realizando previamente un ajuste de hiperparámetros mediante una validación cruzada con 5 pliegues."
      ]
    },
    {
      "cell_type": "code",
      "metadata": {
        "id": "7kDurQxxp5HI"
      },
      "source": [
        "rf_raw_sv = RandomForestRegressor(featuresCol='pca_features_raw_esc', predictionCol='pred_rf_raw_esc_sv', seed=global_seed)\n",
        "rf_ohe_sv = RandomForestRegressor(featuresCol='pca_features_ohe_esc', predictionCol='pred_rf_ohe_esc_sv', seed=global_seed)"
      ],
      "execution_count": null,
      "outputs": []
    },
    {
      "cell_type": "markdown",
      "metadata": {
        "id": "bSajFk9WqIi5"
      },
      "source": [
        "Definimos las **rejillas** de parámetros que vamos a utilizar."
      ]
    },
    {
      "cell_type": "code",
      "metadata": {
        "id": "4Ms8lYnPqM2W",
        "colab": {
          "base_uri": "https://localhost:8080/",
          "height": 292
        },
        "outputId": "e63c1c56-bc8a-4c83-e0b1-be07a13fdc08"
      },
      "source": [
        "print(rf_raw_sv.explainParams())"
      ],
      "execution_count": null,
      "outputs": [
        {
          "output_type": "stream",
          "text": [
            "cacheNodeIds: If false, the algorithm will pass trees to executors to match instances with nodes. If true, the algorithm will cache node IDs for each instance. Caching can speed up training of deeper trees. Users can set how often should the cache be checkpointed or disable it by setting checkpointInterval. (default: False)\n",
            "checkpointInterval: set checkpoint interval (>= 1) or disable checkpoint (-1). E.g. 10 means that the cache will get checkpointed every 10 iterations. Note: this setting will be ignored if the checkpoint directory is not set in the SparkContext. (default: 10)\n",
            "featureSubsetStrategy: The number of features to consider for splits at each tree node. Supported options: 'auto' (choose automatically for task: If numTrees == 1, set to 'all'. If numTrees > 1 (forest), set to 'sqrt' for classification and to 'onethird' for regression), 'all' (use all features), 'onethird' (use 1/3 of the features), 'sqrt' (use sqrt(number of features)), 'log2' (use log2(number of features)), 'n' (when n is in the range (0, 1.0], use n * number of features. When n is in the range (1, number of features), use n features). default = 'auto' (default: auto)\n",
            "featuresCol: features column name. (default: features, current: pca_features_raw_esc)\n",
            "impurity: Criterion used for information gain calculation (case-insensitive). Supported options: variance (default: variance)\n",
            "labelCol: label column name. (default: label)\n",
            "maxBins: Max number of bins for discretizing continuous features.  Must be >=2 and >= number of categories for any categorical feature. (default: 32)\n",
            "maxDepth: Maximum depth of the tree. (>= 0) E.g., depth 0 means 1 leaf node; depth 1 means 1 internal node + 2 leaf nodes. (default: 5)\n",
            "maxMemoryInMB: Maximum memory in MB allocated to histogram aggregation. If too small, then 1 node will be split per iteration, and its aggregates may exceed this size. (default: 256)\n",
            "minInfoGain: Minimum information gain for a split to be considered at a tree node. (default: 0.0)\n",
            "minInstancesPerNode: Minimum number of instances each child must have after split. If a split causes the left or right child to have fewer than minInstancesPerNode, the split will be discarded as invalid. Should be >= 1. (default: 1)\n",
            "numTrees: Number of trees to train (>= 1). (default: 20)\n",
            "predictionCol: prediction column name. (default: prediction, current: pred_rf_raw_esc_sv)\n",
            "seed: random seed. (default: -1785147589910876820, current: 99)\n",
            "subsamplingRate: Fraction of the training data used for learning each decision tree, in range (0, 1]. (default: 1.0)\n"
          ],
          "name": "stdout"
        }
      ]
    },
    {
      "cell_type": "code",
      "metadata": {
        "id": "o0NIqlZDqTYn",
        "colab": {
          "base_uri": "https://localhost:8080/",
          "height": 34
        },
        "outputId": "7cce1284-7011-4706-aaf5-0e0d16f939d7"
      },
      "source": [
        "paramGrid_raw_sv = ParamGridBuilder() \\\n",
        "    .addGrid(rf_raw_sv.maxDepth, [4, 5, 7]) \\\n",
        "    .addGrid(rf_raw_sv.numTrees, [10, 25, 50]) \\\n",
        "    .build()\n",
        "\n",
        "paramGrid_ohe_sv = ParamGridBuilder() \\\n",
        "    .addGrid(rf_ohe_sv.maxDepth, [4, 5, 7]) \\\n",
        "    .addGrid(rf_ohe_sv.numTrees, [10, 25, 50]) \\\n",
        "    .build()\n",
        "    \n",
        "len(paramGrid_raw_sv)\n",
        "len(paramGrid_ohe_sv)"
      ],
      "execution_count": null,
      "outputs": [
        {
          "output_type": "execute_result",
          "data": {
            "text/plain": [
              "9"
            ]
          },
          "metadata": {
            "tags": []
          },
          "execution_count": 153
        }
      ]
    },
    {
      "cell_type": "markdown",
      "metadata": {
        "id": "w0hRaeigubHp"
      },
      "source": [
        "Creamos ahora los objetos para la **validación cruzada**."
      ]
    },
    {
      "cell_type": "code",
      "metadata": {
        "id": "73phfr2uugQ4"
      },
      "source": [
        "crossval_rf_raw_sv = CrossValidator(estimator=rf_raw_sv,\n",
        "                          estimatorParamMaps=paramGrid_raw_sv,\n",
        "                          evaluator=RegressionEvaluator(predictionCol='pred_rf_raw_esc_sv',metricName='rmse'),\n",
        "                          numFolds=5, \n",
        "                          seed=global_seed)\n",
        "\n",
        "crossval_rf_ohe_sv = CrossValidator(estimator=rf_ohe_sv,\n",
        "                          estimatorParamMaps=paramGrid_ohe_sv,\n",
        "                          evaluator=RegressionEvaluator(predictionCol='pred_rf_ohe_esc_sv',metricName='rmse'),\n",
        "                          numFolds=5, \n",
        "                          seed=global_seed) "
      ],
      "execution_count": null,
      "outputs": []
    },
    {
      "cell_type": "markdown",
      "metadata": {
        "id": "ohLPYbuhul1a"
      },
      "source": [
        "Vamos a realizar el **ajuste de hiperparámetros** para ambos conjuntos de datos."
      ]
    },
    {
      "cell_type": "code",
      "metadata": {
        "id": "hIoV50zHuqK7",
        "colab": {
          "base_uri": "https://localhost:8080/",
          "height": 34
        },
        "outputId": "5c506711-7ed4-43be-aebf-10d1fd8e3d09"
      },
      "source": [
        "t0 = time()\n",
        "rf_raw_sv_cv_model = crossval_rf_raw_sv.fit(train_pca)\n",
        "tt = time() - t0\n",
        "print('Tiempo ajuste de parámetros {} sec.'.format(round(tt,2)))"
      ],
      "execution_count": null,
      "outputs": [
        {
          "output_type": "stream",
          "text": [
            "Tiempo ajuste de parámetros 124.6 sec.\n"
          ],
          "name": "stdout"
        }
      ]
    },
    {
      "cell_type": "code",
      "metadata": {
        "id": "FviEebgguvey",
        "colab": {
          "base_uri": "https://localhost:8080/",
          "height": 34
        },
        "outputId": "907ce4b1-d0d0-4e2e-c7f9-ba5adbf5a02c"
      },
      "source": [
        "t0 = time()\n",
        "rf_ohe_sv_cv_model = crossval_rf_ohe_sv.fit(train_pca)\n",
        "tt = time() - t0\n",
        "print('Tiempo ajuste de parámetros {} sec.'.format(round(tt,2)))"
      ],
      "execution_count": null,
      "outputs": [
        {
          "output_type": "stream",
          "text": [
            "Tiempo ajuste de parámetros 123.46 sec.\n"
          ],
          "name": "stdout"
        }
      ]
    },
    {
      "cell_type": "markdown",
      "metadata": {
        "id": "9M0XJFzfu1PE"
      },
      "source": [
        "Obtenemos el **mejor** modelo entrenado con sus hiperparámetros.\n",
        "* **rf_raw_model_sv**"
      ]
    },
    {
      "cell_type": "code",
      "metadata": {
        "id": "KYzDF0PBu5kw",
        "colab": {
          "base_uri": "https://localhost:8080/",
          "height": 105
        },
        "outputId": "8e88b7e3-a5b6-4ee7-f2b1-685eb6dcb03b"
      },
      "source": [
        "rf_raw_model_sv=rf_raw_sv_cv_model.bestModel\n",
        "dicc_params=rf_raw_model_sv.extractParamMap()\n",
        "[(param,dicc_params[param]) for param in dicc_params if param.name in ['maxDepth','numTrees']]"
      ],
      "execution_count": null,
      "outputs": [
        {
          "output_type": "execute_result",
          "data": {
            "text/plain": [
              "[(Param(parent='RandomForestRegressor_a91a78b926b4', name='maxDepth', doc='Maximum depth of the tree. (Nonnegative) E.g., depth 0 means 1 leaf node; depth 1 means 1 internal node + 2 leaf nodes.'),\n",
              "  7),\n",
              " (Param(parent='RandomForestRegressor_a91a78b926b4', name='numTrees', doc='Number of trees to train (at least 1)'),\n",
              "  50)]"
            ]
          },
          "metadata": {
            "tags": []
          },
          "execution_count": 157
        }
      ]
    },
    {
      "cell_type": "markdown",
      "metadata": {
        "id": "uiazJtErvByW"
      },
      "source": [
        "Los **mejores hiperparámetros** obtenidos son **maxDepth=7** y **numTrees=50**."
      ]
    },
    {
      "cell_type": "markdown",
      "metadata": {
        "id": "bCjgezMtvLQX"
      },
      "source": [
        "* **rf_ohe_model_sv**"
      ]
    },
    {
      "cell_type": "code",
      "metadata": {
        "id": "eDWgU0i5vKKs",
        "colab": {
          "base_uri": "https://localhost:8080/",
          "height": 105
        },
        "outputId": "ab68e139-d132-4579-dc65-60c3b0996fc9"
      },
      "source": [
        "rf_ohe_model_sv=rf_ohe_sv_cv_model.bestModel\n",
        "dicc_params=rf_ohe_model_sv.extractParamMap()\n",
        "[(param,dicc_params[param]) for param in dicc_params if param.name in ['maxDepth','numTrees']]"
      ],
      "execution_count": null,
      "outputs": [
        {
          "output_type": "execute_result",
          "data": {
            "text/plain": [
              "[(Param(parent='RandomForestRegressor_e60ab2734da8', name='maxDepth', doc='Maximum depth of the tree. (Nonnegative) E.g., depth 0 means 1 leaf node; depth 1 means 1 internal node + 2 leaf nodes.'),\n",
              "  7),\n",
              " (Param(parent='RandomForestRegressor_e60ab2734da8', name='numTrees', doc='Number of trees to train (at least 1)'),\n",
              "  50)]"
            ]
          },
          "metadata": {
            "tags": []
          },
          "execution_count": 158
        }
      ]
    },
    {
      "cell_type": "markdown",
      "metadata": {
        "id": "BH7m6Y3BvVbB"
      },
      "source": [
        "Los **mejores hiperparámetros** obtenidos son **maxDepth=7** y **numTrees=50**."
      ]
    },
    {
      "cell_type": "markdown",
      "metadata": {
        "id": "a6HJrpQovavQ"
      },
      "source": [
        "Veamos ahora la **importancia** de las variables en cada modelo."
      ]
    },
    {
      "cell_type": "markdown",
      "metadata": {
        "id": "PHK_V9YpvqyL"
      },
      "source": [
        "* **rf_raw_model_sv**"
      ]
    },
    {
      "cell_type": "code",
      "metadata": {
        "id": "McxI2ARFvmHW",
        "colab": {
          "base_uri": "https://localhost:8080/",
          "height": 669
        },
        "outputId": "836a465d-6abe-47eb-a594-0de6f7fcd4e4"
      },
      "source": [
        "rf_fi = pd.DataFrame({'feature': nombres[:25] , \n",
        "                      'importance_rf_raw': rf_raw_model_sv.featureImportances.toArray(),\n",
        "                      })\n",
        "rf_fi.sort_values(by='importance_rf_raw', ascending=False).head(20)"
      ],
      "execution_count": null,
      "outputs": [
        {
          "output_type": "execute_result",
          "data": {
            "text/html": [
              "<div>\n",
              "<style scoped>\n",
              "    .dataframe tbody tr th:only-of-type {\n",
              "        vertical-align: middle;\n",
              "    }\n",
              "\n",
              "    .dataframe tbody tr th {\n",
              "        vertical-align: top;\n",
              "    }\n",
              "\n",
              "    .dataframe thead th {\n",
              "        text-align: right;\n",
              "    }\n",
              "</style>\n",
              "<table border=\"1\" class=\"dataframe\">\n",
              "  <thead>\n",
              "    <tr style=\"text-align: right;\">\n",
              "      <th></th>\n",
              "      <th>feature</th>\n",
              "      <th>importance_rf_raw</th>\n",
              "    </tr>\n",
              "  </thead>\n",
              "  <tbody>\n",
              "    <tr>\n",
              "      <th>0</th>\n",
              "      <td>Componente Principal 1</td>\n",
              "      <td>0.620743</td>\n",
              "    </tr>\n",
              "    <tr>\n",
              "      <th>1</th>\n",
              "      <td>Componente Principal 2</td>\n",
              "      <td>0.061169</td>\n",
              "    </tr>\n",
              "    <tr>\n",
              "      <th>3</th>\n",
              "      <td>Componente Principal 4</td>\n",
              "      <td>0.043945</td>\n",
              "    </tr>\n",
              "    <tr>\n",
              "      <th>2</th>\n",
              "      <td>Componente Principal 3</td>\n",
              "      <td>0.039509</td>\n",
              "    </tr>\n",
              "    <tr>\n",
              "      <th>5</th>\n",
              "      <td>Componente Principal 6</td>\n",
              "      <td>0.031751</td>\n",
              "    </tr>\n",
              "    <tr>\n",
              "      <th>4</th>\n",
              "      <td>Componente Principal 5</td>\n",
              "      <td>0.025013</td>\n",
              "    </tr>\n",
              "    <tr>\n",
              "      <th>14</th>\n",
              "      <td>Componente Principal 15</td>\n",
              "      <td>0.014852</td>\n",
              "    </tr>\n",
              "    <tr>\n",
              "      <th>8</th>\n",
              "      <td>Componente Principal 9</td>\n",
              "      <td>0.014626</td>\n",
              "    </tr>\n",
              "    <tr>\n",
              "      <th>15</th>\n",
              "      <td>Componente Principal 16</td>\n",
              "      <td>0.014350</td>\n",
              "    </tr>\n",
              "    <tr>\n",
              "      <th>19</th>\n",
              "      <td>Componente Principal 20</td>\n",
              "      <td>0.013478</td>\n",
              "    </tr>\n",
              "    <tr>\n",
              "      <th>22</th>\n",
              "      <td>Componente Principal 23</td>\n",
              "      <td>0.012772</td>\n",
              "    </tr>\n",
              "    <tr>\n",
              "      <th>18</th>\n",
              "      <td>Componente Principal 19</td>\n",
              "      <td>0.010929</td>\n",
              "    </tr>\n",
              "    <tr>\n",
              "      <th>6</th>\n",
              "      <td>Componente Principal 7</td>\n",
              "      <td>0.008838</td>\n",
              "    </tr>\n",
              "    <tr>\n",
              "      <th>12</th>\n",
              "      <td>Componente Principal 13</td>\n",
              "      <td>0.008755</td>\n",
              "    </tr>\n",
              "    <tr>\n",
              "      <th>17</th>\n",
              "      <td>Componente Principal 18</td>\n",
              "      <td>0.008669</td>\n",
              "    </tr>\n",
              "    <tr>\n",
              "      <th>11</th>\n",
              "      <td>Componente Principal 12</td>\n",
              "      <td>0.008437</td>\n",
              "    </tr>\n",
              "    <tr>\n",
              "      <th>7</th>\n",
              "      <td>Componente Principal 8</td>\n",
              "      <td>0.007969</td>\n",
              "    </tr>\n",
              "    <tr>\n",
              "      <th>10</th>\n",
              "      <td>Componente Principal 11</td>\n",
              "      <td>0.007864</td>\n",
              "    </tr>\n",
              "    <tr>\n",
              "      <th>23</th>\n",
              "      <td>Componente Principal 24</td>\n",
              "      <td>0.007657</td>\n",
              "    </tr>\n",
              "    <tr>\n",
              "      <th>21</th>\n",
              "      <td>Componente Principal 22</td>\n",
              "      <td>0.007340</td>\n",
              "    </tr>\n",
              "  </tbody>\n",
              "</table>\n",
              "</div>"
            ],
            "text/plain": [
              "                    feature  importance_rf_raw\n",
              "0    Componente Principal 1           0.620743\n",
              "1    Componente Principal 2           0.061169\n",
              "3    Componente Principal 4           0.043945\n",
              "2    Componente Principal 3           0.039509\n",
              "5    Componente Principal 6           0.031751\n",
              "4    Componente Principal 5           0.025013\n",
              "14  Componente Principal 15           0.014852\n",
              "8    Componente Principal 9           0.014626\n",
              "15  Componente Principal 16           0.014350\n",
              "19  Componente Principal 20           0.013478\n",
              "22  Componente Principal 23           0.012772\n",
              "18  Componente Principal 19           0.010929\n",
              "6    Componente Principal 7           0.008838\n",
              "12  Componente Principal 13           0.008755\n",
              "17  Componente Principal 18           0.008669\n",
              "11  Componente Principal 12           0.008437\n",
              "7    Componente Principal 8           0.007969\n",
              "10  Componente Principal 11           0.007864\n",
              "23  Componente Principal 24           0.007657\n",
              "21  Componente Principal 22           0.007340"
            ]
          },
          "metadata": {
            "tags": []
          },
          "execution_count": 159
        }
      ]
    },
    {
      "cell_type": "markdown",
      "metadata": {
        "id": "gaCaLI-AxZ1Z"
      },
      "source": [
        "Podemos observar que la variable más importante es la **componente principal 1**. Por otra parte, observamos que hay bastantes variables con una importancia menor que 0.01. Por tanto, nos vamos a quedar en este caso con las siguientes componentes:\n",
        "\n",
        "* Componente principal 1\n",
        "* Componente principal 2\n",
        "* Componente principal 4\n",
        "* Componente principal 3\n",
        "* Componente principal 6\n",
        "* Componente principal 5\n",
        "* Componente principal 15\n",
        "* Componente principal 9\n",
        "* Componente principal 16\n",
        "* Componente principal 20\n",
        "* Componente principal 23\n",
        "* Componente principal 19"
      ]
    },
    {
      "cell_type": "markdown",
      "metadata": {
        "id": "Ba2Tu1AOyoZ-"
      },
      "source": [
        "* **rf_ohe_model_sv**"
      ]
    },
    {
      "cell_type": "code",
      "metadata": {
        "id": "vP96rsYbys7l",
        "colab": {
          "base_uri": "https://localhost:8080/",
          "height": 669
        },
        "outputId": "ae89696e-6238-4e3b-c058-dc5ded530b25"
      },
      "source": [
        "rf_fi_ohe = pd.DataFrame({'feature': nombres_ohe[:44] , \n",
        "                      'importance_rf_ohe': rf_ohe_model_sv.featureImportances.toArray(),\n",
        "                      })\n",
        "rf_fi_ohe.sort_values(by='importance_rf_ohe', ascending=False).head(20)"
      ],
      "execution_count": null,
      "outputs": [
        {
          "output_type": "execute_result",
          "data": {
            "text/html": [
              "<div>\n",
              "<style scoped>\n",
              "    .dataframe tbody tr th:only-of-type {\n",
              "        vertical-align: middle;\n",
              "    }\n",
              "\n",
              "    .dataframe tbody tr th {\n",
              "        vertical-align: top;\n",
              "    }\n",
              "\n",
              "    .dataframe thead th {\n",
              "        text-align: right;\n",
              "    }\n",
              "</style>\n",
              "<table border=\"1\" class=\"dataframe\">\n",
              "  <thead>\n",
              "    <tr style=\"text-align: right;\">\n",
              "      <th></th>\n",
              "      <th>feature</th>\n",
              "      <th>importance_rf_ohe</th>\n",
              "    </tr>\n",
              "  </thead>\n",
              "  <tbody>\n",
              "    <tr>\n",
              "      <th>0</th>\n",
              "      <td>Componente Principal 1</td>\n",
              "      <td>0.463378</td>\n",
              "    </tr>\n",
              "    <tr>\n",
              "      <th>3</th>\n",
              "      <td>Componente Principal 4</td>\n",
              "      <td>0.141026</td>\n",
              "    </tr>\n",
              "    <tr>\n",
              "      <th>1</th>\n",
              "      <td>Componente Principal 2</td>\n",
              "      <td>0.058915</td>\n",
              "    </tr>\n",
              "    <tr>\n",
              "      <th>2</th>\n",
              "      <td>Componente Principal 3</td>\n",
              "      <td>0.050804</td>\n",
              "    </tr>\n",
              "    <tr>\n",
              "      <th>5</th>\n",
              "      <td>Componente Principal 6</td>\n",
              "      <td>0.018997</td>\n",
              "    </tr>\n",
              "    <tr>\n",
              "      <th>25</th>\n",
              "      <td>Componente Principal 26</td>\n",
              "      <td>0.016906</td>\n",
              "    </tr>\n",
              "    <tr>\n",
              "      <th>31</th>\n",
              "      <td>Componente Principal 32</td>\n",
              "      <td>0.016462</td>\n",
              "    </tr>\n",
              "    <tr>\n",
              "      <th>6</th>\n",
              "      <td>Componente Principal 7</td>\n",
              "      <td>0.014978</td>\n",
              "    </tr>\n",
              "    <tr>\n",
              "      <th>15</th>\n",
              "      <td>Componente Principal 16</td>\n",
              "      <td>0.011754</td>\n",
              "    </tr>\n",
              "    <tr>\n",
              "      <th>7</th>\n",
              "      <td>Componente Principal 8</td>\n",
              "      <td>0.011125</td>\n",
              "    </tr>\n",
              "    <tr>\n",
              "      <th>32</th>\n",
              "      <td>Componente Principal 33</td>\n",
              "      <td>0.011093</td>\n",
              "    </tr>\n",
              "    <tr>\n",
              "      <th>27</th>\n",
              "      <td>Componente Principal 28</td>\n",
              "      <td>0.010874</td>\n",
              "    </tr>\n",
              "    <tr>\n",
              "      <th>43</th>\n",
              "      <td>Componente Principal 44</td>\n",
              "      <td>0.010251</td>\n",
              "    </tr>\n",
              "    <tr>\n",
              "      <th>28</th>\n",
              "      <td>Componente Principal 29</td>\n",
              "      <td>0.008820</td>\n",
              "    </tr>\n",
              "    <tr>\n",
              "      <th>8</th>\n",
              "      <td>Componente Principal 9</td>\n",
              "      <td>0.008598</td>\n",
              "    </tr>\n",
              "    <tr>\n",
              "      <th>41</th>\n",
              "      <td>Componente Principal 42</td>\n",
              "      <td>0.008319</td>\n",
              "    </tr>\n",
              "    <tr>\n",
              "      <th>29</th>\n",
              "      <td>Componente Principal 30</td>\n",
              "      <td>0.008233</td>\n",
              "    </tr>\n",
              "    <tr>\n",
              "      <th>9</th>\n",
              "      <td>Componente Principal 10</td>\n",
              "      <td>0.007717</td>\n",
              "    </tr>\n",
              "    <tr>\n",
              "      <th>42</th>\n",
              "      <td>Componente Principal 43</td>\n",
              "      <td>0.007294</td>\n",
              "    </tr>\n",
              "    <tr>\n",
              "      <th>22</th>\n",
              "      <td>Componente Principal 23</td>\n",
              "      <td>0.007286</td>\n",
              "    </tr>\n",
              "  </tbody>\n",
              "</table>\n",
              "</div>"
            ],
            "text/plain": [
              "                    feature  importance_rf_ohe\n",
              "0    Componente Principal 1           0.463378\n",
              "3    Componente Principal 4           0.141026\n",
              "1    Componente Principal 2           0.058915\n",
              "2    Componente Principal 3           0.050804\n",
              "5    Componente Principal 6           0.018997\n",
              "25  Componente Principal 26           0.016906\n",
              "31  Componente Principal 32           0.016462\n",
              "6    Componente Principal 7           0.014978\n",
              "15  Componente Principal 16           0.011754\n",
              "7    Componente Principal 8           0.011125\n",
              "32  Componente Principal 33           0.011093\n",
              "27  Componente Principal 28           0.010874\n",
              "43  Componente Principal 44           0.010251\n",
              "28  Componente Principal 29           0.008820\n",
              "8    Componente Principal 9           0.008598\n",
              "41  Componente Principal 42           0.008319\n",
              "29  Componente Principal 30           0.008233\n",
              "9   Componente Principal 10           0.007717\n",
              "42  Componente Principal 43           0.007294\n",
              "22  Componente Principal 23           0.007286"
            ]
          },
          "metadata": {
            "tags": []
          },
          "execution_count": 160
        }
      ]
    },
    {
      "cell_type": "markdown",
      "metadata": {
        "id": "CV-fhxFqzBz5"
      },
      "source": [
        "En este caso, aunque la variable más importante es la primera, ha perdido importancia. Por otra parte, observamos que sigue habiendo bastantes variables con una importancia menor que 0.01. Por tanto, nos vamos a quedar en este caso con las siguientes componentes:\n",
        "\n",
        "* Componente principal 1\n",
        "* Componente principal 4\n",
        "* Componente principal 2\n",
        "* Componente principal 3\n",
        "* Componente principal 6\n",
        "* Componente principal 26\n",
        "* Componente principal 32\n",
        "* Componente principal 7\n",
        "* Componente principal 16\n",
        "* Componente principal 8\n",
        "* Componente principal 33\n",
        "* Componente principal 28\n",
        "* Componente principal 44\n",
        "\n"
      ]
    },
    {
      "cell_type": "markdown",
      "metadata": {
        "id": "weNLQPH5zrTL"
      },
      "source": [
        "Procedemos entonces a realizar la **selección** que hemos decidido en cada caso."
      ]
    },
    {
      "cell_type": "code",
      "metadata": {
        "id": "dT8u2wkdWLhx",
        "colab": {
          "base_uri": "https://localhost:8080/",
          "height": 425
        },
        "outputId": "88cc8a7b-d7e9-44bb-f8e5-f669546935d2"
      },
      "source": [
        "#Lista donde guardamos los dataframes construidos en el bucle posterior\n",
        "df_sv=[]\n",
        "\n",
        "#Creamos una lista con las componentes que vamos a seleccionar y a continuación\n",
        "#las posiciones a las que le corresponden.\n",
        "cp_raw=[1,2,4,3,6,5,15,9,16,20,23,19]\n",
        "pos_raw=[elemento-1 for elemento in cp_raw]\n",
        "cp_ohe=[1,4,2,3,6,26,32,7,16,8,33,28,44]\n",
        "pos_ohe=[elemento-1 for elemento in cp_ohe]\n",
        "\n",
        "for df in [train_pca,valid_pca,test_pca]:\n",
        "      #Creamos una dataframe seleccionando las componentes que necesitamos\n",
        "      #y quedándonos con las columnas que necesitamos exclusivamente para los\n",
        "      #modelos  que realizaremos a continuación.\n",
        "      if df==test_pca:\n",
        "        df_select = df.select('Id', 'pca_features_raw_esc','pca_features_ohe_esc')\n",
        "        df_new = df_select.rdd \\\n",
        "                  .map(lambda row:Row(Id=row.Id, \\\n",
        "                                    pca_sv_features_raw_esc=DenseVector(row.pca_features_raw_esc[pos_raw]), \\\n",
        "                                    pca_sv_features_ohe_esc=DenseVector(row.pca_features_ohe_esc[pos_ohe]))).toDF()\n",
        "      else: \n",
        "        df_select = df.select('Id','label','pca_features_raw_esc','pca_features_ohe_esc')\n",
        "        df_new = df_select.rdd \\\n",
        "                  .map(lambda row:Row(Id=row.Id, \\\n",
        "                                    label=row.label, \\\n",
        "                                    pca_sv_features_raw_esc=DenseVector(row.pca_features_raw_esc[pos_raw]), \\\n",
        "                                    pca_sv_features_ohe_esc=DenseVector(row.pca_features_ohe_esc[pos_ohe]))).toDF()\n",
        "      df_sv.append(df_new)\n",
        "      \n",
        "#Denominamos cada dataframe obtenido.\n",
        "train_pca_sv=df_sv[0] \n",
        "valid_pca_sv=df_sv[1]\n",
        "test_pca_sv=df_sv[2]\n",
        "train_pca_sv.show(2)\n",
        "valid_pca_sv.show(2)\n",
        "test_pca_sv.show(2)"
      ],
      "execution_count": null,
      "outputs": [
        {
          "output_type": "stream",
          "text": [
            "+---+------------------+-----------------------+-----------------------+\n",
            "| Id|             label|pca_sv_features_ohe_esc|pca_sv_features_raw_esc|\n",
            "+---+------------------+-----------------------+-----------------------+\n",
            "|  1|12.247694320220994|   [-2.6965894834728...|   [-1.1999303283311...|\n",
            "|  2|12.109010932687042|   [-0.3331800054289...|   [-0.8701377574017...|\n",
            "+---+------------------+-----------------------+-----------------------+\n",
            "only showing top 2 rows\n",
            "\n",
            "+---+------------------+-----------------------+-----------------------+\n",
            "| Id|             label|pca_sv_features_ohe_esc|pca_sv_features_raw_esc|\n",
            "+---+------------------+-----------------------+-----------------------+\n",
            "|  5|12.429216196844383|   [-3.1932218232872...|   [-1.6565853306980...|\n",
            "| 10|11.678439903447801|   [0.05015382182514...|   [-0.4820199714037...|\n",
            "+---+------------------+-----------------------+-----------------------+\n",
            "only showing top 2 rows\n",
            "\n",
            "+----+-----------------------+-----------------------+\n",
            "|  Id|pca_sv_features_ohe_esc|pca_sv_features_raw_esc|\n",
            "+----+-----------------------+-----------------------+\n",
            "|1461|   [0.91640459245183...|   [-0.1708538296775...|\n",
            "|1462|   [0.32005059049221...|   [-0.6067441677346...|\n",
            "+----+-----------------------+-----------------------+\n",
            "only showing top 2 rows\n",
            "\n"
          ],
          "name": "stdout"
        }
      ]
    },
    {
      "cell_type": "markdown",
      "metadata": {
        "id": "ZX01f8sMkABb"
      },
      "source": [
        "### LinearRegression\n",
        "\n",
        "Vamos a comenzar creando el **estimador** de un modelo lineal múltiple."
      ]
    },
    {
      "cell_type": "code",
      "metadata": {
        "id": "AmVUdc_-k55o"
      },
      "source": [
        "lm_ohe= LinearRegression(featuresCol='pca_sv_features_ohe_esc',labelCol='label',\n",
        "                         predictionCol='pred_lm_ohe_esc',\n",
        "                         standardization=False)"
      ],
      "execution_count": null,
      "outputs": []
    },
    {
      "cell_type": "code",
      "metadata": {
        "id": "02FiOyGzmnTp",
        "colab": {
          "base_uri": "https://localhost:8080/",
          "height": 275
        },
        "outputId": "97dd423e-9a18-498e-8d4a-6ad9872ca798"
      },
      "source": [
        "print(lm_ohe.explainParams())"
      ],
      "execution_count": null,
      "outputs": [
        {
          "output_type": "stream",
          "text": [
            "aggregationDepth: suggested depth for treeAggregate (>= 2). (default: 2)\n",
            "elasticNetParam: the ElasticNet mixing parameter, in range [0, 1]. For alpha = 0, the penalty is an L2 penalty. For alpha = 1, it is an L1 penalty. (default: 0.0)\n",
            "epsilon: The shape parameter to control the amount of robustness. Must be > 1.0. Only valid when loss is huber (default: 1.35)\n",
            "featuresCol: features column name. (default: features, current: pca_sv_features_ohe_esc)\n",
            "fitIntercept: whether to fit an intercept term. (default: True)\n",
            "labelCol: label column name. (default: label, current: label)\n",
            "loss: The loss function to be optimized. Supported options: squaredError, huber. (default: squaredError)\n",
            "maxIter: max number of iterations (>= 0). (default: 100)\n",
            "predictionCol: prediction column name. (default: prediction, current: pred_lm_ohe_esc)\n",
            "regParam: regularization parameter (>= 0). (default: 0.0)\n",
            "solver: The solver algorithm for optimization. Supported options: auto, normal, l-bfgs. (default: auto)\n",
            "standardization: whether to standardize the training features before fitting the model. (default: True, current: False)\n",
            "tol: the convergence tolerance for iterative algorithms (>= 0). (default: 1e-06)\n",
            "weightCol: weight column name. If this is not set or empty, we treat all instance weights as 1.0. (undefined)\n"
          ],
          "name": "stdout"
        }
      ]
    },
    {
      "cell_type": "markdown",
      "metadata": {
        "id": "vnUpHmpzffBN"
      },
      "source": [
        "Antes de ajustar el modelo, vamos a realizar un **ajuste de hiperparámetros** mediante validación cruzada con 5 pliegues. Por tanto, comenzamos definiendo la **rejilla** de valores de los hiperparámetros."
      ]
    },
    {
      "cell_type": "code",
      "metadata": {
        "id": "i068Z2WsfV47"
      },
      "source": [
        "paramGrid_lm_ohe = ParamGridBuilder() \\\n",
        "        .addGrid(lm_ohe.maxIter, [25,50,100,150,200]) \\\n",
        "        .addGrid(lm_ohe.elasticNetParam, [0,0.001,0.01,0.1,1]) \\\n",
        "        .build()\n",
        "    \n",
        "len(paramGrid_lm_ohe)"
      ],
      "execution_count": null,
      "outputs": []
    },
    {
      "cell_type": "markdown",
      "metadata": {
        "id": "dTngjCR3mKw3"
      },
      "source": [
        "Creamos el objeto para la **validación cruzada**."
      ]
    },
    {
      "cell_type": "code",
      "metadata": {
        "id": "DKXiYtHYmQ6m",
        "colab": {
          "base_uri": "https://localhost:8080/",
          "height": 34
        },
        "outputId": "4b794d1f-5dff-4d85-883d-faf80bb2c931"
      },
      "source": [
        "crossval_lm_ohe = CrossValidator(estimator=lm_ohe,\n",
        "                          estimatorParamMaps=paramGrid_lm_ohe,\n",
        "                          evaluator=RegressionEvaluator(predictionCol='pred_lm_ohe_esc',metricName='rmse'),\n",
        "                          numFolds=5, \n",
        "                          seed=global_seed) \n",
        "crossval_lm_ohe"
      ],
      "execution_count": null,
      "outputs": [
        {
          "output_type": "execute_result",
          "data": {
            "text/plain": [
              "CrossValidator_0e50c884915d"
            ]
          },
          "metadata": {
            "tags": []
          },
          "execution_count": 175
        }
      ]
    },
    {
      "cell_type": "code",
      "metadata": {
        "id": "ffdkeE_qmm5Z",
        "colab": {
          "base_uri": "https://localhost:8080/",
          "height": 34
        },
        "outputId": "c7bd3184-cd19-4419-9b03-89e915d7174d"
      },
      "source": [
        "t0 = time()\n",
        "lm_ohe_cv_model = crossval_lm_ohe.fit(train_pca_sv)\n",
        "tt = time() - t0\n",
        "print('Tiempo ajuste de parámetros {} sec.'.format(round(tt,2)))"
      ],
      "execution_count": null,
      "outputs": [
        {
          "output_type": "stream",
          "text": [
            "Tiempo ajuste de parámetros 59.88 sec.\n"
          ],
          "name": "stdout"
        }
      ]
    },
    {
      "cell_type": "markdown",
      "metadata": {
        "id": "4fhigQfnmny9"
      },
      "source": [
        "Obtenemos el **mejor** modelo entrenado."
      ]
    },
    {
      "cell_type": "code",
      "metadata": {
        "id": "0jeD5bvBo2uR",
        "colab": {
          "base_uri": "https://localhost:8080/",
          "height": 105
        },
        "outputId": "bd5e8615-fcc5-408d-82f9-52551f3beb3a"
      },
      "source": [
        "lm_ohe_model=lm_ohe_cv_model.bestModel\n",
        "dicc_params=lm_ohe_model.extractParamMap()\n",
        "[(param,dicc_params[param]) for param in dicc_params if param.name in ['maxIter','elasticNetParam']]"
      ],
      "execution_count": null,
      "outputs": [
        {
          "output_type": "execute_result",
          "data": {
            "text/plain": [
              "[(Param(parent='LinearRegression_476d389ae5b5', name='elasticNetParam', doc='the ElasticNet mixing parameter, in range [0, 1]. For alpha = 0, the penalty is an L2 penalty. For alpha = 1, it is an L1 penalty'),\n",
              "  0.0),\n",
              " (Param(parent='LinearRegression_476d389ae5b5', name='maxIter', doc='maximum number of iterations (>= 0)'),\n",
              "  25)]"
            ]
          },
          "metadata": {
            "tags": []
          },
          "execution_count": 178
        }
      ]
    },
    {
      "cell_type": "markdown",
      "metadata": {
        "id": "2qr9Dmx5pnkn"
      },
      "source": [
        "Hemos obtenido que los **mejores hiperparámetros** son **elasticNetParam=0** y **maxIter=25**. A continuación, sacamos del modelo los **coeficientes** y el **intercept** aprendidos."
      ]
    },
    {
      "cell_type": "code",
      "metadata": {
        "id": "WY-FocT7uN5J",
        "colab": {
          "base_uri": "https://localhost:8080/",
          "height": 71
        },
        "outputId": "a62f593c-ee1a-4489-9dea-961c2685d4d8"
      },
      "source": [
        "print(\"Coefficients: \" + str(lm_ohe_model.coefficients))\n",
        "print(\"Intercept: \" + str(lm_ohe_model.intercept))"
      ],
      "execution_count": null,
      "outputs": [
        {
          "output_type": "stream",
          "text": [
            "Coefficients: [-0.18743723726087058,0.16189877079422657,0.0899527083529364,0.05331212782036111,0.007522672318354187,0.09275673393317525,0.05963292053536751,0.08584340121186171,0.00046509544315560483,-0.0042019425460782635,-0.07706716784607398,0.09264701278156343,0.10015288357524907]\n",
            "Intercept: 11.806675389257942\n"
          ],
          "name": "stdout"
        }
      ]
    },
    {
      "cell_type": "markdown",
      "metadata": {
        "id": "MXHBXACqnWBC"
      },
      "source": [
        "Por último, **predecimos** sobre el conjunto de **validación** y calculamos el **rsme** obtenido."
      ]
    },
    {
      "cell_type": "code",
      "metadata": {
        "id": "4jfCNKEtnbB6",
        "colab": {
          "base_uri": "https://localhost:8080/",
          "height": 153
        },
        "outputId": "49ffe47f-8421-4ea6-8ef1-74f0b5aa9d9b"
      },
      "source": [
        "pred_lm_ohe=lm_ohe_model.transform(valid_pca_sv)\n",
        "pred_lm_ohe.show(2)"
      ],
      "execution_count": null,
      "outputs": [
        {
          "output_type": "stream",
          "text": [
            "+---+------------------+-----------------------+-----------------------+------------------+\n",
            "| Id|             label|pca_sv_features_ohe_esc|pca_sv_features_raw_esc|   pred_lm_ohe_esc|\n",
            "+---+------------------+-----------------------+-----------------------+------------------+\n",
            "|  5|12.429216196844383|   [-3.1932218232872...|   [-1.6565853306980...|12.572979058980977|\n",
            "| 10|11.678439903447801|   [0.05015382182514...|   [-0.4820199714037...| 11.91175099255379|\n",
            "+---+------------------+-----------------------+-----------------------+------------------+\n",
            "only showing top 2 rows\n",
            "\n"
          ],
          "name": "stdout"
        }
      ]
    },
    {
      "cell_type": "code",
      "metadata": {
        "id": "5cg1o_BjoVZN",
        "colab": {
          "base_uri": "https://localhost:8080/",
          "height": 34
        },
        "outputId": "911b954a-22f2-436a-d380-03652a94c07e"
      },
      "source": [
        "evaluator_lm = RegressionEvaluator(predictionCol='pred_lm_ohe_esc', labelCol='label', metricName='rmse')\n",
        "rmse_lm = evaluator_lm.evaluate(pred_lm_ohe)\n",
        "rmse_lm"
      ],
      "execution_count": null,
      "outputs": [
        {
          "output_type": "execute_result",
          "data": {
            "text/plain": [
              "0.2180941640236179"
            ]
          },
          "metadata": {
            "tags": []
          },
          "execution_count": 181
        }
      ]
    },
    {
      "cell_type": "markdown",
      "metadata": {
        "id": "UItmEpXmh6Rt"
      },
      "source": [
        "Vamos a obtener el coeficiente de determinación **r^2** y el **r^2 ajustado**."
      ]
    },
    {
      "cell_type": "code",
      "metadata": {
        "id": "GoFqeqLQsrv7"
      },
      "source": [
        "evaluator_summary=lm_ohe_model.evaluate(valid_pca_sv)"
      ],
      "execution_count": null,
      "outputs": []
    },
    {
      "cell_type": "code",
      "metadata": {
        "id": "vV-bH6GQiJKy",
        "colab": {
          "base_uri": "https://localhost:8080/",
          "height": 34
        },
        "outputId": "7cc62a27-d28b-4a38-e1f0-c96842bb08f2"
      },
      "source": [
        "evaluator_summary.r2"
      ],
      "execution_count": null,
      "outputs": [
        {
          "output_type": "execute_result",
          "data": {
            "text/plain": [
              "0.7614616419471585"
            ]
          },
          "metadata": {
            "tags": []
          },
          "execution_count": 183
        }
      ]
    },
    {
      "cell_type": "code",
      "metadata": {
        "id": "P4-TluxRiI8Z",
        "colab": {
          "base_uri": "https://localhost:8080/",
          "height": 34
        },
        "outputId": "71ee361b-fb3e-4c5e-d710-8100f4c2421d"
      },
      "source": [
        "evaluator_summary.r2adj"
      ],
      "execution_count": null,
      "outputs": [
        {
          "output_type": "execute_result",
          "data": {
            "text/plain": [
              "0.7497597602313587"
            ]
          },
          "metadata": {
            "tags": []
          },
          "execution_count": 184
        }
      ]
    },
    {
      "cell_type": "markdown",
      "metadata": {
        "id": "pm5XX5NlugAD"
      },
      "source": [
        "Observamos que el modelo lineal obtenido se puede decir que es bueno aunque bastante mejorable."
      ]
    },
    {
      "cell_type": "markdown",
      "metadata": {
        "id": "yrty6AKNpRVi"
      },
      "source": [
        "Podemos también obtener a partir de ***evaluator_summary*** el rmse."
      ]
    },
    {
      "cell_type": "code",
      "metadata": {
        "id": "VmKMPGnUiItt",
        "colab": {
          "base_uri": "https://localhost:8080/",
          "height": 34
        },
        "outputId": "57506423-3946-47bd-a49c-4c9da1eb2718"
      },
      "source": [
        "evaluator_summary.rootMeanSquaredError"
      ],
      "execution_count": null,
      "outputs": [
        {
          "output_type": "execute_result",
          "data": {
            "text/plain": [
              "0.2180941640236179"
            ]
          },
          "metadata": {
            "tags": []
          },
          "execution_count": 185
        }
      ]
    },
    {
      "cell_type": "markdown",
      "metadata": {
        "id": "6eU4N6_Heiuo"
      },
      "source": [
        "Vamos ahora a calcular todas estas medidas sobre el **train** para observar si se está produciendo infraajuste o sobreajuste."
      ]
    },
    {
      "cell_type": "code",
      "metadata": {
        "id": "SnMRd2wDegA7"
      },
      "source": [
        "evaluator_summary_train=lm_ohe_model.evaluate(train_pca_sv)"
      ],
      "execution_count": null,
      "outputs": []
    },
    {
      "cell_type": "code",
      "metadata": {
        "id": "38x-Q0BwewRf",
        "colab": {
          "base_uri": "https://localhost:8080/",
          "height": 34
        },
        "outputId": "2c12db29-a52f-427d-88c9-892601f3b10b"
      },
      "source": [
        "evaluator_summary_train.r2adj"
      ],
      "execution_count": null,
      "outputs": [
        {
          "output_type": "execute_result",
          "data": {
            "text/plain": [
              "0.7281959102367721"
            ]
          },
          "metadata": {
            "tags": []
          },
          "execution_count": 187
        }
      ]
    },
    {
      "cell_type": "code",
      "metadata": {
        "id": "u-tgemIRe6vS",
        "colab": {
          "base_uri": "https://localhost:8080/",
          "height": 34
        },
        "outputId": "59f9b65c-f823-45b9-ef72-47ff3dae87c6"
      },
      "source": [
        "evaluator_summary_train.rootMeanSquaredError"
      ],
      "execution_count": null,
      "outputs": [
        {
          "output_type": "execute_result",
          "data": {
            "text/plain": [
              "0.20079550970704263"
            ]
          },
          "metadata": {
            "tags": []
          },
          "execution_count": 189
        }
      ]
    },
    {
      "cell_type": "markdown",
      "metadata": {
        "id": "8YmgvnXMu0yQ"
      },
      "source": [
        "Podemos observar que no se está produciendo ni infrajuste ni sobreajuste. Por tanto, a continuación,  vamos a crear un dataframe para ir recogiendo los resultados obtenidos en los distintos modelos."
      ]
    },
    {
      "cell_type": "code",
      "metadata": {
        "id": "R28GJ5PBo-x9",
        "colab": {
          "base_uri": "https://localhost:8080/",
          "height": 80
        },
        "outputId": "d61fad25-251b-42fa-c561-dc4f37792d39"
      },
      "source": [
        "df_resultados=pd.DataFrame(columns=['rmse raw','rmse ohe'])\n",
        "df_resultados.loc['LinearRegression']=['-',rmse_lm]\n",
        "df_resultados"
      ],
      "execution_count": null,
      "outputs": [
        {
          "output_type": "execute_result",
          "data": {
            "text/html": [
              "<div>\n",
              "<style scoped>\n",
              "    .dataframe tbody tr th:only-of-type {\n",
              "        vertical-align: middle;\n",
              "    }\n",
              "\n",
              "    .dataframe tbody tr th {\n",
              "        vertical-align: top;\n",
              "    }\n",
              "\n",
              "    .dataframe thead th {\n",
              "        text-align: right;\n",
              "    }\n",
              "</style>\n",
              "<table border=\"1\" class=\"dataframe\">\n",
              "  <thead>\n",
              "    <tr style=\"text-align: right;\">\n",
              "      <th></th>\n",
              "      <th>rmse raw</th>\n",
              "      <th>rmse ohe</th>\n",
              "    </tr>\n",
              "  </thead>\n",
              "  <tbody>\n",
              "    <tr>\n",
              "      <th>LinearRegression</th>\n",
              "      <td>-</td>\n",
              "      <td>0.218094</td>\n",
              "    </tr>\n",
              "  </tbody>\n",
              "</table>\n",
              "</div>"
            ],
            "text/plain": [
              "                 rmse raw  rmse ohe\n",
              "LinearRegression        -  0.218094"
            ]
          },
          "metadata": {
            "tags": []
          },
          "execution_count": 206
        }
      ]
    },
    {
      "cell_type": "markdown",
      "metadata": {
        "id": "LqPrhHjJpn_b"
      },
      "source": [
        "###  DecisionTreeRegressor\n",
        "\n",
        "Vamos ahora a realizar un **árbol de decisión**. En este caso, vamos a ajustar un modelo con las variables **raw** y otro con las variables **onehot**, con el fin de comparar ambos modelos.\n",
        "\n",
        "Comenzamos entonces realizando un **ajuste de hiperparámetros** mediante validación cruzada con 5 pliegues."
      ]
    },
    {
      "cell_type": "code",
      "metadata": {
        "id": "itj8wkttqvN-",
        "colab": {
          "base_uri": "https://localhost:8080/",
          "height": 258
        },
        "outputId": "5ec25200-39cc-44f2-b949-bd2b966bb206"
      },
      "source": [
        "tree_raw=DecisionTreeRegressor(featuresCol='pca_sv_features_raw_esc',predictionCol='pred_tree_raw_esc',seed=global_seed)\n",
        "tree_ohe=DecisionTreeRegressor(featuresCol='pca_sv_features_ohe_esc',predictionCol='pred_tree_ohe_esc',seed=global_seed)\n",
        "print(tree_raw.explainParams())"
      ],
      "execution_count": null,
      "outputs": [
        {
          "output_type": "stream",
          "text": [
            "cacheNodeIds: If false, the algorithm will pass trees to executors to match instances with nodes. If true, the algorithm will cache node IDs for each instance. Caching can speed up training of deeper trees. Users can set how often should the cache be checkpointed or disable it by setting checkpointInterval. (default: False)\n",
            "checkpointInterval: set checkpoint interval (>= 1) or disable checkpoint (-1). E.g. 10 means that the cache will get checkpointed every 10 iterations. Note: this setting will be ignored if the checkpoint directory is not set in the SparkContext. (default: 10)\n",
            "featuresCol: features column name. (default: features, current: pca_sv_features_raw_esc)\n",
            "impurity: Criterion used for information gain calculation (case-insensitive). Supported options: variance (default: variance)\n",
            "labelCol: label column name. (default: label)\n",
            "maxBins: Max number of bins for discretizing continuous features.  Must be >=2 and >= number of categories for any categorical feature. (default: 32)\n",
            "maxDepth: Maximum depth of the tree. (>= 0) E.g., depth 0 means 1 leaf node; depth 1 means 1 internal node + 2 leaf nodes. (default: 5)\n",
            "maxMemoryInMB: Maximum memory in MB allocated to histogram aggregation. If too small, then 1 node will be split per iteration, and its aggregates may exceed this size. (default: 256)\n",
            "minInfoGain: Minimum information gain for a split to be considered at a tree node. (default: 0.0)\n",
            "minInstancesPerNode: Minimum number of instances each child must have after split. If a split causes the left or right child to have fewer than minInstancesPerNode, the split will be discarded as invalid. Should be >= 1. (default: 1)\n",
            "predictionCol: prediction column name. (default: prediction, current: pred_tree_raw_esc)\n",
            "seed: random seed. (default: 1872345289125935919, current: 99)\n",
            "varianceCol: column name for the biased sample variance of prediction. (undefined)\n"
          ],
          "name": "stdout"
        }
      ]
    },
    {
      "cell_type": "markdown",
      "metadata": {
        "id": "S-ZYT71frOuf"
      },
      "source": [
        "Definimos las **rejillas** de valores de los hiperparámetros."
      ]
    },
    {
      "cell_type": "code",
      "metadata": {
        "id": "GeWxR1DOrN0D",
        "colab": {
          "base_uri": "https://localhost:8080/",
          "height": 34
        },
        "outputId": "2d2e7cb7-f7b3-4e42-fd00-05f87385d3bd"
      },
      "source": [
        "paramGrid_tree_raw = ParamGridBuilder() \\\n",
        "    .addGrid(tree_raw.maxDepth, [4, 5, 7]) \\\n",
        "    .addGrid(tree_raw.minInstancesPerNode, [10, 25, 50]) \\\n",
        "    .addGrid(tree_raw.maxBins, [14, 32, 64]) \\\n",
        "    .build()\n",
        "\n",
        "paramGrid_tree_ohe = ParamGridBuilder() \\\n",
        "    .addGrid(tree_ohe.maxDepth, [4, 5, 7]) \\\n",
        "    .addGrid(tree_ohe.minInstancesPerNode, [10, 25, 50]) \\\n",
        "    .addGrid(tree_ohe.maxBins, [14, 32, 64]) \\\n",
        "    .build()\n",
        "    \n",
        "print(len(paramGrid_tree_raw), len(paramGrid_tree_ohe))"
      ],
      "execution_count": null,
      "outputs": [
        {
          "output_type": "stream",
          "text": [
            "27 27\n"
          ],
          "name": "stdout"
        }
      ]
    },
    {
      "cell_type": "markdown",
      "metadata": {
        "id": "K56_PJnQu2JJ"
      },
      "source": [
        "Creamos los objetos para la **validación cruzada**."
      ]
    },
    {
      "cell_type": "code",
      "metadata": {
        "id": "bfhhVJuMu0rO"
      },
      "source": [
        "crossval_tree_raw = CrossValidator(estimator=tree_raw,\n",
        "                          estimatorParamMaps=paramGrid_tree_raw,\n",
        "                          evaluator=RegressionEvaluator(predictionCol='pred_tree_raw_esc',metricName='rmse'),\n",
        "                          numFolds=5, \n",
        "                          seed=global_seed) \n",
        "\n",
        "crossval_tree_ohe = CrossValidator(estimator=tree_ohe,\n",
        "                          estimatorParamMaps=paramGrid_tree_ohe,\n",
        "                          evaluator=RegressionEvaluator(predictionCol='pred_tree_ohe_esc',metricName='rmse'),\n",
        "                          numFolds=5, \n",
        "                          seed=global_seed) \n"
      ],
      "execution_count": null,
      "outputs": []
    },
    {
      "cell_type": "markdown",
      "metadata": {
        "id": "UkuIN6a-U1Tc"
      },
      "source": [
        "Vamos a realizar el **ajuste de hiperparámetros** para ambos conjuntos de datos."
      ]
    },
    {
      "cell_type": "code",
      "metadata": {
        "id": "USItBUQMuu-u",
        "colab": {
          "base_uri": "https://localhost:8080/",
          "height": 34
        },
        "outputId": "350e1451-648d-4f77-80c9-b2790d39c9d9"
      },
      "source": [
        "t0 = time()\n",
        "tree_raw_cv_model = crossval_tree_raw.fit(train_pca_sv)\n",
        "tt = time() - t0\n",
        "print('Tiempo ajuste de parámetros {} sec.'.format(round(tt,2)))"
      ],
      "execution_count": null,
      "outputs": [
        {
          "output_type": "stream",
          "text": [
            "Tiempo ajuste de parámetros 86.26 sec.\n"
          ],
          "name": "stdout"
        }
      ]
    },
    {
      "cell_type": "code",
      "metadata": {
        "id": "hpYTAryGZB2D",
        "colab": {
          "base_uri": "https://localhost:8080/",
          "height": 34
        },
        "outputId": "a3d85122-3bbe-439d-c4ec-0f7752af7410"
      },
      "source": [
        "t0 = time()\n",
        "tree_ohe_cv_model = crossval_tree_ohe.fit(train_pca_sv)\n",
        "tt = time() - t0\n",
        "print('Tiempo ajuste de parámetros {} sec.'.format(round(tt,2)))"
      ],
      "execution_count": null,
      "outputs": [
        {
          "output_type": "stream",
          "text": [
            "Tiempo ajuste de parámetros 86.62 sec.\n"
          ],
          "name": "stdout"
        }
      ]
    },
    {
      "cell_type": "markdown",
      "metadata": {
        "id": "7w3jhdV3vX7H"
      },
      "source": [
        "Obtenemos el **mejor** modelo entrenado con sus hiperparámetros.\n",
        "* **tree_raw_model**"
      ]
    },
    {
      "cell_type": "code",
      "metadata": {
        "id": "mJKSGSD0vasf",
        "colab": {
          "base_uri": "https://localhost:8080/",
          "height": 139
        },
        "outputId": "85ac051e-9f08-4f77-f9e0-c54bcb137c56"
      },
      "source": [
        "tree_raw_model=tree_raw_cv_model.bestModel\n",
        "dicc_params=tree_raw_model.extractParamMap()\n",
        "[(param,dicc_params[param]) for param in dicc_params if param.name in ['maxDepth','minInstancesPerNode','maxBins']]"
      ],
      "execution_count": null,
      "outputs": [
        {
          "output_type": "execute_result",
          "data": {
            "text/plain": [
              "[(Param(parent='DecisionTreeRegressor_2f3e28af2eeb', name='maxBins', doc='Max number of bins for discretizing continuous features.  Must be at least 2 and at least number of categories for any categorical feature.'),\n",
              "  14),\n",
              " (Param(parent='DecisionTreeRegressor_2f3e28af2eeb', name='maxDepth', doc='Maximum depth of the tree. (Nonnegative) E.g., depth 0 means 1 leaf node; depth 1 means 1 internal node + 2 leaf nodes.'),\n",
              "  7),\n",
              " (Param(parent='DecisionTreeRegressor_2f3e28af2eeb', name='minInstancesPerNode', doc='Minimum number of instances each child must have after split.  If a split causes the left or right child to have fewer than minInstancesPerNode, the split will be discarded as invalid. Must be at least 1.'),\n",
              "  25)]"
            ]
          },
          "metadata": {
            "tags": []
          },
          "execution_count": 196
        }
      ]
    },
    {
      "cell_type": "markdown",
      "metadata": {
        "id": "DdFiNn9Lv9sC"
      },
      "source": [
        "Por tanto, los **mejores hiperparámetros** obtenidos en **tree_raw_model** son: \n",
        "* maxBins=14\n",
        "* maxDepth=7\n",
        "* minInstancesPerNode=25"
      ]
    },
    {
      "cell_type": "code",
      "metadata": {
        "id": "DBEB1oaYwcbT",
        "colab": {
          "base_uri": "https://localhost:8080/",
          "height": 1000
        },
        "outputId": "69176b40-a209-4f47-8175-1a0a7d102687"
      },
      "source": [
        "print(tree_raw_model.toDebugString)"
      ],
      "execution_count": null,
      "outputs": [
        {
          "output_type": "stream",
          "text": [
            "DecisionTreeRegressionModel (uid=DecisionTreeRegressor_2f3e28af2eeb) of depth 7 with 69 nodes\n",
            "  If (feature 0 <= -0.9104358365167524)\n",
            "   If (feature 0 <= -1.5924770127809629)\n",
            "    If (feature 3 <= -0.7690549253241634)\n",
            "     Predict: 12.811821491240805\n",
            "    Else (feature 3 > -0.7690549253241634)\n",
            "     Predict: 12.619486558100668\n",
            "   Else (feature 0 > -1.5924770127809629)\n",
            "    If (feature 0 <= -1.268208543025573)\n",
            "     If (feature 1 <= 0.13144819871484428)\n",
            "      If (feature 11 <= 0.0077491681574762845)\n",
            "       Predict: 12.538036762623307\n",
            "      Else (feature 11 > 0.0077491681574762845)\n",
            "       If (feature 2 <= -0.05916985352892877)\n",
            "        Predict: 12.428781188162688\n",
            "       Else (feature 2 > -0.05916985352892877)\n",
            "        Predict: 12.347229760443211\n",
            "     Else (feature 1 > 0.13144819871484428)\n",
            "      If (feature 9 <= -0.3668103075903639)\n",
            "       Predict: 12.392151026824012\n",
            "      Else (feature 9 > -0.3668103075903639)\n",
            "       If (feature 5 <= 0.08209284336590507)\n",
            "        Predict: 12.195107932090307\n",
            "       Else (feature 5 > 0.08209284336590507)\n",
            "        Predict: 12.298490262042218\n",
            "    Else (feature 0 > -1.268208543025573)\n",
            "     If (feature 4 <= -0.00730234459684914)\n",
            "      Predict: 12.053068577733002\n",
            "     Else (feature 4 > -0.00730234459684914)\n",
            "      If (feature 4 <= 0.4434697720573464)\n",
            "       If (feature 7 <= -0.0547045813951231)\n",
            "        If (feature 3 <= -0.7155074783347211)\n",
            "         Predict: 12.322459501311563\n",
            "        Else (feature 3 > -0.7155074783347211)\n",
            "         Predict: 12.207247959785317\n",
            "       Else (feature 7 > -0.0547045813951231)\n",
            "        If (feature 3 <= -0.6580185161675218)\n",
            "         Predict: 12.176301112359196\n",
            "        Else (feature 3 > -0.6580185161675218)\n",
            "         Predict: 12.08738894658104\n",
            "      Else (feature 4 > 0.4434697720573464)\n",
            "       Predict: 12.34534959891908\n",
            "  Else (feature 0 > -0.9104358365167524)\n",
            "   If (feature 0 <= -0.4529675357801231)\n",
            "    If (feature 2 <= -0.2343887706266826)\n",
            "     If (feature 0 <= -0.7669330756374146)\n",
            "      If (feature 4 <= 0.23239756027328778)\n",
            "       Predict: 12.005818833635983\n",
            "      Else (feature 4 > 0.23239756027328778)\n",
            "       Predict: 12.17714730225887\n",
            "     Else (feature 0 > -0.7669330756374146)\n",
            "      If (feature 7 <= 0.005331858317439564)\n",
            "       If (feature 2 <= -0.6949570912796389)\n",
            "        Predict: 12.059901311504944\n",
            "       Else (feature 2 > -0.6949570912796389)\n",
            "        If (feature 3 <= -0.5539445727832994)\n",
            "         Predict: 11.974222344651034\n",
            "        Else (feature 3 > -0.5539445727832994)\n",
            "         Predict: 11.91185606901463\n",
            "      Else (feature 7 > 0.005331858317439564)\n",
            "       If (feature 1 <= 0.13144819871484428)\n",
            "        Predict: 11.942185954719434\n",
            "       Else (feature 1 > 0.13144819871484428)\n",
            "        Predict: 11.771833025418946\n",
            "    Else (feature 2 > -0.2343887706266826)\n",
            "     If (feature 9 <= -0.2532085209539461)\n",
            "      If (feature 3 <= -0.6112043271605604)\n",
            "       Predict: 11.758400890088996\n",
            "      Else (feature 3 > -0.6112043271605604)\n",
            "       Predict: 11.89020361450259\n",
            "     Else (feature 9 > -0.2532085209539461)\n",
            "      Predict: 11.58173058149648\n",
            "   Else (feature 0 > -0.4529675357801231)\n",
            "    If (feature 2 <= 0.04637639684513028)\n",
            "     If (feature 1 <= 0.06470375120994323)\n",
            "      If (feature 0 <= -0.29903343646028835)\n",
            "       If (feature 6 <= -0.4171380399447514)\n",
            "        Predict: 11.883741131278668\n",
            "       Else (feature 6 > -0.4171380399447514)\n",
            "        If (feature 2 <= -0.29801887993480325)\n",
            "         Predict: 11.815282037381776\n",
            "        Else (feature 2 > -0.29801887993480325)\n",
            "         Predict: 11.744603406235283\n",
            "      Else (feature 0 > -0.29903343646028835)\n",
            "       If (feature 6 <= -0.2897665378734371)\n",
            "        If (feature 11 <= 0.10283301806019099)\n",
            "         Predict: 11.741913201399488\n",
            "        Else (feature 11 > 0.10283301806019099)\n",
            "         Predict: 11.785326043351557\n",
            "       Else (feature 6 > -0.2897665378734371)\n",
            "        Predict: 11.676221117092418\n",
            "     Else (feature 1 > 0.06470375120994323)\n",
            "      If (feature 2 <= -0.2343887706266826)\n",
            "       If (feature 1 <= 0.35266544200339733)\n",
            "        Predict: 11.768593726054144\n",
            "       Else (feature 1 > 0.35266544200339733)\n",
            "        Predict: 11.61810909227976\n",
            "      Else (feature 2 > -0.2343887706266826)\n",
            "       If (feature 1 <= 0.4484792590312822)\n",
            "        Predict: 11.449383506516758\n",
            "       Else (feature 1 > 0.4484792590312822)\n",
            "        Predict: 11.537121242853612\n",
            "    Else (feature 2 > 0.04637639684513028)\n",
            "     Predict: 11.375322889257054\n",
            "\n"
          ],
          "name": "stdout"
        }
      ]
    },
    {
      "cell_type": "markdown",
      "metadata": {
        "id": "u3OMC8oFZyw3"
      },
      "source": [
        "* **tree_ohe_model**"
      ]
    },
    {
      "cell_type": "code",
      "metadata": {
        "id": "drm1V7boZyEc",
        "colab": {
          "base_uri": "https://localhost:8080/",
          "height": 139
        },
        "outputId": "ca290a05-4c42-4cf3-bfd2-e18b6e0d0e38"
      },
      "source": [
        "tree_ohe_model=tree_ohe_cv_model.bestModel\n",
        "dicc_params=tree_ohe_model.extractParamMap()\n",
        "[(param,dicc_params[param]) for param in dicc_params if param.name in ['maxDepth','minInstancesPerNode','maxBins']]"
      ],
      "execution_count": null,
      "outputs": [
        {
          "output_type": "execute_result",
          "data": {
            "text/plain": [
              "[(Param(parent='DecisionTreeRegressor_154cf497efe8', name='maxBins', doc='Max number of bins for discretizing continuous features.  Must be at least 2 and at least number of categories for any categorical feature.'),\n",
              "  64),\n",
              " (Param(parent='DecisionTreeRegressor_154cf497efe8', name='maxDepth', doc='Maximum depth of the tree. (Nonnegative) E.g., depth 0 means 1 leaf node; depth 1 means 1 internal node + 2 leaf nodes.'),\n",
              "  7),\n",
              " (Param(parent='DecisionTreeRegressor_154cf497efe8', name='minInstancesPerNode', doc='Minimum number of instances each child must have after split.  If a split causes the left or right child to have fewer than minInstancesPerNode, the split will be discarded as invalid. Must be at least 1.'),\n",
              "  25)]"
            ]
          },
          "metadata": {
            "tags": []
          },
          "execution_count": 198
        }
      ]
    },
    {
      "cell_type": "markdown",
      "metadata": {
        "id": "BBdefuM4bAE1"
      },
      "source": [
        "Por tanto, los **mejores hiperparámetros** obtenidos en *tree_ohe_model* son: \n",
        "* maxBins=64\n",
        "* maxDepth=7\n",
        "* minInstancesPerNode=25"
      ]
    },
    {
      "cell_type": "code",
      "metadata": {
        "id": "YVuJZyK2bLUP",
        "colab": {
          "base_uri": "https://localhost:8080/",
          "height": 1000
        },
        "outputId": "a5730311-21e1-40bb-c158-fb3a3f91b451"
      },
      "source": [
        "print(tree_ohe_model.toDebugString)"
      ],
      "execution_count": null,
      "outputs": [
        {
          "output_type": "stream",
          "text": [
            "DecisionTreeRegressionModel (uid=DecisionTreeRegressor_154cf497efe8) of depth 7 with 67 nodes\n",
            "  If (feature 0 <= -0.12448251361026234)\n",
            "   If (feature 1 <= 0.25785820923989594)\n",
            "    If (feature 1 <= -1.0023999575338123)\n",
            "     If (feature 0 <= -1.7260700442642558)\n",
            "      If (feature 6 <= 0.14895640886716355)\n",
            "       Predict: 12.120548568051321\n",
            "      Else (feature 6 > 0.14895640886716355)\n",
            "       If (feature 10 <= -0.20988530686690784)\n",
            "        Predict: 12.342794089408994\n",
            "       Else (feature 10 > -0.20988530686690784)\n",
            "        If (feature 2 <= 0.2503176212770861)\n",
            "         Predict: 12.168465270821706\n",
            "        Else (feature 2 > 0.2503176212770861)\n",
            "         Predict: 12.273233318624808\n",
            "     Else (feature 0 > -1.7260700442642558)\n",
            "      If (feature 3 <= -0.192414657168541)\n",
            "       Predict: 11.849410122086272\n",
            "      Else (feature 3 > -0.192414657168541)\n",
            "       If (feature 2 <= 0.5087166698318683)\n",
            "        Predict: 11.951524813442049\n",
            "       Else (feature 2 > 0.5087166698318683)\n",
            "        Predict: 12.07930868141526\n",
            "    Else (feature 1 > -1.0023999575338123)\n",
            "     If (feature 0 <= -1.0246507937372034)\n",
            "      If (feature 5 <= 0.8120116485998432)\n",
            "       If (feature 2 <= 0.5500263008361044)\n",
            "        If (feature 10 <= 0.06499642363692781)\n",
            "         Predict: 12.28059476250948\n",
            "        Else (feature 10 > 0.06499642363692781)\n",
            "         Predict: 12.124581097098815\n",
            "       Else (feature 2 > 0.5500263008361044)\n",
            "        Predict: 12.376501787898029\n",
            "      Else (feature 5 > 0.8120116485998432)\n",
            "       If (feature 1 <= -0.4456936273966231)\n",
            "        Predict: 12.399395411006273\n",
            "       Else (feature 1 > -0.4456936273966231)\n",
            "        Predict: 12.568752615978557\n",
            "     Else (feature 0 > -1.0246507937372034)\n",
            "      If (feature 7 <= 0.2367666922105669)\n",
            "       Predict: 12.10076129110384\n",
            "      Else (feature 7 > 0.2367666922105669)\n",
            "       Predict: 12.285056596383908\n",
            "   Else (feature 1 > 0.25785820923989594)\n",
            "    If (feature 11 <= 0.8774125091479417)\n",
            "     Predict: 12.599679646243905\n",
            "    Else (feature 11 > 0.8774125091479417)\n",
            "     Predict: 12.842436718805326\n",
            "  Else (feature 0 > -0.12448251361026234)\n",
            "   If (feature 0 <= 0.6280819892770575)\n",
            "    If (feature 3 <= 0.7558266124452786)\n",
            "     If (feature 2 <= 1.0937219280091965)\n",
            "      If (feature 4 <= 1.3860168963959347)\n",
            "       Predict: 11.567016112885284\n",
            "      Else (feature 4 > 1.3860168963959347)\n",
            "       If (feature 7 <= 0.16164671473064934)\n",
            "        Predict: 11.706682331608464\n",
            "       Else (feature 7 > 0.16164671473064934)\n",
            "        Predict: 11.855963077784503\n",
            "     Else (feature 2 > 1.0937219280091965)\n",
            "      If (feature 2 <= 1.9061926110379275)\n",
            "       If (feature 1 <= -0.6227451217949667)\n",
            "        Predict: 11.869795110414431\n",
            "       Else (feature 1 > -0.6227451217949667)\n",
            "        Predict: 11.955812724401296\n",
            "      Else (feature 2 > 1.9061926110379275)\n",
            "       Predict: 12.012384455195367\n",
            "    Else (feature 3 > 0.7558266124452786)\n",
            "     If (feature 4 <= 1.8828340910056927)\n",
            "      Predict: 11.958582058366135\n",
            "     Else (feature 4 > 1.8828340910056927)\n",
            "      Predict: 12.135792843623614\n",
            "   Else (feature 0 > 0.6280819892770575)\n",
            "    If (feature 2 <= 0.46678680063280753)\n",
            "     If (feature 3 <= -0.01775002085337949)\n",
            "      If (feature 4 <= 1.6225924426513139)\n",
            "       Predict: 11.344527475478108\n",
            "      Else (feature 4 > 1.6225924426513139)\n",
            "       Predict: 11.529567313906641\n",
            "     Else (feature 3 > -0.01775002085337949)\n",
            "      If (feature 4 <= 1.5316773451464007)\n",
            "       If (feature 7 <= -0.18360201023156902)\n",
            "        Predict: 11.491431999613754\n",
            "       Else (feature 7 > -0.18360201023156902)\n",
            "        Predict: 11.644782285015825\n",
            "      Else (feature 4 > 1.5316773451464007)\n",
            "       If (feature 0 <= 1.0057439582150285)\n",
            "        Predict: 11.818937272150778\n",
            "       Else (feature 0 > 1.0057439582150285)\n",
            "        Predict: 11.697697057422033\n",
            "    Else (feature 2 > 0.46678680063280753)\n",
            "     If (feature 1 <= -0.49680298367548104)\n",
            "      If (feature 7 <= -0.16049228138100266)\n",
            "       Predict: 11.650110349894506\n",
            "      Else (feature 7 > -0.16049228138100266)\n",
            "       If (feature 5 <= 0.7651997361172396)\n",
            "        Predict: 11.72024907553138\n",
            "       Else (feature 5 > 0.7651997361172396)\n",
            "        Predict: 11.809560245551255\n",
            "     Else (feature 1 > -0.49680298367548104)\n",
            "      Predict: 11.896571766232633\n",
            "\n"
          ],
          "name": "stdout"
        }
      ]
    },
    {
      "cell_type": "markdown",
      "metadata": {
        "id": "3lN5_rLiwULB"
      },
      "source": [
        "A continuación, vamos a **predecir logSalePrice** sobre el conjunto **valid** usando el mejor modelo obtenido en cada caso .\n"
      ]
    },
    {
      "cell_type": "code",
      "metadata": {
        "id": "AuhJvuTHwfxO",
        "colab": {
          "base_uri": "https://localhost:8080/",
          "height": 323
        },
        "outputId": "e5671472-11a1-4781-e8e7-c61938e13a73"
      },
      "source": [
        "pred_tree_raw=tree_raw_model.transform(valid_pca_sv)\n",
        "pred_tree_ohe=tree_ohe_model.transform(valid_pca_sv)\n",
        "pred_tree_raw.show(3)\n",
        "pred_tree_ohe.show(3)"
      ],
      "execution_count": null,
      "outputs": [
        {
          "output_type": "stream",
          "text": [
            "+---+------------------+-----------------------+-----------------------+------------------+\n",
            "| Id|             label|pca_sv_features_ohe_esc|pca_sv_features_raw_esc| pred_tree_raw_esc|\n",
            "+---+------------------+-----------------------+-----------------------+------------------+\n",
            "|  5|12.429216196844383|   [-3.1932218232872...|   [-1.6565853306980...|12.811821491240805|\n",
            "| 10|11.678439903447801|   [0.05015382182514...|   [-0.4820199714037...|11.771833025418946|\n",
            "| 11|11.771436160121729|   [0.97333705463115...|   [-0.2519708464548...|11.741913201399488|\n",
            "+---+------------------+-----------------------+-----------------------+------------------+\n",
            "only showing top 3 rows\n",
            "\n",
            "+---+------------------+-----------------------+-----------------------+------------------+\n",
            "| Id|             label|pca_sv_features_ohe_esc|pca_sv_features_raw_esc| pred_tree_ohe_esc|\n",
            "+---+------------------+-----------------------+-----------------------+------------------+\n",
            "|  5|12.429216196844383|   [-3.1932218232872...|   [-1.6565853306980...|12.273233318624808|\n",
            "| 10|11.678439903447801|   [0.05015382182514...|   [-0.4820199714037...|11.855963077784503|\n",
            "| 11|11.771436160121729|   [0.97333705463115...|   [-0.2519708464548...|11.809560245551255|\n",
            "+---+------------------+-----------------------+-----------------------+------------------+\n",
            "only showing top 3 rows\n",
            "\n"
          ],
          "name": "stdout"
        }
      ]
    },
    {
      "cell_type": "markdown",
      "metadata": {
        "id": "xz2lmOmRws5Z"
      },
      "source": [
        "Por último, vamos a evaluar los modelos utilizando el **rmse** y lo guardamos en nuestros dataframe de resultados. Además vamos a calcular el error en el **train** para ver si se está  infrajustando o sobreajustando."
      ]
    },
    {
      "cell_type": "markdown",
      "metadata": {
        "id": "z8DaQ682cBRw"
      },
      "source": [
        "* Evaluación sobre **tree_raw_model**."
      ]
    },
    {
      "cell_type": "code",
      "metadata": {
        "id": "Z21ckNasyG_s",
        "colab": {
          "base_uri": "https://localhost:8080/",
          "height": 34
        },
        "outputId": "612d98f2-0f0c-4399-fea5-326e6dcac70a"
      },
      "source": [
        "evaluator_tree = RegressionEvaluator(predictionCol='pred_tree_raw_esc', labelCol='label', metricName='rmse')\n",
        "rmse_tree_train = evaluator_tree.evaluate(tree_raw_model.transform(train_pca_sv))\n",
        "rmse_tree_train"
      ],
      "execution_count": null,
      "outputs": [
        {
          "output_type": "execute_result",
          "data": {
            "text/plain": [
              "0.1864575414114116"
            ]
          },
          "metadata": {
            "tags": []
          },
          "execution_count": 201
        }
      ]
    },
    {
      "cell_type": "code",
      "metadata": {
        "id": "Y1rC9zMhw19V",
        "colab": {
          "base_uri": "https://localhost:8080/",
          "height": 34
        },
        "outputId": "0e2e994f-ca7a-4834-de20-520a5385bb2d"
      },
      "source": [
        "rmse_tree = evaluator_tree.evaluate(pred_tree_raw)\n",
        "rmse_tree"
      ],
      "execution_count": null,
      "outputs": [
        {
          "output_type": "execute_result",
          "data": {
            "text/plain": [
              "0.21536843640741501"
            ]
          },
          "metadata": {
            "tags": []
          },
          "execution_count": 202
        }
      ]
    },
    {
      "cell_type": "markdown",
      "metadata": {
        "id": "pd-B3vr1yyDD"
      },
      "source": [
        "Podemos observar que no se está ni infrajustando ni sobreajustando. Por tanto, podemos considerar el error de **validación** obtenido."
      ]
    },
    {
      "cell_type": "markdown",
      "metadata": {
        "id": "NoKG3UXBcVhk"
      },
      "source": [
        "* Evaluación sobre **tree_ohe_model**."
      ]
    },
    {
      "cell_type": "code",
      "metadata": {
        "id": "xeZew_5DcagJ",
        "colab": {
          "base_uri": "https://localhost:8080/",
          "height": 34
        },
        "outputId": "8bb59df9-f771-4737-a855-52a80701fa37"
      },
      "source": [
        "evaluator_tree_ohe = RegressionEvaluator(predictionCol='pred_tree_ohe_esc', labelCol='label', metricName='rmse')\n",
        "rmse_tree_train_ohe = evaluator_tree_ohe.evaluate(tree_ohe_model.transform(train_pca_sv))\n",
        "rmse_tree_train_ohe"
      ],
      "execution_count": null,
      "outputs": [
        {
          "output_type": "execute_result",
          "data": {
            "text/plain": [
              "0.19419899034864865"
            ]
          },
          "metadata": {
            "tags": []
          },
          "execution_count": 203
        }
      ]
    },
    {
      "cell_type": "code",
      "metadata": {
        "id": "sxvUx5oOcjmD",
        "colab": {
          "base_uri": "https://localhost:8080/",
          "height": 34
        },
        "outputId": "3a78e67d-97bf-4c1f-b99e-707148a892bc"
      },
      "source": [
        "rmse_tree_ohe = evaluator_tree_ohe.evaluate(pred_tree_ohe)\n",
        "rmse_tree_ohe"
      ],
      "execution_count": null,
      "outputs": [
        {
          "output_type": "execute_result",
          "data": {
            "text/plain": [
              "0.24142417826379975"
            ]
          },
          "metadata": {
            "tags": []
          },
          "execution_count": 204
        }
      ]
    },
    {
      "cell_type": "markdown",
      "metadata": {
        "id": "XyWp2dLOdbP7"
      },
      "source": [
        "Podemos observar que en este caso tampoco se está infrajustando ni sobreajustando.\n",
        "\n",
        "Por otro lado, podemos observar que el haber trabajado con todas las variables en numéricas ha dado un mejor rendimiento aunque con poca diferencia."
      ]
    },
    {
      "cell_type": "markdown",
      "metadata": {
        "id": "KK8vdHa62s7S"
      },
      "source": [
        "A continuación, guardamos los resultados obtenidos en nuestro dataframe."
      ]
    },
    {
      "cell_type": "code",
      "metadata": {
        "id": "xmPfZcPg2oox"
      },
      "source": [
        "df_resultados.loc['DecisionTreeRegressor']=[rmse_tree,rmse_tree_ohe]"
      ],
      "execution_count": null,
      "outputs": []
    },
    {
      "cell_type": "markdown",
      "metadata": {
        "id": "Yd-jNvYessih"
      },
      "source": [
        "### RandomForestRegressor\n",
        "\n",
        "A continuación, vamos a proceder a la construcción de un modelo **random forest**. Vamos a ajustar un modelo con las variables **raw** y otro con las variables **onehot**, con el fin de comparar ambos modelos.\n",
        "\n",
        "\n",
        "Comenzamos realizando un **ajuste de hiperparámetros** haciendo validación cruzada de 5 pliegues."
      ]
    },
    {
      "cell_type": "code",
      "metadata": {
        "id": "IxrwVHOhu4SB"
      },
      "source": [
        "rf_raw = RandomForestRegressor(featuresCol='pca_sv_features_raw_esc', predictionCol='pred_rf_raw_esc', seed=global_seed)\n",
        "rf_ohe = RandomForestRegressor(featuresCol='pca_sv_features_ohe_esc', predictionCol='pred_rf_ohe_esc', seed=global_seed)"
      ],
      "execution_count": null,
      "outputs": []
    },
    {
      "cell_type": "markdown",
      "metadata": {
        "id": "ayMW4QSz15Ws"
      },
      "source": [
        "Definimos las **rejillas** de parámetros que vamos a utilizar."
      ]
    },
    {
      "cell_type": "code",
      "metadata": {
        "id": "JKjfiLwi6pT4",
        "colab": {
          "base_uri": "https://localhost:8080/",
          "height": 292
        },
        "outputId": "00b962c6-37ec-4aa7-c618-58ae3ec5c662"
      },
      "source": [
        "print(rf_raw.explainParams())"
      ],
      "execution_count": null,
      "outputs": [
        {
          "output_type": "stream",
          "text": [
            "cacheNodeIds: If false, the algorithm will pass trees to executors to match instances with nodes. If true, the algorithm will cache node IDs for each instance. Caching can speed up training of deeper trees. Users can set how often should the cache be checkpointed or disable it by setting checkpointInterval. (default: False)\n",
            "checkpointInterval: set checkpoint interval (>= 1) or disable checkpoint (-1). E.g. 10 means that the cache will get checkpointed every 10 iterations. Note: this setting will be ignored if the checkpoint directory is not set in the SparkContext. (default: 10)\n",
            "featureSubsetStrategy: The number of features to consider for splits at each tree node. Supported options: 'auto' (choose automatically for task: If numTrees == 1, set to 'all'. If numTrees > 1 (forest), set to 'sqrt' for classification and to 'onethird' for regression), 'all' (use all features), 'onethird' (use 1/3 of the features), 'sqrt' (use sqrt(number of features)), 'log2' (use log2(number of features)), 'n' (when n is in the range (0, 1.0], use n * number of features. When n is in the range (1, number of features), use n features). default = 'auto' (default: auto)\n",
            "featuresCol: features column name. (default: features, current: pca_sv_features_raw_esc)\n",
            "impurity: Criterion used for information gain calculation (case-insensitive). Supported options: variance (default: variance)\n",
            "labelCol: label column name. (default: label)\n",
            "maxBins: Max number of bins for discretizing continuous features.  Must be >=2 and >= number of categories for any categorical feature. (default: 32)\n",
            "maxDepth: Maximum depth of the tree. (>= 0) E.g., depth 0 means 1 leaf node; depth 1 means 1 internal node + 2 leaf nodes. (default: 5)\n",
            "maxMemoryInMB: Maximum memory in MB allocated to histogram aggregation. If too small, then 1 node will be split per iteration, and its aggregates may exceed this size. (default: 256)\n",
            "minInfoGain: Minimum information gain for a split to be considered at a tree node. (default: 0.0)\n",
            "minInstancesPerNode: Minimum number of instances each child must have after split. If a split causes the left or right child to have fewer than minInstancesPerNode, the split will be discarded as invalid. Should be >= 1. (default: 1)\n",
            "numTrees: Number of trees to train (>= 1). (default: 20)\n",
            "predictionCol: prediction column name. (default: prediction, current: pred_rf_raw_esc)\n",
            "seed: random seed. (default: -7039949502313719632, current: 99)\n",
            "subsamplingRate: Fraction of the training data used for learning each decision tree, in range (0, 1]. (default: 1.0)\n"
          ],
          "name": "stdout"
        }
      ]
    },
    {
      "cell_type": "code",
      "metadata": {
        "id": "gc4Xxi6b13dA",
        "colab": {
          "base_uri": "https://localhost:8080/",
          "height": 34
        },
        "outputId": "776cbd48-ac1f-49e8-8748-78b0c1049cee"
      },
      "source": [
        "paramGrid_raw = ParamGridBuilder() \\\n",
        "    .addGrid(rf_raw.maxDepth, [4, 5, 7]) \\\n",
        "    .addGrid(rf_raw.numTrees, [10, 25, 50]) \\\n",
        "    .build()\n",
        "\n",
        "paramGrid_ohe = ParamGridBuilder() \\\n",
        "    .addGrid(rf_ohe.maxDepth, [4, 5, 7]) \\\n",
        "    .addGrid(rf_ohe.numTrees, [10, 25, 50]) \\\n",
        "    .build()\n",
        "    \n",
        "len(paramGrid_raw)\n",
        "len(paramGrid_ohe)"
      ],
      "execution_count": null,
      "outputs": [
        {
          "output_type": "execute_result",
          "data": {
            "text/plain": [
              "9"
            ]
          },
          "metadata": {
            "tags": []
          },
          "execution_count": 210
        }
      ]
    },
    {
      "cell_type": "markdown",
      "metadata": {
        "id": "wh3qKf5B27PQ"
      },
      "source": [
        "Creamos ahora los objetos para la **validación cruzada**."
      ]
    },
    {
      "cell_type": "code",
      "metadata": {
        "id": "dCTeXL_33CLt"
      },
      "source": [
        "crossval_rf_raw = CrossValidator(estimator=rf_raw,\n",
        "                          estimatorParamMaps=paramGrid_raw,\n",
        "                          evaluator=RegressionEvaluator(predictionCol='pred_rf_raw_esc',metricName='rmse'),\n",
        "                          numFolds=5, \n",
        "                          seed=global_seed)\n",
        "\n",
        "crossval_rf_ohe = CrossValidator(estimator=rf_ohe,\n",
        "                          estimatorParamMaps=paramGrid_ohe,\n",
        "                          evaluator=RegressionEvaluator(predictionCol='pred_rf_ohe_esc',metricName='rmse'),\n",
        "                          numFolds=5, \n",
        "                          seed=global_seed) "
      ],
      "execution_count": null,
      "outputs": []
    },
    {
      "cell_type": "markdown",
      "metadata": {
        "id": "7vYDitqFiGue"
      },
      "source": [
        "Vamos a realizar el **ajuste de hiperparámetros** para ambos conjuntos de datos."
      ]
    },
    {
      "cell_type": "code",
      "metadata": {
        "id": "PfQmtwo94tXl",
        "colab": {
          "base_uri": "https://localhost:8080/",
          "height": 34
        },
        "outputId": "72ad5291-3966-409b-acf4-7fe471b73c5e"
      },
      "source": [
        "t0 = time()\n",
        "rf_raw_cv_model = crossval_rf_raw.fit(train_pca_sv)\n",
        "tt = time() - t0\n",
        "print('Tiempo ajuste de parámetros {} sec.'.format(round(tt,2)))"
      ],
      "execution_count": null,
      "outputs": [
        {
          "output_type": "stream",
          "text": [
            "Tiempo ajuste de parámetros 49.32 sec.\n"
          ],
          "name": "stdout"
        }
      ]
    },
    {
      "cell_type": "code",
      "metadata": {
        "id": "yMvv5b-CiJpP",
        "colab": {
          "base_uri": "https://localhost:8080/",
          "height": 34
        },
        "outputId": "78c80707-489e-4963-cd6a-36ad32ea7da0"
      },
      "source": [
        "t0 = time()\n",
        "rf_ohe_cv_model = crossval_rf_ohe.fit(train_pca_sv)\n",
        "tt = time() - t0\n",
        "print('Tiempo ajuste de parámetros {} sec.'.format(round(tt,2)))"
      ],
      "execution_count": null,
      "outputs": [
        {
          "output_type": "stream",
          "text": [
            "Tiempo ajuste de parámetros 52.59 sec.\n"
          ],
          "name": "stdout"
        }
      ]
    },
    {
      "cell_type": "markdown",
      "metadata": {
        "id": "qwTIrB_B0Jox"
      },
      "source": [
        "Obtenemos el **mejor** modelo entrenado con sus hiperparámetros.\n",
        "* **rf_raw_model**"
      ]
    },
    {
      "cell_type": "code",
      "metadata": {
        "id": "bBfWm1a00JJ8",
        "colab": {
          "base_uri": "https://localhost:8080/",
          "height": 105
        },
        "outputId": "9a69f018-6beb-4af5-ed7b-ef5e1a547473"
      },
      "source": [
        "rf_raw_model=rf_raw_cv_model.bestModel\n",
        "dicc_params=rf_raw_model.extractParamMap()\n",
        "[(param,dicc_params[param]) for param in dicc_params if param.name in ['maxDepth','numTrees']]"
      ],
      "execution_count": null,
      "outputs": [
        {
          "output_type": "execute_result",
          "data": {
            "text/plain": [
              "[(Param(parent='RandomForestRegressor_a8337326ea0d', name='maxDepth', doc='Maximum depth of the tree. (Nonnegative) E.g., depth 0 means 1 leaf node; depth 1 means 1 internal node + 2 leaf nodes.'),\n",
              "  7),\n",
              " (Param(parent='RandomForestRegressor_a8337326ea0d', name='numTrees', doc='Number of trees to train (at least 1)'),\n",
              "  25)]"
            ]
          },
          "metadata": {
            "tags": []
          },
          "execution_count": 214
        }
      ]
    },
    {
      "cell_type": "markdown",
      "metadata": {
        "id": "cjplg2BAf1MO"
      },
      "source": [
        "Los **mejores hiperparámetros** obtenidos son **maxDepth=7** y **numTrees=25**."
      ]
    },
    {
      "cell_type": "markdown",
      "metadata": {
        "id": "vC3GSDy3icw7"
      },
      "source": [
        "* **rf_ohe_model**"
      ]
    },
    {
      "cell_type": "code",
      "metadata": {
        "id": "3VPokcWOifA1",
        "colab": {
          "base_uri": "https://localhost:8080/",
          "height": 105
        },
        "outputId": "34d07338-30fa-4518-8a26-f3d923b2e1aa"
      },
      "source": [
        "rf_ohe_model=rf_ohe_cv_model.bestModel\n",
        "dicc_params=rf_ohe_model.extractParamMap()\n",
        "[(param,dicc_params[param]) for param in dicc_params if param.name in ['maxDepth','numTrees']]"
      ],
      "execution_count": null,
      "outputs": [
        {
          "output_type": "execute_result",
          "data": {
            "text/plain": [
              "[(Param(parent='RandomForestRegressor_bde0d6105ac3', name='maxDepth', doc='Maximum depth of the tree. (Nonnegative) E.g., depth 0 means 1 leaf node; depth 1 means 1 internal node + 2 leaf nodes.'),\n",
              "  7),\n",
              " (Param(parent='RandomForestRegressor_bde0d6105ac3', name='numTrees', doc='Number of trees to train (at least 1)'),\n",
              "  50)]"
            ]
          },
          "metadata": {
            "tags": []
          },
          "execution_count": 215
        }
      ]
    },
    {
      "cell_type": "markdown",
      "metadata": {
        "id": "vywOzG7NjTEZ"
      },
      "source": [
        "Los **mejores hiperparámetros** obtenidos son **maxDepth=7** y **numTrees=50**."
      ]
    },
    {
      "cell_type": "markdown",
      "metadata": {
        "id": "VcVnSnhXYQ-6"
      },
      "source": [
        "A continuación, vamos a **predecir** sobre el conjunto de **validación** usando el mejor modelo obtenido en cada caso."
      ]
    },
    {
      "cell_type": "code",
      "metadata": {
        "id": "BRpkCW9xYeaJ",
        "colab": {
          "base_uri": "https://localhost:8080/",
          "height": 289
        },
        "outputId": "1cd2f4bb-097f-4a38-b8d0-009b4771c964"
      },
      "source": [
        "pred_rf_raw=rf_raw_model.transform(valid_pca_sv)\n",
        "pred_rf_ohe=rf_ohe_model.transform(valid_pca_sv)\n",
        "pred_rf_raw.show(2)\n",
        "pred_rf_ohe.show(2)"
      ],
      "execution_count": null,
      "outputs": [
        {
          "output_type": "stream",
          "text": [
            "+---+------------------+-----------------------+-----------------------+------------------+\n",
            "| Id|             label|pca_sv_features_ohe_esc|pca_sv_features_raw_esc|   pred_rf_raw_esc|\n",
            "+---+------------------+-----------------------+-----------------------+------------------+\n",
            "|  5|12.429216196844383|   [-3.1932218232872...|   [-1.6565853306980...|12.632856668688182|\n",
            "| 10|11.678439903447801|   [0.05015382182514...|   [-0.4820199714037...| 11.71174628555737|\n",
            "+---+------------------+-----------------------+-----------------------+------------------+\n",
            "only showing top 2 rows\n",
            "\n",
            "+---+------------------+-----------------------+-----------------------+------------------+\n",
            "| Id|             label|pca_sv_features_ohe_esc|pca_sv_features_raw_esc|   pred_rf_ohe_esc|\n",
            "+---+------------------+-----------------------+-----------------------+------------------+\n",
            "|  5|12.429216196844383|   [-3.1932218232872...|   [-1.6565853306980...|12.349691061897397|\n",
            "| 10|11.678439903447801|   [0.05015382182514...|   [-0.4820199714037...|11.870773579301126|\n",
            "+---+------------------+-----------------------+-----------------------+------------------+\n",
            "only showing top 2 rows\n",
            "\n"
          ],
          "name": "stdout"
        }
      ]
    },
    {
      "cell_type": "markdown",
      "metadata": {
        "id": "C6HA1rZZbRci"
      },
      "source": [
        "Pasamos ahora a **evaluar** los mejores modelos obtenidos en cada caso. Además lo evaluaremos sobre el **train** para saber si se está sobreajustando o infraajustando.\n"
      ]
    },
    {
      "cell_type": "markdown",
      "metadata": {
        "id": "skAmypeh48vu"
      },
      "source": [
        "* **rf_raw_model**"
      ]
    },
    {
      "cell_type": "code",
      "metadata": {
        "id": "kADDf-AYh2et",
        "colab": {
          "base_uri": "https://localhost:8080/",
          "height": 34
        },
        "outputId": "052fac13-b572-4c81-8d1b-9b142fc0348c"
      },
      "source": [
        "evaluator_rf_raw = RegressionEvaluator(predictionCol='pred_rf_raw_esc', labelCol='label', metricName='rmse')\n",
        "rmse_rf_raw = evaluator_rf_raw.evaluate(pred_rf_raw)\n",
        "rmse_rf_raw"
      ],
      "execution_count": null,
      "outputs": [
        {
          "output_type": "execute_result",
          "data": {
            "text/plain": [
              "0.20506075740388444"
            ]
          },
          "metadata": {
            "tags": []
          },
          "execution_count": 217
        }
      ]
    },
    {
      "cell_type": "code",
      "metadata": {
        "id": "W9xNM8_h09TT",
        "colab": {
          "base_uri": "https://localhost:8080/",
          "height": 34
        },
        "outputId": "2125240b-ada7-4d72-8abe-ee00a7066f77"
      },
      "source": [
        "rmse_rf_raw_train = evaluator_rf_raw.evaluate(rf_raw_model.transform(train_pca_sv))\n",
        "rmse_rf_raw_train"
      ],
      "execution_count": null,
      "outputs": [
        {
          "output_type": "execute_result",
          "data": {
            "text/plain": [
              "0.13572082951501882"
            ]
          },
          "metadata": {
            "tags": []
          },
          "execution_count": 219
        }
      ]
    },
    {
      "cell_type": "markdown",
      "metadata": {
        "id": "mf3KrrD-6L1S"
      },
      "source": [
        "* **rf_ohe_model**"
      ]
    },
    {
      "cell_type": "code",
      "metadata": {
        "id": "v1VNeyWu6RbF",
        "colab": {
          "base_uri": "https://localhost:8080/",
          "height": 34
        },
        "outputId": "1f2cb7bc-f10a-48dc-8351-20e64f1d6539"
      },
      "source": [
        "evaluator_rf_ohe = RegressionEvaluator(predictionCol='pred_rf_ohe_esc', labelCol='label', metricName='rmse')\n",
        "rmse_rf_ohe = evaluator_rf_ohe.evaluate(pred_rf_ohe)\n",
        "rmse_rf_ohe"
      ],
      "execution_count": null,
      "outputs": [
        {
          "output_type": "execute_result",
          "data": {
            "text/plain": [
              "0.2282017655862115"
            ]
          },
          "metadata": {
            "tags": []
          },
          "execution_count": 221
        }
      ]
    },
    {
      "cell_type": "code",
      "metadata": {
        "id": "b970AEkM6iRh",
        "colab": {
          "base_uri": "https://localhost:8080/",
          "height": 34
        },
        "outputId": "a221dd38-25fb-4bff-b21a-dbb686b2fb2b"
      },
      "source": [
        "rmse_rf_ohe_train = evaluator_rf_ohe.evaluate(rf_ohe_model.transform(train_pca_sv))\n",
        "rmse_rf_ohe_train"
      ],
      "execution_count": null,
      "outputs": [
        {
          "output_type": "execute_result",
          "data": {
            "text/plain": [
              "0.1471418525069979"
            ]
          },
          "metadata": {
            "tags": []
          },
          "execution_count": 222
        }
      ]
    },
    {
      "cell_type": "markdown",
      "metadata": {
        "id": "du7BDn9f636x"
      },
      "source": [
        "Podemos observar que en ambos casos no se está produciendo sobreajuste ni infrajuste. Por tanto, vamos a guardar los resultados de **validación** en nuestro dataframe.\n",
        "\n",
        "Además podemos observar que el modelo entrenado con las variables **raw** tiene un mejor rendimiento aunque con muy poca diferencia."
      ]
    },
    {
      "cell_type": "code",
      "metadata": {
        "id": "I_zDfNbLjDeQ"
      },
      "source": [
        "df_resultados.loc['RandomForestRegressor']=[rmse_rf_raw,rmse_rf_ohe]"
      ],
      "execution_count": null,
      "outputs": []
    },
    {
      "cell_type": "markdown",
      "metadata": {
        "id": "lze4UclLyqjX"
      },
      "source": [
        "### GBTRegressor\n",
        "\n",
        "Pasamos a construir ahora un **modelo gradient boosting**. Vamos a ajustar un modelo con las variables **raw** y otro con las variables **onehot**, con el fin de comparar ambos modelos.\n",
        "\n",
        "Comenzamos realizando un **ajuste de hiperparámetros** usando validación cruzada de 5 pliegues."
      ]
    },
    {
      "cell_type": "code",
      "metadata": {
        "id": "JvY4L7amyqDc"
      },
      "source": [
        "gbt_raw = GBTRegressor(featuresCol='pca_sv_features_raw_esc', predictionCol='pred_gbt_raw_esc', seed=global_seed)\n",
        "gbt_ohe = GBTRegressor(featuresCol='pca_sv_features_ohe_esc', predictionCol='pred_gbt_ohe_esc', seed=global_seed)"
      ],
      "execution_count": null,
      "outputs": []
    },
    {
      "cell_type": "markdown",
      "metadata": {
        "id": "yavtUEzAzaF0"
      },
      "source": [
        "Definimos las **rejillas** con los valores de los hiperparámetros."
      ]
    },
    {
      "cell_type": "code",
      "metadata": {
        "id": "GO7TpjX5zjz9",
        "colab": {
          "base_uri": "https://localhost:8080/",
          "height": 326
        },
        "outputId": "ac5c5c75-27cf-46e6-dd92-2233f2ac7a8f"
      },
      "source": [
        "print(gbt_raw.explainParams())"
      ],
      "execution_count": null,
      "outputs": [
        {
          "output_type": "stream",
          "text": [
            "cacheNodeIds: If false, the algorithm will pass trees to executors to match instances with nodes. If true, the algorithm will cache node IDs for each instance. Caching can speed up training of deeper trees. Users can set how often should the cache be checkpointed or disable it by setting checkpointInterval. (default: False)\n",
            "checkpointInterval: set checkpoint interval (>= 1) or disable checkpoint (-1). E.g. 10 means that the cache will get checkpointed every 10 iterations. Note: this setting will be ignored if the checkpoint directory is not set in the SparkContext. (default: 10)\n",
            "featureSubsetStrategy: The number of features to consider for splits at each tree node. Supported options: 'auto' (choose automatically for task: If numTrees == 1, set to 'all'. If numTrees > 1 (forest), set to 'sqrt' for classification and to 'onethird' for regression), 'all' (use all features), 'onethird' (use 1/3 of the features), 'sqrt' (use sqrt(number of features)), 'log2' (use log2(number of features)), 'n' (when n is in the range (0, 1.0], use n * number of features. When n is in the range (1, number of features), use n features). default = 'auto' (default: all)\n",
            "featuresCol: features column name. (default: features, current: pca_sv_features_raw_esc)\n",
            "impurity: Criterion used for information gain calculation (case-insensitive). Supported options: variance (default: variance)\n",
            "labelCol: label column name. (default: label)\n",
            "lossType: Loss function which GBT tries to minimize (case-insensitive). Supported options: squared, absolute (default: squared)\n",
            "maxBins: Max number of bins for discretizing continuous features.  Must be >=2 and >= number of categories for any categorical feature. (default: 32)\n",
            "maxDepth: Maximum depth of the tree. (>= 0) E.g., depth 0 means 1 leaf node; depth 1 means 1 internal node + 2 leaf nodes. (default: 5)\n",
            "maxIter: max number of iterations (>= 0). (default: 20)\n",
            "maxMemoryInMB: Maximum memory in MB allocated to histogram aggregation. If too small, then 1 node will be split per iteration, and its aggregates may exceed this size. (default: 256)\n",
            "minInfoGain: Minimum information gain for a split to be considered at a tree node. (default: 0.0)\n",
            "minInstancesPerNode: Minimum number of instances each child must have after split. If a split causes the left or right child to have fewer than minInstancesPerNode, the split will be discarded as invalid. Should be >= 1. (default: 1)\n",
            "predictionCol: prediction column name. (default: prediction, current: pred_gbt_raw_esc)\n",
            "seed: random seed. (default: 8798545875148696791, current: 99)\n",
            "stepSize: Step size (a.k.a. learning rate) in interval (0, 1] for shrinking the contribution of each estimator. (default: 0.1)\n",
            "subsamplingRate: Fraction of the training data used for learning each decision tree, in range (0, 1]. (default: 1.0)\n"
          ],
          "name": "stdout"
        }
      ]
    },
    {
      "cell_type": "code",
      "metadata": {
        "id": "rpfEVoT7zdsF",
        "colab": {
          "base_uri": "https://localhost:8080/",
          "height": 34
        },
        "outputId": "cbce51a8-c523-496e-bdac-a22f5767f3df"
      },
      "source": [
        "paramGrid_gbt_raw = ParamGridBuilder() \\\n",
        "    .addGrid(gbt_raw.maxDepth, [3, 5]) \\\n",
        "    .addGrid(gbt_raw.stepSize, [0.05, 0.01]) \\\n",
        "    .addGrid(gbt_raw.maxIter, [50, 100]) \\\n",
        "    .build()\n",
        "\n",
        "paramGrid_gbt_ohe = ParamGridBuilder() \\\n",
        "    .addGrid(gbt_ohe.maxDepth, [3, 5]) \\\n",
        "    .addGrid(gbt_ohe.stepSize, [0.05, 0.01]) \\\n",
        "    .addGrid(gbt_ohe.maxIter, [50, 100]) \\\n",
        "    .build()\n",
        "    \n",
        "print((len(paramGrid_gbt_raw),len(paramGrid_gbt_ohe)))"
      ],
      "execution_count": null,
      "outputs": [
        {
          "output_type": "stream",
          "text": [
            "(8, 8)\n"
          ],
          "name": "stdout"
        }
      ]
    },
    {
      "cell_type": "markdown",
      "metadata": {
        "id": "GD3Mr3EO0WIf"
      },
      "source": [
        "Creamos ahora los objetos para la **validación cruzada**."
      ]
    },
    {
      "cell_type": "code",
      "metadata": {
        "id": "eSB2jsFg0YsB"
      },
      "source": [
        "crossval_gbt_raw = CrossValidator(estimator=gbt_raw,\n",
        "                          estimatorParamMaps=paramGrid_gbt_raw,\n",
        "                          evaluator=RegressionEvaluator(predictionCol='pred_gbt_raw_esc',metricName='rmse'),\n",
        "                          numFolds=5, \n",
        "                          seed=global_seed) \n",
        "\n",
        "crossval_gbt_ohe = CrossValidator(estimator=gbt_ohe,\n",
        "                          estimatorParamMaps=paramGrid_gbt_ohe,\n",
        "                          evaluator=RegressionEvaluator(predictionCol='pred_gbt_ohe_esc',metricName='rmse'),\n",
        "                          numFolds=5, \n",
        "                          seed=global_seed) "
      ],
      "execution_count": null,
      "outputs": []
    },
    {
      "cell_type": "markdown",
      "metadata": {
        "id": "omHgqlRq8oqg"
      },
      "source": [
        "Vamos a realizar el **ajuste de hiperparámetros** para ambos conjuntos de datos."
      ]
    },
    {
      "cell_type": "code",
      "metadata": {
        "id": "SdJdwNlN0lLi",
        "colab": {
          "base_uri": "https://localhost:8080/",
          "height": 34
        },
        "outputId": "6240e89d-2d30-4ba2-e405-7c7d908c5af8"
      },
      "source": [
        "t0 = time()\n",
        "gbt_raw_cv_model = crossval_gbt_raw.fit(train_pca_sv)\n",
        "tt = time() - t0\n",
        "print('Tiempo ajuste de parámetros {} sec.'.format(round(tt,2)))"
      ],
      "execution_count": null,
      "outputs": [
        {
          "output_type": "stream",
          "text": [
            "Tiempo ajuste de parámetros 1535.51 sec.\n"
          ],
          "name": "stdout"
        }
      ]
    },
    {
      "cell_type": "code",
      "metadata": {
        "id": "oGmLQCsC8uTY",
        "colab": {
          "base_uri": "https://localhost:8080/",
          "height": 34
        },
        "outputId": "6174b666-8af2-41ca-9e42-a50234455e87"
      },
      "source": [
        "t0 = time()\n",
        "gbt_ohe_cv_model = crossval_gbt_ohe.fit(train_pca_sv)\n",
        "tt = time() - t0\n",
        "print('Tiempo ajuste de parámetros {} sec.'.format(round(tt,2)))"
      ],
      "execution_count": null,
      "outputs": [
        {
          "output_type": "stream",
          "text": [
            "Tiempo ajuste de parámetros 1795.39 sec.\n"
          ],
          "name": "stdout"
        }
      ]
    },
    {
      "cell_type": "markdown",
      "metadata": {
        "id": "KwmQgliD0nTK"
      },
      "source": [
        "Obtenemos el **mejor** modelo entrenado con sus hiperparámetros.\n",
        "\n",
        "* **gbt_raw_model**\n",
        "\n"
      ]
    },
    {
      "cell_type": "code",
      "metadata": {
        "id": "6GZjLcUt02ZN",
        "colab": {
          "base_uri": "https://localhost:8080/",
          "height": 139
        },
        "outputId": "088e6178-b034-4995-9b84-8175a9cf6bc6"
      },
      "source": [
        "gbt_raw_model=gbt_raw_cv_model.bestModel\n",
        "dicc_params=gbt_raw_model.extractParamMap()\n",
        "[(param,dicc_params[param]) for param in dicc_params if param.name in ['maxDepth','stepSize','maxIter']]"
      ],
      "execution_count": null,
      "outputs": [
        {
          "output_type": "execute_result",
          "data": {
            "text/plain": [
              "[(Param(parent='GBTRegressor_9e8804ee6734', name='maxDepth', doc='Maximum depth of the tree. (Nonnegative) E.g., depth 0 means 1 leaf node; depth 1 means 1 internal node + 2 leaf nodes.'),\n",
              "  3),\n",
              " (Param(parent='GBTRegressor_9e8804ee6734', name='maxIter', doc='maximum number of iterations (>= 0)'),\n",
              "  100),\n",
              " (Param(parent='GBTRegressor_9e8804ee6734', name='stepSize', doc='Step size (a.k.a. learning rate) in interval (0, 1] for shrinking the contribution of each estimator.'),\n",
              "  0.05)]"
            ]
          },
          "metadata": {
            "tags": []
          },
          "execution_count": 229
        }
      ]
    },
    {
      "cell_type": "markdown",
      "metadata": {
        "id": "IL-4sSNU1XR2"
      },
      "source": [
        "Por tanto, los **mejores hiperparámetros** obtenidos son:\n",
        "\n",
        "* **maxDepth=3**\n",
        "* **maxIter=100**\n",
        "* **stepSize=0.05**\n"
      ]
    },
    {
      "cell_type": "markdown",
      "metadata": {
        "id": "UcJdqr359cd4"
      },
      "source": [
        "* **gbt_ohe_model**"
      ]
    },
    {
      "cell_type": "code",
      "metadata": {
        "id": "O2DeKy8f9jC6",
        "colab": {
          "base_uri": "https://localhost:8080/",
          "height": 139
        },
        "outputId": "38b6d28c-ce73-4269-bdf8-7059eea70512"
      },
      "source": [
        "gbt_ohe_model=gbt_ohe_cv_model.bestModel\n",
        "dicc_params=gbt_ohe_model.extractParamMap()\n",
        "[(param,dicc_params[param]) for param in dicc_params if param.name in ['maxDepth','stepSize','maxIter']]"
      ],
      "execution_count": null,
      "outputs": [
        {
          "output_type": "execute_result",
          "data": {
            "text/plain": [
              "[(Param(parent='GBTRegressor_6aab2b53c966', name='maxDepth', doc='Maximum depth of the tree. (Nonnegative) E.g., depth 0 means 1 leaf node; depth 1 means 1 internal node + 2 leaf nodes.'),\n",
              "  3),\n",
              " (Param(parent='GBTRegressor_6aab2b53c966', name='maxIter', doc='maximum number of iterations (>= 0)'),\n",
              "  50),\n",
              " (Param(parent='GBTRegressor_6aab2b53c966', name='stepSize', doc='Step size (a.k.a. learning rate) in interval (0, 1] for shrinking the contribution of each estimator.'),\n",
              "  0.05)]"
            ]
          },
          "metadata": {
            "tags": []
          },
          "execution_count": 383
        }
      ]
    },
    {
      "cell_type": "markdown",
      "metadata": {
        "id": "QGB6_9dM9swT"
      },
      "source": [
        "Por tanto, los **mejores hiperparámetros** obtenidos son:\n",
        "\n",
        "* **maxDepth=3**\n",
        "* **maxIter=50**\n",
        "* **stepSize=0.05**"
      ]
    },
    {
      "cell_type": "markdown",
      "metadata": {
        "id": "HV1IgmHM17Lk"
      },
      "source": [
        "A continuación, vamos a **predecir** sobre el conjunto de **validación** usando el mejor modelo obtenido en cada caso."
      ]
    },
    {
      "cell_type": "code",
      "metadata": {
        "id": "i6aTPNAz185_",
        "colab": {
          "base_uri": "https://localhost:8080/",
          "height": 289
        },
        "outputId": "8e78dbf8-22c6-48a7-d9fc-6ceaef51d1f3"
      },
      "source": [
        "pred_gbt_raw=gbt_raw_model.transform(valid_pca_sv)\n",
        "pred_gbt_ohe=gbt_ohe_model.transform(valid_pca_sv)\n",
        "pred_gbt_raw.show(2)\n",
        "pred_gbt_ohe.show(2)"
      ],
      "execution_count": null,
      "outputs": [
        {
          "output_type": "stream",
          "text": [
            "+---+------------------+-----------------------+-----------------------+------------------+\n",
            "| Id|             label|pca_sv_features_ohe_esc|pca_sv_features_raw_esc|  pred_gbt_raw_esc|\n",
            "+---+------------------+-----------------------+-----------------------+------------------+\n",
            "|  5|12.429216196844383|   [-3.1932218232872...|   [-1.6565853306980...|12.603878842768834|\n",
            "| 10|11.678439903447801|   [0.05015382182514...|   [-0.4820199714037...|11.666150504989131|\n",
            "+---+------------------+-----------------------+-----------------------+------------------+\n",
            "only showing top 2 rows\n",
            "\n",
            "+---+------------------+-----------------------+-----------------------+------------------+\n",
            "| Id|             label|pca_sv_features_ohe_esc|pca_sv_features_raw_esc|  pred_gbt_ohe_esc|\n",
            "+---+------------------+-----------------------+-----------------------+------------------+\n",
            "|  5|12.429216196844383|   [-3.1932218232872...|   [-1.6565853306980...|12.372031637474878|\n",
            "| 10|11.678439903447801|   [0.05015382182514...|   [-0.4820199714037...|11.860749120628377|\n",
            "+---+------------------+-----------------------+-----------------------+------------------+\n",
            "only showing top 2 rows\n",
            "\n"
          ],
          "name": "stdout"
        }
      ]
    },
    {
      "cell_type": "markdown",
      "metadata": {
        "id": "4SG791op2IJq"
      },
      "source": [
        "Por último, vamos a evaluar los modelos utilizando el **rmse** y lo guardaremos en nuestro dataframe de resultados. Además, vamos a calcular el **rmse** sobre el **train** para asegurarnos de que no se está infrajustando ni sobreajustando en ninguno de los dos casos."
      ]
    },
    {
      "cell_type": "markdown",
      "metadata": {
        "id": "QEB7mIzc-hNU"
      },
      "source": [
        "* **gbt_raw_model**"
      ]
    },
    {
      "cell_type": "code",
      "metadata": {
        "id": "qLmvg5R72R3Y",
        "colab": {
          "base_uri": "https://localhost:8080/",
          "height": 34
        },
        "outputId": "91c543dc-71e1-42bf-d7b7-62da3bc2b33b"
      },
      "source": [
        "evaluator_gbt_raw = RegressionEvaluator(predictionCol='pred_gbt_raw_esc', labelCol='label', metricName='rmse')\n",
        "rmse_gbt_raw = evaluator_gbt_raw.evaluate(pred_gbt_raw)\n",
        "rmse_gbt_raw"
      ],
      "execution_count": null,
      "outputs": [
        {
          "output_type": "execute_result",
          "data": {
            "text/plain": [
              "0.1944039526886858"
            ]
          },
          "metadata": {
            "tags": []
          },
          "execution_count": 385
        }
      ]
    },
    {
      "cell_type": "code",
      "metadata": {
        "id": "bur3GkPM-glZ",
        "colab": {
          "base_uri": "https://localhost:8080/",
          "height": 34
        },
        "outputId": "e374a9ef-ebcf-42c8-f7af-d293d216b731"
      },
      "source": [
        "evaluator_gbt_raw.evaluate(gbt_raw_model.transform(train_pca_sv))"
      ],
      "execution_count": null,
      "outputs": [
        {
          "output_type": "execute_result",
          "data": {
            "text/plain": [
              "0.12436754213645144"
            ]
          },
          "metadata": {
            "tags": []
          },
          "execution_count": 386
        }
      ]
    },
    {
      "cell_type": "markdown",
      "metadata": {
        "id": "KVY_TkQ0-xDi"
      },
      "source": [
        "* **gbt_ohe_model**"
      ]
    },
    {
      "cell_type": "code",
      "metadata": {
        "id": "obNvOUzS-0kc",
        "colab": {
          "base_uri": "https://localhost:8080/",
          "height": 34
        },
        "outputId": "bbf8da33-357c-494e-94ac-82f0c5acce6f"
      },
      "source": [
        "evaluator_gbt_ohe = RegressionEvaluator(predictionCol='pred_gbt_ohe_esc', labelCol='label', metricName='rmse')\n",
        "rmse_gbt_ohe = evaluator_gbt_ohe.evaluate(pred_gbt_ohe)\n",
        "rmse_gbt_ohe"
      ],
      "execution_count": null,
      "outputs": [
        {
          "output_type": "execute_result",
          "data": {
            "text/plain": [
              "0.22591422804616287"
            ]
          },
          "metadata": {
            "tags": []
          },
          "execution_count": 387
        }
      ]
    },
    {
      "cell_type": "code",
      "metadata": {
        "id": "PXXwzKI5_Apv",
        "colab": {
          "base_uri": "https://localhost:8080/",
          "height": 34
        },
        "outputId": "f7d40631-bfc7-404e-9ca5-10a1146d9578"
      },
      "source": [
        "evaluator_gbt_ohe.evaluate(gbt_ohe_model.transform(train_pca_sv))"
      ],
      "execution_count": null,
      "outputs": [
        {
          "output_type": "execute_result",
          "data": {
            "text/plain": [
              "0.17173831799975206"
            ]
          },
          "metadata": {
            "tags": []
          },
          "execution_count": 388
        }
      ]
    },
    {
      "cell_type": "markdown",
      "metadata": {
        "id": "wA14p3-v-4Gn"
      },
      "source": [
        "Podemos observar que ambos casos no se está ni infrajustando ni sobreajustando. Por otro lado, vemos que el modelo con las variables **raw** tiene un mejor rendimiento aunque no con mucha diferencia."
      ]
    },
    {
      "cell_type": "code",
      "metadata": {
        "id": "HaLU9EFNWsdA",
        "colab": {
          "base_uri": "https://localhost:8080/",
          "height": 173
        },
        "outputId": "e3ae7658-56b0-49e6-c501-f90a58b9da94"
      },
      "source": [
        "df_resultados.loc['GBTRegressor']=[rmse_gbt_raw,rmse_gbt_ohe]\n",
        "df_resultados"
      ],
      "execution_count": null,
      "outputs": [
        {
          "output_type": "execute_result",
          "data": {
            "text/html": [
              "<div>\n",
              "<style scoped>\n",
              "    .dataframe tbody tr th:only-of-type {\n",
              "        vertical-align: middle;\n",
              "    }\n",
              "\n",
              "    .dataframe tbody tr th {\n",
              "        vertical-align: top;\n",
              "    }\n",
              "\n",
              "    .dataframe thead th {\n",
              "        text-align: right;\n",
              "    }\n",
              "</style>\n",
              "<table border=\"1\" class=\"dataframe\">\n",
              "  <thead>\n",
              "    <tr style=\"text-align: right;\">\n",
              "      <th></th>\n",
              "      <th>rmse raw</th>\n",
              "      <th>rmse ohe</th>\n",
              "    </tr>\n",
              "  </thead>\n",
              "  <tbody>\n",
              "    <tr>\n",
              "      <th>LinearRegression</th>\n",
              "      <td>-</td>\n",
              "      <td>0.217883</td>\n",
              "    </tr>\n",
              "    <tr>\n",
              "      <th>DecisionTreeRegressor</th>\n",
              "      <td>0.215368</td>\n",
              "      <td>0.241424</td>\n",
              "    </tr>\n",
              "    <tr>\n",
              "      <th>RandomForestRegressor</th>\n",
              "      <td>0.205061</td>\n",
              "      <td>0.228202</td>\n",
              "    </tr>\n",
              "    <tr>\n",
              "      <th>GBTRegressor</th>\n",
              "      <td>0.194404</td>\n",
              "      <td>0.225914</td>\n",
              "    </tr>\n",
              "  </tbody>\n",
              "</table>\n",
              "</div>"
            ],
            "text/plain": [
              "                       rmse raw  rmse ohe\n",
              "LinearRegression              -  0.217883\n",
              "DecisionTreeRegressor  0.215368  0.241424\n",
              "RandomForestRegressor  0.205061  0.228202\n",
              "GBTRegressor           0.194404  0.225914"
            ]
          },
          "metadata": {
            "tags": []
          },
          "execution_count": 389
        }
      ]
    },
    {
      "cell_type": "markdown",
      "metadata": {
        "id": "BS-1ZrB7R2Ax"
      },
      "source": [
        "En resumen, la diferencia entre los modelos realizados con las variables **raw** y con las variables **ohe** es bastante pequeña y por lo tanto, da igual trabajar con unas u otras en modelos basados en árboles.\n",
        "\n",
        "Si comparamos todos los modelos realizados, el mejor ha sido el de **boosting** con las variables **raw** aunque no se obtiene mucha diferencia con el resto. Por tanto, en mi opinión, trabajaría con el modelo lineal o con cualquier modelo basado en árboles con las variables **raw**."
      ]
    },
    {
      "cell_type": "markdown",
      "metadata": {
        "id": "FMByNKt9Td4o"
      },
      "source": [
        "Por último, vamos a **predecir** el precio de las viviendas del conjunto test. Para ello, vamos a construir un modelo **gradient boosting** sobre todo el conjunto de entrenamiento con los hiperparámetros:\n",
        "* **maxDepth=3**\n",
        "* **maxIter=100**\n",
        "* **stepSize=0.05**"
      ]
    },
    {
      "cell_type": "code",
      "metadata": {
        "id": "GcS6Xl05S8MX"
      },
      "source": [
        "train_final = train_pca_sv.union(valid_pca_sv)"
      ],
      "execution_count": null,
      "outputs": []
    },
    {
      "cell_type": "code",
      "metadata": {
        "id": "gkN9Km7YTKfE",
        "colab": {
          "base_uri": "https://localhost:8080/",
          "height": 34
        },
        "outputId": "91725612-a91f-4520-e464-88069a56c18c"
      },
      "source": [
        "gbt_final = GBTRegressor(featuresCol='pca_sv_features_raw_esc',\n",
        "                         predictionCol='pred_gbt_raw_esc', \n",
        "                         maxDepth=3,\n",
        "                         maxIter=100,\n",
        "                         stepSize=0.05,\n",
        "                         seed=global_seed)\n",
        "\n",
        "to = time()\n",
        "gbt_model = gbt_final.fit(train_final)\n",
        "tt = time() - t0\n",
        "print('Tiempo ajuste modelo {} sec.'.format(round(tt,2)))"
      ],
      "execution_count": null,
      "outputs": [
        {
          "output_type": "stream",
          "text": [
            "Tiempo ajuste modelo 268.24 sec.\n"
          ],
          "name": "stdout"
        }
      ]
    },
    {
      "cell_type": "code",
      "metadata": {
        "id": "wyltsTyFTsPv",
        "colab": {
          "base_uri": "https://localhost:8080/",
          "height": 204
        },
        "outputId": "1199a6ea-4cef-46eb-ccda-70ffa3150db6"
      },
      "source": [
        "pred_test = gbt_model.transform(test_pca_sv)\n",
        "pred_test_saleprice = pred_test.withColumn('SalePrice',F.exp(pred_test.pred_gbt_raw_esc))\n",
        "pred_test_saleprice.show(5)"
      ],
      "execution_count": null,
      "outputs": [
        {
          "output_type": "stream",
          "text": [
            "+----+-----------------------+-----------------------+------------------+------------------+\n",
            "|  Id|pca_sv_features_ohe_esc|pca_sv_features_raw_esc|  pred_gbt_raw_esc|         SalePrice|\n",
            "+----+-----------------------+-----------------------+------------------+------------------+\n",
            "|1461|   [0.91640459245183...|   [-0.1708538296775...|11.714189419229898|122294.75314348408|\n",
            "|1462|   [0.32005059049221...|   [-0.6067441677346...|12.001823201227905|163051.79682260274|\n",
            "|1463|   [-1.4667692406542...|   [-1.0244812707630...|12.047511390384974|170674.13776888826|\n",
            "|1464|   [-2.1074531277907...|   [-1.2965163565589...|12.223979731997057|203613.67593301888|\n",
            "|1465|   [-1.8179029683816...|   [-1.0000556806315...|12.116504631969702|182865.21528752023|\n",
            "+----+-----------------------+-----------------------+------------------+------------------+\n",
            "only showing top 5 rows\n",
            "\n"
          ],
          "name": "stdout"
        }
      ]
    },
    {
      "cell_type": "markdown",
      "metadata": {
        "id": "azC82w8eT-F-"
      },
      "source": [
        "A continuación, vamos a guardar las predicciones junto con el Id en un fichero csv para subirlo a la competición de kaggle."
      ]
    },
    {
      "cell_type": "code",
      "metadata": {
        "id": "CXxIhPYnJse3"
      },
      "source": [
        "#Lo llevamos todo a un sólo cluster\n",
        "pred_test_saleprice1 = pred_test_saleprice.coalesce(1)"
      ],
      "execution_count": null,
      "outputs": []
    },
    {
      "cell_type": "code",
      "metadata": {
        "id": "y_eHbQsFUHv0"
      },
      "source": [
        "path = output_path.format('pred_test_csv')\n",
        "pred_test_saleprice1.select('Id','SalePrice').write.csv(path, header=True, mode='overwrite')"
      ],
      "execution_count": null,
      "outputs": []
    },
    {
      "cell_type": "markdown",
      "metadata": {
        "id": "VpPMqytGJwnA"
      },
      "source": [
        "Finalizamos la sesión de spark."
      ]
    },
    {
      "cell_type": "code",
      "metadata": {
        "id": "lbctXw-kJvN6"
      },
      "source": [
        "spark.stop()"
      ],
      "execution_count": null,
      "outputs": []
    }
  ]
}